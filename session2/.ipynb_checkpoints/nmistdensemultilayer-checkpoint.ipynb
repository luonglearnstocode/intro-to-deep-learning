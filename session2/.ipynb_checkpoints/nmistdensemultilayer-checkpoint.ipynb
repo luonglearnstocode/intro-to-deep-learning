{
 "cells": [
  {
   "cell_type": "code",
   "execution_count": 1,
   "metadata": {},
   "outputs": [
    {
     "name": "stderr",
     "output_type": "stream",
     "text": [
      "Using TensorFlow backend.\n"
     ]
    },
    {
     "name": "stdout",
     "output_type": "stream",
     "text": [
      "2.1.3\n",
      "1.4.0\n"
     ]
    }
   ],
   "source": [
    "import numpy as np\n",
    "import keras\n",
    "import matplotlib.pyplot as plt\n",
    "import tensorflow as tf\n",
    "\n",
    "print(keras.__version__)\n",
    "print(tf.__version__)"
   ]
  },
  {
   "cell_type": "code",
   "execution_count": 2,
   "metadata": {},
   "outputs": [
    {
     "data": {
      "image/png": "[encoded data removed]",
      "text/plain": [
       "<matplotlib.figure.Figure at 0x2683d390d30>"
      ]
     },
     "metadata": {},
     "output_type": "display_data"
    },
    {
     "name": "stdout",
     "output_type": "stream",
     "text": [
      "4\n"
     ]
    }
   ],
   "source": [
    "from keras.datasets import mnist\n",
    "\n",
    "(x_train, y_train), (x_test, y_test) = mnist.load_data()\n",
    "\n",
    "img1 = x_train[314].reshape(-1, 28*28).astype('float32') / 255.0\n",
    "img1label = y_train[314]\n",
    "\n",
    "plt.imshow(img1.reshape(28,28), cmap=plt.cm.binary)\n",
    "plt.show()\n",
    "print(img1label)\n",
    "\n",
    "x_train = x_train.reshape(-1, 28 * 28).astype('float32') / 255.0\n",
    "x_test = x_test.reshape(-1, 28 * 28).astype('float32') / 255.0\n",
    "\n",
    "y_train = keras.utils.to_categorical(y_train)\n",
    "y_test = keras.utils.to_categorical(y_test)"
   ]
  },
  {
   "cell_type": "code",
   "execution_count": 3,
   "metadata": {},
   "outputs": [
    {
     "name": "stdout",
     "output_type": "stream",
     "text": [
      "_________________________________________________________________\n",
      "Layer (type)                 Output Shape              Param #   \n",
      "=================================================================\n",
      "dense_1 (Dense)              (None, 100)               78500     \n",
      "_________________________________________________________________\n",
      "dense_2 (Dense)              (None, 50)                5050      \n",
      "_________________________________________________________________\n",
      "dense_3 (Dense)              (None, 50)                2550      \n",
      "_________________________________________________________________\n",
      "dense_4 (Dense)              (None, 25)                1275      \n",
      "_________________________________________________________________\n",
      "dense_5 (Dense)              (None, 25)                650       \n",
      "_________________________________________________________________\n",
      "dense_6 (Dense)              (None, 10)                260       \n",
      "=================================================================\n",
      "Total params: 88,285\n",
      "Trainable params: 88,285\n",
      "Non-trainable params: 0\n",
      "_________________________________________________________________\n"
     ]
    }
   ],
   "source": [
    "model = keras.models.Sequential()\n",
    "model.add(keras.layers.Dense(100, input_shape=(28 * 28,), activation='relu'))\n",
    "model.add(keras.layers.Dense(50, activation='relu'))\n",
    "model.add(keras.layers.Dense(50, activation='relu'))\n",
    "model.add(keras.layers.Dense(25, activation='relu'))\n",
    "model.add(keras.layers.Dense(25, activation='relu'))\n",
    "model.add(keras.layers.Dense(10, activation='softmax'))\n",
    "\n",
    "model.summary()"
   ]
  },
  {
   "cell_type": "code",
   "execution_count": null,
   "metadata": {},
   "outputs": [
    {
     "name": "stdout",
     "output_type": "stream",
     "text": [
      "Train on 60000 samples, validate on 10000 samples\n",
      "Epoch 1/60\n",
      "60000/60000 [==============================] - 5s 79us/step - loss: 1.1665 - acc: 0.6454 - val_loss: 0.4116 - val_acc: 0.8792\n",
      "Epoch 2/60\n",
      "60000/60000 [==============================] - 4s 68us/step - loss: 0.3635 - acc: 0.8952 - val_loss: 0.2866 - val_acc: 0.9154\n",
      "Epoch 3/60\n",
      "60000/60000 [==============================] - 4s 70us/step - loss: 0.2710 - acc: 0.9209 - val_loss: 0.2387 - val_acc: 0.9306\n",
      "Epoch 4/60\n",
      "60000/60000 [==============================] - 4s 68us/step - loss: 0.2241 - acc: 0.9355 - val_loss: 0.2059 - val_acc: 0.9384\n",
      "Epoch 5/60\n",
      "60000/60000 [==============================] - 4s 68us/step - loss: 0.1920 - acc: 0.9442 - val_loss: 0.1801 - val_acc: 0.9468\n",
      "Epoch 6/60\n",
      "60000/60000 [==============================] - 4s 69us/step - loss: 0.1687 - acc: 0.9502 - val_loss: 0.1636 - val_acc: 0.9520\n",
      "Epoch 7/60\n",
      "60000/60000 [==============================] - 4s 71us/step - loss: 0.1509 - acc: 0.9563 - val_loss: 0.1559 - val_acc: 0.9544\n",
      "Epoch 8/60\n",
      "60000/60000 [==============================] - 4s 72us/step - loss: 0.1371 - acc: 0.9603 - val_loss: 0.1608 - val_acc: 0.9512\n",
      "Epoch 9/60\n",
      "60000/60000 [==============================] - 4s 70us/step - loss: 0.1253 - acc: 0.9636 - val_loss: 0.1385 - val_acc: 0.9578\n",
      "Epoch 10/60\n",
      "60000/60000 [==============================] - 4s 71us/step - loss: 0.1148 - acc: 0.9667 - val_loss: 0.1233 - val_acc: 0.9634\n",
      "Epoch 11/60\n",
      "60000/60000 [==============================] - 4s 72us/step - loss: 0.1059 - acc: 0.9687 - val_loss: 0.1256 - val_acc: 0.9627\n",
      "Epoch 12/60\n",
      "60000/60000 [==============================] - 4s 71us/step - loss: 0.0978 - acc: 0.9721 - val_loss: 0.1242 - val_acc: 0.9622\n",
      "Epoch 13/60\n",
      "60000/60000 [==============================] - 4s 72us/step - loss: 0.0911 - acc: 0.9730 - val_loss: 0.1102 - val_acc: 0.9671\n",
      "Epoch 14/60\n",
      "60000/60000 [==============================] - 4s 72us/step - loss: 0.0847 - acc: 0.9749 - val_loss: 0.1147 - val_acc: 0.9659\n",
      "Epoch 15/60\n",
      "60000/60000 [==============================] - 4s 75us/step - loss: 0.0797 - acc: 0.9763 - val_loss: 0.1149 - val_acc: 0.9658\n",
      "Epoch 16/60\n",
      "60000/60000 [==============================] - 5s 79us/step - loss: 0.0750 - acc: 0.9778 - val_loss: 0.1153 - val_acc: 0.9665\n",
      "Epoch 17/60\n",
      "60000/60000 [==============================] - 4s 74us/step - loss: 0.0704 - acc: 0.9791 - val_loss: 0.1088 - val_acc: 0.9678\n",
      "Epoch 18/60\n",
      "60000/60000 [==============================] - 5s 75us/step - loss: 0.0653 - acc: 0.9811 - val_loss: 0.1144 - val_acc: 0.9647\n",
      "Epoch 19/60\n",
      "50880/60000 [========================>.....] - ETA: 0s - loss: 0.0620 - acc: 0.9816"
     ]
    }
   ],
   "source": [
    "model.compile(optimizer='sgd', loss='categorical_crossentropy', metrics=['acc'])\n",
    "\n",
    "hist = model.fit(x_train, y_train, epochs=60, batch_size=64, validation_data=(x_test,y_test))"
   ]
  },
  {
   "cell_type": "code",
   "execution_count": null,
   "metadata": {
    "collapsed": true
   },
   "outputs": [],
   "source": [
    "acc = hist.history['acc']\n",
    "val_acc = hist.history['val_acc']\n",
    "loss = hist.history['loss']\n",
    "val_loss = hist.history['val_loss']\n",
    "epochs = range(1, len(acc) + 1)\n",
    "\n",
    "import matplotlib.pyplot as plt\n",
    "\n",
    "plt.plot(epochs, acc, 'bo', label='Training acc')\n",
    "plt.plot(epochs, val_acc, 'b', label='Validation acc')\n",
    "plt.title('Training and validation accuracy')\n",
    "plt.legend()\n",
    "\n",
    "plt.figure()\n",
    "plt.plot(epochs, loss, 'bo', label='Training loss')\n",
    "plt.plot(epochs, val_loss, 'b', label='Validation loss')\n",
    "plt.title('Training and validation loss')\n",
    "plt.legend()\n",
    "\n",
    "plt.show()"
   ]
  }
 ],
 "metadata": {
  "kernelspec": {
   "display_name": "Python 3",
   "language": "python",
   "name": "python3"
  },
  "language_info": {
   "codemirror_mode": {
    "name": "ipython",
    "version": 3
   },
   "file_extension": ".py",
   "mimetype": "text/x-python",
   "name": "python",
   "nbconvert_exporter": "python",
   "pygments_lexer": "ipython3",
   "version": "3.5.4"
  }
 },
 "nbformat": 4,
 "nbformat_minor": 2
}
