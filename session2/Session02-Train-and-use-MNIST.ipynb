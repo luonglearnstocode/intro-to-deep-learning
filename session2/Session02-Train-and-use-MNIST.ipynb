{
 "cells": [
  {
   "cell_type": "markdown",
   "metadata": {},
   "source": [
    "Name: **Luong Nguyen**  \n",
    "Student ID: **1504210**  "
   ]
  },
  {
   "cell_type": "markdown",
   "metadata": {},
   "source": [
    "## Introduction to Deep Learning \n",
    "\n",
    "### Session02: Train and use MNIST\n",
    "____"
   ]
  },
  {
   "cell_type": "markdown",
   "metadata": {},
   "source": [
    "**Import the packages needed for this assignment**"
   ]
  },
  {
   "cell_type": "code",
   "execution_count": 291,
   "metadata": {},
   "outputs": [],
   "source": [
    "# import packages\n",
    "import numpy as np\n",
    "import keras\n",
    "import matplotlib.pyplot as plt\n",
    "from keras.datasets import mnist\n",
    "import keras.preprocessing.image as image\n",
    "import os"
   ]
  },
  {
   "cell_type": "markdown",
   "metadata": {},
   "source": [
    "**Load data**"
   ]
  },
  {
   "cell_type": "code",
   "execution_count": 292,
   "metadata": {},
   "outputs": [],
   "source": [
    "(x_train, y_train), (x_test, y_test) = mnist.load_data()"
   ]
  },
  {
   "cell_type": "markdown",
   "metadata": {},
   "source": [
    "**Explore data**"
   ]
  },
  {
   "cell_type": "code",
   "execution_count": 293,
   "metadata": {},
   "outputs": [
    {
     "name": "stdout",
     "output_type": "stream",
     "text": [
      "x_train shape: (60000, 28, 28)\n",
      "y_train shape: (60000,)\n",
      "x_test shape: (10000, 28, 28)\n",
      "y_test shape: (10000,)\n",
      "\n",
      "An example image\n"
     ]
    },
    {
     "data": {
      "image/png": "[encoded data removed]",
      "text/plain": [
       "<matplotlib.figure.Figure at 0x2338b6b9940>"
      ]
     },
     "metadata": {},
     "output_type": "display_data"
    },
    {
     "name": "stdout",
     "output_type": "stream",
     "text": [
      "Corresponding label: 0\n"
     ]
    }
   ],
   "source": [
    "print(\"x_train shape: %s\" % (str(x_train.shape)))\n",
    "print(\"y_train shape: %s\" % (str(y_train.shape)))\n",
    "print(\"x_test shape: %s\" % (str(x_test.shape)))\n",
    "print(\"y_test shape: %s\" % (str(y_test.shape)))\n",
    "\n",
    "print(\"\\nAn example image\")\n",
    "example_index = 21\n",
    "digit_image = x_train[example_index]\n",
    "digit_label = y_train[example_index]\n",
    "plt.imshow(digit_image, cmap=plt.cm.binary)\n",
    "plt.show()\n",
    "print(\"Corresponding label: %d\" % (digit_label))"
   ]
  },
  {
   "cell_type": "markdown",
   "metadata": {},
   "source": [
    "**Load my test data**"
   ]
  },
  {
   "cell_type": "code",
   "execution_count": 294,
   "metadata": {},
   "outputs": [
    {
     "name": "stdout",
     "output_type": "stream",
     "text": [
      "Sample shape: (28, 28)\n"
     ]
    },
    {
     "data": {
      "image/png": "[encoded data removed]",
      "text/plain": [
       "<matplotlib.figure.Figure at 0x23391197f60>"
      ]
     },
     "metadata": {},
     "output_type": "display_data"
    }
   ],
   "source": [
    "# load an example\n",
    "my_digit = np.array(image.load_img('digits/0/0.4.png', target_size=(28, 28), grayscale=True))\n",
    "print(\"Sample shape: \" + str(my_digit.shape))\n",
    "plt.imshow(my_digit, cmap=plt.cm.binary)\n",
    "plt.show()"
   ]
  },
  {
   "cell_type": "code",
   "execution_count": 295,
   "metadata": {},
   "outputs": [
    {
     "name": "stdout",
     "output_type": "stream",
     "text": [
      "Sample shape: (28, 28)\n"
     ]
    },
    {
     "data": {
      "image/png": "[encoded data removed]",
      "text/plain": [
       "<matplotlib.figure.Figure at 0x233942ba7b8>"
      ]
     },
     "metadata": {},
     "output_type": "display_data"
    }
   ],
   "source": [
    "# Reverse black/white\n",
    "my_digit = 255 - np.array(image.load_img('digits/0/0.4.png', target_size=(28, 28), grayscale=True))\n",
    "print(\"Sample shape: \" + str(my_digit.shape))\n",
    "plt.imshow(my_digit, cmap=plt.cm.binary)\n",
    "plt.show()"
   ]
  },
  {
   "cell_type": "code",
   "execution_count": 296,
   "metadata": {},
   "outputs": [
    {
     "name": "stdout",
     "output_type": "stream",
     "text": [
      "x_mytest shape: (50, 28, 28)\n",
      "y_mytest shape: (50,)\n"
     ]
    }
   ],
   "source": [
    "x_mytest = []\n",
    "y_mytest = []\n",
    "\n",
    "# https://stackoverflow.com/questions/25868109/python-read-all-files-in-directory-and-subdirectories\n",
    "for root, directories, filenames in os.walk('digits'): \n",
    "    for filename in filenames: \n",
    "        file = os.path.join(root,filename)\n",
    "        x_mytest.append(255 - np.array(image.load_img((file), target_size=(28, 28), grayscale=True)))\n",
    "        y_mytest.append(int(file[7]))\n",
    "        \n",
    "x_mytest = np.array(x_mytest)\n",
    "y_mytest = np.array(y_mytest)\n",
    "print(\"x_mytest shape: %s\" % (str(x_mytest.shape)))\n",
    "print(\"y_mytest shape: %s\" % (str(y_mytest.shape)))"
   ]
  },
  {
   "cell_type": "markdown",
   "metadata": {},
   "source": [
    "**Preprocess data**"
   ]
  },
  {
   "cell_type": "code",
   "execution_count": 297,
   "metadata": {},
   "outputs": [],
   "source": [
    "# unroll image into a vector\n",
    "x_train = x_train.reshape(-1, 28 * 28)\n",
    "x_test = x_test.reshape(-1, 28 * 28)\n",
    "x_mytest = x_mytest.reshape(-1, 28 * 28)\n",
    "\n",
    "# scaling all values into [0, 1]\n",
    "x_train = x_train.astype('float32') / 255\n",
    "x_test = x_test.astype('float32') / 255\n",
    "x_mytest = x_mytest.astype('float32') / 255\n",
    "\n",
    "# categorically encode the labels\n",
    "from keras.utils import to_categorical\n",
    "\n",
    "y_train = to_categorical(y_train)\n",
    "y_test = to_categorical(y_test)\n",
    "y_mytest = to_categorical(y_mytest)"
   ]
  },
  {
   "cell_type": "code",
   "execution_count": 298,
   "metadata": {
    "scrolled": true
   },
   "outputs": [
    {
     "name": "stdout",
     "output_type": "stream",
     "text": [
      "x_train shape: (60000, 784)\n",
      "y_train shape: (60000, 10)\n",
      "x_test shape: (10000, 784)\n",
      "y_test shape: (10000, 10)\n",
      "x_mytest shape: (50, 784)\n",
      "y_mytest shape: (50, 10)\n",
      "\n",
      "A sample of y_train: [1. 0. 0. 0. 0. 0. 0. 0. 0. 0.]\n",
      "\n",
      "A sample of y_mytest: [0. 1. 0. 0. 0. 0. 0. 0. 0. 0.]\n"
     ]
    }
   ],
   "source": [
    "# Data shape after preprocessing\n",
    "print(\"x_train shape: %s\" % (str(x_train.shape)))\n",
    "print(\"y_train shape: %s\" % (str(y_train.shape)))\n",
    "print(\"x_test shape: %s\" % (str(x_test.shape)))\n",
    "print(\"y_test shape: %s\" % (str(y_test.shape)))\n",
    "print(\"x_mytest shape: %s\" % (str(x_mytest.shape)))\n",
    "print(\"y_mytest shape: %s\" % (str(y_mytest.shape)))\n",
    "\n",
    "print(\"\\nA sample of y_train: %s\" % (str(y_train[example_index])))\n",
    "print(\"\\nA sample of y_mytest: %s\" % (str(y_train[3])))"
   ]
  },
  {
   "cell_type": "markdown",
   "metadata": {},
   "source": [
    "**Train with 1 layer network**"
   ]
  },
  {
   "cell_type": "code",
   "execution_count": 299,
   "metadata": {},
   "outputs": [
    {
     "name": "stdout",
     "output_type": "stream",
     "text": [
      "_________________________________________________________________\n",
      "Layer (type)                 Output Shape              Param #   \n",
      "=================================================================\n",
      "dense_26 (Dense)             (None, 10)                7850      \n",
      "=================================================================\n",
      "Total params: 7,850\n",
      "Trainable params: 7,850\n",
      "Non-trainable params: 0\n",
      "_________________________________________________________________\n"
     ]
    }
   ],
   "source": [
    "model = keras.models.Sequential()\n",
    "model.add(keras.layers.Dense(10, input_shape=(28 * 28,), activation='softmax'))\n",
    "model.compile(optimizer='sgd', loss='categorical_crossentropy', metrics=['acc'])\n",
    "\n",
    "model.summary()"
   ]
  },
  {
   "cell_type": "code",
   "execution_count": 300,
   "metadata": {},
   "outputs": [
    {
     "name": "stdout",
     "output_type": "stream",
     "text": [
      "Train on 60000 samples, validate on 10000 samples\n",
      "Epoch 1/10\n",
      "60000/60000 [==============================] - 3s 56us/step - loss: 0.9843 - acc: 0.7746 - val_loss: 0.6012 - val_acc: 0.8642\n",
      "Epoch 2/10\n",
      "60000/60000 [==============================] - 3s 44us/step - loss: 0.5541 - acc: 0.8642 - val_loss: 0.4772 - val_acc: 0.8819\n",
      "Epoch 3/10\n",
      "60000/60000 [==============================] - 3s 52us/step - loss: 0.4738 - acc: 0.8782 - val_loss: 0.4265 - val_acc: 0.8909\n",
      "Epoch 4/10\n",
      "60000/60000 [==============================] - 3s 50us/step - loss: 0.4347 - acc: 0.8860 - val_loss: 0.3980 - val_acc: 0.8971\n",
      "Epoch 5/10\n",
      "60000/60000 [==============================] - 3s 50us/step - loss: 0.4106 - acc: 0.8899 - val_loss: 0.3794 - val_acc: 0.8993\n",
      "Epoch 6/10\n",
      "60000/60000 [==============================] - 3s 49us/step - loss: 0.3936 - acc: 0.8940 - val_loss: 0.3656 - val_acc: 0.9023\n",
      "Epoch 7/10\n",
      "60000/60000 [==============================] - 3s 48us/step - loss: 0.3809 - acc: 0.8962 - val_loss: 0.3556 - val_acc: 0.9049\n",
      "Epoch 8/10\n",
      "60000/60000 [==============================] - 3s 48us/step - loss: 0.3708 - acc: 0.8985 - val_loss: 0.3470 - val_acc: 0.9079\n",
      "Epoch 9/10\n",
      "60000/60000 [==============================] - 3s 47us/step - loss: 0.3627 - acc: 0.9001 - val_loss: 0.3408 - val_acc: 0.9091\n",
      "Epoch 10/10\n",
      "60000/60000 [==============================] - 2s 39us/step - loss: 0.3558 - acc: 0.9018 - val_loss: 0.3349 - val_acc: 0.9112\n"
     ]
    }
   ],
   "source": [
    "hist = model.fit(x_train, y_train, epochs=10, batch_size=64, validation_data=(x_test,y_test))"
   ]
  },
  {
   "cell_type": "code",
   "execution_count": 301,
   "metadata": {},
   "outputs": [
    {
     "data": {
      "image/png": "[encoded data removed]",
      "text/plain": [
       "<matplotlib.figure.Figure at 0x233924352b0>"
      ]
     },
     "metadata": {},
     "output_type": "display_data"
    },
    {
     "data": {
      "image/png": "[encoded data removed]",
      "text/plain": [
       "<matplotlib.figure.Figure at 0x23390eafc88>"
      ]
     },
     "metadata": {},
     "output_type": "display_data"
    }
   ],
   "source": [
    "acc = hist.history['acc']\n",
    "val_acc = hist.history['val_acc']\n",
    "loss = hist.history['loss']\n",
    "val_loss = hist.history['val_loss']\n",
    "epochs = range(1, len(acc) + 1)\n",
    "\n",
    "plt.plot(epochs, acc, 'bo', label='Training acc')\n",
    "plt.plot(epochs, val_acc, 'b', label='Validation acc')\n",
    "plt.title('Training and validation accuracy')\n",
    "plt.legend()\n",
    "\n",
    "plt.figure()\n",
    "plt.plot(epochs, loss, 'bo', label='Training loss')\n",
    "plt.plot(epochs, val_loss, 'b', label='Validation loss')\n",
    "plt.title('Training and validation loss')\n",
    "plt.legend()\n",
    "\n",
    "plt.show()"
   ]
  },
  {
   "cell_type": "code",
   "execution_count": 302,
   "metadata": {},
   "outputs": [
    {
     "name": "stdout",
     "output_type": "stream",
     "text": [
      "50/50 [==============================] - 0s 190us/step\n"
     ]
    },
    {
     "data": {
      "text/plain": [
       "[1.551092128753662, 0.52]"
      ]
     },
     "execution_count": 302,
     "metadata": {},
     "output_type": "execute_result"
    }
   ],
   "source": [
    "# evaluate on my test data\n",
    "results = model.evaluate(x_mytest, y_mytest)\n",
    "results"
   ]
  },
  {
   "cell_type": "markdown",
   "metadata": {},
   "source": [
    "So this model achieve 48% accuracy on my test data. Should be higher if I have more data or the way I draw the number is closer to the training image data."
   ]
  },
  {
   "cell_type": "markdown",
   "metadata": {},
   "source": [
    "**Train with deep network**"
   ]
  },
  {
   "cell_type": "code",
   "execution_count": 303,
   "metadata": {},
   "outputs": [
    {
     "name": "stdout",
     "output_type": "stream",
     "text": [
      "_________________________________________________________________\n",
      "Layer (type)                 Output Shape              Param #   \n",
      "=================================================================\n",
      "dense_27 (Dense)             (None, 100)               78500     \n",
      "_________________________________________________________________\n",
      "dense_28 (Dense)             (None, 50)                5050      \n",
      "_________________________________________________________________\n",
      "dense_29 (Dense)             (None, 50)                2550      \n",
      "_________________________________________________________________\n",
      "dense_30 (Dense)             (None, 25)                1275      \n",
      "_________________________________________________________________\n",
      "dense_31 (Dense)             (None, 25)                650       \n",
      "_________________________________________________________________\n",
      "dense_32 (Dense)             (None, 10)                260       \n",
      "=================================================================\n",
      "Total params: 88,285\n",
      "Trainable params: 88,285\n",
      "Non-trainable params: 0\n",
      "_________________________________________________________________\n"
     ]
    }
   ],
   "source": [
    "model = keras.models.Sequential()\n",
    "model.add(keras.layers.Dense(100, input_shape=(28 * 28,), activation='relu'))\n",
    "model.add(keras.layers.Dense(50, activation='relu'))\n",
    "model.add(keras.layers.Dense(50, activation='relu'))\n",
    "model.add(keras.layers.Dense(25, activation='relu'))\n",
    "model.add(keras.layers.Dense(25, activation='relu'))\n",
    "model.add(keras.layers.Dense(10, activation='softmax'))\n",
    "\n",
    "model.summary()"
   ]
  },
  {
   "cell_type": "code",
   "execution_count": 304,
   "metadata": {},
   "outputs": [
    {
     "name": "stdout",
     "output_type": "stream",
     "text": [
      "Train on 60000 samples, validate on 10000 samples\n",
      "Epoch 1/10\n",
      "60000/60000 [==============================] - 6s 95us/step - loss: 1.2579 - acc: 0.5998 - val_loss: 0.5216 - val_acc: 0.8472\n",
      "Epoch 2/10\n",
      "60000/60000 [==============================] - 4s 74us/step - loss: 0.3927 - acc: 0.8846 - val_loss: 0.3140 - val_acc: 0.9083\n",
      "Epoch 3/10\n",
      "60000/60000 [==============================] - 4s 75us/step - loss: 0.2872 - acc: 0.9145 - val_loss: 0.2496 - val_acc: 0.9255\n",
      "Epoch 4/10\n",
      "60000/60000 [==============================] - 4s 64us/step - loss: 0.2305 - acc: 0.9323 - val_loss: 0.2253 - val_acc: 0.9327\n",
      "Epoch 5/10\n",
      "60000/60000 [==============================] - 4s 67us/step - loss: 0.1938 - acc: 0.9433 - val_loss: 0.1836 - val_acc: 0.9453\n",
      "Epoch 6/10\n",
      "60000/60000 [==============================] - 4s 64us/step - loss: 0.1667 - acc: 0.9511 - val_loss: 0.1763 - val_acc: 0.9452\n",
      "Epoch 7/10\n",
      "60000/60000 [==============================] - 4s 64us/step - loss: 0.1471 - acc: 0.9568 - val_loss: 0.1614 - val_acc: 0.9493\n",
      "Epoch 8/10\n",
      "60000/60000 [==============================] - 4s 65us/step - loss: 0.1315 - acc: 0.9611 - val_loss: 0.1326 - val_acc: 0.9614\n",
      "Epoch 9/10\n",
      "60000/60000 [==============================] - 4s 69us/step - loss: 0.1192 - acc: 0.9648 - val_loss: 0.1296 - val_acc: 0.9615\n",
      "Epoch 10/10\n",
      "60000/60000 [==============================] - 4s 64us/step - loss: 0.1101 - acc: 0.9673 - val_loss: 0.1247 - val_acc: 0.9616\n"
     ]
    }
   ],
   "source": [
    "model.compile(optimizer='sgd', loss='categorical_crossentropy', metrics=['acc'])\n",
    "\n",
    "hist = model.fit(x_train, y_train, epochs=10, batch_size=64, validation_data=(x_test,y_test))"
   ]
  },
  {
   "cell_type": "code",
   "execution_count": 305,
   "metadata": {},
   "outputs": [
    {
     "data": {
      "image/png": "[encoded data removed]",
      "text/plain": [
       "<matplotlib.figure.Figure at 0x23394d8d6a0>"
      ]
     },
     "metadata": {},
     "output_type": "display_data"
    },
    {
     "data": {
      "image/png": "[encoded data removed]",
      "text/plain": [
       "<matplotlib.figure.Figure at 0x23394f431d0>"
      ]
     },
     "metadata": {},
     "output_type": "display_data"
    }
   ],
   "source": [
    "acc = hist.history['acc']\n",
    "val_acc = hist.history['val_acc']\n",
    "loss = hist.history['loss']\n",
    "val_loss = hist.history['val_loss']\n",
    "epochs = range(1, len(acc) + 1)\n",
    "\n",
    "plt.plot(epochs, acc, 'bo', label='Training acc')\n",
    "plt.plot(epochs, val_acc, 'b', label='Validation acc')\n",
    "plt.title('Training and validation accuracy')\n",
    "plt.legend()\n",
    "\n",
    "plt.figure()\n",
    "plt.plot(epochs, loss, 'bo', label='Training loss')\n",
    "plt.plot(epochs, val_loss, 'b', label='Validation loss')\n",
    "plt.title('Training and validation loss')\n",
    "plt.legend()\n",
    "\n",
    "plt.show()"
   ]
  },
  {
   "cell_type": "code",
   "execution_count": 306,
   "metadata": {},
   "outputs": [
    {
     "name": "stdout",
     "output_type": "stream",
     "text": [
      "50/50 [==============================] - 0s 130us/step\n"
     ]
    },
    {
     "data": {
      "text/plain": [
       "[1.3180073404312134, 0.6200000095367432]"
      ]
     },
     "execution_count": 306,
     "metadata": {},
     "output_type": "execute_result"
    }
   ],
   "source": [
    "# evaluate on my test data\n",
    "results = model.evaluate(x_mytest, y_mytest)\n",
    "results"
   ]
  },
  {
   "cell_type": "markdown",
   "metadata": {},
   "source": [
    "This deep network achieved higher accuracy on the validation set, but did not on my test set."
   ]
  },
  {
   "cell_type": "markdown",
   "metadata": {},
   "source": [
    "**Train with model from chapter 2 - Chollet book**"
   ]
  },
  {
   "cell_type": "code",
   "execution_count": 307,
   "metadata": {},
   "outputs": [
    {
     "name": "stdout",
     "output_type": "stream",
     "text": [
      "_________________________________________________________________\n",
      "Layer (type)                 Output Shape              Param #   \n",
      "=================================================================\n",
      "dense_33 (Dense)             (None, 512)               401920    \n",
      "_________________________________________________________________\n",
      "dense_34 (Dense)             (None, 10)                5130      \n",
      "=================================================================\n",
      "Total params: 407,050\n",
      "Trainable params: 407,050\n",
      "Non-trainable params: 0\n",
      "_________________________________________________________________\n"
     ]
    }
   ],
   "source": [
    "network = keras.models.Sequential()\n",
    "network.add(keras.layers.Dense(512, activation='relu', input_shape=(28 * 28,)))\n",
    "network.add(keras.layers.Dense(10, activation='softmax'))\n",
    "network.summary()"
   ]
  },
  {
   "cell_type": "code",
   "execution_count": 308,
   "metadata": {},
   "outputs": [
    {
     "name": "stdout",
     "output_type": "stream",
     "text": [
      "Train on 60000 samples, validate on 10000 samples\n",
      "Epoch 1/5\n",
      "60000/60000 [==============================] - 9s 152us/step - loss: 0.2523 - acc: 0.9255 - val_loss: 0.1208 - val_acc: 0.9619\n",
      "Epoch 2/5\n",
      "60000/60000 [==============================] - 8s 134us/step - loss: 0.1029 - acc: 0.9694 - val_loss: 0.0932 - val_acc: 0.9707\n",
      "Epoch 3/5\n",
      "60000/60000 [==============================] - 8s 139us/step - loss: 0.0677 - acc: 0.9795 - val_loss: 0.0772 - val_acc: 0.9763\n",
      "Epoch 4/5\n",
      "60000/60000 [==============================] - 8s 140us/step - loss: 0.0493 - acc: 0.9853 - val_loss: 0.0683 - val_acc: 0.9784\n",
      "Epoch 5/5\n",
      "60000/60000 [==============================] - 8s 136us/step - loss: 0.0373 - acc: 0.9888 - val_loss: 0.0691 - val_acc: 0.9794\n"
     ]
    }
   ],
   "source": [
    "network.compile(optimizer='rmsprop',\n",
    "    loss='categorical_crossentropy',\n",
    "    metrics=['accuracy'])\n",
    "\n",
    "hist = network.fit(x_train, y_train, epochs=5, batch_size=128, validation_data=(x_test,y_test))\n"
   ]
  },
  {
   "cell_type": "code",
   "execution_count": 309,
   "metadata": {},
   "outputs": [
    {
     "data": {
      "image/png": "[encoded data removed]",
      "text/plain": [
       "<matplotlib.figure.Figure at 0x23394e6e470>"
      ]
     },
     "metadata": {},
     "output_type": "display_data"
    },
    {
     "data": {
      "image/png": "[encoded data removed]",
      "text/plain": [
       "<matplotlib.figure.Figure at 0x233952d99b0>"
      ]
     },
     "metadata": {},
     "output_type": "display_data"
    }
   ],
   "source": [
    "acc = hist.history['acc']\n",
    "val_acc = hist.history['val_acc']\n",
    "loss = hist.history['loss']\n",
    "val_loss = hist.history['val_loss']\n",
    "epochs = range(1, len(acc) + 1)\n",
    "\n",
    "plt.plot(epochs, acc, 'bo', label='Training acc')\n",
    "plt.plot(epochs, val_acc, 'b', label='Validation acc')\n",
    "plt.title('Training and validation accuracy')\n",
    "plt.legend()\n",
    "\n",
    "plt.figure()\n",
    "plt.plot(epochs, loss, 'bo', label='Training loss')\n",
    "plt.plot(epochs, val_loss, 'b', label='Validation loss')\n",
    "plt.title('Training and validation loss')\n",
    "plt.legend()\n",
    "\n",
    "plt.show()"
   ]
  },
  {
   "cell_type": "code",
   "execution_count": 310,
   "metadata": {
    "scrolled": true
   },
   "outputs": [
    {
     "name": "stdout",
     "output_type": "stream",
     "text": [
      "50/50 [==============================] - 0s 170us/step\n"
     ]
    },
    {
     "data": {
      "text/plain": [
       "[1.403551335334778, 0.5999999976158142]"
      ]
     },
     "execution_count": 310,
     "metadata": {},
     "output_type": "execute_result"
    }
   ],
   "source": [
    "# evaluate on my test data\n",
    "results = network.evaluate(x_mytest, y_mytest)\n",
    "results"
   ]
  },
  {
   "cell_type": "markdown",
   "metadata": {},
   "source": [
    "This  network achieved higher accuracy on the validation set and also reach ~60% accuracy on my test set."
   ]
  }
 ],
 "metadata": {
  "kernelspec": {
   "display_name": "Python 3",
   "language": "python",
   "name": "python3"
  },
  "language_info": {
   "codemirror_mode": {
    "name": "ipython",
    "version": 3
   },
   "file_extension": ".py",
   "mimetype": "text/x-python",
   "name": "python",
   "nbconvert_exporter": "python",
   "pygments_lexer": "ipython3",
   "version": "3.5.4"
  }
 },
 "nbformat": 4,
 "nbformat_minor": 2
}
