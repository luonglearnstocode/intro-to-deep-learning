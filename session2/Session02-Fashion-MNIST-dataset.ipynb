{
 "cells": [
  {
   "cell_type": "markdown",
   "metadata": {},
   "source": [
    "Name: **Luong Nguyen**  \n",
    "Student ID: **1504210**  "
   ]
  },
  {
   "cell_type": "markdown",
   "metadata": {},
   "source": [
    "## Introduction to Deep Learning \n",
    "\n",
    "### Session02: Fashion-MNIST dataset\n",
    "____"
   ]
  },
  {
   "cell_type": "markdown",
   "metadata": {},
   "source": [
    "**Import the packages needed for this assignment**"
   ]
  },
  {
   "cell_type": "code",
   "execution_count": 76,
   "metadata": {
    "collapsed": true
   },
   "outputs": [],
   "source": [
    "# import packages\n",
    "import numpy as np\n",
    "import keras\n",
    "import matplotlib.pyplot as plt"
   ]
  },
  {
   "cell_type": "markdown",
   "metadata": {},
   "source": [
    "**Load data**"
   ]
  },
  {
   "cell_type": "code",
   "execution_count": 77,
   "metadata": {
    "collapsed": true
   },
   "outputs": [],
   "source": [
    "from keras.datasets import fashion_mnist\n",
    "\n",
    "(x_train, y_train), (x_test, y_test) = fashion_mnist.load_data()"
   ]
  },
  {
   "cell_type": "markdown",
   "metadata": {},
   "source": [
    "**Explore data**"
   ]
  },
  {
   "cell_type": "code",
   "execution_count": 78,
   "metadata": {},
   "outputs": [
    {
     "name": "stdout",
     "output_type": "stream",
     "text": [
      "x_train shape: (60000, 28, 28)\n",
      "y_train shape: (60000,)\n",
      "x_test shape: (10000, 28, 28)\n",
      "y_test shape: (10000,)\n",
      "\n",
      "An example image\n"
     ]
    },
    {
     "data": {
      "image/png": "[encoded data removed]",
      "text/plain": [
       "<matplotlib.figure.Figure at 0x1f8dc416da0>"
      ]
     },
     "metadata": {},
     "output_type": "display_data"
    },
    {
     "name": "stdout",
     "output_type": "stream",
     "text": [
      "Corresponding label: 4\n"
     ]
    },
    {
     "data": {
      "image/png": "[encoded data removed]",
      "text/plain": [
       "<matplotlib.figure.Figure at 0x1f8dc47bbe0>"
      ]
     },
     "metadata": {},
     "output_type": "display_data"
    },
    {
     "name": "stdout",
     "output_type": "stream",
     "text": [
      "Corresponding label: 8\n"
     ]
    },
    {
     "data": {
      "image/png": "[encoded data removed]",
      "text/plain": [
       "<matplotlib.figure.Figure at 0x1f880026b70>"
      ]
     },
     "metadata": {},
     "output_type": "display_data"
    },
    {
     "name": "stdout",
     "output_type": "stream",
     "text": [
      "Corresponding label: 9\n"
     ]
    }
   ],
   "source": [
    "print(\"x_train shape: %s\" % (str(x_train.shape)))\n",
    "print(\"y_train shape: %s\" % (str(y_train.shape)))\n",
    "print(\"x_test shape: %s\" % (str(x_test.shape)))\n",
    "print(\"y_test shape: %s\" % (str(y_test.shape)))\n",
    "\n",
    "print(\"\\nAn example image\")\n",
    "example_index = 22\n",
    "example_image = x_train[example_index]\n",
    "example_label = y_train[example_index]\n",
    "plt.imshow(example_image, cmap=plt.cm.binary)\n",
    "plt.show()\n",
    "print(\"Corresponding label: %d\" % (example_label))\n",
    "\n",
    "plt.figure()\n",
    "example_index = 12345\n",
    "example_image = x_train[example_index]\n",
    "example_label = y_train[example_index]\n",
    "plt.imshow(example_image, cmap=plt.cm.binary)\n",
    "plt.show()\n",
    "print(\"Corresponding label: %d\" % (example_label))\n",
    "\n",
    "plt.figure()\n",
    "example_index = 22222\n",
    "example_image = x_train[example_index]\n",
    "example_label = y_train[example_index]\n",
    "plt.imshow(example_image, cmap=plt.cm.binary)\n",
    "plt.show()\n",
    "print(\"Corresponding label: %d\" % (example_label))"
   ]
  },
  {
   "cell_type": "markdown",
   "metadata": {},
   "source": [
    "**Preprocess data**"
   ]
  },
  {
   "cell_type": "code",
   "execution_count": 79,
   "metadata": {
    "collapsed": true
   },
   "outputs": [],
   "source": [
    "# unroll image into a vector\n",
    "x_train = x_train.reshape(-1, 28 * 28)\n",
    "x_test = x_test.reshape(-1, 28 * 28)\n",
    "\n",
    "# scaling all values into [0, 1]\n",
    "x_train = x_train.astype('float32') / 255\n",
    "x_test = x_test.astype('float32') / 255\n",
    "\n",
    "# categorically encode the labels\n",
    "from keras.utils import to_categorical\n",
    "\n",
    "y_train = to_categorical(y_train)\n",
    "y_test = to_categorical(y_test)"
   ]
  },
  {
   "cell_type": "code",
   "execution_count": 80,
   "metadata": {
    "scrolled": true
   },
   "outputs": [
    {
     "name": "stdout",
     "output_type": "stream",
     "text": [
      "x_train shape: (60000, 784)\n",
      "y_train shape: (60000, 10)\n",
      "x_test shape: (10000, 784)\n",
      "y_test shape: (10000, 10)\n",
      "\n",
      "A sample of y_train: [0. 0. 0. 0. 0. 0. 0. 0. 0. 1.]\n"
     ]
    }
   ],
   "source": [
    "# Data shape after preprocessing\n",
    "print(\"x_train shape: %s\" % (str(x_train.shape)))\n",
    "print(\"y_train shape: %s\" % (str(y_train.shape)))\n",
    "print(\"x_test shape: %s\" % (str(x_test.shape)))\n",
    "print(\"y_test shape: %s\" % (str(y_test.shape)))\n",
    "\n",
    "print(\"\\nA sample of y_train: %s\" % (str(y_train[example_index])))"
   ]
  },
  {
   "cell_type": "markdown",
   "metadata": {},
   "source": [
    "**Train with 1 layer network**"
   ]
  },
  {
   "cell_type": "code",
   "execution_count": 81,
   "metadata": {},
   "outputs": [
    {
     "name": "stdout",
     "output_type": "stream",
     "text": [
      "_________________________________________________________________\n",
      "Layer (type)                 Output Shape              Param #   \n",
      "=================================================================\n",
      "dense_77 (Dense)             (None, 10)                7850      \n",
      "=================================================================\n",
      "Total params: 7,850\n",
      "Trainable params: 7,850\n",
      "Non-trainable params: 0\n",
      "_________________________________________________________________\n"
     ]
    }
   ],
   "source": [
    "model = keras.models.Sequential()\n",
    "model.add(keras.layers.Dense(10, input_shape=(28 * 28,), activation='softmax'))\n",
    "model.compile(optimizer='sgd', loss='categorical_crossentropy', metrics=['acc'])\n",
    "\n",
    "model.summary()"
   ]
  },
  {
   "cell_type": "code",
   "execution_count": 82,
   "metadata": {},
   "outputs": [
    {
     "name": "stdout",
     "output_type": "stream",
     "text": [
      "Train on 60000 samples, validate on 10000 samples\n",
      "Epoch 1/30\n",
      "60000/60000 [==============================] - 3s 54us/step - loss: 0.9704 - acc: 0.6985 - val_loss: 0.7483 - val_acc: 0.7470\n",
      "Epoch 2/30\n",
      "60000/60000 [==============================] - 2s 40us/step - loss: 0.6741 - acc: 0.7834 - val_loss: 0.6555 - val_acc: 0.7784\n",
      "Epoch 3/30\n",
      "60000/60000 [==============================] - 2s 41us/step - loss: 0.6086 - acc: 0.8030 - val_loss: 0.6116 - val_acc: 0.7944\n",
      "Epoch 4/30\n",
      "60000/60000 [==============================] - 2s 40us/step - loss: 0.5729 - acc: 0.8137 - val_loss: 0.5838 - val_acc: 0.8028\n",
      "Epoch 5/30\n",
      "60000/60000 [==============================] - 2s 38us/step - loss: 0.5497 - acc: 0.8202 - val_loss: 0.5652 - val_acc: 0.8102\n",
      "Epoch 6/30\n",
      "60000/60000 [==============================] - 2s 37us/step - loss: 0.5328 - acc: 0.8247 - val_loss: 0.5535 - val_acc: 0.8136\n",
      "Epoch 7/30\n",
      "60000/60000 [==============================] - 2s 37us/step - loss: 0.5193 - acc: 0.8286 - val_loss: 0.5395 - val_acc: 0.8171\n",
      "Epoch 8/30\n",
      "60000/60000 [==============================] - 2s 41us/step - loss: 0.5091 - acc: 0.8307 - val_loss: 0.5301 - val_acc: 0.8200\n",
      "Epoch 9/30\n",
      "60000/60000 [==============================] - 2s 38us/step - loss: 0.5005 - acc: 0.8333 - val_loss: 0.5234 - val_acc: 0.8219\n",
      "Epoch 10/30\n",
      "60000/60000 [==============================] - 2s 38us/step - loss: 0.4931 - acc: 0.8359 - val_loss: 0.5170 - val_acc: 0.8252\n",
      "Epoch 11/30\n",
      "60000/60000 [==============================] - 3s 43us/step - loss: 0.4869 - acc: 0.8372 - val_loss: 0.5129 - val_acc: 0.8262\n",
      "Epoch 12/30\n",
      "60000/60000 [==============================] - 2s 35us/step - loss: 0.4813 - acc: 0.8387 - val_loss: 0.5079 - val_acc: 0.8270\n",
      "Epoch 13/30\n",
      "60000/60000 [==============================] - 2s 36us/step - loss: 0.4767 - acc: 0.8395 - val_loss: 0.5034 - val_acc: 0.8285\n",
      "Epoch 14/30\n",
      "60000/60000 [==============================] - 2s 36us/step - loss: 0.4722 - acc: 0.8414 - val_loss: 0.5007 - val_acc: 0.8271\n",
      "Epoch 15/30\n",
      "60000/60000 [==============================] - 2s 41us/step - loss: 0.4683 - acc: 0.8423 - val_loss: 0.4982 - val_acc: 0.8277\n",
      "Epoch 16/30\n",
      "60000/60000 [==============================] - 2s 39us/step - loss: 0.4649 - acc: 0.8438 - val_loss: 0.4937 - val_acc: 0.8303\n",
      "Epoch 17/30\n",
      "60000/60000 [==============================] - 2s 38us/step - loss: 0.4616 - acc: 0.8446 - val_loss: 0.4909 - val_acc: 0.8309\n",
      "Epoch 18/30\n",
      "60000/60000 [==============================] - 2s 38us/step - loss: 0.4589 - acc: 0.8446 - val_loss: 0.4883 - val_acc: 0.8313\n",
      "Epoch 19/30\n",
      "60000/60000 [==============================] - 2s 38us/step - loss: 0.4558 - acc: 0.8461 - val_loss: 0.4860 - val_acc: 0.8314\n",
      "Epoch 20/30\n",
      "60000/60000 [==============================] - 2s 39us/step - loss: 0.4534 - acc: 0.8466 - val_loss: 0.4852 - val_acc: 0.8322\n",
      "Epoch 21/30\n",
      "60000/60000 [==============================] - 2s 40us/step - loss: 0.4512 - acc: 0.8479 - val_loss: 0.4819 - val_acc: 0.8339\n",
      "Epoch 22/30\n",
      "60000/60000 [==============================] - 2s 38us/step - loss: 0.4490 - acc: 0.8483 - val_loss: 0.4808 - val_acc: 0.8332\n",
      "Epoch 23/30\n",
      "60000/60000 [==============================] - 2s 41us/step - loss: 0.4471 - acc: 0.8485 - val_loss: 0.4785 - val_acc: 0.8341\n",
      "Epoch 24/30\n",
      "60000/60000 [==============================] - 2s 40us/step - loss: 0.4450 - acc: 0.8490 - val_loss: 0.4791 - val_acc: 0.8333\n",
      "Epoch 25/30\n",
      "60000/60000 [==============================] - 2s 39us/step - loss: 0.4433 - acc: 0.8495 - val_loss: 0.4758 - val_acc: 0.8345\n",
      "Epoch 26/30\n",
      "60000/60000 [==============================] - 2s 39us/step - loss: 0.4415 - acc: 0.8499 - val_loss: 0.4762 - val_acc: 0.8336\n",
      "Epoch 27/30\n",
      "60000/60000 [==============================] - 2s 39us/step - loss: 0.4398 - acc: 0.8511 - val_loss: 0.4742 - val_acc: 0.8351\n",
      "Epoch 28/30\n",
      "60000/60000 [==============================] - 3s 43us/step - loss: 0.4384 - acc: 0.8511 - val_loss: 0.4718 - val_acc: 0.8353\n",
      "Epoch 29/30\n",
      "60000/60000 [==============================] - 3s 49us/step - loss: 0.4369 - acc: 0.8519 - val_loss: 0.4732 - val_acc: 0.8372\n",
      "Epoch 30/30\n",
      "60000/60000 [==============================] - 3s 46us/step - loss: 0.4356 - acc: 0.8527 - val_loss: 0.4706 - val_acc: 0.8355\n"
     ]
    }
   ],
   "source": [
    "hist = model.fit(x_train, y_train, epochs=30, batch_size=64, validation_data=(x_test,y_test))"
   ]
  },
  {
   "cell_type": "code",
   "execution_count": 83,
   "metadata": {},
   "outputs": [
    {
     "data": {
      "image/png": "[encoded data removed]",
      "text/plain": [
       "<matplotlib.figure.Figure at 0x1f8dc412b00>"
      ]
     },
     "metadata": {},
     "output_type": "display_data"
    },
    {
     "data": {
      "image/png": "[encoded data removed]",
      "text/plain": [
       "<matplotlib.figure.Figure at 0x1f8db144d68>"
      ]
     },
     "metadata": {},
     "output_type": "display_data"
    }
   ],
   "source": [
    "acc = hist.history['acc']\n",
    "val_acc = hist.history['val_acc']\n",
    "loss = hist.history['loss']\n",
    "val_loss = hist.history['val_loss']\n",
    "epochs = range(1, len(acc) + 1)\n",
    "\n",
    "plt.plot(epochs, acc, 'bo', label='Training acc')\n",
    "plt.plot(epochs, val_acc, 'b', label='Validation acc')\n",
    "plt.title('Training and validation accuracy')\n",
    "plt.legend()\n",
    "\n",
    "plt.figure()\n",
    "plt.plot(epochs, loss, 'bo', label='Training loss')\n",
    "plt.plot(epochs, val_loss, 'b', label='Validation loss')\n",
    "plt.title('Training and validation loss')\n",
    "plt.legend()\n",
    "\n",
    "plt.show()"
   ]
  },
  {
   "cell_type": "markdown",
   "metadata": {},
   "source": [
    "With this 1-layer network we reached ~83% accuracy."
   ]
  },
  {
   "cell_type": "markdown",
   "metadata": {},
   "source": [
    "**Train with deep network**"
   ]
  },
  {
   "cell_type": "code",
   "execution_count": 84,
   "metadata": {},
   "outputs": [
    {
     "name": "stdout",
     "output_type": "stream",
     "text": [
      "_________________________________________________________________\n",
      "Layer (type)                 Output Shape              Param #   \n",
      "=================================================================\n",
      "dense_78 (Dense)             (None, 100)               78500     \n",
      "_________________________________________________________________\n",
      "dense_79 (Dense)             (None, 50)                5050      \n",
      "_________________________________________________________________\n",
      "dense_80 (Dense)             (None, 10)                510       \n",
      "=================================================================\n",
      "Total params: 84,060\n",
      "Trainable params: 84,060\n",
      "Non-trainable params: 0\n",
      "_________________________________________________________________\n"
     ]
    }
   ],
   "source": [
    "model = keras.models.Sequential()\n",
    "model.add(keras.layers.Dense(100, input_shape=(28 * 28,), activation='relu'))\n",
    "model.add(keras.layers.Dense(50, activation='relu'))\n",
    "model.add(keras.layers.Dense(10, activation='softmax'))\n",
    "\n",
    "model.summary()"
   ]
  },
  {
   "cell_type": "code",
   "execution_count": 85,
   "metadata": {},
   "outputs": [
    {
     "name": "stdout",
     "output_type": "stream",
     "text": [
      "Train on 60000 samples, validate on 10000 samples\n",
      "Epoch 1/30\n",
      "60000/60000 [==============================] - 5s 90us/step - loss: 0.9043 - acc: 0.7111 - val_loss: 0.6476 - val_acc: 0.7741\n",
      "Epoch 2/30\n",
      "60000/60000 [==============================] - 4s 67us/step - loss: 0.5729 - acc: 0.8069 - val_loss: 0.5587 - val_acc: 0.8060\n",
      "Epoch 3/30\n",
      "60000/60000 [==============================] - 4s 64us/step - loss: 0.5083 - acc: 0.8254 - val_loss: 0.5420 - val_acc: 0.8086\n",
      "Epoch 4/30\n",
      "60000/60000 [==============================] - 4s 64us/step - loss: 0.4753 - acc: 0.8353 - val_loss: 0.5010 - val_acc: 0.8231\n",
      "Epoch 5/30\n",
      "60000/60000 [==============================] - 4s 60us/step - loss: 0.4535 - acc: 0.8412 - val_loss: 0.4728 - val_acc: 0.8366\n",
      "Epoch 6/30\n",
      "60000/60000 [==============================] - 4s 61us/step - loss: 0.4363 - acc: 0.8468 - val_loss: 0.4719 - val_acc: 0.8357\n",
      "Epoch 7/30\n",
      "60000/60000 [==============================] - 4s 61us/step - loss: 0.4245 - acc: 0.8515 - val_loss: 0.4490 - val_acc: 0.8421\n",
      "Epoch 8/30\n",
      "60000/60000 [==============================] - 4s 61us/step - loss: 0.4130 - acc: 0.8549 - val_loss: 0.4513 - val_acc: 0.8417\n",
      "Epoch 9/30\n",
      "60000/60000 [==============================] - 4s 69us/step - loss: 0.4021 - acc: 0.8600 - val_loss: 0.4259 - val_acc: 0.8493\n",
      "Epoch 10/30\n",
      "60000/60000 [==============================] - 4s 73us/step - loss: 0.3938 - acc: 0.8629 - val_loss: 0.4368 - val_acc: 0.8477\n",
      "Epoch 11/30\n",
      "60000/60000 [==============================] - 4s 71us/step - loss: 0.3865 - acc: 0.8648 - val_loss: 0.4454 - val_acc: 0.8419\n",
      "Epoch 12/30\n",
      "60000/60000 [==============================] - 4s 65us/step - loss: 0.3792 - acc: 0.8664 - val_loss: 0.4178 - val_acc: 0.8500\n",
      "Epoch 13/30\n",
      "60000/60000 [==============================] - 5s 77us/step - loss: 0.3723 - acc: 0.8693 - val_loss: 0.4369 - val_acc: 0.8491\n",
      "Epoch 14/30\n",
      "60000/60000 [==============================] - 4s 64us/step - loss: 0.3678 - acc: 0.8712 - val_loss: 0.4080 - val_acc: 0.8547\n",
      "Epoch 15/30\n",
      "60000/60000 [==============================] - 4s 60us/step - loss: 0.3614 - acc: 0.8730 - val_loss: 0.4385 - val_acc: 0.8475\n",
      "Epoch 16/30\n",
      "60000/60000 [==============================] - 4s 61us/step - loss: 0.3553 - acc: 0.8740 - val_loss: 0.4206 - val_acc: 0.8489\n",
      "Epoch 17/30\n",
      "60000/60000 [==============================] - 4s 71us/step - loss: 0.3507 - acc: 0.8760 - val_loss: 0.4144 - val_acc: 0.8502\n",
      "Epoch 18/30\n",
      "60000/60000 [==============================] - 5s 77us/step - loss: 0.3458 - acc: 0.8763 - val_loss: 0.4449 - val_acc: 0.8432\n",
      "Epoch 19/30\n",
      "60000/60000 [==============================] - 4s 68us/step - loss: 0.3417 - acc: 0.8794 - val_loss: 0.3842 - val_acc: 0.8623\n",
      "Epoch 20/30\n",
      "60000/60000 [==============================] - 4s 69us/step - loss: 0.3373 - acc: 0.8803 - val_loss: 0.3809 - val_acc: 0.8652\n",
      "Epoch 21/30\n",
      "60000/60000 [==============================] - 4s 66us/step - loss: 0.3337 - acc: 0.8808 - val_loss: 0.3884 - val_acc: 0.8601\n",
      "Epoch 22/30\n",
      "60000/60000 [==============================] - 4s 71us/step - loss: 0.3299 - acc: 0.8828 - val_loss: 0.3922 - val_acc: 0.8607\n",
      "Epoch 23/30\n",
      "60000/60000 [==============================] - 4s 66us/step - loss: 0.3260 - acc: 0.8833 - val_loss: 0.3870 - val_acc: 0.8633\n",
      "Epoch 24/30\n",
      "60000/60000 [==============================] - 4s 67us/step - loss: 0.3228 - acc: 0.8851 - val_loss: 0.4468 - val_acc: 0.8488\n",
      "Epoch 25/30\n",
      "60000/60000 [==============================] - 4s 68us/step - loss: 0.3193 - acc: 0.8868 - val_loss: 0.3674 - val_acc: 0.8684\n",
      "Epoch 26/30\n",
      "60000/60000 [==============================] - 5s 76us/step - loss: 0.3164 - acc: 0.8873 - val_loss: 0.3822 - val_acc: 0.8606\n",
      "Epoch 27/30\n",
      "60000/60000 [==============================] - 4s 71us/step - loss: 0.3124 - acc: 0.8886 - val_loss: 0.3830 - val_acc: 0.8644\n",
      "Epoch 28/30\n",
      "60000/60000 [==============================] - 4s 75us/step - loss: 0.3097 - acc: 0.8896 - val_loss: 0.3649 - val_acc: 0.8721\n",
      "Epoch 29/30\n",
      "60000/60000 [==============================] - 4s 71us/step - loss: 0.3065 - acc: 0.8900 - val_loss: 0.3693 - val_acc: 0.8681\n",
      "Epoch 30/30\n",
      "60000/60000 [==============================] - 4s 66us/step - loss: 0.3032 - acc: 0.8921 - val_loss: 0.3747 - val_acc: 0.8672\n"
     ]
    }
   ],
   "source": [
    "model.compile(optimizer='sgd', loss='categorical_crossentropy', metrics=['acc'])\n",
    "\n",
    "hist = model.fit(x_train, y_train, epochs=30, batch_size=64, validation_data=(x_test,y_test))"
   ]
  },
  {
   "cell_type": "code",
   "execution_count": 86,
   "metadata": {
    "scrolled": false
   },
   "outputs": [
    {
     "data": {
      "image/png": "[encoded data removed]",
      "text/plain": [
       "<matplotlib.figure.Figure at 0x1f88080dd30>"
      ]
     },
     "metadata": {},
     "output_type": "display_data"
    },
    {
     "data": {
      "image/png": "[encoded data removed]",
      "text/plain": [
       "<matplotlib.figure.Figure at 0x1f88092b7b8>"
      ]
     },
     "metadata": {},
     "output_type": "display_data"
    }
   ],
   "source": [
    "acc = hist.history['acc']\n",
    "val_acc = hist.history['val_acc']\n",
    "loss = hist.history['loss']\n",
    "val_loss = hist.history['val_loss']\n",
    "epochs = range(1, len(acc) + 1)\n",
    "\n",
    "plt.plot(epochs, acc, 'bo', label='Training acc')\n",
    "plt.plot(epochs, val_acc, 'b', label='Validation acc')\n",
    "plt.title('Training and validation accuracy')\n",
    "plt.legend()\n",
    "\n",
    "plt.figure()\n",
    "plt.plot(epochs, loss, 'bo', label='Training loss')\n",
    "plt.plot(epochs, val_loss, 'b', label='Validation loss')\n",
    "plt.title('Training and validation loss')\n",
    "plt.legend()\n",
    "\n",
    "plt.show()"
   ]
  },
  {
   "cell_type": "markdown",
   "metadata": {},
   "source": [
    "With this 3-layer network we reached ~86% accuracy."
   ]
  },
  {
   "cell_type": "markdown",
   "metadata": {},
   "source": [
    "**Train with a deeper network**"
   ]
  },
  {
   "cell_type": "code",
   "execution_count": 87,
   "metadata": {},
   "outputs": [
    {
     "name": "stdout",
     "output_type": "stream",
     "text": [
      "_________________________________________________________________\n",
      "Layer (type)                 Output Shape              Param #   \n",
      "=================================================================\n",
      "dense_81 (Dense)             (None, 500)               392500    \n",
      "_________________________________________________________________\n",
      "dense_82 (Dense)             (None, 250)               125250    \n",
      "_________________________________________________________________\n",
      "dense_83 (Dense)             (None, 250)               62750     \n",
      "_________________________________________________________________\n",
      "dense_84 (Dense)             (None, 100)               25100     \n",
      "_________________________________________________________________\n",
      "dense_85 (Dense)             (None, 100)               10100     \n",
      "_________________________________________________________________\n",
      "dense_86 (Dense)             (None, 50)                5050      \n",
      "_________________________________________________________________\n",
      "dense_87 (Dense)             (None, 50)                2550      \n",
      "_________________________________________________________________\n",
      "dense_88 (Dense)             (None, 25)                1275      \n",
      "_________________________________________________________________\n",
      "dense_89 (Dense)             (None, 25)                650       \n",
      "_________________________________________________________________\n",
      "dense_90 (Dense)             (None, 10)                260       \n",
      "=================================================================\n",
      "Total params: 625,485\n",
      "Trainable params: 625,485\n",
      "Non-trainable params: 0\n",
      "_________________________________________________________________\n"
     ]
    }
   ],
   "source": [
    "model = keras.models.Sequential()\n",
    "model.add(keras.layers.Dense(500, input_shape=(28 * 28,), activation='relu'))\n",
    "model.add(keras.layers.Dense(250, activation='relu'))\n",
    "model.add(keras.layers.Dense(250, activation='relu'))\n",
    "model.add(keras.layers.Dense(100, activation='relu'))\n",
    "model.add(keras.layers.Dense(100, activation='relu'))\n",
    "model.add(keras.layers.Dense(50, activation='relu'))\n",
    "model.add(keras.layers.Dense(50, activation='relu'))\n",
    "model.add(keras.layers.Dense(25, activation='relu'))\n",
    "model.add(keras.layers.Dense(25, activation='relu'))\n",
    "model.add(keras.layers.Dense(10, activation='softmax'))\n",
    "\n",
    "model.summary()"
   ]
  },
  {
   "cell_type": "code",
   "execution_count": 88,
   "metadata": {},
   "outputs": [
    {
     "name": "stdout",
     "output_type": "stream",
     "text": [
      "Train on 60000 samples, validate on 10000 samples\n",
      "Epoch 1/15\n",
      "60000/60000 [==============================] - 18s 294us/step - loss: 1.5509 - acc: 0.4416 - val_loss: 0.7494 - val_acc: 0.7050\n",
      "Epoch 2/15\n",
      "60000/60000 [==============================] - 16s 269us/step - loss: 0.6440 - acc: 0.7596 - val_loss: 0.5747 - val_acc: 0.7754\n",
      "Epoch 3/15\n",
      "60000/60000 [==============================] - 16s 271us/step - loss: 0.5211 - acc: 0.8145 - val_loss: 0.5832 - val_acc: 0.7905\n",
      "Epoch 4/15\n",
      "60000/60000 [==============================] - 17s 285us/step - loss: 0.4550 - acc: 0.8370 - val_loss: 0.4640 - val_acc: 0.8289\n",
      "Epoch 5/15\n",
      "60000/60000 [==============================] - 19s 313us/step - loss: 0.4105 - acc: 0.8525 - val_loss: 0.4331 - val_acc: 0.8429\n",
      "Epoch 6/15\n",
      "60000/60000 [==============================] - 18s 308us/step - loss: 0.3821 - acc: 0.8609 - val_loss: 0.4707 - val_acc: 0.8216\n",
      "Epoch 7/15\n",
      "60000/60000 [==============================] - 17s 288us/step - loss: 0.3585 - acc: 0.8709 - val_loss: 0.3997 - val_acc: 0.8560\n",
      "Epoch 8/15\n",
      "60000/60000 [==============================] - 18s 295us/step - loss: 0.3421 - acc: 0.8751 - val_loss: 0.3976 - val_acc: 0.8567\n",
      "Epoch 9/15\n",
      "60000/60000 [==============================] - 18s 295us/step - loss: 0.3245 - acc: 0.8812 - val_loss: 0.4105 - val_acc: 0.8505\n",
      "Epoch 10/15\n",
      "60000/60000 [==============================] - 18s 300us/step - loss: 0.3131 - acc: 0.8848 - val_loss: 0.3647 - val_acc: 0.8710\n",
      "Epoch 11/15\n",
      "60000/60000 [==============================] - 18s 305us/step - loss: 0.2996 - acc: 0.8895 - val_loss: 0.3776 - val_acc: 0.8632\n",
      "Epoch 12/15\n",
      "60000/60000 [==============================] - 18s 301us/step - loss: 0.2895 - acc: 0.8932 - val_loss: 0.4137 - val_acc: 0.8515\n",
      "Epoch 13/15\n",
      "60000/60000 [==============================] - 18s 307us/step - loss: 0.2784 - acc: 0.8970 - val_loss: 0.3483 - val_acc: 0.8755\n",
      "Epoch 14/15\n",
      "60000/60000 [==============================] - 18s 302us/step - loss: 0.2701 - acc: 0.9008 - val_loss: 0.3610 - val_acc: 0.8732\n",
      "Epoch 15/15\n",
      "60000/60000 [==============================] - 18s 296us/step - loss: 0.2610 - acc: 0.9036 - val_loss: 0.3716 - val_acc: 0.8708\n"
     ]
    }
   ],
   "source": [
    "model.compile(optimizer='sgd', loss='categorical_crossentropy', metrics=['acc'])\n",
    "\n",
    "hist = model.fit(x_train, y_train, epochs=15, batch_size=64, validation_data=(x_test,y_test))"
   ]
  },
  {
   "cell_type": "code",
   "execution_count": 89,
   "metadata": {
    "scrolled": false
   },
   "outputs": [
    {
     "data": {
      "image/png": "[encoded data removed]",
      "text/plain": [
       "<matplotlib.figure.Figure at 0x1f880f580b8>"
      ]
     },
     "metadata": {},
     "output_type": "display_data"
    },
    {
     "data": {
      "image/png": "[encoded data removed]",
      "text/plain": [
       "<matplotlib.figure.Figure at 0x1f881026a58>"
      ]
     },
     "metadata": {},
     "output_type": "display_data"
    }
   ],
   "source": [
    "acc = hist.history['acc']\n",
    "val_acc = hist.history['val_acc']\n",
    "loss = hist.history['loss']\n",
    "val_loss = hist.history['val_loss']\n",
    "epochs = range(1, len(acc) + 1)\n",
    "\n",
    "plt.plot(epochs, acc, 'bo', label='Training acc')\n",
    "plt.plot(epochs, val_acc, 'b', label='Validation acc')\n",
    "plt.title('Training and validation accuracy')\n",
    "plt.legend()\n",
    "\n",
    "plt.figure()\n",
    "plt.plot(epochs, loss, 'bo', label='Training loss')\n",
    "plt.plot(epochs, val_loss, 'b', label='Validation loss')\n",
    "plt.title('Training and validation loss')\n",
    "plt.legend()\n",
    "\n",
    "plt.show()"
   ]
  },
  {
   "cell_type": "markdown",
   "metadata": {},
   "source": [
    "With this 10-layer network we reach ~87% accuracy, not so much improvement compare to the previous 3-layer network but took longer time to train."
   ]
  },
  {
   "cell_type": "markdown",
   "metadata": {},
   "source": [
    "**The accuracy we achieved on this dataset (~88%) is lower than on the traditional MNIST dataset (~98%).**"
   ]
  }
 ],
 "metadata": {
  "kernelspec": {
   "display_name": "Python 3",
   "language": "python",
   "name": "python3"
  },
  "language_info": {
   "codemirror_mode": {
    "name": "ipython",
    "version": 3
   },
   "file_extension": ".py",
   "mimetype": "text/x-python",
   "name": "python",
   "nbconvert_exporter": "python",
   "pygments_lexer": "ipython3",
   "version": "3.5.4"
  }
 },
 "nbformat": 4,
 "nbformat_minor": 2
}
