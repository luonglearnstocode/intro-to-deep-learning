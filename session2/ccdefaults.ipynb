{
 "cells": [
  {
   "cell_type": "code",
   "execution_count": 19,
   "metadata": {},
   "outputs": [],
   "source": [
    "import numpy as np\n",
    "import keras"
   ]
  },
  {
   "cell_type": "code",
   "execution_count": 20,
   "metadata": {
    "collapsed": true
   },
   "outputs": [],
   "source": [
    "data = np.loadtxt(\"ccdefaults.csv\", delimiter=';')\n",
    "np.random.shuffle(data)"
   ]
  },
  {
   "cell_type": "code",
   "execution_count": 21,
   "metadata": {},
   "outputs": [
    {
     "name": "stdout",
     "output_type": "stream",
     "text": [
      "(30000, 25)\n"
     ]
    }
   ],
   "source": [
    "print(data.shape)"
   ]
  },
  {
   "cell_type": "code",
   "execution_count": 22,
   "metadata": {
    "collapsed": true
   },
   "outputs": [],
   "source": [
    "n_training = 28000\n",
    "\n",
    "x_train = data[:n_training,0:24]\n",
    "y_train = data[:n_training,24]\n",
    "\n",
    "x_val = data[n_training:,0:24]\n",
    "y_val = data[n_training:,24]\n",
    "\n",
    "mean = np.mean(x_train, axis=0)\n",
    "std = np.std(x_train, axis=0)\n",
    "\n",
    "x_train -= mean\n",
    "x_train /= std\n",
    "\n",
    "x_val -= mean\n",
    "x_val /= std"
   ]
  },
  {
   "cell_type": "code",
   "execution_count": 23,
   "metadata": {},
   "outputs": [],
   "source": [
    "model = keras.models.Sequential()\n",
    "model.add(keras.layers.Dense(1, input_shape=(24,), activation='sigmoid'))\n",
    "\n",
    "model.compile(loss='binary_crossentropy', optimizer='sgd', metrics=['acc'])"
   ]
  },
  {
   "cell_type": "code",
   "execution_count": 24,
   "metadata": {},
   "outputs": [
    {
     "name": "stdout",
     "output_type": "stream",
     "text": [
      "Train on 28000 samples, validate on 2000 samples\n",
      "Epoch 1/20\n",
      "28000/28000 [==============================] - 1s 24us/step - loss: 0.6222 - acc: 0.6993 - val_loss: 0.5014 - val_acc: 0.8180\n",
      "Epoch 2/20\n",
      "28000/28000 [==============================] - 0s 16us/step - loss: 0.4942 - acc: 0.8092 - val_loss: 0.4635 - val_acc: 0.8245\n",
      "Epoch 3/20\n",
      "28000/28000 [==============================] - 1s 19us/step - loss: 0.4754 - acc: 0.8096 - val_loss: 0.4535 - val_acc: 0.8230\n",
      "Epoch 4/20\n",
      "28000/28000 [==============================] - 0s 16us/step - loss: 0.4704 - acc: 0.8092 - val_loss: 0.4505 - val_acc: 0.8230\n",
      "Epoch 5/20\n",
      "28000/28000 [==============================] - 0s 17us/step - loss: 0.4685 - acc: 0.8087 - val_loss: 0.4493 - val_acc: 0.8225\n",
      "Epoch 6/20\n",
      "28000/28000 [==============================] - 1s 18us/step - loss: 0.4677 - acc: 0.8098 - val_loss: 0.4489 - val_acc: 0.8200\n",
      "Epoch 7/20\n",
      "28000/28000 [==============================] - 0s 16us/step - loss: 0.4673 - acc: 0.8083 - val_loss: 0.4484 - val_acc: 0.8235\n",
      "Epoch 8/20\n",
      "28000/28000 [==============================] - 0s 16us/step - loss: 0.4671 - acc: 0.8091 - val_loss: 0.4481 - val_acc: 0.8225\n",
      "Epoch 9/20\n",
      "28000/28000 [==============================] - 1s 18us/step - loss: 0.4669 - acc: 0.8103 - val_loss: 0.4479 - val_acc: 0.8215\n",
      "Epoch 10/20\n",
      "28000/28000 [==============================] - 1s 27us/step - loss: 0.4668 - acc: 0.8092 - val_loss: 0.4476 - val_acc: 0.8205\n",
      "Epoch 11/20\n",
      "28000/28000 [==============================] - 0s 16us/step - loss: 0.4666 - acc: 0.8101 - val_loss: 0.4479 - val_acc: 0.8180\n",
      "Epoch 12/20\n",
      "28000/28000 [==============================] - 0s 17us/step - loss: 0.4666 - acc: 0.8086 - val_loss: 0.4476 - val_acc: 0.8240\n",
      "Epoch 13/20\n",
      "28000/28000 [==============================] - 1s 19us/step - loss: 0.4666 - acc: 0.8107 - val_loss: 0.4475 - val_acc: 0.8215\n",
      "Epoch 14/20\n",
      "28000/28000 [==============================] - 0s 17us/step - loss: 0.4665 - acc: 0.8100 - val_loss: 0.4472 - val_acc: 0.8215\n",
      "Epoch 15/20\n",
      "28000/28000 [==============================] - 0s 16us/step - loss: 0.4665 - acc: 0.8097 - val_loss: 0.4475 - val_acc: 0.8205\n",
      "Epoch 16/20\n",
      "28000/28000 [==============================] - 0s 16us/step - loss: 0.4664 - acc: 0.8091 - val_loss: 0.4475 - val_acc: 0.8205\n",
      "Epoch 17/20\n",
      "28000/28000 [==============================] - 0s 17us/step - loss: 0.4664 - acc: 0.8107 - val_loss: 0.4472 - val_acc: 0.8200\n",
      "Epoch 18/20\n",
      "28000/28000 [==============================] - 1s 19us/step - loss: 0.4664 - acc: 0.8099 - val_loss: 0.4474 - val_acc: 0.8195\n",
      "Epoch 19/20\n",
      "28000/28000 [==============================] - 1s 18us/step - loss: 0.4664 - acc: 0.8101 - val_loss: 0.4471 - val_acc: 0.8200\n",
      "Epoch 20/20\n",
      "28000/28000 [==============================] - 0s 17us/step - loss: 0.4664 - acc: 0.8096 - val_loss: 0.4473 - val_acc: 0.8225\n"
     ]
    },
    {
     "data": {
      "image/png": "[encoded data removed]",
      "text/plain": [
       "<matplotlib.figure.Figure at 0x1821a290f0>"
      ]
     },
     "metadata": {},
     "output_type": "display_data"
    },
    {
     "data": {
      "image/png": "[encoded data removed]",
      "text/plain": [
       "<matplotlib.figure.Figure at 0x182178b358>"
      ]
     },
     "metadata": {},
     "output_type": "display_data"
    }
   ],
   "source": [
    "hist = model.fit(x_train, y_train, epochs=20, batch_size=64, validation_data=(x_val, y_val))\n",
    "\n",
    "acc = hist.history['acc']\n",
    "val_acc = hist.history['val_acc']\n",
    "loss = hist.history['loss']\n",
    "val_loss = hist.history['val_loss']\n",
    "epochs = range(1, len(acc) + 1)\n",
    "\n",
    "import matplotlib.pyplot as plt\n",
    "\n",
    "plt.plot(epochs, acc, 'bo', label='Training acc')\n",
    "plt.plot(epochs, val_acc, 'b', label='Validation acc')\n",
    "plt.title('Training and validation accuracy')\n",
    "plt.legend()\n",
    "\n",
    "plt.figure()\n",
    "plt.plot(epochs, loss, 'bo', label='Training loss')\n",
    "plt.plot(epochs, val_loss, 'b', label='Validation loss')\n",
    "plt.title('Training and validation loss')\n",
    "plt.legend()\n",
    "\n",
    "plt.show()"
   ]
  },
  {
   "cell_type": "code",
   "execution_count": 28,
   "metadata": {},
   "outputs": [
    {
     "name": "stdout",
     "output_type": "stream",
     "text": [
      "[[ 0.71444869]]\n"
     ]
    }
   ],
   "source": [
    "print(model.predict(x_val[3].reshape(-1,24)))"
   ]
  },
  {
   "cell_type": "code",
   "execution_count": null,
   "metadata": {
    "collapsed": true
   },
   "outputs": [],
   "source": []
  }
 ],
 "metadata": {
  "kernelspec": {
   "display_name": "Python 3",
   "language": "python",
   "name": "python3"
  },
  "language_info": {
   "codemirror_mode": {
    "name": "ipython",
    "version": 3
   },
   "file_extension": ".py",
   "mimetype": "text/x-python",
   "name": "python",
   "nbconvert_exporter": "python",
   "pygments_lexer": "ipython3",
   "version": "3.5.4"
  }
 },
 "nbformat": 4,
 "nbformat_minor": 2
}
