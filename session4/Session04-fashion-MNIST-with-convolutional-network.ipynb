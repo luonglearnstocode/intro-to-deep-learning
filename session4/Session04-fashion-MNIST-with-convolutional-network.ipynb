{
 "cells": [
  {
   "cell_type": "markdown",
   "metadata": {
    "colab_type": "text",
    "id": "FzbyA8YdlxJ_"
   },
   "source": [
    "Name: **Luong Nguyen**  \n",
    "Student ID: **1504210**  "
   ]
  },
  {
   "cell_type": "markdown",
   "metadata": {
    "colab_type": "text",
    "id": "WVWzTZnElxKC"
   },
   "source": [
    "## Introduction to Deep Learning \n",
    "\n",
    "### Session04: fashion MNIST with convolutional network\n",
    "____"
   ]
  },
  {
   "cell_type": "markdown",
   "metadata": {
    "colab_type": "text",
    "id": "5BnM8_iQlxKD"
   },
   "source": [
    "**Import the packages needed for this assignment**"
   ]
  },
  {
   "cell_type": "code",
   "execution_count": 0,
   "metadata": {
    "colab": {
     "autoexec": {
      "startup": false,
      "wait_interval": 0
     }
    },
    "colab_type": "code",
    "id": "XCpvTWn2l4-d"
   },
   "outputs": [],
   "source": [
    "# uncomment to install keras on google colab\n",
    "# !pip install -q keras"
   ]
  },
  {
   "cell_type": "code",
   "execution_count": 3,
   "metadata": {
    "colab": {
     "autoexec": {
      "startup": false,
      "wait_interval": 0
     },
     "base_uri": "https://localhost:8080/",
     "height": 34,
     "output_extras": [
      {
       "item_id": 1
      }
     ]
    },
    "colab_type": "code",
    "executionInfo": {
     "elapsed": 6584,
     "status": "ok",
     "timestamp": 1518230576514,
     "user": {
      "displayName": "Lượng Nguyễn",
      "photoUrl": "//lh4.googleusercontent.com/-0tk3vfJkdYg/AAAAAAAAAAI/AAAAAAAAAIU/xKDhDVByUns/s50-c-k-no/photo.jpg",
      "userId": "101670466780780394701"
     },
     "user_tz": -120
    },
    "id": "DkZ1ZrAnlxKF",
    "outputId": "e7ff869d-758d-46d2-886b-b150da011cdc"
   },
   "outputs": [
    {
     "name": "stderr",
     "output_type": "stream",
     "text": [
      "Using TensorFlow backend.\n"
     ]
    }
   ],
   "source": [
    "# import packages\n",
    "import numpy as np\n",
    "from keras import models, layers\n",
    "from keras.datasets import fashion_mnist\n",
    "import matplotlib.pyplot as plt"
   ]
  },
  {
   "cell_type": "markdown",
   "metadata": {
    "colab_type": "text",
    "id": "3A4sQpOhlxKP"
   },
   "source": [
    "**Prepare data** (reuse code from session 3)"
   ]
  },
  {
   "cell_type": "code",
   "execution_count": 4,
   "metadata": {
    "colab": {
     "autoexec": {
      "startup": false,
      "wait_interval": 0
     },
     "base_uri": "https://localhost:8080/",
     "height": 153,
     "output_extras": [
      {
       "item_id": 44
      }
     ]
    },
    "colab_type": "code",
    "executionInfo": {
     "elapsed": 12031,
     "status": "ok",
     "timestamp": 1518230590963,
     "user": {
      "displayName": "Lượng Nguyễn",
      "photoUrl": "//lh4.googleusercontent.com/-0tk3vfJkdYg/AAAAAAAAAAI/AAAAAAAAAIU/xKDhDVByUns/s50-c-k-no/photo.jpg",
      "userId": "101670466780780394701"
     },
     "user_tz": -120
    },
    "id": "M6d0zrmilxKQ",
    "outputId": "a5da0578-dd90-4a07-85b6-127321a1465b"
   },
   "outputs": [
    {
     "name": "stdout",
     "output_type": "stream",
     "text": [
      "Downloading data from http://fashion-mnist.s3-website.eu-central-1.amazonaws.com/train-labels-idx1-ubyte.gz\n",
      "32768/29515 [=================================] - 0s 3us/step\n",
      "Downloading data from http://fashion-mnist.s3-website.eu-central-1.amazonaws.com/train-images-idx3-ubyte.gz\n",
      "26427392/26421880 [==============================] - 5s 0us/step\n",
      "Downloading data from http://fashion-mnist.s3-website.eu-central-1.amazonaws.com/t10k-labels-idx1-ubyte.gz\n",
      "8192/5148 [===============================================] - 0s 0us/step\n",
      "Downloading data from http://fashion-mnist.s3-website.eu-central-1.amazonaws.com/t10k-images-idx3-ubyte.gz\n",
      "4423680/4422102 [==============================] - 4s 1us/step\n"
     ]
    }
   ],
   "source": [
    "(x_train, y_train), (x_test, y_test) = fashion_mnist.load_data()"
   ]
  },
  {
   "cell_type": "code",
   "execution_count": 5,
   "metadata": {
    "colab": {
     "autoexec": {
      "startup": false,
      "wait_interval": 0
     },
     "base_uri": "https://localhost:8080/",
     "height": 85,
     "output_extras": [
      {
       "item_id": 1
      }
     ]
    },
    "colab_type": "code",
    "executionInfo": {
     "elapsed": 528,
     "status": "ok",
     "timestamp": 1518230599041,
     "user": {
      "displayName": "Lượng Nguyễn",
      "photoUrl": "//lh4.googleusercontent.com/-0tk3vfJkdYg/AAAAAAAAAAI/AAAAAAAAAIU/xKDhDVByUns/s50-c-k-no/photo.jpg",
      "userId": "101670466780780394701"
     },
     "user_tz": -120
    },
    "id": "pAsOwEEVlxKS",
    "outputId": "31d458e8-973f-4694-bba7-eb1014f7042d"
   },
   "outputs": [
    {
     "name": "stdout",
     "output_type": "stream",
     "text": [
      "x_train shape: (60000, 28, 28)\n",
      "y_train shape: (60000,)\n",
      "x_test shape: (10000, 28, 28)\n",
      "y_test shape: (10000,)\n"
     ]
    }
   ],
   "source": [
    "print(\"x_train shape: %s\" % (str(x_train.shape)))\n",
    "print(\"y_train shape: %s\" % (str(y_train.shape)))\n",
    "print(\"x_test shape: %s\" % (str(x_test.shape)))\n",
    "print(\"y_test shape: %s\" % (str(y_test.shape)))"
   ]
  },
  {
   "cell_type": "code",
   "execution_count": 6,
   "metadata": {
    "colab": {
     "autoexec": {
      "startup": false,
      "wait_interval": 0
     },
     "base_uri": "https://localhost:8080/",
     "height": 34,
     "output_extras": [
      {
       "item_id": 1
      }
     ]
    },
    "colab_type": "code",
    "executionInfo": {
     "elapsed": 703,
     "status": "ok",
     "timestamp": 1518230603971,
     "user": {
      "displayName": "Lượng Nguyễn",
      "photoUrl": "//lh4.googleusercontent.com/-0tk3vfJkdYg/AAAAAAAAAAI/AAAAAAAAAIU/xKDhDVByUns/s50-c-k-no/photo.jpg",
      "userId": "101670466780780394701"
     },
     "user_tz": -120
    },
    "id": "GbTJgAN3lxKW",
    "outputId": "79f72a64-fac8-49fe-8292-5f403947ce7f"
   },
   "outputs": [
    {
     "data": {
      "text/plain": [
       "[1, 16, 5, 3, 19, 8, 18, 6, 23, 0]"
      ]
     },
     "execution_count": 6,
     "metadata": {
      "tags": []
     },
     "output_type": "execute_result"
    }
   ],
   "source": [
    "images_indices = []\n",
    "# get the first index of every class label \n",
    "for i in range(10):\n",
    "    images_indices.append(np.argwhere(y_train == i)[0].item())\n",
    "images_indices"
   ]
  },
  {
   "cell_type": "code",
   "execution_count": 7,
   "metadata": {
    "colab": {
     "autoexec": {
      "startup": false,
      "wait_interval": 0
     },
     "base_uri": "https://localhost:8080/",
     "height": 392,
     "output_extras": [
      {
       "item_id": 1
      }
     ]
    },
    "colab_type": "code",
    "executionInfo": {
     "elapsed": 1282,
     "status": "ok",
     "timestamp": 1518230606290,
     "user": {
      "displayName": "Lượng Nguyễn",
      "photoUrl": "//lh4.googleusercontent.com/-0tk3vfJkdYg/AAAAAAAAAAI/AAAAAAAAAIU/xKDhDVByUns/s50-c-k-no/photo.jpg",
      "userId": "101670466780780394701"
     },
     "user_tz": -120
    },
    "id": "r2_M8B9ulxKa",
    "outputId": "001239a6-36df-41fe-9413-4db49c77bae2"
   },
   "outputs": [
    {
     "data": {
      "image/png": "[encoded data removed]",
      "text/plain": [
       "<matplotlib.figure.Figure at 0x7f767a622c50>"
      ]
     },
     "metadata": {
      "tags": []
     },
     "output_type": "display_data"
    }
   ],
   "source": [
    "# plot example of every class label\n",
    "rows = 2\n",
    "f = plt.figure(figsize=(20,6))\n",
    "for i in range(len(images_indices)):\n",
    "    sp = f.add_subplot(rows, len(images_indices)//rows, i+1)\n",
    "    sp.axis('Off')\n",
    "    sp.set_title(y_train[images_indices[i]], fontsize=16)\n",
    "    plt.imshow(x_train[images_indices[i]], cmap=plt.cm.binary)        "
   ]
  },
  {
   "cell_type": "code",
   "execution_count": 0,
   "metadata": {
    "colab": {
     "autoexec": {
      "startup": false,
      "wait_interval": 0
     }
    },
    "colab_type": "code",
    "id": "_kLYFML1lxKe"
   },
   "outputs": [],
   "source": [
    "# preprocess data\n",
    "x_train = x_train.reshape((60000, 28, 28, 1))\n",
    "x_train = x_train.astype('float32') / 255\n",
    "x_test = x_test.reshape((10000, 28, 28, 1))\n",
    "x_test = x_test.astype('float32') / 255\n",
    "\n",
    "# categorically encode the labels\n",
    "from keras.utils import to_categorical\n",
    "\n",
    "y_train = to_categorical(y_train)\n",
    "y_test = to_categorical(y_test)"
   ]
  },
  {
   "cell_type": "code",
   "execution_count": 9,
   "metadata": {
    "colab": {
     "autoexec": {
      "startup": false,
      "wait_interval": 0
     },
     "base_uri": "https://localhost:8080/",
     "height": 119,
     "output_extras": [
      {
       "item_id": 1
      }
     ]
    },
    "colab_type": "code",
    "executionInfo": {
     "elapsed": 534,
     "status": "ok",
     "timestamp": 1518230611207,
     "user": {
      "displayName": "Lượng Nguyễn",
      "photoUrl": "//lh4.googleusercontent.com/-0tk3vfJkdYg/AAAAAAAAAAI/AAAAAAAAAIU/xKDhDVByUns/s50-c-k-no/photo.jpg",
      "userId": "101670466780780394701"
     },
     "user_tz": -120
    },
    "id": "cXogGMD4lxKh",
    "outputId": "49ea90b9-7841-443d-a302-37e82e96f677"
   },
   "outputs": [
    {
     "name": "stdout",
     "output_type": "stream",
     "text": [
      "x_train shape: (60000, 28, 28, 1)\n",
      "y_train shape: (60000, 10)\n",
      "x_test shape: (10000, 28, 28, 1)\n",
      "y_test shape: (10000, 10)\n",
      "\n",
      "A sample of y_train: [1. 0. 0. 0. 0. 0. 0. 0. 0. 0.]\n"
     ]
    }
   ],
   "source": [
    "# Data shape after preprocessing\n",
    "print(\"x_train shape: %s\" % (str(x_train.shape)))\n",
    "print(\"y_train shape: %s\" % (str(y_train.shape)))\n",
    "print(\"x_test shape: %s\" % (str(x_test.shape)))\n",
    "print(\"y_test shape: %s\" % (str(y_test.shape)))\n",
    "\n",
    "print(\"\\nA sample of y_train: %s\" % (str(y_train[2])))"
   ]
  },
  {
   "cell_type": "markdown",
   "metadata": {
    "colab_type": "text",
    "id": "kCoeSHpHlxKk"
   },
   "source": [
    "**Build a convnet**"
   ]
  },
  {
   "cell_type": "code",
   "execution_count": 26,
   "metadata": {
    "colab": {
     "autoexec": {
      "startup": false,
      "wait_interval": 0
     },
     "base_uri": "https://localhost:8080/",
     "height": 374,
     "output_extras": [
      {
       "item_id": 1
      }
     ]
    },
    "colab_type": "code",
    "executionInfo": {
     "elapsed": 644,
     "status": "ok",
     "timestamp": 1518232265759,
     "user": {
      "displayName": "Lượng Nguyễn",
      "photoUrl": "//lh4.googleusercontent.com/-0tk3vfJkdYg/AAAAAAAAAAI/AAAAAAAAAIU/xKDhDVByUns/s50-c-k-no/photo.jpg",
      "userId": "101670466780780394701"
     },
     "user_tz": -120
    },
    "id": "8ybDjIHwpCbY",
    "outputId": "87a6e414-de28-48f5-d994-761996a29030"
   },
   "outputs": [
    {
     "name": "stdout",
     "output_type": "stream",
     "text": [
      "_________________________________________________________________\n",
      "Layer (type)                 Output Shape              Param #   \n",
      "=================================================================\n",
      "conv2d_26 (Conv2D)           (None, 26, 26, 32)        320       \n",
      "_________________________________________________________________\n",
      "max_pooling2d_24 (MaxPooling (None, 13, 13, 32)        0         \n",
      "_________________________________________________________________\n",
      "conv2d_27 (Conv2D)           (None, 11, 11, 64)        18496     \n",
      "_________________________________________________________________\n",
      "max_pooling2d_25 (MaxPooling (None, 5, 5, 64)          0         \n",
      "_________________________________________________________________\n",
      "flatten_5 (Flatten)          (None, 1600)              0         \n",
      "_________________________________________________________________\n",
      "dense_8 (Dense)              (None, 800)               1280800   \n",
      "_________________________________________________________________\n",
      "dense_9 (Dense)              (None, 10)                8010      \n",
      "=================================================================\n",
      "Total params: 1,307,626\n",
      "Trainable params: 1,307,626\n",
      "Non-trainable params: 0\n",
      "_________________________________________________________________\n"
     ]
    }
   ],
   "source": [
    "model = models.Sequential()\n",
    "# (1 convolution layer & 1 pooling layer) * 2\n",
    "model.add(layers.Conv2D(32, (3, 3), activation='relu', input_shape=(28, 28, 1)))\n",
    "model.add(layers.MaxPooling2D((2, 2)))\n",
    "model.add(layers.Conv2D(64, (3, 3), activation='relu'))\n",
    "model.add(layers.MaxPooling2D((2, 2)))\n",
    "\n",
    "model.add(layers.Flatten())\n",
    "# 1 dense layer\n",
    "model.add(layers.Dense(800, activation='relu'))\n",
    "# softmax\n",
    "model.add(layers.Dense(10, activation='softmax'))\n",
    "model.summary()"
   ]
  },
  {
   "cell_type": "code",
   "execution_count": 27,
   "metadata": {
    "colab": {
     "autoexec": {
      "startup": false,
      "wait_interval": 0
     },
     "base_uri": "https://localhost:8080/",
     "height": 544,
     "output_extras": [
      {
       "item_id": 93
      },
      {
       "item_id": 190
      },
      {
       "item_id": 274
      },
      {
       "item_id": 346
      },
      {
       "item_id": 367
      },
      {
       "item_id": 401
      },
      {
       "item_id": 479
      }
     ]
    },
    "colab_type": "code",
    "executionInfo": {
     "elapsed": 150404,
     "status": "ok",
     "timestamp": 1518232424994,
     "user": {
      "displayName": "Lượng Nguyễn",
      "photoUrl": "//lh4.googleusercontent.com/-0tk3vfJkdYg/AAAAAAAAAAI/AAAAAAAAAIU/xKDhDVByUns/s50-c-k-no/photo.jpg",
      "userId": "101670466780780394701"
     },
     "user_tz": -120
    },
    "id": "HTivya0NqPUt",
    "outputId": "cd033e34-7d6e-432f-a305-210511ea3f56"
   },
   "outputs": [
    {
     "name": "stdout",
     "output_type": "stream",
     "text": [
      "Train on 60000 samples, validate on 10000 samples\n",
      "Epoch 1/15\n",
      "60000/60000 [==============================] - 10s 170us/step - loss: 0.4408 - acc: 0.8388 - val_loss: 0.3559 - val_acc: 0.8682\n",
      "Epoch 2/15\n",
      "60000/60000 [==============================] - 10s 166us/step - loss: 0.2810 - acc: 0.8973 - val_loss: 0.2748 - val_acc: 0.8998\n",
      "Epoch 3/15\n",
      "19712/60000 [========>.....................] - ETA: 6s - loss: 0.2374 - acc: 0.912260000/60000 [==============================] - 10s 167us/step - loss: 0.2382 - acc: 0.9128 - val_loss: 0.2792 - val_acc: 0.9003\n",
      "Epoch 4/15\n",
      "60000/60000 [==============================] - 10s 169us/step - loss: 0.2097 - acc: 0.9221 - val_loss: 0.2731 - val_acc: 0.9089\n",
      "Epoch 5/15\n",
      "47168/60000 [======================>.......] - ETA: 2s - loss: 0.1852 - acc: 0.932560000/60000 [==============================] - 10s 167us/step - loss: 0.1871 - acc: 0.9317 - val_loss: 0.3240 - val_acc: 0.8945\n",
      "Epoch 6/15\n",
      "60000/60000 [==============================] - 10s 168us/step - loss: 0.1679 - acc: 0.9388 - val_loss: 0.2821 - val_acc: 0.9116\n",
      "Epoch 7/15\n",
      "53376/60000 [=========================>....] - ETA: 1s - loss: 0.1531 - acc: 0.944660000/60000 [==============================] - 10s 167us/step - loss: 0.1546 - acc: 0.9441 - val_loss: 0.3018 - val_acc: 0.9128\n",
      "Epoch 8/15\n",
      "60000/60000 [==============================] - 10s 167us/step - loss: 0.1394 - acc: 0.9497 - val_loss: 0.3028 - val_acc: 0.9104\n",
      "Epoch 9/15\n",
      "56192/60000 [===========================>..] - ETA: 0s - loss: 0.1269 - acc: 0.954060000/60000 [==============================] - 10s 166us/step - loss: 0.1278 - acc: 0.9537 - val_loss: 0.3111 - val_acc: 0.9048\n",
      "Epoch 10/15\n",
      "60000/60000 [==============================] - 10s 165us/step - loss: 0.1151 - acc: 0.9587 - val_loss: 0.3659 - val_acc: 0.9032\n",
      "Epoch 11/15\n",
      "58624/60000 [============================>.] - ETA: 0s - loss: 0.1059 - acc: 0.962160000/60000 [==============================] - 10s 165us/step - loss: 0.1065 - acc: 0.9619 - val_loss: 0.3350 - val_acc: 0.8978\n",
      "Epoch 12/15\n",
      "60000/60000 [==============================] - 10s 165us/step - loss: 0.1002 - acc: 0.9640 - val_loss: 0.3481 - val_acc: 0.9127\n",
      "Epoch 13/15\n",
      "57984/60000 [===========================>..] - ETA: 0s - loss: 0.0931 - acc: 0.966760000/60000 [==============================] - 10s 166us/step - loss: 0.0938 - acc: 0.9665 - val_loss: 0.4057 - val_acc: 0.9099\n",
      "Epoch 14/15\n",
      "60000/60000 [==============================] - 10s 164us/step - loss: 0.0894 - acc: 0.9682 - val_loss: 0.4465 - val_acc: 0.8978\n",
      "Epoch 15/15\n",
      "60000/60000 [==============================] - 10s 162us/step - loss: 0.0838 - acc: 0.9702 - val_loss: 0.3941 - val_acc: 0.9100\n"
     ]
    }
   ],
   "source": [
    "model.compile(optimizer='rmsprop',\n",
    "              loss='categorical_crossentropy',\n",
    "              metrics=['accuracy'])\n",
    "hist = model.fit(x_train, y_train, epochs=15, batch_size=64, validation_data=(x_test,y_test))"
   ]
  },
  {
   "cell_type": "code",
   "execution_count": 28,
   "metadata": {
    "colab": {
     "autoexec": {
      "startup": false,
      "wait_interval": 0
     },
     "base_uri": "https://localhost:8080/",
     "height": 376,
     "output_extras": [
      {
       "item_id": 1
      }
     ]
    },
    "colab_type": "code",
    "executionInfo": {
     "elapsed": 771,
     "status": "ok",
     "timestamp": 1518232431682,
     "user": {
      "displayName": "Lượng Nguyễn",
      "photoUrl": "//lh4.googleusercontent.com/-0tk3vfJkdYg/AAAAAAAAAAI/AAAAAAAAAIU/xKDhDVByUns/s50-c-k-no/photo.jpg",
      "userId": "101670466780780394701"
     },
     "user_tz": -120
    },
    "id": "GsPsrm56rd2D",
    "outputId": "8619f621-5811-4ff9-c5d0-8b4218070d7e"
   },
   "outputs": [
    {
     "data": {
      "image/png": "[encoded data removed]",
      "text/plain": [
       "<matplotlib.figure.Figure at 0x7f7671aa7fd0>"
      ]
     },
     "metadata": {
      "tags": []
     },
     "output_type": "display_data"
    }
   ],
   "source": [
    "loss = hist.history['loss']\n",
    "val_loss = hist.history['val_loss']\n",
    "epochs = range(1, len(loss) + 1)\n",
    "\n",
    "plt.figure()\n",
    "plt.plot(epochs, loss, 'bo', label='Training loss')\n",
    "plt.plot(epochs, val_loss, 'b', label='Validation loss')\n",
    "plt.xlabel('Epochs')\n",
    "plt.ylabel('Loss')\n",
    "plt.title('Training and validation loss')\n",
    "plt.legend()\n",
    "\n",
    "plt.show()"
   ]
  },
  {
   "cell_type": "code",
   "execution_count": 29,
   "metadata": {
    "colab": {
     "autoexec": {
      "startup": false,
      "wait_interval": 0
     },
     "base_uri": "https://localhost:8080/",
     "height": 376,
     "output_extras": [
      {
       "item_id": 1
      }
     ]
    },
    "colab_type": "code",
    "executionInfo": {
     "elapsed": 687,
     "status": "ok",
     "timestamp": 1518232437467,
     "user": {
      "displayName": "Lượng Nguyễn",
      "photoUrl": "//lh4.googleusercontent.com/-0tk3vfJkdYg/AAAAAAAAAAI/AAAAAAAAAIU/xKDhDVByUns/s50-c-k-no/photo.jpg",
      "userId": "101670466780780394701"
     },
     "user_tz": -120
    },
    "id": "nDUbG09Hr5VN",
    "outputId": "bd4ba119-840e-44fd-e189-175e2ab6da41"
   },
   "outputs": [
    {
     "data": {
      "image/png": "[encoded data removed]",
      "text/plain": [
       "<matplotlib.figure.Figure at 0x7f7671a9f748>"
      ]
     },
     "metadata": {
      "tags": []
     },
     "output_type": "display_data"
    }
   ],
   "source": [
    "acc = hist.history['acc']\n",
    "val_acc = hist.history['val_acc']\n",
    "\n",
    "plt.plot(epochs, acc, 'bo', label='Training acc')\n",
    "plt.plot(epochs, val_acc, 'b', label='Validation acc')\n",
    "plt.title('Training and validation accuracy')\n",
    "plt.xlabel('Epochs')\n",
    "plt.ylabel('Acc')\n",
    "plt.legend()\n",
    "\n",
    "plt.show()"
   ]
  },
  {
   "cell_type": "markdown",
   "metadata": {},
   "source": [
    "With this convnet, we get ~91% accuracy on our validation set, compared to 87% from the dense network in session 2. However this model overfits after a few epochs. "
   ]
  },
  {
   "cell_type": "markdown",
   "metadata": {
    "colab_type": "text",
    "id": "34pcYTyutyxs"
   },
   "source": [
    "**Fight overfitting**"
   ]
  },
  {
   "cell_type": "markdown",
   "metadata": {},
   "source": [
    "We add a dropout layer right before the dense layer."
   ]
  },
  {
   "cell_type": "code",
   "execution_count": 30,
   "metadata": {
    "colab": {
     "autoexec": {
      "startup": false,
      "wait_interval": 0
     },
     "base_uri": "https://localhost:8080/",
     "height": 408,
     "output_extras": [
      {
       "item_id": 1
      }
     ]
    },
    "colab_type": "code",
    "executionInfo": {
     "elapsed": 461,
     "status": "ok",
     "timestamp": 1518232487537,
     "user": {
      "displayName": "Lượng Nguyễn",
      "photoUrl": "//lh4.googleusercontent.com/-0tk3vfJkdYg/AAAAAAAAAAI/AAAAAAAAAIU/xKDhDVByUns/s50-c-k-no/photo.jpg",
      "userId": "101670466780780394701"
     },
     "user_tz": -120
    },
    "id": "a97yMnG8sHmD",
    "outputId": "9b5d6e4d-1d0a-4506-ee68-02fe95e783aa"
   },
   "outputs": [
    {
     "name": "stdout",
     "output_type": "stream",
     "text": [
      "_________________________________________________________________\n",
      "Layer (type)                 Output Shape              Param #   \n",
      "=================================================================\n",
      "conv2d_28 (Conv2D)           (None, 26, 26, 32)        320       \n",
      "_________________________________________________________________\n",
      "max_pooling2d_26 (MaxPooling (None, 13, 13, 32)        0         \n",
      "_________________________________________________________________\n",
      "conv2d_29 (Conv2D)           (None, 11, 11, 64)        18496     \n",
      "_________________________________________________________________\n",
      "max_pooling2d_27 (MaxPooling (None, 5, 5, 64)          0         \n",
      "_________________________________________________________________\n",
      "flatten_6 (Flatten)          (None, 1600)              0         \n",
      "_________________________________________________________________\n",
      "dropout_1 (Dropout)          (None, 1600)              0         \n",
      "_________________________________________________________________\n",
      "dense_10 (Dense)             (None, 800)               1280800   \n",
      "_________________________________________________________________\n",
      "dense_11 (Dense)             (None, 10)                8010      \n",
      "=================================================================\n",
      "Total params: 1,307,626\n",
      "Trainable params: 1,307,626\n",
      "Non-trainable params: 0\n",
      "_________________________________________________________________\n"
     ]
    }
   ],
   "source": [
    "model = models.Sequential()\n",
    "# (1 convolution layer & 1 pooling layer) * 2\n",
    "model.add(layers.Conv2D(32, (3, 3), activation='relu', input_shape=(28, 28, 1)))\n",
    "model.add(layers.MaxPooling2D((2, 2)))\n",
    "model.add(layers.Conv2D(64, (3, 3), activation='relu'))\n",
    "model.add(layers.MaxPooling2D((2, 2)))\n",
    "\n",
    "model.add(layers.Flatten())\n",
    "model.add(layers.Dropout(0.5))\n",
    "model.add(layers.Dense(800, activation='relu'))\n",
    "# softmax\n",
    "model.add(layers.Dense(10, activation='softmax'))\n",
    "model.summary()"
   ]
  },
  {
   "cell_type": "code",
   "execution_count": 31,
   "metadata": {
    "colab": {
     "autoexec": {
      "startup": false,
      "wait_interval": 0
     },
     "base_uri": "https://localhost:8080/",
     "height": 544,
     "output_extras": [
      {
       "item_id": 94
      },
      {
       "item_id": 194
      },
      {
       "item_id": 279
      },
      {
       "item_id": 361
      },
      {
       "item_id": 441
      },
      {
       "item_id": 520
      },
      {
       "item_id": 600
      },
      {
       "item_id": 609
      }
     ]
    },
    "colab_type": "code",
    "executionInfo": {
     "elapsed": 156611,
     "status": "ok",
     "timestamp": 1518232660691,
     "user": {
      "displayName": "Lượng Nguyễn",
      "photoUrl": "//lh4.googleusercontent.com/-0tk3vfJkdYg/AAAAAAAAAAI/AAAAAAAAAIU/xKDhDVByUns/s50-c-k-no/photo.jpg",
      "userId": "101670466780780394701"
     },
     "user_tz": -120
    },
    "id": "GHqGCWtZtUQ-",
    "outputId": "d2c0ce49-f51c-4832-c011-255be21b7bb7"
   },
   "outputs": [
    {
     "name": "stdout",
     "output_type": "stream",
     "text": [
      "Train on 60000 samples, validate on 10000 samples\n",
      "Epoch 1/15\n",
      "60000/60000 [==============================] - 11s 177us/step - loss: 0.4837 - acc: 0.8239 - val_loss: 0.4357 - val_acc: 0.8360\n",
      "Epoch 2/15\n",
      "60000/60000 [==============================] - 10s 173us/step - loss: 0.3382 - acc: 0.8769 - val_loss: 0.3037 - val_acc: 0.8893\n",
      "Epoch 3/15\n",
      "14912/60000 [======>.......................] - ETA: 7s - loss: 0.3088 - acc: 0.887360000/60000 [==============================] - 10s 174us/step - loss: 0.3097 - acc: 0.8871 - val_loss: 0.3008 - val_acc: 0.8890\n",
      "Epoch 4/15\n",
      "60000/60000 [==============================] - 10s 173us/step - loss: 0.2933 - acc: 0.8931 - val_loss: 0.3158 - val_acc: 0.8854\n",
      "Epoch 5/15\n",
      "41344/60000 [===================>..........] - ETA: 3s - loss: 0.2872 - acc: 0.896860000/60000 [==============================] - 10s 173us/step - loss: 0.2856 - acc: 0.8970 - val_loss: 0.3225 - val_acc: 0.8914\n",
      "Epoch 6/15\n",
      "60000/60000 [==============================] - 10s 172us/step - loss: 0.2775 - acc: 0.9003 - val_loss: 0.2869 - val_acc: 0.9028\n",
      "Epoch 7/15\n",
      "48256/60000 [=======================>......] - ETA: 1s - loss: 0.2719 - acc: 0.901660000/60000 [==============================] - 10s 173us/step - loss: 0.2696 - acc: 0.9023 - val_loss: 0.2722 - val_acc: 0.9063\n",
      "Epoch 8/15\n",
      "60000/60000 [==============================] - 10s 173us/step - loss: 0.2720 - acc: 0.9037 - val_loss: 0.3949 - val_acc: 0.8846\n",
      "Epoch 9/15\n",
      "49600/60000 [=======================>......] - ETA: 1s - loss: 0.2664 - acc: 0.904060000/60000 [==============================] - 10s 173us/step - loss: 0.2671 - acc: 0.9041 - val_loss: 0.2946 - val_acc: 0.8984\n",
      "Epoch 10/15\n",
      "60000/60000 [==============================] - 10s 174us/step - loss: 0.2630 - acc: 0.9064 - val_loss: 0.3068 - val_acc: 0.8983\n",
      "Epoch 11/15\n",
      "49344/60000 [=======================>......] - ETA: 1s - loss: 0.2634 - acc: 0.907360000/60000 [==============================] - 10s 173us/step - loss: 0.2649 - acc: 0.9067 - val_loss: 0.2745 - val_acc: 0.9062\n",
      "Epoch 12/15\n",
      "60000/60000 [==============================] - 10s 173us/step - loss: 0.2613 - acc: 0.9071 - val_loss: 0.2918 - val_acc: 0.9041\n",
      "Epoch 13/15\n",
      "49984/60000 [=======================>......] - ETA: 1s - loss: 0.2575 - acc: 0.907660000/60000 [==============================] - 10s 170us/step - loss: 0.2580 - acc: 0.9083 - val_loss: 0.2910 - val_acc: 0.9049\n",
      "Epoch 14/15\n",
      "60000/60000 [==============================] - 10s 172us/step - loss: 0.2601 - acc: 0.9082 - val_loss: 0.2981 - val_acc: 0.9006\n",
      "Epoch 15/15\n",
      "49856/60000 [=======================>......] - ETA: 1s - loss: 0.2548 - acc: 0.908660000/60000 [==============================] - 10s 172us/step - loss: 0.2551 - acc: 0.9085 - val_loss: 0.2812 - val_acc: 0.9002\n"
     ]
    }
   ],
   "source": [
    "model.compile(optimizer='rmsprop',\n",
    "              loss='categorical_crossentropy',\n",
    "              metrics=['accuracy'])\n",
    "hist = model.fit(x_train, y_train, epochs=15, batch_size=64, validation_data=(x_test,y_test))"
   ]
  },
  {
   "cell_type": "code",
   "execution_count": 32,
   "metadata": {
    "colab": {
     "autoexec": {
      "startup": false,
      "wait_interval": 0
     },
     "base_uri": "https://localhost:8080/",
     "height": 376,
     "output_extras": [
      {
       "item_id": 1
      }
     ]
    },
    "colab_type": "code",
    "executionInfo": {
     "elapsed": 506,
     "status": "ok",
     "timestamp": 1518232686212,
     "user": {
      "displayName": "Lượng Nguyễn",
      "photoUrl": "//lh4.googleusercontent.com/-0tk3vfJkdYg/AAAAAAAAAAI/AAAAAAAAAIU/xKDhDVByUns/s50-c-k-no/photo.jpg",
      "userId": "101670466780780394701"
     },
     "user_tz": -120
    },
    "id": "gBPMbHiktYa5",
    "outputId": "02d51818-efbd-43eb-c6b0-7b3d1dfcea21"
   },
   "outputs": [
    {
     "data": {
      "image/png": "[encoded data removed]",
      "text/plain": [
       "<matplotlib.figure.Figure at 0x7f7672630908>"
      ]
     },
     "metadata": {
      "tags": []
     },
     "output_type": "display_data"
    }
   ],
   "source": [
    "loss = hist.history['loss']\n",
    "val_loss = hist.history['val_loss']\n",
    "epochs = range(1, len(loss) + 1)\n",
    "\n",
    "plt.figure()\n",
    "plt.plot(epochs, loss, 'bo', label='Training loss')\n",
    "plt.plot(epochs, val_loss, 'b', label='Validation loss')\n",
    "plt.xlabel('Epochs')\n",
    "plt.ylabel('Loss')\n",
    "plt.title('Training and validation loss')\n",
    "plt.legend()\n",
    "\n",
    "plt.show()"
   ]
  },
  {
   "cell_type": "code",
   "execution_count": 33,
   "metadata": {
    "colab": {
     "autoexec": {
      "startup": false,
      "wait_interval": 0
     },
     "base_uri": "https://localhost:8080/",
     "height": 376,
     "output_extras": [
      {
       "item_id": 1
      }
     ]
    },
    "colab_type": "code",
    "executionInfo": {
     "elapsed": 507,
     "status": "ok",
     "timestamp": 1518232694258,
     "user": {
      "displayName": "Lượng Nguyễn",
      "photoUrl": "//lh4.googleusercontent.com/-0tk3vfJkdYg/AAAAAAAAAAI/AAAAAAAAAIU/xKDhDVByUns/s50-c-k-no/photo.jpg",
      "userId": "101670466780780394701"
     },
     "user_tz": -120
    },
    "id": "BTSj5VYPuEwq",
    "outputId": "a53f2f4d-79b6-4257-e415-51577580e236"
   },
   "outputs": [
    {
     "data": {
      "image/png": "[encoded data removed]",
      "text/plain": [
       "<matplotlib.figure.Figure at 0x7f7672630cc0>"
      ]
     },
     "metadata": {
      "tags": []
     },
     "output_type": "display_data"
    }
   ],
   "source": [
    "acc = hist.history['acc']\n",
    "val_acc = hist.history['val_acc']\n",
    "\n",
    "plt.plot(epochs, acc, 'bo', label='Training acc')\n",
    "plt.plot(epochs, val_acc, 'b', label='Validation acc')\n",
    "plt.title('Training and validation accuracy')\n",
    "plt.xlabel('Epochs')\n",
    "plt.ylabel('Acc')\n",
    "plt.legend()\n",
    "\n",
    "plt.show()"
   ]
  },
  {
   "cell_type": "markdown",
   "metadata": {
    "colab": {
     "autoexec": {
      "startup": false,
      "wait_interval": 0
     }
    },
    "colab_type": "code",
    "id": "O-yN2DVAuGuU"
   },
   "source": [
    "Adding a dropout layer, the model stil overfits, however the validation curves are closer to the training curves than the previous model."
   ]
  }
 ],
 "metadata": {
  "accelerator": "GPU",
  "colab": {
   "collapsed_sections": [],
   "default_view": {},
   "name": "Session04-fashion-MNIST-with-convolutional-network.ipynb",
   "provenance": [],
   "version": "0.3.2",
   "views": {}
  },
  "kernelspec": {
   "display_name": "Python 3",
   "language": "python",
   "name": "python3"
  },
  "language_info": {
   "codemirror_mode": {
    "name": "ipython",
    "version": 3
   },
   "file_extension": ".py",
   "mimetype": "text/x-python",
   "name": "python",
   "nbconvert_exporter": "python",
   "pygments_lexer": "ipython3",
   "version": "3.5.4"
  }
 },
 "nbformat": 4,
 "nbformat_minor": 1
}
