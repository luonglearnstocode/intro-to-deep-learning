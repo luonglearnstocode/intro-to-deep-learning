{
 "cells": [
  {
   "cell_type": "code",
   "execution_count": 2,
   "metadata": {},
   "outputs": [],
   "source": [
    "import numpy as np"
   ]
  },
  {
   "cell_type": "code",
   "execution_count": 3,
   "metadata": {},
   "outputs": [],
   "source": [
    "a = np.arange(0, 10)\n",
    "b = np.arange(0, 20, 2)"
   ]
  },
  {
   "cell_type": "code",
   "execution_count": 4,
   "metadata": {},
   "outputs": [
    {
     "name": "stdout",
     "output_type": "stream",
     "text": [
      "[0 1 2 3 4 5 6 7 8 9]\n",
      "[ 0  2  4  6  8 10 12 14 16 18]\n",
      "[ 0  3  6  9 12 15 18 21 24 27]\n"
     ]
    }
   ],
   "source": [
    "print(a)\n",
    "print(b)\n",
    "print(a+b)"
   ]
  },
  {
   "cell_type": "code",
   "execution_count": 5,
   "metadata": {},
   "outputs": [
    {
     "name": "stdout",
     "output_type": "stream",
     "text": [
      "[[0 1 2 3 4]\n",
      " [5 6 7 8 9]]\n",
      "[[ 0  2  4  6  8]\n",
      " [10 12 14 16 18]]\n",
      "[[  0   2   8  18  32]\n",
      " [ 50  72  98 128 162]]\n"
     ]
    }
   ],
   "source": [
    "a = a.reshape(2,5)\n",
    "b = b.reshape(2,5)\n",
    "print(a)\n",
    "print(b)\n",
    "print(a*b)"
   ]
  },
  {
   "cell_type": "code",
   "execution_count": 6,
   "metadata": {},
   "outputs": [
    {
     "name": "stdout",
     "output_type": "stream",
     "text": [
      "8\n",
      "[0 1 2 3 4]\n",
      "[ 0 10]\n",
      "[5 6 7 8 9]\n"
     ]
    }
   ],
   "source": [
    "print(a[1,3])\n",
    "print(a[0,:])\n",
    "print(b[:,0])\n",
    "print(a[-1])"
   ]
  },
  {
   "cell_type": "code",
   "execution_count": 7,
   "metadata": {},
   "outputs": [
    {
     "name": "stdout",
     "output_type": "stream",
     "text": [
      "[[[ 4  1 32 28]\n",
      "  [12 10 20 26]\n",
      "  [34 21 28 32]\n",
      "  [25 22 15 36]\n",
      "  [16 39 23 23]]\n",
      "\n",
      " [[19 24 13 35]\n",
      "  [ 3 29  8 33]\n",
      "  [29  2 12 39]\n",
      "  [ 3 20 38  8]\n",
      "  [14 10 10  1]]]\n",
      "[[[-35 -38  -7 -11]\n",
      "  [-27 -29 -19 -13]\n",
      "  [ -5 -18 -11  -7]\n",
      "  [-14 -17 -24  -3]\n",
      "  [-23   0 -16 -16]]\n",
      "\n",
      " [[-20 -15 -26  -4]\n",
      "  [-36 -10 -31  -6]\n",
      "  [-10 -37 -27   0]\n",
      "  [-36 -19  -1 -31]\n",
      "  [-25 -29 -29 -38]]]\n",
      "[[[ 5  3 35 32]\n",
      "  [13 12 23 30]\n",
      "  [35 23 31 36]\n",
      "  [26 24 18 40]\n",
      "  [17 41 26 27]]\n",
      "\n",
      " [[20 26 16 39]\n",
      "  [ 4 31 11 37]\n",
      "  [30  4 15 43]\n",
      "  [ 4 22 41 12]\n",
      "  [15 12 13  5]]]\n"
     ]
    }
   ],
   "source": [
    "c = np.random.randint(0,40, [2,5,4])\n",
    "print(c)\n",
    "print(c - 39) # broadcast scalar 39 to shape [2,5,4]\n",
    "print(c + np.array([1,2,3,4])) # broadcast tensor [1,2,3,4] to shape [2,5,4]"
   ]
  },
  {
   "cell_type": "code",
   "execution_count": 8,
   "metadata": {},
   "outputs": [
    {
     "name": "stdout",
     "output_type": "stream",
     "text": [
      "[[[ 0  0 20 30]\n",
      "  [ 0  0  1  5]\n",
      "  [29 19 37 16]\n",
      "  [38 13  0  9]\n",
      "  [ 0 15 13 17]]\n",
      "\n",
      " [[ 0 15  0 15]\n",
      "  [ 0 33  0 39]\n",
      "  [24  0  0  3]\n",
      "  [ 0 16 35  0]\n",
      "  [ 0  0  0  0]]]\n"
     ]
    }
   ],
   "source": [
    "print((c >= 20) * np.random.randint(0,40,c.shape))"
   ]
  },
  {
   "cell_type": "code",
   "execution_count": null,
   "metadata": {},
   "outputs": [],
   "source": []
  }
 ],
 "metadata": {
  "kernelspec": {
   "display_name": "Python 3",
   "language": "python",
   "name": "python3"
  },
  "language_info": {
   "codemirror_mode": {
    "name": "ipython",
    "version": 3
   },
   "file_extension": ".py",
   "mimetype": "text/x-python",
   "name": "python",
   "nbconvert_exporter": "python",
   "pygments_lexer": "ipython3",
   "version": "3.5.4"
  }
 },
 "nbformat": 4,
 "nbformat_minor": 2
}
