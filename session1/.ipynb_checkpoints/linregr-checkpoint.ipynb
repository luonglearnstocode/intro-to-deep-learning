{
 "cells": [
  {
   "cell_type": "code",
   "execution_count": 1,
   "metadata": {},
   "outputs": [
    {
     "name": "stderr",
     "output_type": "stream",
     "text": [
      "Using TensorFlow backend.\n"
     ]
    }
   ],
   "source": [
    "import numpy as np\n",
    "import keras"
   ]
  },
  {
   "cell_type": "code",
   "execution_count": 2,
   "metadata": {},
   "outputs": [
    {
     "name": "stdout",
     "output_type": "stream",
     "text": [
      "(2000, 1)\n"
     ]
    }
   ],
   "source": [
    "x = np.random.rand(2000,1) * 1.0\n",
    "y = 4 * (x  + (0.2 - np.random.rand(2000,1) * 0.4)) + 3\n",
    "\n",
    "liny = 4 * x + 3\n",
    "\n",
    "print(x.shape)"
   ]
  },
  {
   "cell_type": "code",
   "execution_count": 3,
   "metadata": {},
   "outputs": [
    {
     "data": {
      "text/plain": [
       "<matplotlib.figure.Figure at 0x1fd17d25748>"
      ]
     },
     "metadata": {},
     "output_type": "display_data"
    }
   ],
   "source": [
    "import matplotlib.pyplot as plt\n",
    "\n",
    "plt.plot(x, y, 'bo')\n",
    "plt.plot(x, liny, 'r')\n",
    "plt.xlabel('x')\n",
    "plt.ylabel('y')\n",
    "plt.show()"
   ]
  },
  {
   "cell_type": "code",
   "execution_count": 4,
   "metadata": {},
   "outputs": [
    {
     "name": "stdout",
     "output_type": "stream",
     "text": [
      "_________________________________________________________________\n",
      "Layer (type)                 Output Shape              Param #   \n",
      "=================================================================\n",
      "dense_1 (Dense)              (None, 1)                 2         \n",
      "=================================================================\n",
      "Total params: 2\n",
      "Trainable params: 2\n",
      "Non-trainable params: 0\n",
      "_________________________________________________________________\n",
      "Epoch 1/30\n",
      "2000/2000 [==============================] - 0s 168us/step - loss: 5.6672 - mean_squared_error: 5.6672\n",
      "Epoch 2/30\n",
      "2000/2000 [==============================] - 0s 71us/step - loss: 0.5677 - mean_squared_error: 0.5677\n",
      "Epoch 3/30\n",
      "2000/2000 [==============================] - 0s 74us/step - loss: 0.4623 - mean_squared_error: 0.4623\n",
      "Epoch 4/30\n",
      "2000/2000 [==============================] - 0s 114us/step - loss: 0.3913 - mean_squared_error: 0.3913\n",
      "Epoch 5/30\n",
      "2000/2000 [==============================] - 0s 97us/step - loss: 0.3416 - mean_squared_error: 0.3416\n",
      "Epoch 6/30\n",
      "2000/2000 [==============================] - 0s 74us/step - loss: 0.3054 - mean_squared_error: 0.3054\n",
      "Epoch 7/30\n",
      "2000/2000 [==============================] - 0s 79us/step - loss: 0.2794 - mean_squared_error: 0.2794\n",
      "Epoch 8/30\n",
      "2000/2000 [==============================] - 0s 124us/step - loss: 0.2610 - mean_squared_error: 0.2610\n",
      "Epoch 9/30\n",
      "2000/2000 [==============================] - 0s 87us/step - loss: 0.2477 - mean_squared_error: 0.2477\n",
      "Epoch 10/30\n",
      "2000/2000 [==============================] - 0s 76us/step - loss: 0.2385 - mean_squared_error: 0.2385\n",
      "Epoch 11/30\n",
      "2000/2000 [==============================] - 0s 74us/step - loss: 0.2315 - mean_squared_error: 0.2315\n",
      "Epoch 12/30\n",
      "2000/2000 [==============================] - 0s 78us/step - loss: 0.2268 - mean_squared_error: 0.2268\n",
      "Epoch 13/30\n",
      "2000/2000 [==============================] - 0s 75us/step - loss: 0.2233 - mean_squared_error: 0.2233\n",
      "Epoch 14/30\n",
      "2000/2000 [==============================] - 0s 97us/step - loss: 0.2209 - mean_squared_error: 0.2209\n",
      "Epoch 15/30\n",
      "2000/2000 [==============================] - 0s 114us/step - loss: 0.2190 - mean_squared_error: 0.2190\n",
      "Epoch 16/30\n",
      "2000/2000 [==============================] - 0s 82us/step - loss: 0.2176 - mean_squared_error: 0.2176\n",
      "Epoch 17/30\n",
      "2000/2000 [==============================] - 0s 74us/step - loss: 0.2168 - mean_squared_error: 0.2168\n",
      "Epoch 18/30\n",
      "2000/2000 [==============================] - 0s 81us/step - loss: 0.2161 - mean_squared_error: 0.2161\n",
      "Epoch 19/30\n",
      "2000/2000 [==============================] - 0s 80us/step - loss: 0.2157 - mean_squared_error: 0.2157\n",
      "Epoch 20/30\n",
      "2000/2000 [==============================] - 0s 109us/step - loss: 0.2154 - mean_squared_error: 0.2154\n",
      "Epoch 21/30\n",
      "2000/2000 [==============================] - 0s 112us/step - loss: 0.2152 - mean_squared_error: 0.2152\n",
      "Epoch 22/30\n",
      "2000/2000 [==============================] - 0s 80us/step - loss: 0.2149 - mean_squared_error: 0.2149\n",
      "Epoch 23/30\n",
      "2000/2000 [==============================] - 0s 76us/step - loss: 0.2151 - mean_squared_error: 0.2151\n",
      "Epoch 24/30\n",
      "2000/2000 [==============================] - 0s 83us/step - loss: 0.2147 - mean_squared_error: 0.2147\n",
      "Epoch 25/30\n",
      "2000/2000 [==============================] - 0s 76us/step - loss: 0.2146 - mean_squared_error: 0.2146\n",
      "Epoch 26/30\n",
      "2000/2000 [==============================] - 0s 118us/step - loss: 0.2147 - mean_squared_error: 0.2147\n",
      "Epoch 27/30\n",
      "2000/2000 [==============================] - 0s 79us/step - loss: 0.2146 - mean_squared_error: 0.2146\n",
      "Epoch 28/30\n",
      "2000/2000 [==============================] - 0s 82us/step - loss: 0.2143 - mean_squared_error: 0.2143\n",
      "Epoch 29/30\n",
      "2000/2000 [==============================] - 0s 86us/step - loss: 0.2146 - mean_squared_error: 0.2146\n",
      "Epoch 30/30\n",
      "2000/2000 [==============================] - 0s 81us/step - loss: 0.2147 - mean_squared_error: 0.2147\n"
     ]
    }
   ],
   "source": [
    "import keras\n",
    "\n",
    "model = keras.models.Sequential()\n",
    "model.add(keras.layers.Dense(1, input_shape=(1,)))\n",
    "model.summary()\n",
    "\n",
    "model.compile(optimizer='sgd', loss='mse', metrics=['mse'])\n",
    "hist = model.fit(x, y, epochs=30, batch_size=16)"
   ]
  },
  {
   "cell_type": "code",
   "execution_count": 5,
   "metadata": {},
   "outputs": [
    {
     "data": {
      "text/plain": [
       "[array([[3.9242096]], dtype=float32), array([3.022685], dtype=float32)]"
      ]
     },
     "execution_count": 5,
     "metadata": {},
     "output_type": "execute_result"
    }
   ],
   "source": [
    "model.get_weights()"
   ]
  },
  {
   "cell_type": "code",
   "execution_count": 6,
   "metadata": {},
   "outputs": [],
   "source": [
    "p = model.predict(np.array([3]))"
   ]
  },
  {
   "cell_type": "code",
   "execution_count": 7,
   "metadata": {},
   "outputs": [
    {
     "name": "stdout",
     "output_type": "stream",
     "text": [
      "[[14.795314]]\n"
     ]
    }
   ],
   "source": [
    "print(p)"
   ]
  },
  {
   "cell_type": "code",
   "execution_count": null,
   "metadata": {},
   "outputs": [],
   "source": []
  }
 ],
 "metadata": {
  "kernelspec": {
   "display_name": "Python 3",
   "language": "python",
   "name": "python3"
  },
  "language_info": {
   "codemirror_mode": {
    "name": "ipython",
    "version": 3
   },
   "file_extension": ".py",
   "mimetype": "text/x-python",
   "name": "python",
   "nbconvert_exporter": "python",
   "pygments_lexer": "ipython3",
   "version": "3.5.4"
  }
 },
 "nbformat": 4,
 "nbformat_minor": 2
}
