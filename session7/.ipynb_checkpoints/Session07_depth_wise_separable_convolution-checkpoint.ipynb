{
 "cells": [
  {
   "cell_type": "markdown",
   "metadata": {
    "colab_type": "text",
    "id": "FzbyA8YdlxJ_"
   },
   "source": [
    "Name: **Luong Nguyen**  \n",
    "Student ID: **1504210**  "
   ]
  },
  {
   "cell_type": "markdown",
   "metadata": {
    "colab_type": "text",
    "id": "WVWzTZnElxKC"
   },
   "source": [
    "# Introduction to Deep Learning \n",
    "\n",
    "## Session07: depth-wise separable convolution\n",
    "____\n",
    "With the fashion-MNIST dataset, our dense network from session 2 achieved an accuracy of 87% and our convnet from session 4 achieved 91%. Let's see how SeparableConv2D performs in place of ordinary Conv2D."
   ]
  },
  {
   "cell_type": "markdown",
   "metadata": {
    "colab_type": "text",
    "id": "5BnM8_iQlxKD"
   },
   "source": [
    "## Import the packages needed for this assignment"
   ]
  },
  {
   "cell_type": "code",
   "execution_count": 1,
   "metadata": {
    "colab": {
     "autoexec": {
      "startup": false,
      "wait_interval": 0
     },
     "base_uri": "https://localhost:8080/",
     "height": 34,
     "output_extras": [
      {
       "item_id": 1
      }
     ]
    },
    "colab_type": "code",
    "executionInfo": {
     "elapsed": 9523,
     "status": "ok",
     "timestamp": 1520944461468,
     "user": {
      "displayName": "Lượng Nguyễn",
      "photoUrl": "//lh4.googleusercontent.com/-0tk3vfJkdYg/AAAAAAAAAAI/AAAAAAAAAIU/xKDhDVByUns/s50-c-k-no/photo.jpg",
      "userId": "101670466780780394701"
     },
     "user_tz": -120
    },
    "id": "XCpvTWn2l4-d",
    "outputId": "a21e82ce-525c-4ccd-9a15-65e19b662dbb"
   },
   "outputs": [
    {
     "data": {
      "text/plain": [
       "'/device:GPU:0'"
      ]
     },
     "execution_count": 1,
     "metadata": {
      "tags": []
     },
     "output_type": "execute_result"
    }
   ],
   "source": [
    "# install keras on google colab\n",
    "!pip install -q keras\n",
    "# is GPU working?\n",
    "import tensorflow as tf\n",
    "tf.test.gpu_device_name()"
   ]
  },
  {
   "cell_type": "code",
   "execution_count": 2,
   "metadata": {
    "colab": {
     "autoexec": {
      "startup": false,
      "wait_interval": 0
     },
     "base_uri": "https://localhost:8080/",
     "height": 34,
     "output_extras": [
      {
       "item_id": 1
      }
     ]
    },
    "colab_type": "code",
    "executionInfo": {
     "elapsed": 525,
     "status": "ok",
     "timestamp": 1520944505656,
     "user": {
      "displayName": "Lượng Nguyễn",
      "photoUrl": "//lh4.googleusercontent.com/-0tk3vfJkdYg/AAAAAAAAAAI/AAAAAAAAAIU/xKDhDVByUns/s50-c-k-no/photo.jpg",
      "userId": "101670466780780394701"
     },
     "user_tz": -120
    },
    "id": "DkZ1ZrAnlxKF",
    "outputId": "2c98ff3f-c5cc-4dd8-ab6e-bb2b17c32f23"
   },
   "outputs": [
    {
     "name": "stderr",
     "output_type": "stream",
     "text": [
      "Using TensorFlow backend.\n"
     ]
    }
   ],
   "source": [
    "# import packages\n",
    "import numpy as np\n",
    "import matplotlib.pyplot as plt\n",
    "from keras import models, layers"
   ]
  },
  {
   "cell_type": "markdown",
   "metadata": {
    "colab_type": "text",
    "id": "AVvaQJMYW7pL"
   },
   "source": [
    "## Prepare data"
   ]
  },
  {
   "cell_type": "code",
   "execution_count": 3,
   "metadata": {
    "colab": {
     "autoexec": {
      "startup": false,
      "wait_interval": 0
     },
     "base_uri": "https://localhost:8080/",
     "height": 153,
     "output_extras": [
      {
       "item_id": 43
      }
     ]
    },
    "colab_type": "code",
    "executionInfo": {
     "elapsed": 11578,
     "status": "ok",
     "timestamp": 1520944662652,
     "user": {
      "displayName": "Lượng Nguyễn",
      "photoUrl": "//lh4.googleusercontent.com/-0tk3vfJkdYg/AAAAAAAAAAI/AAAAAAAAAIU/xKDhDVByUns/s50-c-k-no/photo.jpg",
      "userId": "101670466780780394701"
     },
     "user_tz": -120
    },
    "id": "M6d0zrmilxKQ",
    "outputId": "20a30244-9d68-4930-95e0-7a9f677f1c9f"
   },
   "outputs": [
    {
     "name": "stdout",
     "output_type": "stream",
     "text": [
      "Downloading data from http://fashion-mnist.s3-website.eu-central-1.amazonaws.com/train-labels-idx1-ubyte.gz\n",
      "32768/29515 [=================================] - 0s 3us/step\n",
      "Downloading data from http://fashion-mnist.s3-website.eu-central-1.amazonaws.com/train-images-idx3-ubyte.gz\n",
      "26427392/26421880 [==============================] - 6s 0us/step\n",
      "Downloading data from http://fashion-mnist.s3-website.eu-central-1.amazonaws.com/t10k-labels-idx1-ubyte.gz\n",
      "8192/5148 [===============================================] - 0s 0us/step\n",
      "Downloading data from http://fashion-mnist.s3-website.eu-central-1.amazonaws.com/t10k-images-idx3-ubyte.gz\n",
      "4423680/4422102 [==============================] - 3s 1us/step\n"
     ]
    }
   ],
   "source": [
    "from keras.datasets import fashion_mnist\n",
    "\n",
    "(x_train, y_train), (x_test, y_test) = fashion_mnist.load_data()"
   ]
  },
  {
   "cell_type": "code",
   "execution_count": 4,
   "metadata": {
    "colab": {
     "autoexec": {
      "startup": false,
      "wait_interval": 0
     },
     "base_uri": "https://localhost:8080/",
     "height": 85,
     "output_extras": [
      {
       "item_id": 1
      }
     ]
    },
    "colab_type": "code",
    "executionInfo": {
     "elapsed": 561,
     "status": "ok",
     "timestamp": 1520944666576,
     "user": {
      "displayName": "Lượng Nguyễn",
      "photoUrl": "//lh4.googleusercontent.com/-0tk3vfJkdYg/AAAAAAAAAAI/AAAAAAAAAIU/xKDhDVByUns/s50-c-k-no/photo.jpg",
      "userId": "101670466780780394701"
     },
     "user_tz": -120
    },
    "id": "pAsOwEEVlxKS",
    "outputId": "e99b72a7-501f-4f72-ddfa-983fd5fb64a6"
   },
   "outputs": [
    {
     "name": "stdout",
     "output_type": "stream",
     "text": [
      "x_train shape: (60000, 28, 28)\n",
      "y_train shape: (60000,)\n",
      "x_test shape: (10000, 28, 28)\n",
      "y_test shape: (10000,)\n"
     ]
    }
   ],
   "source": [
    "print(\"x_train shape: %s\" % (str(x_train.shape)))\n",
    "print(\"y_train shape: %s\" % (str(y_train.shape)))\n",
    "print(\"x_test shape: %s\" % (str(x_test.shape)))\n",
    "print(\"y_test shape: %s\" % (str(y_test.shape)))"
   ]
  },
  {
   "cell_type": "code",
   "execution_count": 0,
   "metadata": {
    "colab": {
     "autoexec": {
      "startup": false,
      "wait_interval": 0
     }
    },
    "colab_type": "code",
    "id": "_kLYFML1lxKe"
   },
   "outputs": [],
   "source": [
    "# preprocess data\n",
    "x_train = x_train.reshape((60000, 28, 28, 1))\n",
    "x_train = x_train.astype('float32') / 255\n",
    "x_test = x_test.reshape((10000, 28, 28, 1))\n",
    "x_test = x_test.astype('float32') / 255\n",
    "\n",
    "# categorically encode the labels\n",
    "from keras.utils import to_categorical\n",
    "\n",
    "y_train = to_categorical(y_train)\n",
    "y_test = to_categorical(y_test)"
   ]
  },
  {
   "cell_type": "code",
   "execution_count": 6,
   "metadata": {
    "colab": {
     "autoexec": {
      "startup": false,
      "wait_interval": 0
     },
     "base_uri": "https://localhost:8080/",
     "height": 85,
     "output_extras": [
      {
       "item_id": 1
      }
     ]
    },
    "colab_type": "code",
    "executionInfo": {
     "elapsed": 466,
     "status": "ok",
     "timestamp": 1520944675521,
     "user": {
      "displayName": "Lượng Nguyễn",
      "photoUrl": "//lh4.googleusercontent.com/-0tk3vfJkdYg/AAAAAAAAAAI/AAAAAAAAAIU/xKDhDVByUns/s50-c-k-no/photo.jpg",
      "userId": "101670466780780394701"
     },
     "user_tz": -120
    },
    "id": "cXogGMD4lxKh",
    "outputId": "17f966b5-74b5-4162-cd23-6621b28314bc"
   },
   "outputs": [
    {
     "name": "stdout",
     "output_type": "stream",
     "text": [
      "x_train shape: (60000, 28, 28, 1)\n",
      "y_train shape: (60000, 10)\n",
      "x_test shape: (10000, 28, 28, 1)\n",
      "y_test shape: (10000, 10)\n"
     ]
    }
   ],
   "source": [
    "# Data shape after preprocessing\n",
    "print(\"x_train shape: %s\" % (str(x_train.shape)))\n",
    "print(\"y_train shape: %s\" % (str(y_train.shape)))\n",
    "print(\"x_test shape: %s\" % (str(x_test.shape)))\n",
    "print(\"y_test shape: %s\" % (str(y_test.shape)))"
   ]
  },
  {
   "cell_type": "markdown",
   "metadata": {
    "colab_type": "text",
    "id": "ZBWQuWt8Xfh5"
   },
   "source": [
    "## SeparableConv2D"
   ]
  },
  {
   "cell_type": "markdown",
   "metadata": {
    "colab_type": "text",
    "id": "hTM4EeOtZmzO"
   },
   "source": [
    "We reused the model from session 4 and changed Conv2D to SeparableConv2D. "
   ]
  },
  {
   "cell_type": "code",
   "execution_count": 15,
   "metadata": {
    "colab": {
     "autoexec": {
      "startup": false,
      "wait_interval": 0
     },
     "base_uri": "https://localhost:8080/",
     "height": 374,
     "output_extras": [
      {
       "item_id": 1
      }
     ]
    },
    "colab_type": "code",
    "executionInfo": {
     "elapsed": 528,
     "status": "ok",
     "timestamp": 1520945562645,
     "user": {
      "displayName": "Lượng Nguyễn",
      "photoUrl": "//lh4.googleusercontent.com/-0tk3vfJkdYg/AAAAAAAAAAI/AAAAAAAAAIU/xKDhDVByUns/s50-c-k-no/photo.jpg",
      "userId": "101670466780780394701"
     },
     "user_tz": -120
    },
    "id": "UfGwC6F9Xr6x",
    "outputId": "8dfe88d4-2287-46a7-862f-f6a954562f07"
   },
   "outputs": [
    {
     "name": "stdout",
     "output_type": "stream",
     "text": [
      "_________________________________________________________________\n",
      "Layer (type)                 Output Shape              Param #   \n",
      "=================================================================\n",
      "separable_conv2d_7 (Separabl (None, 26, 26, 32)        73        \n",
      "_________________________________________________________________\n",
      "max_pooling2d_7 (MaxPooling2 (None, 13, 13, 32)        0         \n",
      "_________________________________________________________________\n",
      "separable_conv2d_8 (Separabl (None, 11, 11, 64)        2400      \n",
      "_________________________________________________________________\n",
      "max_pooling2d_8 (MaxPooling2 (None, 5, 5, 64)          0         \n",
      "_________________________________________________________________\n",
      "flatten_4 (Flatten)          (None, 1600)              0         \n",
      "_________________________________________________________________\n",
      "dense_7 (Dense)              (None, 800)               1280800   \n",
      "_________________________________________________________________\n",
      "dense_8 (Dense)              (None, 10)                8010      \n",
      "=================================================================\n",
      "Total params: 1,291,283\n",
      "Trainable params: 1,291,283\n",
      "Non-trainable params: 0\n",
      "_________________________________________________________________\n"
     ]
    }
   ],
   "source": [
    "model = models.Sequential()\n",
    "\n",
    "model.add(layers.SeparableConv2D(32, 3, activation='relu', input_shape=(28, 28, 1)))\n",
    "model.add(layers.MaxPooling2D(2))\n",
    "model.add(layers.SeparableConv2D(64, 3, activation='relu'))\n",
    "model.add(layers.MaxPooling2D(2))\n",
    "\n",
    "model.add(layers.Flatten())\n",
    "model.add(layers.Dense(800, activation='relu'))\n",
    "model.add(layers.Dense(10, activation='softmax'))\n",
    "model.summary()"
   ]
  },
  {
   "cell_type": "code",
   "execution_count": 16,
   "metadata": {
    "colab": {
     "autoexec": {
      "startup": false,
      "wait_interval": 0
     },
     "base_uri": "https://localhost:8080/",
     "height": 544,
     "output_extras": [
      {
       "item_id": 68
      },
      {
       "item_id": 113
      },
      {
       "item_id": 168
      },
      {
       "item_id": 215
      },
      {
       "item_id": 272
      },
      {
       "item_id": 313
      },
      {
       "item_id": 379
      },
      {
       "item_id": 383
      }
     ]
    },
    "colab_type": "code",
    "executionInfo": {
     "elapsed": 170831,
     "status": "ok",
     "timestamp": 1520945742990,
     "user": {
      "displayName": "Lượng Nguyễn",
      "photoUrl": "//lh4.googleusercontent.com/-0tk3vfJkdYg/AAAAAAAAAAI/AAAAAAAAAIU/xKDhDVByUns/s50-c-k-no/photo.jpg",
      "userId": "101670466780780394701"
     },
     "user_tz": -120
    },
    "id": "5pzfjVuUX74P",
    "outputId": "edbd2083-1cb5-47c5-c7d2-e25615f4eabe"
   },
   "outputs": [
    {
     "name": "stdout",
     "output_type": "stream",
     "text": [
      "Train on 60000 samples, validate on 10000 samples\n",
      "Epoch 1/15\n",
      "60000/60000 [==============================] - 12s 194us/step - loss: 0.5468 - acc: 0.7996 - val_loss: 0.4270 - val_acc: 0.8400\n",
      "Epoch 2/15\n",
      "60000/60000 [==============================] - 11s 188us/step - loss: 0.3672 - acc: 0.8639 - val_loss: 0.3803 - val_acc: 0.8585\n",
      "Epoch 3/15\n",
      "12672/60000 [=====>........................] - ETA: 8s - loss: 0.3259 - acc: 0.879260000/60000 [==============================] - 11s 188us/step - loss: 0.3206 - acc: 0.8806 - val_loss: 0.4075 - val_acc: 0.8520\n",
      "Epoch 4/15\n",
      "60000/60000 [==============================] - 11s 189us/step - loss: 0.2909 - acc: 0.8926 - val_loss: 0.3353 - val_acc: 0.8787\n",
      "Epoch 5/15\n",
      "37696/60000 [=================>............] - ETA: 4s - loss: 0.2672 - acc: 0.900560000/60000 [==============================] - 11s 189us/step - loss: 0.2683 - acc: 0.9001 - val_loss: 0.3431 - val_acc: 0.8787\n",
      "Epoch 6/15\n",
      "60000/60000 [==============================] - 11s 189us/step - loss: 0.2502 - acc: 0.9081 - val_loss: 0.3339 - val_acc: 0.8834\n",
      "Epoch 7/15\n",
      "43968/60000 [====================>.........] - ETA: 2s - loss: 0.2327 - acc: 0.913360000/60000 [==============================] - 11s 189us/step - loss: 0.2363 - acc: 0.9128 - val_loss: 0.3053 - val_acc: 0.8926\n",
      "Epoch 8/15\n",
      "60000/60000 [==============================] - 11s 188us/step - loss: 0.2234 - acc: 0.9178 - val_loss: 0.3192 - val_acc: 0.8874\n",
      "Epoch 9/15\n",
      "45184/60000 [=====================>........] - ETA: 2s - loss: 0.2126 - acc: 0.921760000/60000 [==============================] - 11s 189us/step - loss: 0.2135 - acc: 0.9213 - val_loss: 0.3324 - val_acc: 0.8826\n",
      "Epoch 10/15\n",
      "60000/60000 [==============================] - 11s 188us/step - loss: 0.2070 - acc: 0.9238 - val_loss: 0.3605 - val_acc: 0.8818\n",
      "Epoch 11/15\n",
      "45248/60000 [=====================>........] - ETA: 2s - loss: 0.1960 - acc: 0.928160000/60000 [==============================] - 11s 187us/step - loss: 0.1997 - acc: 0.9263 - val_loss: 0.3381 - val_acc: 0.8868\n",
      "Epoch 12/15\n",
      "60000/60000 [==============================] - 11s 188us/step - loss: 0.1945 - acc: 0.9292 - val_loss: 0.3394 - val_acc: 0.8974\n",
      "Epoch 13/15\n",
      "45440/60000 [=====================>........] - ETA: 2s - loss: 0.1874 - acc: 0.932760000/60000 [==============================] - 11s 188us/step - loss: 0.1895 - acc: 0.9312 - val_loss: 0.4178 - val_acc: 0.8652\n",
      "Epoch 14/15\n",
      "60000/60000 [==============================] - 11s 187us/step - loss: 0.1842 - acc: 0.9318 - val_loss: 0.3872 - val_acc: 0.8909\n",
      "Epoch 15/15\n",
      "45824/60000 [=====================>........] - ETA: 2s - loss: 0.1797 - acc: 0.934660000/60000 [==============================] - 11s 189us/step - loss: 0.1836 - acc: 0.9333 - val_loss: 0.3616 - val_acc: 0.8945\n"
     ]
    }
   ],
   "source": [
    "model.compile(optimizer='rmsprop',\n",
    "              loss='categorical_crossentropy',\n",
    "              metrics=['accuracy'])\n",
    "hist = model.fit(x_train, y_train, epochs=15, batch_size=64, validation_data=(x_test,y_test))"
   ]
  },
  {
   "cell_type": "code",
   "execution_count": 17,
   "metadata": {
    "colab": {
     "autoexec": {
      "startup": false,
      "wait_interval": 0
     },
     "base_uri": "https://localhost:8080/",
     "height": 735,
     "output_extras": [
      {
       "item_id": 1
      },
      {
       "item_id": 2
      }
     ]
    },
    "colab_type": "code",
    "executionInfo": {
     "elapsed": 1037,
     "status": "ok",
     "timestamp": 1520945758095,
     "user": {
      "displayName": "Lượng Nguyễn",
      "photoUrl": "//lh4.googleusercontent.com/-0tk3vfJkdYg/AAAAAAAAAAI/AAAAAAAAAIU/xKDhDVByUns/s50-c-k-no/photo.jpg",
      "userId": "101670466780780394701"
     },
     "user_tz": -120
    },
    "id": "mq9eRyQ4YARI",
    "outputId": "23b8704a-3b33-4ada-fe77-78ad04c1d25b"
   },
   "outputs": [
    {
     "data": {
      "image/png": "[encoded data removed]",
      "text/plain": [
       "<matplotlib.figure.Figure at 0x7ff61e3e87f0>"
      ]
     },
     "metadata": {
      "tags": []
     },
     "output_type": "display_data"
    },
    {
     "data": {
      "image/png": "[encoded data removed]",
      "text/plain": [
       "<matplotlib.figure.Figure at 0x7ff61e82a0b8>"
      ]
     },
     "metadata": {
      "tags": []
     },
     "output_type": "display_data"
    }
   ],
   "source": [
    "loss = hist.history['loss']\n",
    "val_loss = hist.history['val_loss']\n",
    "epochs = range(1, len(loss) + 1)\n",
    "\n",
    "plt.figure()\n",
    "plt.plot(epochs, loss, 'bo', label='Training loss')\n",
    "plt.plot(epochs, val_loss, 'b', label='Validation loss')\n",
    "plt.xlabel('Epochs')\n",
    "plt.ylabel('Loss')\n",
    "plt.title('Training and validation loss')\n",
    "plt.legend()\n",
    "plt.show()\n",
    "\n",
    "acc = hist.history['acc']\n",
    "val_acc = hist.history['val_acc']\n",
    "\n",
    "plt.plot(epochs, acc, 'bo', label='Training acc')\n",
    "plt.plot(epochs, val_acc, 'b', label='Validation acc')\n",
    "plt.title('Training and validation accuracy')\n",
    "plt.xlabel('Epochs')\n",
    "plt.ylabel('Acc')\n",
    "plt.legend()\n",
    "plt.show()"
   ]
  },
  {
   "cell_type": "markdown",
   "metadata": {
    "colab_type": "text",
    "id": "QQ9Kowr1Y18F"
   },
   "source": [
    "Even though this model is lighter (fewer parameters), it took more than 11s to train an epoch whereas the convnet model from session only took about 10s. Also, it only achieved an accuracy of 89%, compared to 91% of the convnet model."
   ]
  }
 ],
 "metadata": {
  "accelerator": "GPU",
  "colab": {
   "collapsed_sections": [],
   "default_view": {},
   "name": "Session07-depth-wise-separable-convolution.ipynb",
   "provenance": [],
   "version": "0.3.2",
   "views": {}
  },
  "kernelspec": {
   "display_name": "Python 3",
   "language": "python",
   "name": "python3"
  },
  "language_info": {
   "codemirror_mode": {
    "name": "ipython",
    "version": 3
   },
   "file_extension": ".py",
   "mimetype": "text/x-python",
   "name": "python",
   "nbconvert_exporter": "python",
   "pygments_lexer": "ipython3",
   "version": "3.5.4"
  }
 },
 "nbformat": 4,
 "nbformat_minor": 1
}
