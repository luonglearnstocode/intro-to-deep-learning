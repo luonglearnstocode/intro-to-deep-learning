{
 "cells": [
  {
   "cell_type": "markdown",
   "metadata": {},
   "source": [
    "Name: **Luong Nguyen**  \n",
    "Student ID: **1504210**  "
   ]
  },
  {
   "cell_type": "markdown",
   "metadata": {},
   "source": [
    "# Introduction to Deep Learning \n",
    "\n",
    "## Session07: hyperparameter optimization\n",
    "____\n",
    "We will attempt using Hyperas on the fashion-MNIST dataset to get the optimized number of layers, layer output sizes, optimization algorithms, dropout values. "
   ]
  },
  {
   "cell_type": "markdown",
   "metadata": {},
   "source": [
    "## Import packages"
   ]
  },
  {
   "cell_type": "code",
   "execution_count": 1,
   "metadata": {},
   "outputs": [
    {
     "name": "stderr",
     "output_type": "stream",
     "text": [
      "c:\\users\\lwown\\anaconda3\\envs\\tensorflow\\lib\\site-packages\\h5py\\__init__.py:36: FutureWarning: Conversion of the second argument of issubdtype from `float` to `np.floating` is deprecated. In future, it will be treated as `np.float64 == np.dtype(float).type`.\n",
      "  from ._conv import register_converters as _register_converters\n",
      "Using TensorFlow backend.\n"
     ]
    }
   ],
   "source": [
    "from __future__ import print_function\n",
    "\n",
    "from hyperopt import Trials, STATUS_OK, tpe\n",
    "from keras.datasets import fashion_mnist\n",
    "from keras.layers.core import Dense, Dropout, Activation\n",
    "from keras.models import Sequential\n",
    "from keras.utils import np_utils\n",
    "\n",
    "from hyperas import optim\n",
    "from hyperas.distributions import choice, uniform, conditional"
   ]
  },
  {
   "cell_type": "markdown",
   "metadata": {},
   "source": [
    "##  Generate data"
   ]
  },
  {
   "cell_type": "code",
   "execution_count": 2,
   "metadata": {},
   "outputs": [],
   "source": [
    "def data():\n",
    "    (x_train, y_train), (x_test, y_test) = fashion_mnist.load_data()\n",
    "    # unroll image into a vector\n",
    "    x_train = x_train.reshape(-1, 28 * 28)\n",
    "    x_test = x_test.reshape(-1, 28 * 28)\n",
    "    # scaling all values into [0, 1]\n",
    "    x_train = x_train.astype('float32') / 255\n",
    "    x_test = x_test.astype('float32') / 255\n",
    "    \n",
    "    nb_classes = 10\n",
    "    y_train = np_utils.to_categorical(y_train, nb_classes)\n",
    "    y_test = np_utils.to_categorical(y_test, nb_classes)\n",
    "    return x_train, y_train, x_test, y_test"
   ]
  },
  {
   "cell_type": "markdown",
   "metadata": {},
   "source": [
    "## Create model"
   ]
  },
  {
   "cell_type": "code",
   "execution_count": 3,
   "metadata": {},
   "outputs": [],
   "source": [
    "def create_model(x_train, y_train, x_test, y_test):\n",
    "    model = Sequential()\n",
    "    model.add(Dense({{choice([128, 256, 512])}}, input_shape=(784,))) # layer output sizes\n",
    "    model.add(Activation('relu'))\n",
    "    model.add(Dropout({{uniform(0, 1)}})) # dropout probabilities\n",
    "    model.add(Dense({{choice([128, 256, 512])}}))\n",
    "    model.add(Activation('relu'))\n",
    "    model.add(Dropout({{uniform(0, 1)}}))\n",
    "\n",
    "    # number of layers\n",
    "    if conditional({{choice(['three', 'four'])}}) == 'four':\n",
    "        model.add(Dense(100))\n",
    "        model.add(Activation('relu'))\n",
    "\n",
    "    model.add(Dense(10))\n",
    "    model.add(Activation('softmax'))\n",
    "\n",
    "    model.compile(loss='categorical_crossentropy', metrics=['accuracy'],\n",
    "                  optimizer={{choice(['rmsprop', 'adam', 'sgd'])}}) # optimization algorithsm\n",
    "\n",
    "    model.fit(x_train, y_train,\n",
    "              batch_size={{choice([64, 128])}},\n",
    "              epochs=1,\n",
    "              verbose=2,\n",
    "              validation_data=(x_test, y_test))\n",
    "    score, acc = model.evaluate(x_test, y_test, verbose=0)\n",
    "    print('Test accuracy:', acc)\n",
    "    return {'loss': -acc, 'status': STATUS_OK, 'model': model}"
   ]
  },
  {
   "cell_type": "markdown",
   "metadata": {},
   "source": [
    "## Run the optimization"
   ]
  },
  {
   "cell_type": "code",
   "execution_count": 4,
   "metadata": {},
   "outputs": [
    {
     "name": "stdout",
     "output_type": "stream",
     "text": [
      ">>> Imports:\n",
      "#coding=utf-8\n",
      "\n",
      "from __future__ import print_function\n",
      "\n",
      "try:\n",
      "    from hyperopt import Trials, STATUS_OK, tpe\n",
      "except:\n",
      "    pass\n",
      "\n",
      "try:\n",
      "    from keras.datasets import fashion_mnist\n",
      "except:\n",
      "    pass\n",
      "\n",
      "try:\n",
      "    from keras.layers.core import Dense, Dropout, Activation\n",
      "except:\n",
      "    pass\n",
      "\n",
      "try:\n",
      "    from keras.models import Sequential\n",
      "except:\n",
      "    pass\n",
      "\n",
      "try:\n",
      "    from keras.utils import np_utils\n",
      "except:\n",
      "    pass\n",
      "\n",
      "try:\n",
      "    from hyperas import optim\n",
      "except:\n",
      "    pass\n",
      "\n",
      "try:\n",
      "    from hyperas.distributions import choice, uniform, conditional\n",
      "except:\n",
      "    pass\n",
      "\n",
      ">>> Hyperas search space:\n",
      "\n",
      "def get_space():\n",
      "    return {\n",
      "        'Dense': hp.choice('Dense', [128, 256, 512]),\n",
      "        'Dropout': hp.uniform('Dropout', 0, 1),\n",
      "        'Dense_1': hp.choice('Dense_1', [128, 256, 512]),\n",
      "        'Dropout_1': hp.uniform('Dropout_1', 0, 1),\n",
      "        'conditional': hp.choice('conditional', ['three', 'four']),\n",
      "        'optimizer': hp.choice('optimizer', ['rmsprop', 'adam', 'sgd']),\n",
      "        'batch_size': hp.choice('batch_size', [64, 128]),\n",
      "    }\n",
      "\n",
      ">>> Data\n",
      "  1: \n",
      "  2: (x_train, y_train), (x_test, y_test) = fashion_mnist.load_data()\n",
      "  3: # unroll image into a vector\n",
      "  4: x_train = x_train.reshape(-1, 28 * 28)\n",
      "  5: x_test = x_test.reshape(-1, 28 * 28)\n",
      "  6: # scaling all values into [0, 1]\n",
      "  7: x_train = x_train.astype('float32') / 255\n",
      "  8: x_test = x_test.astype('float32') / 255\n",
      "  9: \n",
      " 10: nb_classes = 10\n",
      " 11: y_train = np_utils.to_categorical(y_train, nb_classes)\n",
      " 12: y_test = np_utils.to_categorical(y_test, nb_classes)\n",
      " 13: \n",
      " 14: \n",
      " 15: \n",
      ">>> Resulting replaced keras model:\n",
      "\n",
      "   1: def keras_fmin_fnct(space):\n",
      "   2: \n",
      "   3:     model = Sequential()\n",
      "   4:     model.add(Dense(space['Dense'], input_shape=(784,))) # layer output sizes\n",
      "   5:     model.add(Activation('relu'))\n",
      "   6:     model.add(Dropout(space['Dropout'])) # dropout probabilities\n",
      "   7:     model.add(Dense(space['Dense_1']))\n",
      "   8:     model.add(Activation('relu'))\n",
      "   9:     model.add(Dropout(space['Dropout_1']))\n",
      "  10: \n",
      "  11:     # number of layers\n",
      "  12:     if conditional(space['conditional']) == 'four':\n",
      "  13:         model.add(Dense(100))\n",
      "  14:         model.add(Activation('relu'))\n",
      "  15: \n",
      "  16:     model.add(Dense(10))\n",
      "  17:     model.add(Activation('softmax'))\n",
      "  18: \n",
      "  19:     model.compile(loss='categorical_crossentropy', metrics=['accuracy'],\n",
      "  20:                   optimizer=space['optimizer']) # optimization algorithsm\n",
      "  21: \n",
      "  22:     model.fit(x_train, y_train,\n",
      "  23:               batch_size=space['batch_size'],\n",
      "  24:               epochs=1,\n",
      "  25:               verbose=2,\n",
      "  26:               validation_data=(x_test, y_test))\n",
      "  27:     score, acc = model.evaluate(x_test, y_test, verbose=0)\n",
      "  28:     print('Test accuracy:', acc)\n",
      "  29:     return {'loss': -acc, 'status': STATUS_OK, 'model': model}\n",
      "  30: \n",
      "Train on 60000 samples, validate on 10000 samples\n",
      "Epoch 1/1\n",
      " - 12s - loss: 1.5129 - acc: 0.4376 - val_loss: 0.8390 - val_acc: 0.6793\n",
      "Test accuracy: 0.6793\n",
      "Train on 60000 samples, validate on 10000 samples\n",
      "Epoch 1/1\n",
      " - 14s - loss: 0.6321 - acc: 0.7729 - val_loss: 0.4566 - val_acc: 0.8310\n",
      "Test accuracy: 0.831\n",
      "Train on 60000 samples, validate on 10000 samples\n",
      "Epoch 1/1\n",
      " - 7s - loss: 0.7241 - acc: 0.7360 - val_loss: 0.4697 - val_acc: 0.8309\n",
      "Test accuracy: 0.8309\n",
      "Train on 60000 samples, validate on 10000 samples\n",
      "Epoch 1/1\n",
      " - 6s - loss: 0.9300 - acc: 0.6424 - val_loss: 0.5741 - val_acc: 0.8097\n",
      "Test accuracy: 0.8097\n",
      "Train on 60000 samples, validate on 10000 samples\n",
      "Epoch 1/1\n",
      " - 22s - loss: 0.6526 - acc: 0.7631 - val_loss: 0.5006 - val_acc: 0.8148\n",
      "Test accuracy: 0.8148\n",
      "Evalutation of best performing model:\n",
      "10000/10000 [==============================] - 1s 126us/step\n",
      "[0.4565820284128189, 0.831]\n",
      "Best performing model chosen hyper-parameters:\n",
      "{'Dropout_1': 0.42522861686845626, 'conditional': 0, 'optimizer': 0, 'Dropout': 0.5152808649614491, 'Dense': 2, 'batch_size': 1, 'Dense_1': 2}\n"
     ]
    }
   ],
   "source": [
    "best_run, best_model = optim.minimize(model=create_model,\n",
    "                                          data=data,\n",
    "                                          algo=tpe.suggest,\n",
    "                                          max_evals=5,\n",
    "                                          trials=Trials(), notebook_name='Session07-hyperparameter-optimization')\n",
    "X_train, Y_train, X_test, Y_test = data()\n",
    "print(\"Evalutation of best performing model:\")\n",
    "print(best_model.evaluate(X_test, Y_test))\n",
    "print(\"Best performing model chosen hyper-parameters:\")\n",
    "print(best_run)"
   ]
  },
  {
   "cell_type": "markdown",
   "metadata": {},
   "source": [
    "## Optimized model"
   ]
  },
  {
   "cell_type": "markdown",
   "metadata": {},
   "source": [
    "This model is based on the result above. We will train it on a separate notebook."
   ]
  },
  {
   "cell_type": "code",
   "execution_count": null,
   "metadata": {},
   "outputs": [],
   "source": [
    "\"\"\"\n",
    "model = models.Sequential()\n",
    "model.add(layers.Dense(512, input_shape=(784,), activation='relu')) # 'Dense': 2\n",
    "\n",
    "model.add(layers.Dropout(0.5152808649614491)) # 'Dropout': 0.5152808649614491\n",
    "\n",
    "model.add(layers.Dense(512, activation = 'relu')) # 'Dense_1': 2\n",
    "\n",
    "model.add(layers.Dropout(0.42522861686845626)) # 'Dropout_1': 0.42522861686845626\n",
    "\n",
    "# 'conditional': 0 => 'three'\n",
    "\n",
    "model.add(layers.Dense(10, activation='softmax'))\n",
    "\n",
    "model.compile(loss='categorical_crossentropy', metrics=['accuracy'],\n",
    "              optimizer='rmsprop') # 'optimizer': 0\n",
    "\n",
    "# 'batch_size': 1\n",
    "hist = model.fit(x_train, y_train,\n",
    "          batch_size=128, \n",
    "          epochs=20,\n",
    "          verbose=2,\n",
    "          validation_data=(x_test, y_test))\n",
    "\"\"\""
   ]
  }
 ],
 "metadata": {
  "kernelspec": {
   "display_name": "Python 3",
   "language": "python",
   "name": "python3"
  },
  "language_info": {
   "codemirror_mode": {
    "name": "ipython",
    "version": 3
   },
   "file_extension": ".py",
   "mimetype": "text/x-python",
   "name": "python",
   "nbconvert_exporter": "python",
   "pygments_lexer": "ipython3",
   "version": "3.5.4"
  }
 },
 "nbformat": 4,
 "nbformat_minor": 2
}
