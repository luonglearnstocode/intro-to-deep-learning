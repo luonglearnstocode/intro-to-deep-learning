{
  "nbformat": 4,
  "nbformat_minor": 0,
  "metadata": {
    "colab": {
      "name": "Session07-word-level-text-generation.ipynb",
      "version": "0.3.2",
      "views": {},
      "default_view": {},
      "provenance": [],
      "collapsed_sections": []
    },
    "kernelspec": {
      "name": "python3",
      "display_name": "Python 3"
    },
    "accelerator": "GPU"
  },
  "cells": [
    {
      "metadata": {
        "id": "FzbyA8YdlxJ_",
        "colab_type": "text"
      },
      "cell_type": "markdown",
      "source": [
        "Name: **Luong Nguyen**  \n",
        "Student ID: **1504210**  "
      ]
    },
    {
      "metadata": {
        "id": "WVWzTZnElxKC",
        "colab_type": "text"
      },
      "cell_type": "markdown",
      "source": [
        "# Introduction to Deep Learning \n",
        "\n",
        "## Session07: word-level text generation\n",
        "____\n",
        "Based on example code from Chollet's book chapter [8.1](https://github.com/fchollet/deep-learning-with-python-notebooks/blob/master/8.1-text-generation-with-lstm.ipynb)"
      ]
    },
    {
      "metadata": {
        "id": "5BnM8_iQlxKD",
        "colab_type": "text"
      },
      "cell_type": "markdown",
      "source": [
        "## Import the packages needed for this assignment"
      ]
    },
    {
      "metadata": {
        "id": "XCpvTWn2l4-d",
        "colab_type": "code",
        "colab": {
          "autoexec": {
            "startup": false,
            "wait_interval": 0
          },
          "output_extras": [
            {
              "item_id": 1
            }
          ],
          "base_uri": "https://localhost:8080/",
          "height": 34
        },
        "outputId": "099e179f-c098-4ba7-a908-b8c2e747934f",
        "executionInfo": {
          "status": "ok",
          "timestamp": 1521014256556,
          "user_tz": -120,
          "elapsed": 3247,
          "user": {
            "displayName": "Lượng Nguyễn",
            "photoUrl": "//lh4.googleusercontent.com/-0tk3vfJkdYg/AAAAAAAAAAI/AAAAAAAAAIU/xKDhDVByUns/s50-c-k-no/photo.jpg",
            "userId": "101670466780780394701"
          }
        }
      },
      "cell_type": "code",
      "source": [
        "# install keras on google colab\n",
        "!pip install -q keras\n",
        "# is GPU working?\n",
        "import tensorflow as tf\n",
        "tf.test.gpu_device_name()"
      ],
      "execution_count": 2,
      "outputs": [
        {
          "output_type": "execute_result",
          "data": {
            "text/plain": [
              "'/device:GPU:0'"
            ]
          },
          "metadata": {
            "tags": []
          },
          "execution_count": 2
        }
      ]
    },
    {
      "metadata": {
        "id": "DkZ1ZrAnlxKF",
        "colab_type": "code",
        "colab": {
          "autoexec": {
            "startup": false,
            "wait_interval": 0
          },
          "output_extras": [
            {
              "item_id": 1
            }
          ],
          "base_uri": "https://localhost:8080/",
          "height": 34
        },
        "outputId": "6ae4fbde-641a-4064-8fbe-ee53cc86f25a",
        "executionInfo": {
          "status": "ok",
          "timestamp": 1521014259230,
          "user_tz": -120,
          "elapsed": 573,
          "user": {
            "displayName": "Lượng Nguyễn",
            "photoUrl": "//lh4.googleusercontent.com/-0tk3vfJkdYg/AAAAAAAAAAI/AAAAAAAAAIU/xKDhDVByUns/s50-c-k-no/photo.jpg",
            "userId": "101670466780780394701"
          }
        }
      },
      "cell_type": "code",
      "source": [
        "# import packages\n",
        "import numpy as np\n",
        "import keras\n",
        "from keras import models, layers\n",
        "from keras.utils.np_utils import to_categorical"
      ],
      "execution_count": 3,
      "outputs": [
        {
          "output_type": "stream",
          "text": [
            "Using TensorFlow backend.\n"
          ],
          "name": "stderr"
        }
      ]
    },
    {
      "metadata": {
        "id": "ccPgfWd3_i_x",
        "colab_type": "text"
      },
      "cell_type": "markdown",
      "source": [
        "## Prepare data"
      ]
    },
    {
      "metadata": {
        "id": "xh-AiIQcfu2S",
        "colab_type": "text"
      },
      "cell_type": "markdown",
      "source": [
        "### Load data"
      ]
    },
    {
      "metadata": {
        "id": "ek9WC0nafy74",
        "colab_type": "text"
      },
      "cell_type": "markdown",
      "source": [
        "I downloaded 10 Metropolia Bsc theses written in English related to Web programming from Theseus, converted them to .txt, concat them into 1 .txt file."
      ]
    },
    {
      "metadata": {
        "id": "n12TD8XKz5PN",
        "colab_type": "code",
        "colab": {
          "autoexec": {
            "startup": false,
            "wait_interval": 0
          },
          "output_extras": [
            {
              "item_id": 1
            }
          ],
          "base_uri": "https://localhost:8080/",
          "height": 34
        },
        "outputId": "47005fc2-dbab-40fd-867a-f9e9b0d8147b",
        "executionInfo": {
          "status": "ok",
          "timestamp": 1521014262899,
          "user_tz": -120,
          "elapsed": 519,
          "user": {
            "displayName": "Lượng Nguyễn",
            "photoUrl": "//lh4.googleusercontent.com/-0tk3vfJkdYg/AAAAAAAAAAI/AAAAAAAAAIU/xKDhDVByUns/s50-c-k-no/photo.jpg",
            "userId": "101670466780780394701"
          }
        }
      },
      "cell_type": "code",
      "source": [
        "path = keras.utils.get_file(\n",
        "    'text.txt',\n",
        "    origin='http://users.metropolia.fi/~luongn/text.txt')\n",
        "text = open(path).read().lower()\n",
        "print('Corpus length:', len(text))"
      ],
      "execution_count": 4,
      "outputs": [
        {
          "output_type": "stream",
          "text": [
            "Corpus length: 656120\n"
          ],
          "name": "stdout"
        }
      ]
    },
    {
      "metadata": {
        "id": "1zJiEc6nhIrg",
        "colab_type": "text"
      },
      "cell_type": "markdown",
      "source": [
        "A look at `text`"
      ]
    },
    {
      "metadata": {
        "id": "qhojxysP98jZ",
        "colab_type": "code",
        "colab": {
          "autoexec": {
            "startup": false,
            "wait_interval": 0
          },
          "output_extras": [
            {
              "item_id": 1
            }
          ],
          "base_uri": "https://localhost:8080/",
          "height": 34
        },
        "outputId": "ce12725e-334f-4016-e2dd-95030c5abd1b",
        "executionInfo": {
          "status": "ok",
          "timestamp": 1521013559709,
          "user_tz": -120,
          "elapsed": 549,
          "user": {
            "displayName": "Lượng Nguyễn",
            "photoUrl": "//lh4.googleusercontent.com/-0tk3vfJkdYg/AAAAAAAAAAI/AAAAAAAAAIU/xKDhDVByUns/s50-c-k-no/photo.jpg",
            "userId": "101670466780780394701"
          }
        }
      },
      "cell_type": "code",
      "source": [
        "text[:100]"
      ],
      "execution_count": 44,
      "outputs": [
        {
          "output_type": "execute_result",
          "data": {
            "text/plain": [
              "'befekadu mezgebu temere\\n\\nresponsive web application using bootstrap\\nand foundation\\ncomparing bootstr'"
            ]
          },
          "metadata": {
            "tags": []
          },
          "execution_count": 44
        }
      ]
    },
    {
      "metadata": {
        "id": "l0R4ajZwhq8F",
        "colab_type": "text"
      },
      "cell_type": "markdown",
      "source": [
        "### Preprocess data"
      ]
    },
    {
      "metadata": {
        "id": "RolMcEcahMM6",
        "colab_type": "text"
      },
      "cell_type": "markdown",
      "source": [
        "Replace non-alphanumeric characters with whitespaces, then `split()` to get `words` array."
      ]
    },
    {
      "metadata": {
        "id": "ljkdzn9-XdJG",
        "colab_type": "code",
        "colab": {
          "autoexec": {
            "startup": false,
            "wait_interval": 0
          },
          "output_extras": [
            {
              "item_id": 1
            }
          ],
          "base_uri": "https://localhost:8080/",
          "height": 187
        },
        "outputId": "63aeaf54-c0f0-4c77-ce2e-37711d8a006b",
        "executionInfo": {
          "status": "ok",
          "timestamp": 1521014424436,
          "user_tz": -120,
          "elapsed": 686,
          "user": {
            "displayName": "Lượng Nguyễn",
            "photoUrl": "//lh4.googleusercontent.com/-0tk3vfJkdYg/AAAAAAAAAAI/AAAAAAAAAIU/xKDhDVByUns/s50-c-k-no/photo.jpg",
            "userId": "101670466780780394701"
          }
        }
      },
      "cell_type": "code",
      "source": [
        "import re\n",
        "text = re.sub(r'\\W+', ' ', text)\n",
        "\n",
        "words = text.split()\n",
        "words[:10]"
      ],
      "execution_count": 5,
      "outputs": [
        {
          "output_type": "execute_result",
          "data": {
            "text/plain": [
              "['befekadu',\n",
              " 'mezgebu',\n",
              " 'temere',\n",
              " 'responsive',\n",
              " 'web',\n",
              " 'application',\n",
              " 'using',\n",
              " 'bootstrap',\n",
              " 'and',\n",
              " 'foundation']"
            ]
          },
          "metadata": {
            "tags": []
          },
          "execution_count": 5
        }
      ]
    },
    {
      "metadata": {
        "id": "R7QE4iKBR7KF",
        "colab_type": "code",
        "colab": {
          "autoexec": {
            "startup": false,
            "wait_interval": 0
          },
          "output_extras": [
            {
              "item_id": 3
            }
          ],
          "base_uri": "https://localhost:8080/",
          "height": 102
        },
        "outputId": "e97c3a20-e709-42c2-965f-909c39a6875b",
        "executionInfo": {
          "status": "ok",
          "timestamp": 1521014723670,
          "user_tz": -120,
          "elapsed": 2451,
          "user": {
            "displayName": "Lượng Nguyễn",
            "photoUrl": "//lh4.googleusercontent.com/-0tk3vfJkdYg/AAAAAAAAAAI/AAAAAAAAAIU/xKDhDVByUns/s50-c-k-no/photo.jpg",
            "userId": "101670466780780394701"
          }
        }
      },
      "cell_type": "code",
      "source": [
        "# Length of extracted word sequences\n",
        "maxlen = 10\n",
        "\n",
        "# We sample a new sequence every `step` word\n",
        "step = 3\n",
        "\n",
        "# This holds our extracted sequences\n",
        "sentences = []\n",
        "\n",
        "# This holds the targets (the follow-up words)\n",
        "next_words = []\n",
        "\n",
        "for i in range(0, len(words) - maxlen, step):\n",
        "    sentences.append(words[i: i + maxlen])\n",
        "    next_words.append(words[i + maxlen])\n",
        "print('Number of sequences:', len(sentences))\n",
        "\n",
        "\n",
        "# List of unique words in the corpus\n",
        "unique_words = sorted(list(set(words)))\n",
        "print('Unique words:', len(unique_words))\n",
        "# Dictionary mapping unique words to their index in `unique_words`\n",
        "word_indices = dict((word, unique_words.index(word)) for word in unique_words)\n",
        "\n",
        "# Next, one-hot encode the words into binary arrays.\n",
        "print('Vectorization...')\n",
        "x = np.zeros((len(sentences), maxlen, len(unique_words)), dtype=np.bool)\n",
        "y = np.zeros((len(sentences), len(unique_words)), dtype=np.bool)\n",
        "for i, sentence in enumerate(sentences):\n",
        "    for t, word in enumerate(sentence):\n",
        "        x[i, t, word_indices[word]] = 1\n",
        "    y[i, word_indices[next_words[i]]] = 1\n",
        "    \n",
        "print(\"x shape: %s\" % (str(x.shape)))\n",
        "print(\"y shape: %s\" % (str(y.shape)))"
      ],
      "execution_count": 6,
      "outputs": [
        {
          "output_type": "stream",
          "text": [
            "Number of sequences: 35451\n",
            "Unique words: 6679\n",
            "Vectorization...\n",
            "x shape: (35451, 10, 6679)\n",
            "y shape: (35451, 6679)\n"
          ],
          "name": "stdout"
        }
      ]
    },
    {
      "metadata": {
        "id": "FDaqPITdh5rD",
        "colab_type": "text"
      },
      "cell_type": "markdown",
      "source": [
        "## Build network"
      ]
    },
    {
      "metadata": {
        "id": "t6ktsupy15zb",
        "colab_type": "code",
        "colab": {
          "autoexec": {
            "startup": false,
            "wait_interval": 0
          },
          "output_extras": [
            {
              "item_id": 1
            }
          ],
          "base_uri": "https://localhost:8080/",
          "height": 204
        },
        "outputId": "1367458e-959d-4422-b7f8-2c5c116a41ef",
        "executionInfo": {
          "status": "ok",
          "timestamp": 1521014727317,
          "user_tz": -120,
          "elapsed": 830,
          "user": {
            "displayName": "Lượng Nguyễn",
            "photoUrl": "//lh4.googleusercontent.com/-0tk3vfJkdYg/AAAAAAAAAAI/AAAAAAAAAIU/xKDhDVByUns/s50-c-k-no/photo.jpg",
            "userId": "101670466780780394701"
          }
        }
      },
      "cell_type": "code",
      "source": [
        "model = models.Sequential()\n",
        "model.add(layers.LSTM(128, input_shape=(maxlen, len(unique_words))))\n",
        "model.add(layers.Dense(len(unique_words), activation='softmax'))\n",
        "optimizer = keras.optimizers.RMSprop(lr=0.01)\n",
        "model.compile(loss='categorical_crossentropy', optimizer=optimizer)\n",
        "model.summary()"
      ],
      "execution_count": 7,
      "outputs": [
        {
          "output_type": "stream",
          "text": [
            "_________________________________________________________________\n",
            "Layer (type)                 Output Shape              Param #   \n",
            "=================================================================\n",
            "lstm_1 (LSTM)                (None, 128)               3485696   \n",
            "_________________________________________________________________\n",
            "dense_1 (Dense)              (None, 6679)              861591    \n",
            "=================================================================\n",
            "Total params: 4,347,287\n",
            "Trainable params: 4,347,287\n",
            "Non-trainable params: 0\n",
            "_________________________________________________________________\n"
          ],
          "name": "stdout"
        }
      ]
    },
    {
      "metadata": {
        "id": "euw6O8-piQ_o",
        "colab_type": "text"
      },
      "cell_type": "markdown",
      "source": [
        "## Train model and sample"
      ]
    },
    {
      "metadata": {
        "id": "xxrKP394id97",
        "colab_type": "text"
      },
      "cell_type": "markdown",
      "source": [
        "Reweight the original probability distribution coming out of the model, and draw a word index from it "
      ]
    },
    {
      "metadata": {
        "id": "sqU61xZ5arxb",
        "colab_type": "code",
        "colab": {
          "autoexec": {
            "startup": false,
            "wait_interval": 0
          }
        }
      },
      "cell_type": "code",
      "source": [
        "def sample(preds, temperature=1.0):\n",
        "    preds = np.asarray(preds).astype('float64')\n",
        "    preds = np.log(preds) / temperature\n",
        "    exp_preds = np.exp(preds)\n",
        "    preds = exp_preds / np.sum(exp_preds)\n",
        "    probas = np.random.multinomial(1, preds, 1)\n",
        "    return np.argmax(probas)"
      ],
      "execution_count": 0,
      "outputs": []
    },
    {
      "metadata": {
        "id": "lLWvHTb_inmN",
        "colab_type": "text"
      },
      "cell_type": "markdown",
      "source": [
        "Repeatedly train and generate text"
      ]
    },
    {
      "metadata": {
        "id": "2PCK9HzTayKE",
        "colab_type": "code",
        "colab": {
          "autoexec": {
            "startup": false,
            "wait_interval": 0
          },
          "output_extras": [
            {
              "item_id": 90
            },
            {
              "item_id": 145
            },
            {
              "item_id": 183
            },
            {
              "item_id": 247
            },
            {
              "item_id": 275
            },
            {
              "item_id": 361
            },
            {
              "item_id": 367
            },
            {
              "item_id": 454
            },
            {
              "item_id": 517
            },
            {
              "item_id": 544
            },
            {
              "item_id": 629
            },
            {
              "item_id": 636
            },
            {
              "item_id": 722
            },
            {
              "item_id": 764
            },
            {
              "item_id": 810
            },
            {
              "item_id": 892
            },
            {
              "item_id": 897
            },
            {
              "item_id": 920
            },
            {
              "item_id": 922
            },
            {
              "item_id": 945
            },
            {
              "item_id": 952
            },
            {
              "item_id": 1022
            },
            {
              "item_id": 1088
            },
            {
              "item_id": 1108
            },
            {
              "item_id": 1189
            },
            {
              "item_id": 1199
            },
            {
              "item_id": 1276
            },
            {
              "item_id": 1333
            },
            {
              "item_id": 1361
            },
            {
              "item_id": 1439
            },
            {
              "item_id": 1449
            },
            {
              "item_id": 1525
            },
            {
              "item_id": 1571
            },
            {
              "item_id": 1608
            },
            {
              "item_id": 1661
            },
            {
              "item_id": 1691
            },
            {
              "item_id": 1768
            },
            {
              "item_id": 1778
            },
            {
              "item_id": 1851
            },
            {
              "item_id": 1909
            },
            {
              "item_id": 1933
            },
            {
              "item_id": 2008
            },
            {
              "item_id": 2014
            },
            {
              "item_id": 2090
            },
            {
              "item_id": 2147
            },
            {
              "item_id": 2169
            },
            {
              "item_id": 2244
            },
            {
              "item_id": 2262
            },
            {
              "item_id": 2324
            },
            {
              "item_id": 2398
            },
            {
              "item_id": 2407
            },
            {
              "item_id": 2441
            },
            {
              "item_id": 2479
            },
            {
              "item_id": 2497
            },
            {
              "item_id": 2570
            },
            {
              "item_id": 2578
            },
            {
              "item_id": 2621
            },
            {
              "item_id": 2680
            },
            {
              "item_id": 2697
            },
            {
              "item_id": 2768
            },
            {
              "item_id": 2775
            },
            {
              "item_id": 2846
            },
            {
              "item_id": 2899
            },
            {
              "item_id": 2921
            },
            {
              "item_id": 2992
            },
            {
              "item_id": 2996
            }
          ],
          "base_uri": "https://localhost:8080/",
          "height": 7993
        },
        "outputId": "43da683f-7474-4a26-9f6d-0c788ff91e96",
        "executionInfo": {
          "status": "ok",
          "timestamp": 1521015855196,
          "user_tz": -120,
          "elapsed": 895012,
          "user": {
            "displayName": "Lượng Nguyễn",
            "photoUrl": "//lh4.googleusercontent.com/-0tk3vfJkdYg/AAAAAAAAAAI/AAAAAAAAAIU/xKDhDVByUns/s50-c-k-no/photo.jpg",
            "userId": "101670466780780394701"
          }
        }
      },
      "cell_type": "code",
      "source": [
        "import random\n",
        "import sys\n",
        "\n",
        "for epoch in range(1, 40):\n",
        "    print('epoch', epoch)\n",
        "    # Fit the model for 1 epoch on the available training data\n",
        "    model.fit(x, y,\n",
        "              batch_size=128,\n",
        "              epochs=1)\n",
        "\n",
        "    # Select a text seed at random\n",
        "    start_index = random.randint(0, len(words) - maxlen - 1)\n",
        "    generated_text = words[start_index: start_index + maxlen]\n",
        "    generated_text_str = ' '.join(generated_text)\n",
        "    print('--- Generating with seed: \"' + generated_text_str + '\"')\n",
        "\n",
        "    for temperature in [0.2, 0.5, 1.0, 1.2]:\n",
        "        print('------ temperature:', temperature)\n",
        "        sys.stdout.write(generated_text_str + \" \")\n",
        "\n",
        "        # We generate 40 words\n",
        "        for i in range(40):\n",
        "            sampled = np.zeros((1, maxlen, len(unique_words)))\n",
        "            for t, word in enumerate(generated_text):\n",
        "                sampled[0, t, word_indices[word]] = 1.\n",
        "\n",
        "            preds = model.predict(sampled, verbose=0)[0]\n",
        "            next_index = sample(preds, temperature)\n",
        "            next_word = words[next_index]\n",
        "\n",
        "            generated_text.append(next_word)\n",
        "            generated_text = generated_text[1:]\n",
        "\n",
        "            sys.stdout.write(next_word + \" \")\n",
        "            sys.stdout.flush()\n",
        "        print()"
      ],
      "execution_count": 10,
      "outputs": [
        {
          "output_type": "stream",
          "text": [
            "epoch 1\n",
            "Epoch 1/1\n",
            "35451/35451 [==============================] - 22s 607us/step - loss: 4.0301\n",
            "--- Generating with seed: \"this section is handled by the dashboard component which is\"\n",
            "------ temperature: 0.2\n",
            "this section is handled by the dashboard component which is language in external speed 1 paper frontend simplifies external got including 1 paper frontend simplifies external that external 1 is the that website 1 paper 1 1 paper plugins external 1 paper 1 popular frontend got external simplifies external got \n",
            "------ temperature: 0.5\n",
            "this section is handled by the dashboard component which is 1 paper simplifies in external that 1 speed 1 paper resource pagespeed twitter frontend 1 paper mobile according the rules plugins plugins they they they website pagespeed is external paper external performing components syntactically several external above performing 1 external \n",
            "------ temperature: 1.0\n",
            "this section is handled by the dashboard component which is project 1 usage 1 external plugins external tv simplifies external paper external can with external com and that project and interface features is best in the was "
          ],
          "name": "stdout"
        },
        {
          "output_type": "stream",
          "text": [
            "the articles figure project better to external makes web 1 foundation device score \n",
            "------ temperature: 1.2\n",
            "this section is handled by the dashboard component which is tv 2 using websites a for installed the optimizilla project the html5 according the of bootstrap bootstrap 4 was vital javascript common search paper were currently the on years foundation according the search the and score and including templates resource \n",
            "epoch 2\n",
            "Epoch 1/1\n",
            "21632/35451 [=================>............] - ETA: 8s - loss: 3.5326"
          ],
          "name": "stdout"
        },
        {
          "output_type": "stream",
          "text": [
            "35451/35451 [==============================] - 21s 603us/step - loss: 3.7181\n",
            "--- Generating with seed: \"ry application has its own requirements and challenges and therefore\"\n",
            "------ temperature: 0.2\n",
            "ry application has its own requirements and challenges and therefore web about syntactically 1 syntactically external websites website it tv research the desktop pagespeed pagespeed mobile mobile the of external mobile semantic pagespeed following external score and external results is web the that syntactically external more syntactically syntactically above syntactically \n",
            "------ temperature: 0.5\n",
            "ry application has its own requirements and challenges and therefore bootstrap syntactically 1 that of external that they they components syntactically in speed 1 popular they they following external that external and better including the was the internally plugins in external semantic figure was term external external class class a \n",
            "------ temperature: 1.0\n",
            "ry application has its own requirements and challenges and therefore 2 region video syntactically syntactically components web explorer score 1 as as website window window window is web 6 is is language pagespeed in optimize resource learning below the decreasing smaller the and framework 1 introduction "
          ],
          "name": "stdout"
        },
        {
          "output_type": "stream",
          "text": [
            "external file and websites \n",
            "------ temperature: 1.2\n",
            "ry application has its own requirements and challenges and therefore befekadu class class class 4 and research foundation of 30 source the was the that speed external the that components 2 35 better structure the before mobile website pagespeed of 808 the in according and in mobile of means abstract \n",
            "epoch 3\n",
            "Epoch 1/1\n",
            "25984/35451 [====================>.........] - ETA: 5s - loss: 3.3261"
          ],
          "name": "stdout"
        },
        {
          "output_type": "stream",
          "text": [
            "35451/35451 [==============================] - 21s 604us/step - loss: 3.4205\n",
            "--- Generating with seed: \"for the foundation website image a screenshot of sample images\"\n",
            "------ temperature: 0.2\n",
            "for the foundation website image a screenshot of sample images syntactically templates templates they they they they they they components is web user and addition in external got syntactically of external got the easiness the is like web mobile including external a and was is the is including web user \n",
            "------ temperature: 0.5\n",
            "for the foundation website image a screenshot of sample images class class in than is external plugins external 1 external 1 it 1 paper external including external and including got including easiness the constant folder performing plugins is the in including because external syntactically external in and and external got \n",
            "------ temperature: 1.0\n",
            "for the foundation website image a screenshot of sample images that frameworks class pagespeed about simplifies web simplifies external templates is the open different makes the it file of external was the relative wireframe plugins external 17 version articles including components foundation better 1 paper and for in external speed \n",
            "------ temperature: 1.2\n",
            "for the foundation website image a screenshot of sample images and according the "
          ],
          "name": "stdout"
        },
        {
          "output_type": "stream",
          "text": [
            "rules in image speed before external in web and before components they in 32 is founded for language were was structures provide including is 16 easy above can including research minified folder few saved resource is were \n",
            "epoch 4\n",
            "Epoch 1/1\n",
            "35451/35451 [==============================] - 21s 605us/step - loss: 3.1795\n",
            "--- Generating with seed: \"than the other two technologies when calculating the small fibonacci\"\n",
            "------ temperature: 0.2\n",
            "than the other two technologies when calculating the small fibonacci plugins frameworks syntactically external about external is including class learning class by language above above in "
          ],
          "name": "stdout"
        },
        {
          "output_type": "stream",
          "text": [
            "external syntactically syntactically syntactically is including is constant with plugins syntactically 27 that 1 web project 1 frameworks 1 paper view external loading including \n",
            "------ temperature: 0.5\n",
            "than the other two technologies when calculating the small fibonacci external that class class pagespeed untyped introduction the project in external because syntactically external external including external and including years with with were versions plugins external external external makes the simplifies the two and and simplifies content external external external \n",
            "------ temperature: 1.0\n",
            "than the other two technologies when calculating the small fibonacci components class one selectors for frontend of of a 27 of video syntactically tv addition around style plugins is the of and and the about different saved plugins speed figure of 2 engineering and 3 popular content resources css has \n",
            "------ temperature: 1.2\n",
            "than the other two technologies when calculating the small fibonacci file 17 community more enterprise it tv a the that overview multitude according the it april of components got that tools com and paper developers 393 means external language class friendly example 27 with of speed below css for sizes \n",
            "epoch 5\n",
            "Epoch 1/1\n"
          ],
          "name": "stdout"
        },
        {
          "output_type": "stream",
          "text": [
            "35451/35451 [==============================] - 21s 604us/step - loss: 2.9701\n",
            "--- Generating with seed: \"to focus on the real challenges of their case this\"\n",
            "------ temperature: 0.2\n",
            "to focus on the real challenges of their case this 1 web css 1 paper 1 paper external and performing that external components class the of was frameworks syntactically the project the than including templates syntactically the constant above syntactically website is because syntactically one plugins external project 1 is \n",
            "------ temperature: 0.5\n",
            "to focus on the real challenges of their case this 1 syntactically 1 paper paper syntactically external and including that 7 syntactically including rules and of content pagespeed a less with makes mobile figure for less preparing external syntactically in website above syntactically a project 1 frontend 1 paper this \n",
            "------ temperature: 1.0\n",
            "to focus on the real challenges of their case this customers the rules that 4 standard slow the that project interface for programming because px is 100 6 in the of is project code interface bootstrap syntactically of it were syntactically relative 2 rules "
          ],
          "name": "stdout"
        },
        {
          "output_type": "stream",
          "text": [
            "folder 7 analyse that easiness the \n",
            "------ temperature: 1.2\n",
            "to focus on the real challenges of their case this the for source plugins of project the the rules 8 the open 8 framework framework to of external content 1 of shown it 1 paper 5 frontend simplifies client simplifies and was mobile syntactically https relative syntactically including hypertext of \n",
            "epoch 6\n",
            "Epoch 1/1\n",
            "25856/35451 [====================>.........] - ETA: 5s - loss: 2.7110"
          ],
          "name": "stdout"
        },
        {
          "output_type": "stream",
          "text": [
            "35451/35451 [==============================] - 21s 603us/step - loss: 2.8169\n",
            "--- Generating with seed: \"file structures both bootstrap and foundation have default file structures\"\n",
            "------ temperature: 0.2\n",
            "file structures both bootstrap and foundation have default file structures external they components class webpage the than were video performing footer 1 is document external plugins performing 1 paper the about desktop 1 external external that tv figure class was the and of external was the is the rules 2 \n",
            "------ temperature: 0.5\n",
            "file structures both bootstrap and foundation have default file structures moreover external components class class rem it structure the is the the than video web semantic 1 befekadu external rules is is the that of external tv tv external class according the the and webpage components this webpage 1 the \n",
            "------ temperature: 1.0\n",
            "file structures both bootstrap and foundation have default file structures as web 27 window a makes the web simplifies more rem of external they they preprocessor is used the articles plugins plugins syntactically experience further plugins one in and 30 external project components for 10 foundation document 1 for of \n",
            "------ temperature: 1.2\n",
            "file structures both bootstrap and foundation have default file structures the more "
          ],
          "name": "stdout"
        },
        {
          "output_type": "stream",
          "text": [
            "foundation that 1 paper syntax external in defining it 1 research the community both rules regarding is the it resource any is website package engineering rules project score engineering was the web in foundation website pagespeed however untyped \n",
            "epoch 7\n",
            "Epoch 1/1\n",
            "35451/35451 [==============================] - 21s 606us/step - loss: 2.6817\n",
            "--- Generating with seed: \"iterable promise reject reason promise resolve value resolved returns a\"\n",
            "------ temperature: 0.2\n",
            "iterable promise reject reason promise resolve value resolved returns a website and it "
          ],
          "name": "stdout"
        },
        {
          "output_type": "stream",
          "text": [
            "website the and 1 1 frontend that 1 frontend that 1 frontend that rules resource language by resource by shows syntactically because syntactically shows including including structure class and frameworks pagespeed 5 pagespeed that external external rules \n",
            "------ temperature: 0.5\n",
            "iterable promise reject reason promise resolve value resolved returns a that was to is figure figure was was one plugins in web semantic including twitter external rules syntactically package to class external mobile semantic syntactically components external 1 attributes the than resource 3 frontend frontend got rules resource by external \n",
            "------ temperature: 1.0\n",
            "iterable promise reject reason promise resolve value resolved returns a next source the and requirement an 000 1 webpage user score moreover 1 few the 6 as desktop tools syntactically templates is a in the nesting twitter a rules and frontend figure speed minified resource pagespeed external class external including \n",
            "------ temperature: 1.2\n",
            "iterable promise reject reason promise resolve value resolved returns a experience components figure loading one and for chrome fast analyse world 1 rules and world and term for frameworks frameworks following language and were got having learning css in of support to issues high "
          ],
          "name": "stdout"
        },
        {
          "output_type": "stream",
          "text": [
            "the features plugins window creating user \n",
            "epoch 8\n",
            "Epoch 1/1\n",
            "35451/35451 [==============================] - 21s 604us/step - loss: 2.5911\n",
            "--- Generating with seed: \"python web perform poorly almost processing 2 or 3 requests\"\n",
            "------ temperature: 0.2\n",
            "python web perform poorly almost processing 2 or 3 requests bootstrap in content folder syntactically a first more source constant in speed 1 popular with tv 1 paper popular and to external web was web about results rules web loading a a a project using mobile mobile less of 1 \n",
            "------ temperature: 0.5\n",
            "python web perform poorly almost processing 2 or 3 requests 1 and and loading plugins external of including for are about moreover twitter 7 different about in external figure that figure is of external external attributes performing performing and above website because plugins website syntactically out website the world moreover \n",
            "------ temperature: 1.0\n",
            "python web perform poorly almost processing 2 or 3 requests pagespeed custom befekadu performing file external using website the the about resource external that "
          ],
          "name": "stdout"
        },
        {
          "output_type": "stream",
          "text": [
            "external because plugins external followed that tv tv 9 folder external in is milliseconds the 27 to plugins external in speed a better bootstrap that project \n",
            "------ temperature: 1.2\n",
            "python web perform poorly almost processing 2 or 3 requests for an the semantic website figure overview by was tinypng syntactically frameworks syntactically shows is bootstrap finding processing in firm the articles one plugins was the to the from wireframe in because it 13 website support enterprise power and analyse \n",
            "epoch 9\n",
            "Epoch 1/1\n",
            "17536/35451 [=============>................] - ETA: 10s - loss: 2.3391"
          ],
          "name": "stdout"
        },
        {
          "output_type": "stream",
          "text": [
            "35451/35451 [==============================] - 21s 604us/step - loss: 2.5036\n",
            "--- Generating with seed: \"the server would send back the content of the full\"\n",
            "------ temperature: 0.2\n",
            "the server would send back the content of the full 1 speed external about external for file figure document mobile for figure frameworks content pagespeed in external view syntactically syntactically external 27 that of images pagespeed class external project components a of syntactically web semantic syntactically web user score next \n",
            "------ temperature: 0.5\n",
            "the server would send back the content of the full external external that tv file figure speed figure as mobile with and web web to less addition external desktop website the a templates external forms they components research a class class in external of syntactically a common according the last \n",
            "------ temperature: 1.0\n",
            "the server would send back the content of the full is consist plugins they they they they using comes 2 it web user and on external file pagespeed constant the javascript project the 24 number plugins for of web the of is a the through plugins two in external final \n",
            "------ temperature: 1.2\n",
            "the server would send back the content of the full in by "
          ],
          "name": "stdout"
        },
        {
          "output_type": "stream",
          "text": [
            "stylesheets screenshot elements templates and power well figure and development external years above 2 4 frontend folder livescript class and makes 14 the extension and foundation each source bootstrap templates online 393 transforms the is 6 next the \n",
            "epoch 10\n",
            "Epoch 1/1\n",
            "35328/35451 [============================>.] - ETA: 0s - loss: 2.4434"
          ],
          "name": "stdout"
        },
        {
          "output_type": "stream",
          "text": [
            "\b\b\b\b\b\b\b\b\b\b\b\b\b\b\b\b\b\b\b\b\b\b\b\b\b\b\b\b\b\b\b\b\b\b\b\b\b\b\b\b\b\b\b\b\b\b\b\b\b\b\b\b\b\b\b\b\b\b\b\b\b\b\b\b\b\b\b\b\b\r35451/35451 [==============================] - 21s 603us/step - loss: 2.4462\n",
            "--- Generating with seed: \"and socket the server at the url string receives and\"\n",
            "------ temperature: 0.2\n",
            "and socket the server at the url string receives and speed external befekadu external the and the means plugins above less user and 1 frameworks frameworks they speed used the that web semantic website they they website relative website the was about was real the than than loading rules the \n",
            "------ temperature: 0.5\n",
            "and socket the server at the url string receives and interface of external shows and class learning and open 7 where research they they untyped of of for readability frameworks rules of above parameters they they they they they webpage is the css syntactically for external two is the built \n",
            "------ temperature: 1.0\n",
            "and socket the server at the url string receives and for services shows pagespeed table class following open the because region the project source mobile with web than speed on as addition class the bootstrap befekadu performing be readability the in wheel as which development one chrome frameworks speed web \n",
            "------ temperature: 1.2\n",
            "and socket the server at the url string receives and of web class webpage 9 "
          ],
          "name": "stdout"
        },
        {
          "output_type": "stream",
          "text": [
            "webpage speed project built tv frontend class developers project search will framework class project trend foundation as 1 syntactically syntactically line the downloaded according class webpage and in is taken frameworks external paper changing figure \n",
            "epoch 11\n",
            "Epoch 1/1\n",
            "35451/35451 [==============================] - 21s 603us/step - loss: 2.3954\n"
          ],
          "name": "stdout"
        },
        {
          "output_type": "stream",
          "text": [
            "--- Generating with seed: \"access and update the content structure and style of a\"\n",
            "------ temperature: 0.2\n",
            "access and update the content structure and style of a entire the semantic view external world syntactically and and of 1 of popular moreover the according the and 1 1 external for figure that term class project project to according the figure of term 1 external 1 frontend that external \n",
            "------ temperature: 0.5\n",
            "access and update the content structure and style of a easiness language is the 3 and rules content with external customizability easiness 2 complicated that components website easiness 1 1 1 syntactically is external most plugins including rules for the about the without because document syntactically score well plugins 1 \n",
            "------ temperature: 1.0\n",
            "access and update the content structure and style of a research 1 38 the 1 source about were there the tinypng complicated including speed 1 is of css used around regarding milliseconds web power is they web a got syntactically technical 27 html5 in web their with embedded tested loading \n",
            "------ temperature: 1.2\n",
            "access and update the content structure and style of a using for the changing components used the focus paper mobile illustrates for external css of readability syntactically power retailed website "
          ],
          "name": "stdout"
        },
        {
          "output_type": "stream",
          "text": [
            "community engineering netscape foundation introduction abstract contents another cli footer loading of forks relative frontend like the of their to \n",
            "epoch 12\n",
            "Epoch 1/1\n",
            "35451/35451 [==============================] - 21s 604us/step - loss: 2.3453\n",
            "--- Generating with seed: \"solution to this problem was the implementation of javascript on\"\n",
            "------ temperature: 0.2\n",
            "solution to this problem was the implementation of javascript on results class tv frontend programming syntactically the different the internally research research and to and external research rules the figure to a and external content web semantic including 1 rules syntactically years and sizes 8 templates got applied web different \n",
            "------ temperature: 0.5\n",
            "solution to this problem was the implementation of javascript on different untyped plugins including document for this 1 1 frontend "
          ],
          "name": "stdout"
        },
        {
          "output_type": "stream",
          "text": [
            "got external according the and the community plugins webpage tv class simplifies external rules the open and website regarding rem syntactically because window external define web and is web user \n",
            "------ temperature: 1.0\n",
            "solution to this problem was the implementation of javascript on less the structural syntactically filling loading according language project browsers the and figure was it requirements external options get performance cross of external versions same was several customers components untyped it 1 paper frontend search better selector web finding frontend \n",
            "------ temperature: 1.2\n",
            "solution to this problem was the implementation of javascript on for testing responsive document it 1 syntactically the and moreover in comes including foundation is in 4 paper document illustrates chrome with at css attorneys syntactically syntactically of shows the was application image website of 8 than in bootstrap and \n",
            "epoch 13\n",
            "Epoch 1/1\n",
            " 5632/35451 [===>..........................] - ETA: 18s - loss: 2.0414"
          ],
          "name": "stdout"
        },
        {
          "output_type": "stream",
          "text": [
            "35451/35451 [==============================] - 21s 604us/step - loss: 2.3203\n",
            "--- Generating with seed: \"multiplied by the number in the rem unit however in\"\n",
            "------ temperature: 0.2\n",
            "multiplied by the number in the rem unit however in result external above class different foundation by including in support syntactically it of external got syntactically including years is web different in it 1 a 0 plugins performing 1 performing 1 frontend with applied to frontend plugins class foundation rates \n",
            "------ temperature: 0.5\n",
            "multiplied by the number in the rem unit however in templates the they they they they of the it class class according webpage conventions plugins syntactically syntactically about rules and interface plugins external rules experience is and the external easiness and webpage figure the rules 1 years the figure plugins \n",
            "------ temperature: 1.0\n",
            "multiplied by the number in the rem unit however in second means plugins class performing the changing shows through external syntactically naturally the chosen an https moreover frameworks website the 27 code are website pagespeed is a external 1 including tv for illustrated 24 it speed "
          ],
          "name": "stdout"
        },
        {
          "output_type": "stream",
          "text": [
            "was one plugins less \n",
            "------ temperature: 1.2\n",
            "multiplied by the number in the rem unit however in browser were source one users is next and and which that com 2 was framework using best comes the a users out plugins web a creating to folder got by creating syntactically js to because in untyped from figure standard \n",
            "epoch 14\n",
            "Epoch 1/1\n",
            "28672/35451 [=======================>......] - ETA: 4s - loss: 2.2347"
          ],
          "name": "stdout"
        },
        {
          "output_type": "stream",
          "text": [
            "35451/35451 [==============================] - 21s 605us/step - loss: 2.2787\n",
            "--- Generating with seed: \"afas nl virtual dom online url https www afas nl\"\n",
            "------ temperature: 0.2\n",
            "afas nl virtual dom online url https www afas nl for for semantic css web semantic also also they tv or external source untyped the constant document syntactically the and figure web was to language web semantic about 3 rules rules like easiness easiness and external a is is pagespeed \n",
            "------ temperature: 0.5\n",
            "afas nl virtual dom online url https www afas nl pagespeed content the external 1 frontend syntactically syntactically frontend and language 6 was one is is is 3 web user and external plugins they they tv rules of external class easiness components according the a and were different with external \n",
            "------ temperature: 1.0\n",
            "afas nl virtual dom online url https www afas nl header syntactically the website easiness sizes one needed plugins plugins files syntactically plugins and chrome content performance foundation and rules optimization was class it in speed paper the get then 1 performing webpage 1 popular articles 1 1 external 1 \n",
            "------ temperature: 1.2\n",
            "afas nl virtual dom online url https www afas nl for the of however window complicated 1 syntactically forks window "
          ],
          "name": "stdout"
        },
        {
          "output_type": "stream",
          "text": [
            "internet out the 3 above frameworks compatibility used is get figure figure foundation is firm result preparing locator 1 frontend a current constant was a further example websites research below \n",
            "epoch 15\n",
            "Epoch 1/1\n",
            "35451/35451 [==============================] - 21s 605us/step - loss: 2.2409\n",
            "--- Generating with seed: \"prototype application in angular 2 the lite server was used\"\n",
            "------ temperature: 0.2\n",
            "prototype application in angular 2 the lite server was used the according the or or external in including including websites untyped easiness is like the in a to external website is is web including including language syntactically class pagespeed versions plugins "
          ],
          "name": "stdout"
        },
        {
          "output_type": "stream",
          "text": [
            "loading external by external for rules including figure was \n",
            "------ temperature: 0.5\n",
            "prototype application in angular 2 the lite server was used to is figure 38 frameworks class it including websites the by pagespeed example example that external website pagespeed pagespeed the be components speed loading more sizes a external according the about of selector website were with were language syntactically in \n",
            "------ temperature: 1.0\n",
            "prototype application in angular 2 the lite server was used external become chosen the and different about tools milliseconds website websites speed libraries they a result customizability speed performing zurb stable test project is 6 17 css for development and start video website learning the including and of score of \n",
            "------ temperature: 1.2\n",
            "prototype application in angular 2 the lite server was used external even region for minified chrome makes parameters the table is to founded syntactically around one the embedded founded can 100 analyse the on conventions performing performing language it 6 or websites tv project the was to the to explorer \n",
            "epoch 16\n",
            "Epoch 1/1\n",
            " 2304/35451 [>.............................] - ETA: 19s - loss: 1.7801"
          ],
          "name": "stdout"
        },
        {
          "output_type": "stream",
          "text": [
            "35451/35451 [==============================] - 21s 604us/step - loss: 2.2180\n",
            "--- Generating with seed: \"feature used is known as the accordion in jqueryui since\"\n",
            "------ temperature: 0.2\n",
            "feature used is known as the accordion in jqueryui since 2 popular syntactically website external rules web because frameworks file web web about web user and loading 1 external they components including external the 5 was was 2 paper web web performing including easiness optimize according 5 website were com \n",
            "------ temperature: 0.5\n",
            "feature used is known as the accordion in jqueryui since were was 14 the is the plugins plugins simplifies rules project class as addition makes in external easiness loading the of was css syntactically components dozens language language performing in websites that and tv of speed 1 external and 1 \n",
            "------ temperature: 1.0\n",
            "feature used is known as the accordion in jqueryui since that 1 paper 10 class rules loading foundation programming foundation 1 that to of external external a loading javascript prepare is means web including 9 in of of javascript syntactically project through as figure that mobile "
          ],
          "name": "stdout"
        },
        {
          "output_type": "stream",
          "text": [
            "in css websites pagespeed \n",
            "------ temperature: 1.2\n",
            "feature used is known as the accordion in jqueryui since are bootstrap less website speed frameworks hides easiness first internally ui provide for phase syntax befekadu 7 web a fluid 13 pingdom external minifyjavascript websites hand a client iii web mobile mackintosh any mobile rules figure result the source screen \n",
            "epoch 17\n",
            "Epoch 1/1\n",
            "24960/35451 [====================>.........] - ETA: 6s - loss: 2.1050"
          ],
          "name": "stdout"
        },
        {
          "output_type": "stream",
          "text": [
            "35451/35451 [==============================] - 21s 604us/step - loss: 2.1817\n",
            "--- Generating with seed: \"to comprehend the code and fast start working with it\"\n",
            "------ temperature: 0.2\n",
            "to comprehend the code and fast start working with it simplifies paper loading bootstrap that components and the rules for in the transforms was class frameworks like web the was the of pagespeed also components external loading it the entire makes by websites class websites and addition in 1 about \n",
            "------ temperature: 0.5\n",
            "to comprehend the code and fast start working with it 100 1 following got simplifies paper loading class the easiness video the that view that to a in frameworks is web to syntactically syntactically in external performance web wheel about about window twitter the loading figure was line figure was \n",
            "------ temperature: 1.0\n",
            "to comprehend the code and fast start working with it 4 in and experience above html5 document com in structures bootstrap and webpage website that 4 the than foundation is language that com current it wide to the left website language also user window 4 web semantic about frontend window \n",
            "------ temperature: 1.2\n",
            "to comprehend the code and fast start working with it to of was source tool got external "
          ],
          "name": "stdout"
        },
        {
          "output_type": "stream",
          "text": [
            "take trend webpage of bootstrap full components one the 10 was and the js mostly and was presentation web twiitter loading translated is following web pingdom for sizes is 7 of external css \n",
            "epoch 18\n",
            "Epoch 1/1\n",
            "35451/35451 [==============================] - 21s 603us/step - loss: 2.1681\n",
            "--- Generating with seed: \"used in the enterprise level applications mvvm pattern is based\"\n",
            "------ temperature: 0.2\n",
            "used in the enterprise level applications mvvm pattern is based folder external they plugins founded learning rules com sharing engineering 4 frontend tools syntactically frameworks 8 they px 6 in lower resource syntactically websites syntactically including loading a less that they components "
          ],
          "name": "stdout"
        },
        {
          "output_type": "stream",
          "text": [
            "package pagespeed in resource mobile the desktop the \n",
            "------ temperature: 0.5\n",
            "used in the enterprise level applications mvvm pattern is based desktop content addition external external project the entire optimize file popular 3 the frontend simplifies and a makes including is view pagespeed content the plugins selector research syntactically external company including analyse 27 frameworks like pagespeed following a desktop desktop \n",
            "------ temperature: 1.0\n",
            "used in the enterprise level applications mvvm pattern is based explorer a the regarding plugins world foundation processing plugins world conclude 1 to using com to an rates 1 moreover plugins the structure compared the 35 px about syntactically users syntactically foundation rules conventions as client term templates in was \n",
            "------ temperature: 1.2\n",
            "used in the enterprise level applications mvvm pattern is based way frameworks syntactically the many than netscape structures including 2 and detail screen nested resource the bootstrap this tv full the april and overview plugins screenshot simplifies are website framework the templates of relative the feature plugins the project 1 \n",
            "epoch 19\n",
            "Epoch 1/1\n",
            " 1792/35451 [>.............................] - ETA: 20s - loss: 1.8067"
          ],
          "name": "stdout"
        },
        {
          "output_type": "stream",
          "text": [
            "35451/35451 [==============================] - 21s 602us/step - loss: 2.1391\n",
            "--- Generating with seed: \"from different compressor tools available 23 online optimizilla13 and tinypng14\"\n",
            "------ temperature: 0.2\n",
            "from different compressor tools available 23 online optimizilla13 and tinypng14 view the view syntactically syntactically pagespeed paper rules websites performing to components 6 less in website syntactically syntactically project style frameworks speed following external the the the the components 3 plugins optimize user and external figure as a that pagespeed \n",
            "------ temperature: 0.5\n",
            "from different compressor tools available 23 online optimizilla13 and tinypng14 was 9 paper external file external the easiness the different according the was of were one 100 web semantic the syntax the external simplifies the file including research website easiness 9 that including easiness and with sizes was by syntactically \n",
            "------ temperature: 1.0\n",
            "from different compressor tools available 23 online optimizilla13 and tinypng14 in external the for website 32 chosen by web css in essential and plugins that has where simplifies as abstract abstract two window checks css using the "
          ],
          "name": "stdout"
        },
        {
          "output_type": "stream",
          "text": [
            "take foundation important second from 2 overflow the cascading mobile 1 class criteria \n",
            "------ temperature: 1.2\n",
            "from different compressor tools available 23 online optimizilla13 and tinypng14 web about about the templates high paper 1 explorer view the used package regarding trend resource syntactically external working syntactically 10 by sharing the mostly figure for some screen the community optimize around was out is the also foundation 2 \n",
            "epoch 20\n",
            "Epoch 1/1\n",
            "20352/35451 [================>.............] - ETA: 9s - loss: 1.9635"
          ],
          "name": "stdout"
        },
        {
          "output_type": "stream",
          "text": [
            "35451/35451 [==============================] - 22s 607us/step - loss: 2.1151\n",
            "--- Generating with seed: \"from meteor meteor template from meteor templating playersboard html players\"\n",
            "------ temperature: 0.2\n",
            "from meteor meteor template from meteor templating playersboard html players paper few and figure class css years web semantic simplifies 3 frontend web to 8 easiness semantic 1 speed 1 websites website addition 1 2 frontend simplifies rules language paper untyped external untyped folder were the improving performing plugins a \n",
            "------ temperature: 0.5\n",
            "from meteor meteor template from meteor templating playersboard html players project project 1 chrome 1 1 1 paper about external paper external the saved the untyped the constant ui components 3 filling external and score pagespeed including the resource of resource the forks syntactically means including website features below frameworks \n",
            "------ temperature: 1.0\n",
            "from meteor meteor template from meteor templating playersboard html players syntactically the of file cli perform technical two other less in external to in external sites it and of following including foundation and web code the for is according folder external they they they of and for it "
          ],
          "name": "stdout"
        },
        {
          "output_type": "stream",
          "text": [
            "term technical \n",
            "------ temperature: 1.2\n",
            "from meteor meteor template from meteor templating playersboard html players for also where external pixels frontend syntactically other using developers tested the with for sizes user source is it 1 the changing test about website most introduction and learning syntactically frontend navigation rules bootstrap an that code website chrome one \n",
            "epoch 21\n",
            "Epoch 1/1\n",
            "24064/35451 [===================>..........] - ETA: 6s - loss: 2.0095"
          ],
          "name": "stdout"
        },
        {
          "output_type": "stream",
          "text": [
            "35451/35451 [==============================] - 21s 605us/step - loss: 2.0921\n",
            "--- Generating with seed: \"with the fact that the company is growing and new\"\n",
            "------ temperature: 0.2\n",
            "with the fact that the company is growing and new they they components tv website the tools project class class external about components components pagespeed 3 class of and 17 speed loading plugins the an 1 paper makes external better a 4 syntactically components is project the where web 1 \n",
            "------ temperature: 0.5\n",
            "with the fact that the company is growing and new tv 1 paper paper external improving external is the the open constant research including the is web mobile syntactically website speed using sizes class external a than components shows website syntactically and components images including with 17 project of compared \n",
            "------ temperature: 1.0\n",
            "with the fact that the company is growing and new the saved community with and client firefox in speed needed user multitude has and is web foundation introduction about stable of plugins is com size bootstrap and websites the creating class the moreover development of and foundation figure to mobile \n",
            "------ temperature: 1.2\n",
            "with the fact that the company is growing and new explorer changing 17 of means be optimize "
          ],
          "name": "stdout"
        },
        {
          "output_type": "stream",
          "text": [
            "copied the in a frontend that video the improving a customizability first 1 foundation for the essential to is definitely the in by external speed external semantic for com dozens plugins syntactically it \n",
            "epoch 22\n",
            "Epoch 1/1\n",
            "35451/35451 [==============================] - 21s 603us/step - loss: 2.0844\n",
            "--- Generating with seed: \"3 dependencies for the angular2 app listing 3 show the\"\n",
            "------ temperature: 0.2\n",
            "3 dependencies for the angular2 app listing 3 show the is the moreover and and external including class and than got external years frontend class class project website project by as the internally syntactically components components "
          ],
          "name": "stdout"
        },
        {
          "output_type": "stream",
          "text": [
            "class is where the video video 1 syntactically external in result is external and \n",
            "------ temperature: 0.5\n",
            "3 dependencies for the angular2 app listing 3 show the and 2 figure speed speed performing content by external the the according were figure popular the moreover plugins is including simplifies according and class pagespeed is website class components next the website source constant pagespeed project web plugins frameworks they \n",
            "------ temperature: 1.0\n",
            "3 dependencies for the angular2 app listing 3 show the they client the and com rules trend 9 2017 frontend code will a render of example class is and extension conventions design consist testing to components external has a in shown that 1 tested they they statistics css a graph \n",
            "------ temperature: 1.2\n",
            "3 dependencies for the angular2 app listing 3 show the load the and foundation to websites the the be the in external analyse figure easiness in for in static easiness can 2 13 table according for correctly much size class a 10 of project contents to interface like frameworks the \n",
            "epoch 23\n",
            "Epoch 1/1\n",
            " 2304/35451 [>.............................] - ETA: 19s - loss: 1.7510"
          ],
          "name": "stdout"
        },
        {
          "output_type": "stream",
          "text": [
            "35451/35451 [==============================] - 21s 603us/step - loss: 2.0606\n",
            "--- Generating with seed: \"patterns for dummies steve holzner may 8 2006 10 learning\"\n",
            "------ temperature: 0.2\n",
            "patterns for dummies steve holzner may 8 2006 10 learning 1 the the moreover plugins class got popular as language by the is untyped class is com pagespeed and class pagespeed about pagespeed 3 external frontend website the it project project including class templates about is the is website class \n",
            "------ temperature: 0.5\n",
            "patterns for dummies steve holzner may 8 2006 10 learning project navigation about syntactically they they tested performing website pagespeed two below website high about and for websites including webpage document web about april were one rules were tested the navigation folder external window tv open above region class class \n",
            "------ temperature: 1.0\n",
            "patterns for dummies steve holzner may 8 2006 10 learning to templates a foundation got first framework the javascript 1 complicated one of web about twitter number plugins 10 performing moreover in untyped means better different the user is used the 8 research semantic external "
          ],
          "name": "stdout"
        },
        {
          "output_type": "stream",
          "text": [
            "10 case uses rules the \n",
            "------ temperature: 1.2\n",
            "patterns for dummies steve holzner may 8 2006 10 learning currently overview plugins that the and foundation frontend saved features is the templates 2017 frameworks table paper html in and css and less can the as the testing plugins that in external jquery foundation 1 foundation before web 393 5 \n",
            "epoch 24\n",
            "Epoch 1/1\n",
            "26240/35451 [=====================>........] - ETA: 5s - loss: 1.9599"
          ],
          "name": "stdout"
        },
        {
          "output_type": "stream",
          "text": [
            "35451/35451 [==============================] - 21s 604us/step - loss: 2.0389\n",
            "--- Generating with seed: \"this props subtitle return h2 classname title bar__subtitle this props\"\n",
            "------ temperature: 0.2\n",
            "this props subtitle return h2 classname title bar__subtitle this props semantic final a project and mobile of 14 and the of and external score class source external tv by for figure syntactically as external following external is where is the figure was was web to 2 paper 2 by websites \n",
            "------ temperature: 0.5\n",
            "this props subtitle return h2 classname title bar__subtitle this props pagespeed 8 8 search of figure video mobile it development popular com including including in including the syntactically april were foundation the or language and and and and and and and external mixins user class and and 2 popular rules \n",
            "------ temperature: 1.0\n",
            "this props subtitle return h2 classname title bar__subtitle this props milliseconds also and external com of requirements 2 pages 19 in 3 frontend in used the due plugins rules 1 web paper the website paper and simplifies constant external 24 of term milliseconds figure was according and external result plugins \n",
            "------ temperature: 1.2\n",
            "this props subtitle return h2 classname title bar__subtitle this props term com according long preprocessor "
          ],
          "name": "stdout"
        },
        {
          "output_type": "stream",
          "text": [
            "next window retailed of iii foundation bootstrap interfaces units is 18 creating view chosen translates constant was firefox 4 speed bootstrap foundation sizes size 3 frontend the of according overflow untyped that they they they \n",
            "epoch 25\n",
            "Epoch 1/1\n",
            "35451/35451 [==============================] - 21s 604us/step - loss: 2.0366\n",
            "--- Generating with seed: \"good experiences through the users interface grouping the contents in\"\n",
            "------ temperature: 0.2\n",
            "good experiences through the users interface grouping the contents in research for of rules the is a figure semantic was web semantic "
          ],
          "name": "stdout"
        },
        {
          "output_type": "stream",
          "text": [
            "one example web of research window mobile example pagespeed example plugins pagespeed pagespeed mobile for of external project project web about about were about the untyped and the \n",
            "------ temperature: 0.5\n",
            "good experiences through the users interface grouping the contents in entire web by example class external the components class website pagespeed with pagespeed frameworks with is external in websites engineering used pagespeed example class external a components the times external external sizes class used 4 user tv of shows including \n",
            "------ temperature: 1.0\n",
            "good experiences through the users interface grouping the contents in external the graph https sizes optimize developers web development get to as css embedded syntactically informed and and figure was further 13 abstract external to external that 27 by according class rules in web the mobile the interface and and \n",
            "------ temperature: 1.2\n",
            "good experiences through the users interface grouping the contents in another for built the iii things syntactically font building illustrates to file of a changing 393 developers abstract em class class this the mobile translates and and web world was second like css graph folder the for consecutively trend be \n",
            "epoch 26\n",
            "Epoch 1/1\n",
            "  128/35451 [..............................] - ETA: 21s - loss: 1.2798"
          ],
          "name": "stdout"
        },
        {
          "output_type": "stream",
          "text": [
            "35451/35451 [==============================] - 21s 606us/step - loss: 2.0133\n",
            "--- Generating with seed: \"august 2015 angularjs released its newest version 1 4 4\"\n",
            "------ temperature: 0.2\n",
            "august 2015 angularjs released its newest version 1 4 4 syntactically experience two was user and simplifies get of external insights speed speed sizes according frontend plugins according the makes the entire syntax a size is the the of plugins plugins rules tv the of plugins 1 shows 1 frontend \n",
            "------ temperature: 0.5\n",
            "august 2015 angularjs released its newest version 1 4 4 frontend 1 popular frontend simplifies rules view class it and resource and screen the in external got result web semantic makes components the and several webpage twitter research document the got plugins syntactically the plugins constant class simplifies loading websites \n",
            "------ temperature: 1.0\n",
            "august 2015 angularjs released its newest version 1 4 4 file feature as html computer a analyse bootstrap mobile the thesis chrome project of of functionalities syntactically syntactically two is project transforms performance twiitter the second different fully plugins line framework is a 3 design "
          ],
          "name": "stdout"
        },
        {
          "output_type": "stream",
          "text": [
            "there less built class is \n",
            "------ temperature: 1.2\n",
            "august 2015 angularjs released its newest version 1 4 4 website the 11 write folder it followed a a changing take saved on desktop 24 for frontend 14 cascading to lower enterprise got frameworks render analyse to the frontend document of and chosen 4 for provide web class tv interface \n",
            "epoch 27\n",
            "Epoch 1/1\n",
            "27136/35451 [=====================>........] - ETA: 5s - loss: 1.9428"
          ],
          "name": "stdout"
        },
        {
          "output_type": "stream",
          "text": [
            "35451/35451 [==============================] - 21s 603us/step - loss: 2.0060\n",
            "--- Generating with seed: \"therefore it was relatively easier to use angular 2 over\"\n",
            "------ temperature: 0.2\n",
            "therefore it was relatively easier to use angular 2 over of 4 power websites where external 1 class the below about project semantic to external semantic class figure is mobile and was to website external external rules web figure was frameworks 32 years computer resource computer css mobile internally internally \n",
            "------ temperature: 0.5\n",
            "therefore it was relatively easier to use angular 2 over insights one were was one plugins plugins the semantic 1 external 1 a to project june for window tools 1 research rules the the easiness websites paper by external file syntactically the about website syntactically technical two is in external \n",
            "------ temperature: 1.0\n",
            "therefore it was relatively easier to use angular 2 over friendly table a for the 18 foundation define 7 external tools for youtube above 6 a is 1 bootstrap 1 websites for design a frontend got web semantic was elements 3 desktop view paper in external essential figure build the \n",
            "------ temperature: 1.2\n",
            "therefore it was relatively easier to use angular 2 over approach at external in speed june are one "
          ],
          "name": "stdout"
        },
        {
          "output_type": "stream",
          "text": [
            "in for in a is as of to the structure chosen firefox web be with 3 interface and 0 rules of issues tv are 100 term long how the the attributes websites \n",
            "epoch 28\n",
            "Epoch 1/1\n",
            "35451/35451 [==============================] - 21s 604us/step - loss: 1.9853\n",
            "--- Generating with seed: \"it is essential to understand the theory behind modules to\"\n",
            "------ temperature: 0.2\n",
            "it is essential to understand the theory behind modules to search external 2 speed the of external april according the and power external tools they components the they the for web semantic and 1 external 1 rules loading figure file a following plugins syntactically figure before mobile web speed external \n",
            "------ temperature: 0.5\n",
            "it is essential to understand the theory behind modules to figure speed the than one easiness figure as mobile "
          ],
          "name": "stdout"
        },
        {
          "output_type": "stream",
          "text": [
            "speed external and in external user and of external score https components for results parameters rules project by 3 paper loading the the as class abstract because window by on like \n",
            "------ temperature: 1.0\n",
            "it is essential to understand the theory behind modules to a package to illustrates other 2017 2 first javascript be and gtmetrix above mostly how pagespeed on browse and tested external the desktop and it 2 file a screenshot a is one plugins in bootstrap hand comes download pagespeed support \n",
            "------ temperature: 1.2\n",
            "it is essential to understand the theory behind modules to and ecmascript bootstrap score test figure it and friendly it design in because external features com hypertext other founded open performing websites using screenshot plugins in region three frontend shown speed figure about 24 and no the creating com figure \n",
            "epoch 29\n",
            "Epoch 1/1\n",
            " 6784/35451 [====>.........................] - ETA: 17s - loss: 1.7240"
          ],
          "name": "stdout"
        },
        {
          "output_type": "stream",
          "text": [
            "35451/35451 [==============================] - 21s 604us/step - loss: 1.9751\n",
            "--- Generating with seed: \"convenience to access own account in case the user forgets\"\n",
            "------ temperature: 0.2\n",
            "convenience to access own account in case the user forgets using web the about plugins that tv 1 1 in support external with external were the and example the the project tv research foundation the was to because web semantic about external 1 figure that term external components figure the \n",
            "------ temperature: 0.5\n",
            "convenience to access own account in case the user forgets was figure speed term mobile was as and years speed plugins paper 1 frontend according the about plugins frontend they simplifies language class speed got 393 and 6 css constant tested by web source embedded is was document window is \n",
            "------ temperature: 1.0\n",
            "convenience to access own account in case the user forgets several css browse cross is for right to it battery law is the less it features performing the 4 plugins 2 articles need and speed plugins indicates to using most a https around frontend that 1 term structure tv as \n",
            "------ temperature: 1.2\n",
            "convenience to access own account in case the user forgets "
          ],
          "name": "stdout"
        },
        {
          "output_type": "stream",
          "text": [
            "8 sass is com seen frameworks be and 1 untyped line untyped with to using and 5 2 basic to responsive html5 resource syntactically creating open the illustrated class in in foundation that speed two open project 1 firm in \n",
            "epoch 30\n",
            "Epoch 1/1\n",
            "35451/35451 [==============================] - 21s 605us/step - loss: 1.9625\n",
            "--- Generating with seed: \"made in 2015 react focuses on making the most interactive\"\n",
            "------ temperature: 0.2\n",
            "made in 2015 react focuses on making the most interactive than than loading it websites external an followed class web user user and including next including "
          ],
          "name": "stdout"
        },
        {
          "output_type": "stream",
          "text": [
            "the 1 were first desktop for class window paper language the like in mobile result rules external external external and figure and web were \n",
            "------ temperature: 0.5\n",
            "made in 2015 react focuses on making the most interactive tools the got frameworks paper external templates 1 simplifies rules simplifies years are easiness according the below the using 1 plugins class project 1 resource firm the frontend 1 the simplifies 1 paper external the rules a and ui results \n",
            "------ temperature: 1.0\n",
            "made in 2015 react focuses on making the most interactive a articles entire learning css power important got speed that speed 24 browse explorer makes on external 2 many in following selectors in was one plugins external style that found takes project to support an desktop tools templates class window \n",
            "------ temperature: 1.2\n",
            "made in 2015 react focuses on making the most interactive figure project insights customers the a 8 addition plugins external for rules were classes will a fewer external and 2 project it and be project mac become are static framework in document and 2017 loading functionalities class things twitter javascript \n",
            "epoch 31\n",
            "Epoch 1/1\n",
            " 1408/35451 [>.............................] - ETA: 20s - loss: 1.6333"
          ],
          "name": "stdout"
        },
        {
          "output_type": "stream",
          "text": [
            "35451/35451 [==============================] - 21s 606us/step - loss: 1.9459\n",
            "--- Generating with seed: \"it also uses packages npm helps on this section as\"\n",
            "------ temperature: 0.2\n",
            "it also uses packages npm helps on this section as language syntactically css tv external research rules several and and developers css desktop the world that class the is founded the 8 framework the results plugins external rules and attributes including 1 as project project pagespeed 5 3 paper websites \n",
            "------ temperature: 0.5\n",
            "it also uses packages npm helps on this section as the 3 frontend 1 mobile moreover web semantic 38 external external rules or years is 9 em of templates got they popular easiness that 4 using rules that website a one a web semantic web below 1 1 frontend before \n",
            "------ temperature: 1.0\n",
            "it also uses packages npm helps on this section as class define language before several tv external 4 webpage framework bootstrap language is means there transforms applied can a and one 4 2017 is websites pagespeed web the figure class approach minified global a latest where above the figure "
          ],
          "name": "stdout"
        },
        {
          "output_type": "stream",
          "text": [
            "in \n",
            "------ temperature: 1.2\n",
            "it also uses packages npm helps on this section as for and of of tinypng web user css score the figure table the 9 for about last the of external graph 2 frameworks line in community paper is advanced external website frontend foundation customizability that webpage constant another regarding 3 \n",
            "epoch 32\n",
            "Epoch 1/1\n",
            "28416/35451 [=======================>......] - ETA: 4s - loss: 1.8917"
          ],
          "name": "stdout"
        },
        {
          "output_type": "stream",
          "text": [
            "35451/35451 [==============================] - 21s 604us/step - loss: 1.9481\n",
            "--- Generating with seed: \"view in a react application those data from the redux\"\n",
            "------ temperature: 0.2\n",
            "view in a react application those data from the redux tv tv external they they components they components years is website pagespeed window in and frontend 1 external they tv webpage class 1 is tv syntactically external external external components class class chosen images pagespeed pagespeed pagespeed class following including \n",
            "------ temperature: 0.5\n",
            "view in a react application those data from the redux a resource that the size the twitter resource with optimize external multitude 2017 the loading loading plugins plugins external the rules components preprocessor tv the followed in the code because external tv score score rules external before of external full \n",
            "------ temperature: 1.0\n",
            "view in a react application those data from the redux score locator figure compatibility mobile tinypng the pingdom will frontend a used class different simplifies external 1 regarding results to language in has there as web cli apis 2 6 out 24 the built external of components the the the \n",
            "------ temperature: 1.2\n",
            "view in a react application those data from the redux the out resource client "
          ],
          "name": "stdout"
        },
        {
          "output_type": "stream",
          "text": [
            "less these the foundation computer wireframe project in separate of categorized to from simplifies website tool and speed to there view because things process google and website law speed html sass web extension is pingdom same \n",
            "epoch 33\n",
            "Epoch 1/1\n",
            "35451/35451 [==============================] - 22s 607us/step - loss: 1.9338\n",
            "--- Generating with seed: \"subsequent pages on the site because drupal has several blocks\"\n",
            "------ temperature: 0.2\n",
            "subsequent pages on the site because drupal has several blocks plugins package to syntactically syntactically syntactically to language syntactically twitter language language was "
          ],
          "name": "stdout"
        },
        {
          "output_type": "stream",
          "text": [
            "one in and like external user is is 2 web got syntactically class paper class is several pagespeed pagespeed components the of by external for external syntactically \n",
            "------ temperature: 0.5\n",
            "subsequent pages on the site because drupal has several blocks is language standard foundation speed 1 27 minified file 1 and popular external define they components class webpage web user score tv external external components tv the chapter is user figure speed less sizes speed plugins pixels plugins in 100 \n",
            "------ temperature: 1.0\n",
            "subsequent pages on the site because drupal has several blocks 1 feature mixins html5 are 1 learning speed the drag are 1 external bootstrap means in speed applied figure engineering was can end cli translates explorer html5 website apis 2 websites because external of foundation best foundation an including 1 \n",
            "------ temperature: 1.2\n",
            "subsequent pages on the site because drupal has several blocks power the tinypng the different they 1 number as standard 12 using as device translates above code tv overflow hypertext the and version 14 2017 possible most bootstrap document external they features many 2 project the process they 6 choosing \n",
            "epoch 34\n",
            "Epoch 1/1\n",
            "  896/35451 [..............................] - ETA: 20s - loss: 1.6406"
          ],
          "name": "stdout"
        },
        {
          "output_type": "stream",
          "text": [
            "35451/35451 [==============================] - 21s 605us/step - loss: 1.9168\n",
            "--- Generating with seed: \"either inside the head or body tag of an html\"\n",
            "------ temperature: 0.2\n",
            "either inside the head or body tag of an html frontend 3 the to the the plugins plugins where simplifies external external they they they components syntactically webpage webpage 1 web user and get about class than loading foundation website that websites frontend a speed speed package can 1 according \n",
            "------ temperature: 0.5\n",
            "either inside the head or body tag of an html the means plugins external rules seen 2 class and search the code 3 resource navigation navigation pagespeed performing compared the external footer external that the means sharing comes the complicated syntactically syntactically regarding images creating was 2 web user web \n",
            "------ temperature: 1.0\n",
            "either inside the head or body tag of an html for rules to device 32 will was bootstrap in in in two case user used a custom rem websites measuring introduction external one the figure as process web clear they 3 preprocessor readability relative a two of web "
          ],
          "name": "stdout"
        },
        {
          "output_type": "stream",
          "text": [
            "screenshots file \n",
            "------ temperature: 1.2\n",
            "either inside the head or body tag of an html the and the it a second of be a design the this and by power figure web of css form mobile a the the discussion moreover standard illustrated syntactically to that an of developers editor websites in foundation css further \n",
            "epoch 35\n",
            "Epoch 1/1\n",
            "29184/35451 [=======================>......] - ETA: 3s - loss: 1.8877"
          ],
          "name": "stdout"
        },
        {
          "output_type": "stream",
          "text": [
            "35451/35451 [==============================] - 21s 604us/step - loss: 1.9232\n",
            "--- Generating with seed: \"and installed to set up the development environment once the\"\n",
            "------ temperature: 0.2\n",
            "and installed to set up the development environment once the syntactically mobile 100 syntactically less following relative to external external figure is was rules external file file april were web semantic performing in external 35 above research easiness open 7 transforms external and class class pagespeed user and the pagespeed \n",
            "------ temperature: 0.5\n",
            "and installed to set up the development environment once the popular class for external about was to that external syntactically the means figure that size it project features class three speed were the the mobile foundation of external internet syntactically rules is figure engineering mobile around define used is the \n",
            "------ temperature: 1.0\n",
            "and installed to set up the development environment once the html5 simplifies it value application 14 the is addition result com the web mobile well of external were the the that full the table results website class popularity music 393 got frontend wide according it 29 using fully a the \n",
            "------ temperature: 1.2\n",
            "and installed to set up the development environment once the these the javascript "
          ],
          "name": "stdout"
        },
        {
          "output_type": "stream",
          "text": [
            "constant the components components relative foundation12 the was 1 1 storage speed foundation the thesis the used the the popularity plugins external design is 2 it websites colour 7 and user is device optimizing bootstrap 9 addition \n",
            "epoch 36\n",
            "Epoch 1/1\n",
            "35451/35451 [==============================] - 21s 605us/step - loss: 1.9023\n",
            "--- Generating with seed: \"engine results of a website 2 sql structured query language\"\n",
            "------ temperature: 0.2\n",
            "engine results of a website 2 sql structured query language 1 1 27 tv plugins templates 1 makes frontend simplifies "
          ],
          "name": "stdout"
        },
        {
          "output_type": "stream",
          "text": [
            "is the in the view external a rules is several years external that external makes external class class source pagespeed in external class including used figure figure frameworks mobile web \n",
            "------ temperature: 0.5\n",
            "engine results of a website 2 sql structured query language frameworks website get header and a for web about external in external the figure figure high take 6 it web user power the in in web external was the is the web got computer paper class class the about to \n",
            "------ temperature: 1.0\n",
            "engine results of a website 2 sql structured query language components world resource is be fonts copyright mobile in customizability support mobile desktop power website less language the the browser to pingdom following is the than indicates that window example microsoft and foundation using language nested started the improving called \n",
            "------ temperature: 1.2\n",
            "engine results of a website 2 sql structured query language preprocessor taken times by external easiness attributes 13 tv entire time pagespeed was project shows 30 and on external perform browsers best of sheets moreover people of to project the a design one take page cli background and frontend were \n",
            "epoch 37\n",
            "Epoch 1/1\n",
            "  640/35451 [..............................] - ETA: 20s - loss: 1.6363"
          ],
          "name": "stdout"
        },
        {
          "output_type": "stream",
          "text": [
            "35451/35451 [==============================] - 21s 605us/step - loss: 1.8983\n",
            "--- Generating with seed: \"two frontend frameworks both frameworks are open source html css\"\n",
            "------ temperature: 0.2\n",
            "two frontend frameworks both frameworks are open source html css syntactically in and the syntax less web user external templates issues 2 popular figure befekadu better is is external popular was several where external user tv they they they components external research is the where website website 1 navigation foundation \n",
            "------ temperature: 0.5\n",
            "two frontend frameworks both frameworks are open source html css 1 paper was the internally in above paper semantic tv saved syntactically foundation research using see class project on external offers using and a foundation components multitude frameworks they the and the for to 2 get high pagespeed high it \n",
            "------ temperature: 1.0\n",
            "two frontend frameworks both frameworks are open source html css size for for to two second tools plugins chrome 1 milliseconds has and of external external folder common was community in the 8 is the 9 the the naturally plugins latest syntax 14 "
          ],
          "name": "stdout"
        },
        {
          "output_type": "stream",
          "text": [
            "will a developers high class a open \n",
            "------ temperature: 1.2\n",
            "two frontend frameworks both frameworks are open source html css quality 2017 and 3 was structure building due according of the 393 background have in less is fix website support folder syntax css last colours around two as support and com a the the the the improving plugins and coding \n",
            "epoch 38\n",
            "Epoch 1/1\n",
            "26112/35451 [=====================>........] - ETA: 5s - loss: 1.8011"
          ],
          "name": "stdout"
        },
        {
          "output_type": "stream",
          "text": [
            "35451/35451 [==============================] - 21s 603us/step - loss: 1.8832\n",
            "--- Generating with seed: \"e2 80 94and revenue accessed 28 may 2017 19 automation\"\n",
            "------ temperature: 0.2\n",
            "e2 80 94and revenue accessed 28 may 2017 19 automation class complicated complicated speed 1 and were websites user and region web two 1 addition a a for in web video syntactically external external rules figure web and trend term in because external external score class speed above the two \n",
            "------ temperature: 0.5\n",
            "e2 80 94and revenue accessed 28 may 2017 19 automation to to external a web semantic the figure as external term and one 1 figure figure term can a results plugins overflow syntactically the in code 1 2 popular websites and of easiness 1 by in external 38 syntactically as \n",
            "------ temperature: 1.0\n",
            "e2 80 94and revenue accessed 28 may 2017 19 automation are support and however the of install the to another means browser speed bootstrap of the nested to language web moreover relative minified background syntactically that external foundation to language first features the interface categorized a that the power the \n",
            "------ temperature: 1.2\n",
            "e2 80 94and revenue accessed 28 may 2017 19 automation in battery user addis full that 1 byte with bootstrap "
          ],
          "name": "stdout"
        },
        {
          "output_type": "stream",
          "text": [
            "frameworks web both common internally of speed class class source at browser 17 the user it local 8 the dozens less 11 syntactically syntactically syntactically syntactically testing font 8 out \n",
            "epoch 39\n",
            "Epoch 1/1\n",
            "35451/35451 [==============================] - 21s 606us/step - loss: 1.8880\n",
            "--- Generating with seed: \"1 on the next page shows a comparison between angularjs\"\n",
            "------ temperature: 0.2\n",
            "1 on the next page shows a comparison between angularjs that websites the than frontend 1 that 1 external they they external 6 figure that of and class external where they they they they components components that it tv before research external they "
          ],
          "name": "stdout"
        },
        {
          "output_type": "stream",
          "text": [
            "they a for research for website mobile \n",
            "------ temperature: 0.5\n",
            "1 on the next page shows a comparison between angularjs rules the latest engineering following minified the minified web in locator less research templates they they they they website external locator user the to than project file frontend rules external foundation syntactically syntactically 2 language than websites to it website \n",
            "------ temperature: 1.0\n",
            "1 on the next page shows a comparison between angularjs insights bootstrap package 9 code 10 4 and using that like window resource a the tablets furthermore built 3 were 1 in for overview plugins 29 different external are was the activity online and moreover and resource class is started \n",
            "------ temperature: 1.2\n",
            "1 on the next page shows a comparison between angularjs the illustrated bootstrap syntactically translates of foundation css user the to in web 14 provided will header 100 results the plugins plugins system 14 website 4 of the to around 5 is external were was founded optimization full stylesheets are \n"
          ],
          "name": "stdout"
        }
      ]
    },
    {
      "metadata": {
        "id": "mcX68stvbhow",
        "colab_type": "text"
      },
      "cell_type": "markdown",
      "source": [
        "**Generated text after 40 epochs**  \n",
        "--- Generating with seed: \"1 on the next page shows a comparison between angularjs\"  \n",
        "------ temperature: 0.2  \n",
        "1 on the next page shows a comparison between angularjs that websites the than frontend 1 that 1 external they they external 6 figure that of and class external where they they they they components components that it tv before research external they they a for research for website mobile   \n",
        "------ temperature: 0.5  \n",
        "1 on the next page shows a comparison between angularjs rules the latest engineering following minified the minified web in locator less research templates they they they they website external locator user the to than project file frontend rules external foundation syntactically syntactically 2 language than websites to it website   \n",
        "------ temperature: 1.0  \n",
        "1 on the next page shows a comparison between angularjs insights bootstrap package 9 code 10 4 and using that like window resource a the tablets furthermore built 3 were 1 in for overview plugins 29 different external are was the activity online and moreover and resource class is started   \n",
        "------ temperature: 1.2  \n",
        "1 on the next page shows a comparison between angularjs the illustrated bootstrap syntactically translates of foundation css user the to in web 14 provided will header 100 results the plugins plugins system 14 website 4 of the to around 5 is external were was founded optimization full stylesheets are   "
      ]
    }
  ]
}