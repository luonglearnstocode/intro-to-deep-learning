{
  "nbformat": 4,
  "nbformat_minor": 0,
  "metadata": {
    "colab": {
      "name": "Session07-word-level-text-generation.ipynb",
      "version": "0.3.2",
      "views": {},
      "default_view": {},
      "provenance": [],
      "collapsed_sections": []
    },
    "kernelspec": {
      "name": "python3",
      "display_name": "Python 3"
    },
    "accelerator": "GPU"
  },
  "cells": [
    {
      "metadata": {
        "id": "FzbyA8YdlxJ_",
        "colab_type": "text"
      },
      "cell_type": "markdown",
      "source": [
        "Name: **Luong Nguyen**  \n",
        "Student ID: **1504210**  "
      ]
    },
    {
      "metadata": {
        "id": "WVWzTZnElxKC",
        "colab_type": "text"
      },
      "cell_type": "markdown",
      "source": [
        "# Introduction to Deep Learning \n",
        "\n",
        "## Session07: word-level text generation\n",
        "____\n",
        "Based on example code from Chollet's book chapter [8.1](https://github.com/fchollet/deep-learning-with-python-notebooks/blob/master/8.1-text-generation-with-lstm.ipynb)"
      ]
    },
    {
      "metadata": {
        "id": "5BnM8_iQlxKD",
        "colab_type": "text"
      },
      "cell_type": "markdown",
      "source": [
        "## Import the packages needed for this assignment"
      ]
    },
    {
      "metadata": {
        "id": "XCpvTWn2l4-d",
        "colab_type": "code",
        "colab": {
          "autoexec": {
            "startup": false,
            "wait_interval": 0
          },
          "output_extras": [
            {
              "item_id": 1
            }
          ],
          "base_uri": "https://localhost:8080/",
          "height": 34
        },
        "outputId": "099e179f-c098-4ba7-a908-b8c2e747934f",
        "executionInfo": {
          "status": "ok",
          "timestamp": 1521014256556,
          "user_tz": -120,
          "elapsed": 3247,
          "user": {
            "displayName": "Lượng Nguyễn",
            "photoUrl": "//lh4.googleusercontent.com/-0tk3vfJkdYg/AAAAAAAAAAI/AAAAAAAAAIU/xKDhDVByUns/s50-c-k-no/photo.jpg",
            "userId": "101670466780780394701"
          }
        }
      },
      "cell_type": "code",
      "source": [
        "# install keras on google colab\n",
        "!pip install -q keras\n",
        "# is GPU working?\n",
        "import tensorflow as tf\n",
        "tf.test.gpu_device_name()"
      ],
      "execution_count": 2,
      "outputs": [
        {
          "output_type": "execute_result",
          "data": {
            "text/plain": [
              "'/device:GPU:0'"
            ]
          },
          "metadata": {
            "tags": []
          },
          "execution_count": 2
        }
      ]
    },
    {
      "metadata": {
        "id": "DkZ1ZrAnlxKF",
        "colab_type": "code",
        "colab": {
          "autoexec": {
            "startup": false,
            "wait_interval": 0
          },
          "output_extras": [
            {
              "item_id": 1
            }
          ],
          "base_uri": "https://localhost:8080/",
          "height": 34
        },
        "outputId": "6ae4fbde-641a-4064-8fbe-ee53cc86f25a",
        "executionInfo": {
          "status": "ok",
          "timestamp": 1521014259230,
          "user_tz": -120,
          "elapsed": 573,
          "user": {
            "displayName": "Lượng Nguyễn",
            "photoUrl": "//lh4.googleusercontent.com/-0tk3vfJkdYg/AAAAAAAAAAI/AAAAAAAAAIU/xKDhDVByUns/s50-c-k-no/photo.jpg",
            "userId": "101670466780780394701"
          }
        }
      },
      "cell_type": "code",
      "source": [
        "# import packages\n",
        "import numpy as np\n",
        "import keras\n",
        "from keras import models, layers\n",
        "from keras.utils.np_utils import to_categorical"
      ],
      "execution_count": 3,
      "outputs": [
        {
          "output_type": "stream",
          "text": [
            "Using TensorFlow backend.\n"
          ],
          "name": "stderr"
        }
      ]
    },
    {
      "metadata": {
        "id": "ccPgfWd3_i_x",
        "colab_type": "text"
      },
      "cell_type": "markdown",
      "source": [
        "## Prepare data"
      ]
    },
    {
      "metadata": {
        "id": "xh-AiIQcfu2S",
        "colab_type": "text"
      },
      "cell_type": "markdown",
      "source": [
        "### Load data"
      ]
    },
    {
      "metadata": {
        "id": "ek9WC0nafy74",
        "colab_type": "text"
      },
      "cell_type": "markdown",
      "source": [
        "I downloaded 10 Metropolia Bsc theses written in English related to Web programming from Theseus, converted them to .txt, concat them into 1 .txt file."
      ]
    },
    {
      "metadata": {
        "id": "n12TD8XKz5PN",
        "colab_type": "code",
        "colab": {
          "autoexec": {
            "startup": false,
            "wait_interval": 0
          },
          "output_extras": [
            {
              "item_id": 1
            }
          ],
          "base_uri": "https://localhost:8080/",
          "height": 34
        },
        "outputId": "47005fc2-dbab-40fd-867a-f9e9b0d8147b",
        "executionInfo": {
          "status": "ok",
          "timestamp": 1521014262899,
          "user_tz": -120,
          "elapsed": 519,
          "user": {
            "displayName": "Lượng Nguyễn",
            "photoUrl": "//lh4.googleusercontent.com/-0tk3vfJkdYg/AAAAAAAAAAI/AAAAAAAAAIU/xKDhDVByUns/s50-c-k-no/photo.jpg",
            "userId": "101670466780780394701"
          }
        }
      },
      "cell_type": "code",
      "source": [
        "path = keras.utils.get_file(\n",
        "    'text.txt',\n",
        "    origin='http://users.metropolia.fi/~luongn/text.txt')\n",
        "text = open(path).read().lower()\n",
        "print('Corpus length:', len(text))"
      ],
      "execution_count": 4,
      "outputs": [
        {
          "output_type": "stream",
          "text": [
            "Corpus length: 656120\n"
          ],
          "name": "stdout"
        }
      ]
    },
    {
      "metadata": {
        "id": "1zJiEc6nhIrg",
        "colab_type": "text"
      },
      "cell_type": "markdown",
      "source": [
        "A look at `text`"
      ]
    },
    {
      "metadata": {
        "id": "qhojxysP98jZ",
        "colab_type": "code",
        "colab": {
          "autoexec": {
            "startup": false,
            "wait_interval": 0
          },
          "output_extras": [
            {
              "item_id": 1
            }
          ],
          "base_uri": "https://localhost:8080/",
          "height": 34
        },
        "outputId": "ce12725e-334f-4016-e2dd-95030c5abd1b",
        "executionInfo": {
          "status": "ok",
          "timestamp": 1521013559709,
          "user_tz": -120,
          "elapsed": 549,
          "user": {
            "displayName": "Lượng Nguyễn",
            "photoUrl": "//lh4.googleusercontent.com/-0tk3vfJkdYg/AAAAAAAAAAI/AAAAAAAAAIU/xKDhDVByUns/s50-c-k-no/photo.jpg",
            "userId": "101670466780780394701"
          }
        }
      },
      "cell_type": "code",
      "source": [
        "text[:100]"
      ],
      "execution_count": 44,
      "outputs": [
        {
          "output_type": "execute_result",
          "data": {
            "text/plain": [
              "'befekadu mezgebu temere\\n\\nresponsive web application using bootstrap\\nand foundation\\ncomparing bootstr'"
            ]
          },
          "metadata": {
            "tags": []
          },
          "execution_count": 44
        }
      ]
    },
    {
      "metadata": {
        "id": "l0R4ajZwhq8F",
        "colab_type": "text"
      },
      "cell_type": "markdown",
      "source": [
        "### Preprocess data"
      ]
    },
    {
      "metadata": {
        "id": "RolMcEcahMM6",
        "colab_type": "text"
      },
      "cell_type": "markdown",
      "source": [
        "Replace non-alphanumeric characters with whitespaces, then `split()` to get `words` array."
      ]
    },
    {
      "metadata": {
        "id": "ljkdzn9-XdJG",
        "colab_type": "code",
        "colab": {
          "autoexec": {
            "startup": false,
            "wait_interval": 0
          },
          "output_extras": [
            {
              "item_id": 1
            }
          ],
          "base_uri": "https://localhost:8080/",
          "height": 187
        },
        "outputId": "63aeaf54-c0f0-4c77-ce2e-37711d8a006b",
        "executionInfo": {
          "status": "ok",
          "timestamp": 1521014424436,
          "user_tz": -120,
          "elapsed": 686,
          "user": {
            "displayName": "Lượng Nguyễn",
            "photoUrl": "//lh4.googleusercontent.com/-0tk3vfJkdYg/AAAAAAAAAAI/AAAAAAAAAIU/xKDhDVByUns/s50-c-k-no/photo.jpg",
            "userId": "101670466780780394701"
          }
        }
      },
      "cell_type": "code",
      "source": [
        "import re\n",
        "text = re.sub(r'\\W+', ' ', text)\n",
        "\n",
        "words = text.split()\n",
        "words[:10]"
      ],
      "execution_count": 5,
      "outputs": [
        {
          "output_type": "execute_result",
          "data": {
            "text/plain": [
              "['befekadu',\n",
              " 'mezgebu',\n",
              " 'temere',\n",
              " 'responsive',\n",
              " 'web',\n",
              " 'application',\n",
              " 'using',\n",
              " 'bootstrap',\n",
              " 'and',\n",
              " 'foundation']"
            ]
          },
          "metadata": {
            "tags": []
          },
          "execution_count": 5
        }
      ]
    },
    {
      "metadata": {
        "id": "R7QE4iKBR7KF",
        "colab_type": "code",
        "colab": {
          "autoexec": {
            "startup": false,
            "wait_interval": 0
          },
          "output_extras": [
            {
              "item_id": 3
            }
          ],
          "base_uri": "https://localhost:8080/",
          "height": 102
        },
        "outputId": "8936bafc-ef52-4049-a855-2a4ce9823ceb",
        "executionInfo": {
          "status": "ok",
          "timestamp": 1521017431197,
          "user_tz": -120,
          "elapsed": 1355,
          "user": {
            "displayName": "Lượng Nguyễn",
            "photoUrl": "//lh4.googleusercontent.com/-0tk3vfJkdYg/AAAAAAAAAAI/AAAAAAAAAIU/xKDhDVByUns/s50-c-k-no/photo.jpg",
            "userId": "101670466780780394701"
          }
        }
      },
      "cell_type": "code",
      "source": [
        "# Length of extracted word sequences\n",
        "maxlen = 10\n",
        "\n",
        "# We sample a new sequence every `step` word\n",
        "step = 3\n",
        "\n",
        "# This holds our extracted sequences\n",
        "sentences = []\n",
        "\n",
        "# This holds the targets (the follow-up words)\n",
        "next_words = []\n",
        "\n",
        "for i in range(0, len(words) - maxlen, step):\n",
        "    sentences.append(words[i: i + maxlen])\n",
        "    next_words.append(words[i + maxlen])\n",
        "print('Number of sequences:', len(sentences))\n",
        "\n",
        "\n",
        "# List of unique words in the corpus\n",
        "unique_words = sorted(list(set(words)))\n",
        "print('Unique words:', len(unique_words))\n",
        "# Dictionary mapping unique words to their index in `unique_words`\n",
        "word_indices = dict((word, unique_words.index(word)) for word in unique_words)\n",
        "\n",
        "print('Vectorization...')\n",
        "x = np.zeros((len(sentences), maxlen))\n",
        "y = np.zeros((len(sentences), len(unique_words)), dtype=np.bool)\n",
        "for i, sentence in enumerate(sentences):\n",
        "    for t, word in enumerate(sentence):\n",
        "        x[i, t] = word_indices[word]\n",
        "    y[i, word_indices[next_words[i]]] = 1\n",
        "    \n",
        "print(\"x shape: %s\" % (str(x.shape)))\n",
        "print(\"y shape: %s\" % (str(y.shape)))"
      ],
      "execution_count": 15,
      "outputs": [
        {
          "output_type": "stream",
          "text": [
            "Number of sequences: 35451\n",
            "Unique words: 6679\n",
            "Vectorization...\n",
            "x shape: (35451, 10)\n",
            "y shape: (35451, 6679)\n"
          ],
          "name": "stdout"
        }
      ]
    },
    {
      "metadata": {
        "id": "FDaqPITdh5rD",
        "colab_type": "text"
      },
      "cell_type": "markdown",
      "source": [
        "## Build network"
      ]
    },
    {
      "metadata": {
        "id": "t6ktsupy15zb",
        "colab_type": "code",
        "colab": {
          "autoexec": {
            "startup": false,
            "wait_interval": 0
          },
          "output_extras": [
            {
              "item_id": 1
            }
          ],
          "base_uri": "https://localhost:8080/",
          "height": 238
        },
        "outputId": "9c232006-9009-40fd-d339-9ef11f30a964",
        "executionInfo": {
          "status": "ok",
          "timestamp": 1521017447316,
          "user_tz": -120,
          "elapsed": 738,
          "user": {
            "displayName": "Lượng Nguyễn",
            "photoUrl": "//lh4.googleusercontent.com/-0tk3vfJkdYg/AAAAAAAAAAI/AAAAAAAAAIU/xKDhDVByUns/s50-c-k-no/photo.jpg",
            "userId": "101670466780780394701"
          }
        }
      },
      "cell_type": "code",
      "source": [
        "model = models.Sequential()\n",
        "model.add(layers.Embedding(len(unique_words), 32))\n",
        "model.add(layers.LSTM(128))\n",
        "model.add(layers.Dense(len(unique_words), activation='softmax'))\n",
        "optimizer = keras.optimizers.RMSprop(lr=0.01)\n",
        "model.compile(loss='categorical_crossentropy', optimizer=optimizer)\n",
        "model.summary()"
      ],
      "execution_count": 16,
      "outputs": [
        {
          "output_type": "stream",
          "text": [
            "_________________________________________________________________\n",
            "Layer (type)                 Output Shape              Param #   \n",
            "=================================================================\n",
            "embedding_3 (Embedding)      (None, None, 32)          213728    \n",
            "_________________________________________________________________\n",
            "lstm_4 (LSTM)                (None, 128)               82432     \n",
            "_________________________________________________________________\n",
            "dense_4 (Dense)              (None, 6679)              861591    \n",
            "=================================================================\n",
            "Total params: 1,157,751\n",
            "Trainable params: 1,157,751\n",
            "Non-trainable params: 0\n",
            "_________________________________________________________________\n"
          ],
          "name": "stdout"
        }
      ]
    },
    {
      "metadata": {
        "id": "euw6O8-piQ_o",
        "colab_type": "text"
      },
      "cell_type": "markdown",
      "source": [
        "## Train model and sample"
      ]
    },
    {
      "metadata": {
        "id": "xxrKP394id97",
        "colab_type": "text"
      },
      "cell_type": "markdown",
      "source": [
        "Reweight the original probability distribution coming out of the model, and draw a word index from it "
      ]
    },
    {
      "metadata": {
        "id": "sqU61xZ5arxb",
        "colab_type": "code",
        "colab": {
          "autoexec": {
            "startup": false,
            "wait_interval": 0
          }
        }
      },
      "cell_type": "code",
      "source": [
        "def sample(preds, temperature=1.0):\n",
        "    preds = np.asarray(preds).astype('float64')\n",
        "    preds = np.log(preds) / temperature\n",
        "    exp_preds = np.exp(preds)\n",
        "    preds = exp_preds / np.sum(exp_preds)\n",
        "    probas = np.random.multinomial(1, preds, 1)\n",
        "    return np.argmax(probas)"
      ],
      "execution_count": 0,
      "outputs": []
    },
    {
      "metadata": {
        "id": "lLWvHTb_inmN",
        "colab_type": "text"
      },
      "cell_type": "markdown",
      "source": [
        "Repeatedly train and generate text"
      ]
    },
    {
      "metadata": {
        "id": "2PCK9HzTayKE",
        "colab_type": "code",
        "colab": {
          "autoexec": {
            "startup": false,
            "wait_interval": 0
          },
          "output_extras": [
            {
              "item_id": 32
            },
            {
              "item_id": 65
            },
            {
              "item_id": 86
            },
            {
              "item_id": 102
            },
            {
              "item_id": 135
            },
            {
              "item_id": 165
            },
            {
              "item_id": 172
            },
            {
              "item_id": 204
            },
            {
              "item_id": 208
            },
            {
              "item_id": 209
            },
            {
              "item_id": 241
            },
            {
              "item_id": 273
            },
            {
              "item_id": 292
            },
            {
              "item_id": 309
            },
            {
              "item_id": 341
            },
            {
              "item_id": 360
            },
            {
              "item_id": 376
            },
            {
              "item_id": 405
            },
            {
              "item_id": 424
            },
            {
              "item_id": 441
            },
            {
              "item_id": 472
            },
            {
              "item_id": 493
            },
            {
              "item_id": 507
            },
            {
              "item_id": 539
            },
            {
              "item_id": 560
            },
            {
              "item_id": 573
            },
            {
              "item_id": 603
            },
            {
              "item_id": 624
            },
            {
              "item_id": 637
            },
            {
              "item_id": 667
            },
            {
              "item_id": 686
            },
            {
              "item_id": 701
            },
            {
              "item_id": 731
            },
            {
              "item_id": 751
            },
            {
              "item_id": 763
            },
            {
              "item_id": 793
            },
            {
              "item_id": 813
            },
            {
              "item_id": 826
            },
            {
              "item_id": 855
            },
            {
              "item_id": 872
            },
            {
              "item_id": 888
            },
            {
              "item_id": 917
            },
            {
              "item_id": 938
            },
            {
              "item_id": 950
            },
            {
              "item_id": 979
            },
            {
              "item_id": 1004
            },
            {
              "item_id": 1010
            },
            {
              "item_id": 1038
            },
            {
              "item_id": 1056
            },
            {
              "item_id": 1070
            },
            {
              "item_id": 1095
            },
            {
              "item_id": 1109
            },
            {
              "item_id": 1127
            },
            {
              "item_id": 1153
            },
            {
              "item_id": 1169
            },
            {
              "item_id": 1184
            },
            {
              "item_id": 1212
            },
            {
              "item_id": 1228
            },
            {
              "item_id": 1243
            },
            {
              "item_id": 1270
            },
            {
              "item_id": 1288
            },
            {
              "item_id": 1301
            },
            {
              "item_id": 1329
            },
            {
              "item_id": 1348
            },
            {
              "item_id": 1359
            },
            {
              "item_id": 1386
            },
            {
              "item_id": 1403
            },
            {
              "item_id": 1416
            },
            {
              "item_id": 1443
            },
            {
              "item_id": 1458
            },
            {
              "item_id": 1472
            },
            {
              "item_id": 1499
            },
            {
              "item_id": 1514
            },
            {
              "item_id": 1528
            },
            {
              "item_id": 1554
            },
            {
              "item_id": 1569
            },
            {
              "item_id": 1584
            },
            {
              "item_id": 1610
            },
            {
              "item_id": 1633
            },
            {
              "item_id": 1639
            },
            {
              "item_id": 1664
            },
            {
              "item_id": 1678
            },
            {
              "item_id": 1693
            },
            {
              "item_id": 1718
            },
            {
              "item_id": 1733
            },
            {
              "item_id": 1747
            },
            {
              "item_id": 1772
            },
            {
              "item_id": 1792
            },
            {
              "item_id": 1801
            },
            {
              "item_id": 1826
            },
            {
              "item_id": 1843
            },
            {
              "item_id": 1854
            },
            {
              "item_id": 1879
            },
            {
              "item_id": 1894
            },
            {
              "item_id": 1906
            },
            {
              "item_id": 1931
            },
            {
              "item_id": 1949
            },
            {
              "item_id": 1959
            },
            {
              "item_id": 1983
            },
            {
              "item_id": 1998
            },
            {
              "item_id": 2010
            },
            {
              "item_id": 2033
            },
            {
              "item_id": 2039
            },
            {
              "item_id": 2062
            },
            {
              "item_id": 2086
            },
            {
              "item_id": 2100
            },
            {
              "item_id": 2113
            },
            {
              "item_id": 2137
            },
            {
              "item_id": 2153
            },
            {
              "item_id": 2164
            },
            {
              "item_id": 2188
            },
            {
              "item_id": 2200
            },
            {
              "item_id": 2215
            },
            {
              "item_id": 2238
            },
            {
              "item_id": 2255
            },
            {
              "item_id": 2265
            },
            {
              "item_id": 2288
            },
            {
              "item_id": 2308
            },
            {
              "item_id": 2315
            },
            {
              "item_id": 2316
            }
          ],
          "base_uri": "https://localhost:8080/",
          "height": 16187
        },
        "outputId": "764936b6-8aa8-446f-d383-a5621b7eeadc",
        "executionInfo": {
          "status": "ok",
          "timestamp": 1521018735783,
          "user_tz": -120,
          "elapsed": 682811,
          "user": {
            "displayName": "Lượng Nguyễn",
            "photoUrl": "//lh4.googleusercontent.com/-0tk3vfJkdYg/AAAAAAAAAAI/AAAAAAAAAIU/xKDhDVByUns/s50-c-k-no/photo.jpg",
            "userId": "101670466780780394701"
          }
        }
      },
      "cell_type": "code",
      "source": [
        "import random\n",
        "import sys\n",
        "\n",
        "for epoch in range(1, 80):\n",
        "    print('epoch', epoch)\n",
        "    # Fit the model for 1 epoch on the available training data\n",
        "    model.fit(x, y,\n",
        "              batch_size=128,\n",
        "              epochs=1)\n",
        "\n",
        "    # Select a text seed at random\n",
        "    start_index = random.randint(0, len(words) - maxlen - 1)\n",
        "    generated_text = words[start_index: start_index + maxlen]\n",
        "    generated_text_str = ' '.join(generated_text)\n",
        "    print('--- Generating with seed: \"' + generated_text_str + '\"')\n",
        "\n",
        "    for temperature in [0.2, 0.5, 1.0, 1.2]:\n",
        "        print('------ temperature:', temperature)\n",
        "        sys.stdout.write(generated_text_str + \" \")\n",
        "\n",
        "        # We generate 40 words\n",
        "        for i in range(40):\n",
        "            sampled = np.zeros((1, maxlen))\n",
        "            for t, word in enumerate(generated_text):\n",
        "                sampled[0, t] = word_indices[word]\n",
        "\n",
        "            preds = model.predict(sampled, verbose=0)[0]\n",
        "            next_index = sample(preds, temperature)\n",
        "            next_word = words[next_index]\n",
        "\n",
        "            generated_text.append(next_word)\n",
        "            generated_text = generated_text[1:]\n",
        "\n",
        "            sys.stdout.write(next_word + \" \")\n",
        "            sys.stdout.flush()\n",
        "        print()"
      ],
      "execution_count": 19,
      "outputs": [
        {
          "output_type": "stream",
          "text": [
            "epoch 1\n",
            "Epoch 1/1\n",
            "35451/35451 [==============================] - 7s 195us/step - loss: 3.9424\n",
            "--- Generating with seed: \"to be saved in mongodb by providing validation rules at\"\n",
            "------ temperature: 0.2\n",
            "to be saved in mongodb by providing validation rules at external and the 8 this is the and and project 7 before external of external means plugins external wireframe figure frameworks a figure pagespeed mobile internally plugins it web user and 0 the templates is the the source constant css \n",
            "------ temperature: 0.5\n",
            "to be saved in mongodb by providing validation rules at of code including view class syntactically the to 18 paper web user and the the was the two simplifies 17 were one a that which fix class translated the the project results plugins they components framework javascript they they without \n",
            "------ temperature: 1.0\n",
            "to be saved in mongodb by providing validation rules at relative web user and external according the users as that a is the of for and also features bootstrap 1 popular websites web user and 4 websites mobile internally 6 a tv is web user and 2 pixels and about \n",
            "------ temperature: 1.2\n",
            "to be saved in mongodb by providing validation rules at improving images and "
          ],
          "name": "stdout"
        },
        {
          "output_type": "stream",
          "text": [
            "a fluid is resource syntactically file easiness popular external few the twitter the is web entire to to and which tablets including constant mobile figure abstract iii used pagespeed constant three the moreover 6 paper mobile the \n",
            "epoch 2\n",
            "Epoch 1/1\n",
            "35451/35451 [==============================] - 7s 201us/step - loss: 3.9154\n",
            "--- Generating with seed: \"url https www datical com blog 6 problems devops helps\"\n",
            "------ temperature: 0.2\n",
            "url https www datical com blog 6 problems devops helps the of external resource megabyte is the about about about about external wireframe entire than external were the 1 popular rules to external technical is web about including it size pagespeed plugins external were the external of external 1 external \n",
            "------ temperature: 0.5\n",
            "url https www datical com blog 6 problems devops helps of is illustrated class firefox pagespeed external of external were the according the in external were the 5 paper external moreover external as class the than com versions plugins 3 popular templates "
          ],
          "name": "stdout"
        },
        {
          "output_type": "stream",
          "text": [
            "syntactically websites forms external and external means images \n",
            "------ temperature: 1.0\n",
            "url https www datical com blog 6 problems devops helps well in last syntactically is source the the the constant in 5 where including css in web video they they tested web frameworks latest syntactically fast in external and of is in a project be easiness pagespeed 17 with frameworks \n",
            "------ temperature: 1.2\n",
            "url https www datical com blog 6 problems devops helps features the were fluid the moreover websites the region plugins performing external 1 the according the content class pagespeed and and of and website including it website is and 8 templates left 1 with conclude and an 1 that with \n",
            "epoch 3\n",
            "Epoch 1/1\n",
            "21632/35451 [=================>............] - ETA: 2s - loss: 3.6845"
          ],
          "name": "stdout"
        },
        {
          "output_type": "stream",
          "text": [
            "35451/35451 [==============================] - 7s 206us/step - loss: 3.8885\n",
            "--- Generating with seed: \"leads to a less error prone code this is most\"\n",
            "------ temperature: 0.2\n",
            "leads to a less error prone code this is most plugins speed got 4 trend using and and external technical is the templates the was several was the improving external wireframe next next tool plugins 1 befekadu of external resource and speed plugins external as easiness with external april used \n",
            "------ temperature: 0.5\n",
            "leads to a less error prone code this is most were the package to second 8 as is the and of website creating about websites april a was class like web user and external elements they they a px rules it line research plugins speed using for templates 3 resource \n",
            "------ temperature: 1.0\n",
            "leads to a less error prone code this is most including optimizilla plugins pagespeed 1 paper web syntactically 3 package to of external the project and and project websites mobile optimize was one was of performing second and before window external 1 enterprise the frontend that which 1 popular a \n",
            "------ temperature: 1.2\n",
            "leads to a less error prone code this is most rules was like web results this that 1 more performing wireframe be saved "
          ],
          "name": "stdout"
        },
        {
          "output_type": "stream",
          "text": [
            "plugins plugins cross below external shows external dom external view it the two internally 4 external and as for has project is example size pagespeed compared the \n",
            "epoch 4\n",
            "Epoch 1/1\n",
            "35451/35451 [==============================] - 7s 207us/step - loss: 3.8720\n",
            "--- Generating with seed: \"jsx is statically typed and mostly typesafe the quality of\"\n",
            "------ temperature: 0.2\n",
            "jsx is statically typed and mostly typesafe the quality of external of images syntactically 4 popular project external were the also real a for the results plugins the this this this research mobile internally according the popular changing external download plugins computer tv components several technical frameworks they they they \n",
            "------ temperature: 0.5\n",
            "jsx is statically typed and mostly typesafe the quality of they they they they they they used 35 plugins they they of is the for project the according the more footer experience device project well external technical trend the that the results smaller that they components speed 1 a and \n",
            "------ temperature: 1.0\n",
            "jsx is statically typed and mostly typesafe the quality of foundation and "
          ],
          "name": "stdout"
        },
        {
          "output_type": "stream",
          "text": [
            "and used get and the around they in the view 1 and 10 before relative web it project external and external more the internally 13 and of images syntactically they they components external websites score they components external \n",
            "------ temperature: 1.2\n",
            "jsx is statically typed and mostly typesafe the quality of means was to websites 1 external articles class by well good below external the features the untyped and modern com and of in language 1 it which they css html5 the thesis website web semantic than and got were get \n",
            "epoch 5\n",
            "Epoch 1/1\n",
            "32768/35451 [==========================>...] - ETA: 0s - loss: 3.7990"
          ],
          "name": "stdout"
        },
        {
          "output_type": "stream",
          "text": [
            "35451/35451 [==============================] - 7s 206us/step - loss: 3.8361\n",
            "--- Generating with seed: \"updatescore selectedplayer 5 players update _id selectedplayer inc score 5\"\n",
            "------ temperature: 0.2\n",
            "updatescore selectedplayer 5 players update _id selectedplayer inc score 5 programming programming video rules 1 html constant web about for external means including it 1 paper example pagespeed as 1 it 1 paper language web compared 1 how plugins that was get tools components components class syntactically javascript internally founded \n",
            "------ temperature: 0.5\n",
            "updatescore selectedplayer 5 players update _id selectedplayer inc score 5 class syntactically window two results plugins syntactically research they they they they used bootstrap syntactically customizability following external wireframe figure better to web user syntactically javascript of rules following 13 17 1 befekadu of website including the and and and \n",
            "------ temperature: 1.0\n",
            "updatescore selectedplayer 5 players update _id selectedplayer inc score 5 and and and because plugins plugins is websites 1 for resource syntactically pagespeed plugins window processing 5 that 1 last computer 5 next chosen wait applied popular pingdom video screenshot it desktop syntactically external and and external and and wireframe \n",
            "------ temperature: 1.2\n",
            "updatescore selectedplayer 5 players update _id selectedplayer inc score 5 figure "
          ],
          "name": "stdout"
        },
        {
          "output_type": "stream",
          "text": [
            "that and for research attorneys syntactically were 3 by region html the screen things components embedded class current performing css got speed including templates tv the desktop the is 2 html web 1 syntactically less untyped entire semantic for \n",
            "epoch 6\n",
            "Epoch 1/1\n",
            "35451/35451 [==============================] - 7s 208us/step - loss: 3.8259\n",
            "--- Generating with seed: \"http www javaworld com article 2077444 learn java speaking on\"\n",
            "------ temperature: 0.2\n",
            "http www javaworld com article 2077444 learn java speaking on web semantic the semantic different 8 frontend got it 1 paper external technical resource syntactically with relative 1 of the view syntactically plugins syntactically external 1 external means class external technical syntactically external means images performing external wireframe creating external \n",
            "------ temperature: 0.5\n",
            "http www javaworld com article 2077444 learn java speaking on means external technical class is and be and 4 that external 1 paper external cascading around figure was around figure was "
          ],
          "name": "stdout"
        },
        {
          "output_type": "stream",
          "text": [
            "search external were the that which they components they com was the and for sharing the is get website \n",
            "------ temperature: 1.0\n",
            "http www javaworld com article 2077444 learn java speaking on enterprise plugins syntactically web rules results external means plugins external and external technical class the screen 1 performing 1 project befekadu befekadu the chrome to as web about 1 paper is web syntactically and is web class got loading mobile \n",
            "------ temperature: 1.2\n",
            "http www javaworld com article 2077444 learn java speaking on programming define in speed source it size syntactically external pixels resource including syntactically webpage webpage syntactically well components class is mengistu external are is web class technical syntactically web frameworks syntactically 3 mengistu results with templates external framework according the \n",
            "epoch 7\n",
            "Epoch 1/1\n",
            "  896/35451 [..............................] - ETA: 7s - loss: 3.1896"
          ],
          "name": "stdout"
        },
        {
          "output_type": "stream",
          "text": [
            "/usr/local/lib/python3.6/dist-packages/ipykernel_launcher.py:3: RuntimeWarning: divide by zero encountered in log\n",
            "  This is separate from the ipykernel package so we can avoid doing imports until\n"
          ],
          "name": "stderr"
        },
        {
          "output_type": "stream",
          "text": [
            "35451/35451 [==============================] - 7s 206us/step - loss: 3.7935\n",
            "--- Generating with seed: \"from one developer to another one of the main technical\"\n",
            "------ temperature: 0.2\n",
            "from one developer to another one of the main technical another the package can a load the less source constant is the internally because plugins syntactically 6 external means window is lower frontend 1 was get and the templates 2 different was several different untyped rules at units as web \n",
            "------ temperature: 0.5\n",
            "from one developer to another one of the main technical user and interface of code performance resource class be 2 syntactically websites score document framework content external well external plugins speed to external external relative the moreover was get the static and enterprise document above 2 computer as web is \n",
            "------ temperature: 1.0\n",
            "from one developer to another one of the main technical 6 cascading frameworks pagespeed versions of that external the was the https full according the it used the important latest external applied and according the june plugins speed using of external 1 time bootstrap is in user and last speed \n",
            "------ temperature: 1.2\n",
            "from one developer to another one of the main technical 1 befekadu 5 "
          ],
          "name": "stdout"
        },
        {
          "output_type": "stream",
          "text": [
            "for paper and readability in figure speed version plugins 1 to different of external open is the design class rem webpage for external and of as figure it that bootstrap features or project in semantic than table \n",
            "epoch 8\n",
            "Epoch 1/1\n",
            "35451/35451 [==============================] - 7s 206us/step - loss: 3.7759\n",
            "--- Generating with seed: \"com 2014 05 15 meteorjs makingsingle page applications that are\"\n",
            "------ temperature: 0.2\n",
            "com 2014 05 15 meteorjs makingsingle page applications that are and different the and the project 1 paper web about fix class 2 paper web semantic semantic different 8 8 8 bootstrap as language project different simplifies will components syntactically external were the addition the rules technical is the about \n",
            "------ temperature: 0.5\n",
            "com 2014 05 15 meteorjs makingsingle page applications that are external technical external first the for to external illustrated class by 3 choosing the semantic css well mobile for about external 1 resource syntactically speed constant 3 popular in websites it 1 "
          ],
          "name": "stdout"
        },
        {
          "output_type": "stream",
          "text": [
            "frontend package by 3 performance images is external \n",
            "------ temperature: 1.0\n",
            "com 2014 05 15 meteorjs makingsingle page applications that are of external technical external in speed plugins syntactically speed got is external webpage is web about frameworks with web semantic around different figure was the moreover support to the and 6 web user class class syntactically at and 0 speed \n",
            "------ temperature: 1.2\n",
            "com 2014 05 15 meteorjs makingsingle page applications that are 1 chosen external pixels paper plugins syntactically paper and programming means the the including one website syntactically 3 images the of support ecmascript that project 1 with external wireframe its templates and file 1 on external for 8 makes of \n",
            "epoch 9\n",
            "Epoch 1/1\n",
            "19456/35451 [===============>..............] - ETA: 3s - loss: 3.5261"
          ],
          "name": "stdout"
        },
        {
          "output_type": "stream",
          "text": [
            "35451/35451 [==============================] - 7s 206us/step - loss: 3.7679\n",
            "--- Generating with seed: \"builds with the code that created them 42 3 4\"\n",
            "------ temperature: 0.2\n",
            "builds with the code that created them 42 3 4 was second it 1 popular syntax are the templates external and external means window of two to a foundation number plugins of is usage class syntactically and standard websites pagespeed syntactically external two is web user and of external means \n",
            "------ temperature: 0.5\n",
            "builds with the code that created them 42 3 4 score plugins external external external and external external external technical external of file syntactically external were the table paper and research website 1 in and websites it 1 popular a changing external of external 1 external 1 external foundation speed \n",
            "------ temperature: 1.0\n",
            "builds with the code that created them 42 3 4 is real fast with external relative including and were class the to resource by using web semantic websites insights paper web syntactically experience they of images syntactically file website few 13 that external css rem external and support web simplifies \n",
            "------ temperature: 1.2\n",
            "builds with the code that created them 42 3 4 mobile like web about in less css editor and "
          ],
          "name": "stdout"
        },
        {
          "output_type": "stream",
          "text": [
            "before 1 paper adobe in web of syntactically rules foundation frontend simplifies syntactically chosen popular rules to external speed was 29 by the extension same was the user multitude mackintosh the \n",
            "epoch 10\n",
            "Epoch 1/1\n",
            "35451/35451 [==============================] - 7s 204us/step - loss: 3.7470\n",
            "--- Generating with seed: \"and let keywords let allows the programmer to declare a\"\n",
            "------ temperature: 0.2\n",
            "and let keywords let allows the programmer to declare a browser 17 that informed for 0 the that tv web user tv tv web about mobile internally to framework 3 there 1 syntactically loading a frameworks syntactically the than embedded syntactically including external wireframe semantic view size project example speed \n",
            "------ temperature: 0.5\n",
            "and let keywords let allows the programmer to declare a video following to used the optimize and befekadu in external wireframe size pagespeed 38 complicated the in and and external technical learning syntactically 3 frontend rules the easiness usage plugins including the moreover in support the "
          ],
          "name": "stdout"
        },
        {
          "output_type": "stream",
          "text": [
            "as web semantic the \n",
            "------ temperature: 1.0\n",
            "and let keywords let allows the programmer to declare a development of external figure frontend few write with was several was the that the and was the and of constant foundation and css cascading means and speed bootstrap the different perform the minified foundation external be web in language performance \n",
            "------ temperature: 1.2\n",
            "and let keywords let allows the programmer to declare a external consist figure engineering advanced and rules preprocessor bootstrap speed 5 paper external technical websites website in external web user and relative the the an complicated it framework templates syntactically insights class table paper foundation the copyright desktop frameworks external \n",
            "epoch 11\n",
            "Epoch 1/1\n",
            "20864/35451 [================>.............] - ETA: 3s - loss: 3.5246"
          ],
          "name": "stdout"
        },
        {
          "output_type": "stream",
          "text": [
            "35451/35451 [==============================] - 7s 207us/step - loss: 3.7321\n",
            "--- Generating with seed: \"players update _id this props player _id inc score 1\"\n",
            "------ temperature: 0.2\n",
            "players update _id this props player _id inc score 1 befekadu of external and external technical class is the as a websites website tv tv web semantic the project 3 frontend for requirements templates external means webpage is the moreover project performing external means external technical figure was region for \n",
            "------ temperature: 0.5\n",
            "players update _id this props player _id inc score 1 websites syntactically is several different untyped syntactically so external april following syntactically mostly https it a frameworks mengistu trend 0 features term computer class 54 external and used features they they conventions last 4 was the that external 0 different \n",
            "------ temperature: 1.0\n",
            "players update _id this props player _id inc score 1 external technical project external consist plugins of external the web user and relative speed plugins to a for figure was several different consist plugins plugins april features the user and research 1 and use external trend desktop same libraries class \n",
            "------ temperature: 1.2\n",
            "players update _id this props player _id inc score 1 is the editor loading a "
          ],
          "name": "stdout"
        },
        {
          "output_type": "stream",
          "text": [
            "befekadu power language project content overview plugins syntactically external 1 bootstrap this 1 frontend rules plugins tv download versions plugins plugins plugins tinypng to templates including user and well of file of navigation pagespeed a \n",
            "epoch 12\n",
            "Epoch 1/1\n",
            "35451/35451 [==============================] - 7s 204us/step - loss: 3.6942\n",
            "--- Generating with seed: \"type script as opposed to others 2 1 1 2\"\n",
            "------ temperature: 0.2\n",
            "type script as opposed to others 2 1 1 2 popular templates syntactically loading web semantic about project comes pagespeed and and external and external external the and external means webpage is external of external means external of external wireframe external figure speed mobile internally external this for 2 project \n",
            "------ temperature: 0.5\n",
            "type script as opposed to others 2 1 1 2 3 speed 1 paper external and external external april bootstrap speed external open according the high web css a foundation frontend 1 frameworks class 2 popular is external "
          ],
          "name": "stdout"
        },
        {
          "output_type": "stream",
          "text": [
            "wireframe figure was language in and external means webpage provide external were \n",
            "------ temperature: 1.0\n",
            "type script as opposed to others 2 1 1 2 the moreover source improving external 1 figure that term the around syntactically external in external wireframe syntactically images in 27 package to of creating web css got figure was units of in support syntactically the final 27 and world the \n",
            "------ temperature: 1.2\n",
            "type script as opposed to others 2 1 1 2 result syntactically websites syntactically april on external website document plugins goes com the a plugins in was the the 1 2 figure popular websites mobile view 1 web semantic number plugins of in external resource syntactically folder in above external \n",
            "epoch 13\n",
            "Epoch 1/1\n",
            "19840/35451 [===============>..............] - ETA: 3s - loss: 3.4302"
          ],
          "name": "stdout"
        },
        {
          "output_type": "stream",
          "text": [
            "35451/35451 [==============================] - 7s 207us/step - loss: 3.6875\n",
            "--- Generating with seed: \"trial self hosted continuous integration tool by atlassian it has\"\n",
            "------ temperature: 0.2\n",
            "trial self hosted continuous integration tool by atlassian it has the different different different different simplifies the moreover wheel external april with a rules search and the about experience file resource class 2 websites 1 popular version plugins comes to and 1 popular speed content illustrated syntactically external changing external \n",
            "------ temperature: 0.5\n",
            "trial self hosted continuous integration tool by atlassian it has ecmascript better be and of it 1 websites 1 than twitter templates external external external a makes external means webpage is language with following graph were the internally well the than and results components they they they components the versions \n",
            "------ temperature: 1.0\n",
            "trial self hosted continuous integration tool by atlassian it has plugins class the complicated syntactically in this the desktop that features that tv it tv functionalities 2 paper popularity external the of 3 less storage folder followed in resource and are relative web user syntactically performing external as well in \n",
            "------ temperature: 1.2\n",
            "trial self hosted continuous integration tool by atlassian it has it resource "
          ],
          "name": "stdout"
        },
        {
          "output_type": "stream",
          "text": [
            "the define good founded syntactically webpage and a 5 static 4 of frontend an 11 as speed mobile websites which 1 for years syntactically external and following external 17 popular were the extension 35 take well left a \n",
            "epoch 14\n",
            "Epoch 1/1\n",
            "35451/35451 [==============================] - 7s 206us/step - loss: 3.6702\n",
            "--- Generating with seed: \"api s or also known as the back end part\"\n",
            "------ temperature: 0.2\n",
            "api s or also known as the back end part and external relative external 1 external technical speed external wireframe 1 for websites the css class is external wireframe 1 features they they of external wireframe to external external external search class and speed define web two bootstrap that there \n",
            "------ temperature: 0.5\n",
            "api s or also known as the back end part they they they they they they they they they they they they they they components they they they they they they they they they they of frameworks they they they they they they they "
          ],
          "name": "stdout"
        },
        {
          "output_type": "stream",
          "text": [
            "they they they they they they \n",
            "------ temperature: 1.0\n",
            "api s or also known as the back end part of quality 1 some the twitter the navigation document had 4 html5 web was external development the important screenshot the constant fonts pagespeed screen it 1 the css syntactically by external foundation io in external april and like shown folder \n",
            "------ temperature: 1.2\n",
            "api s or also known as the back end part including the was and 4 was is the moreover mobile user easiness founded class the because plugins external external april by furthermore including easiness web different value in external is speeding the rules coding size the was the how be \n",
            "epoch 15\n",
            "Epoch 1/1\n",
            "23552/35451 [==================>...........] - ETA: 2s - loss: 3.4918"
          ],
          "name": "stdout"
        },
        {
          "output_type": "stream",
          "text": [
            "35451/35451 [==============================] - 7s 207us/step - loss: 3.6650\n",
            "--- Generating with seed: \"a freely downloadable framework containing html css and javascript the\"\n",
            "------ temperature: 0.2\n",
            "a freely downloadable framework containing html css and javascript the pingdom a rules fast external 4 was the versions plugins web semantic file nesting loading foundation speed 1 popular the the websites com according the em wide the are with external 2 navigation as desktop html5 syntactically 6 6 versions \n",
            "------ temperature: 0.5\n",
            "a freely downloadable framework containing html css and javascript the and websites 1 paper websites 1 popular templates web semantic result the was one the project plugins relative web user makes in a rules interface creating a than and trend entire templates and a constant package can a figure speed \n",
            "------ temperature: 1.0\n",
            "a freely downloadable framework containing html css and javascript the the research plugins pagespeed project mobile than external offers external more the 100 is of external including 3 css external 6 speed external programming following frontend and technical website pagespeed entire a 2 6 wheel web rules api as is \n",
            "------ temperature: 1.2\n",
            "a freely downloadable framework containing html css and javascript the external moreover webpage shown the in "
          ],
          "name": "stdout"
        },
        {
          "output_type": "stream",
          "text": [
            "less source hand class created class plugins speed web about one 100 chosen mobile results score 1 popular to one structure ui structural minified in tv they they a than rules 2 was is \n",
            "epoch 16\n",
            "Epoch 1/1\n",
            "35451/35451 [==============================] - 7s 207us/step - loss: 3.6065\n",
            "--- Generating with seed: \"be either named or anonymous for example with a custom\"\n",
            "------ temperature: 0.2\n",
            "be either named or anonymous for example with a custom download source were the constant package to and external were the website pagespeed entire a according the illustrates external different project webpage mobile 38 complicated important there they tv real draft selector make in external standard figure as external the \n",
            "------ temperature: 0.5\n",
            "be either named or anonymous for example with a custom and external were the and and and of external figure paper term class the figure was web the project syntactically external cascading 1 in twitter was the translates it mobile 32 rem syntactically to in rules language 1 "
          ],
          "name": "stdout"
        },
        {
          "output_type": "stream",
          "text": [
            "that tv \n",
            "------ temperature: 1.0\n",
            "be either named or anonymous for example with a custom features in to and speed class tv external of external means they components they components class building and external different project above class and external https are a popular static example and one external external wireframe mobile optimize where in \n",
            "------ temperature: 1.2\n",
            "be either named or anonymous for example with a custom web means is the chosen semantic package operators is to a performing language a frontend semantic foundation bootstrap css the the the this 1 the the project 1 addition the about user and 7 4 features pagespeed javascript bootstrap that \n",
            "epoch 17\n",
            "Epoch 1/1\n",
            "24576/35451 [===================>..........] - ETA: 2s - loss: 3.4438"
          ],
          "name": "stdout"
        },
        {
          "output_type": "stream",
          "text": [
            "35451/35451 [==============================] - 7s 205us/step - loss: 3.5980\n",
            "--- Generating with seed: \"members of the full stack javascript angularjs however can be\"\n",
            "------ temperature: 0.2\n",
            "members of the full stack javascript angularjs however can be easiness 2 june with web about external be 3 thesis to external technical 3 paper web about their video syntactically external of external the speed 1 and of external external rem external used class class is 6 popular final in \n",
            "------ temperature: 0.5\n",
            "members of the full stack javascript angularjs however can be 1 that project they they components syntactically of external the and and and they they components compared the of a for external the for in external were the rem class is with web 1 paper external technical resource syntactically webpage \n",
            "------ temperature: 1.0\n",
            "members of the full stack javascript angularjs however can be syntactically window the translated 2 frameworks befekadu sizes the of untyped and it including fewer the 3 popular and for forks class got one according the more optimizilla is score class external of external table with external wireframe rules better \n",
            "------ temperature: 1.2\n",
            "members of the full stack javascript angularjs however can be first bootstrap speed source the 24 and 2 thesis "
          ],
          "name": "stdout"
        },
        {
          "output_type": "stream",
          "text": [
            "com and framework world a according the perform in and were web simplifies it to second rules fluid likewise of images syntactically is and right the for syntax syntactically above offers \n",
            "epoch 18\n",
            "Epoch 1/1\n",
            "35451/35451 [==============================] - 7s 205us/step - loss: 3.5809\n",
            "--- Generating with seed: \"python 2 3 database the main source of information in\"\n",
            "------ temperature: 0.2\n",
            "python 2 3 database the main source of information in external 1 in and creating value with figure better syntactically external means external external class the figure speed the good bootstrap plugins resource web about the about structure the semantic the ui syntactically external technical syntactically folder it 1 frontend \n",
            "------ temperature: 0.5\n",
            "python 2 3 database the main source of information in package can and befekadu sections popular the also research in start 5 services provided by image in external were the results plugins external wireframe a for in relative a applied plugins css webpage of external tv webpage "
          ],
          "name": "stdout"
        },
        {
          "output_type": "stream",
          "text": [
            "by the results \n",
            "------ temperature: 1.0\n",
            "python 2 3 database the main source of information in in support with websites 35 in and pixels is 6 background that external be ui the users the to search before websites features features they was 4 was one 100 mobile number plugins the are and relative web semantic optimize \n",
            "------ temperature: 1.2\n",
            "python 2 3 database the main source of information in two hierarchy class they they score syntactically webpage was pagespeed this is are of learning loading was by plugins performing is the with results components they speed they used external language external standard 2 the web semantic about it pagespeed \n",
            "epoch 19\n",
            "Epoch 1/1\n",
            "24448/35451 [===================>..........] - ETA: 2s - loss: 3.4490"
          ],
          "name": "stdout"
        },
        {
          "output_type": "stream",
          "text": [
            "35451/35451 [==============================] - 7s 206us/step - loss: 3.5865\n",
            "--- Generating with seed: \"li s instant web applications with meteor 2013 available from\"\n",
            "------ temperature: 0.2\n",
            "li s instant web applications with meteor 2013 available from on external technical syntactically 3 speed 8 better foundation users is 6 that external and interface constant in it 1 before the the the structure plugins syntactically external advanced external the rules https are 3 paper size syntactically external technical \n",
            "------ temperature: 0.5\n",
            "li s instant web applications with meteor 2013 available from provide the and more external technical syntactically external technical external technical syntactically and were the customers the navigation document some 1 popular means 3 external and relative the constant in a makes web below 4 user got has the were \n",
            "------ temperature: 1.0\n",
            "li s instant web applications with meteor 2013 available from the content class in images plugins syntactically including web user untyped the the 1 two got several moreover research they they used header because with a is external options elements the project a sizes example formatted website resource the 3 \n",
            "------ temperature: 1.2\n",
            "li s instant web applications with meteor 2013 available from appendix paper web building "
          ],
          "name": "stdout"
        },
        {
          "output_type": "stream",
          "text": [
            "language 8 years parameters cascading april cascading less less prepare untyped using the entire package to website pagespeed means it 1 cli of figure before the optimize is the semantic extension it figure pagespeed mobile of \n",
            "epoch 20\n",
            "Epoch 1/1\n",
            "35451/35451 [==============================] - 7s 208us/step - loss: 3.5757\n",
            "--- Generating with seed: \"in one single language javascript one of the major advantages\"\n",
            "------ temperature: 0.2\n",
            "in one single language javascript one of the major advantages 1 6 1 frontend package to wireframe external syntactically 4 speed computer pagespeed frontend and website performing web two simplifies by first about external elements components they they of frontend figure speed term mobile is web semantic different figure was \n",
            "------ temperature: 0.5\n",
            "in one single language javascript one of the major advantages 4 enterprise chrome mobile templates 6 class file is the were the a desktop following and at years syntactically and website user syntactically example they they "
          ],
          "name": "stdout"
        },
        {
          "output_type": "stream",
          "text": [
            "used term style the the 3 on external of external offers images class is \n",
            "------ temperature: 1.0\n",
            "in one single language javascript one of the major advantages web about was 6 shows web syntactically syntactically images syntactically 6 engineering in speed file 5 speed that tools score window forms engineering 5 popular that one plugins mobile few of external of external with web foundation css and support \n",
            "------ temperature: 1.2\n",
            "in one single language javascript one of the major advantages is a 5 of well is https 2 window got popular the and cli definitely with resource in web hides 0 about however less building package to another according the are same desktop means and and a were the the \n",
            "epoch 21\n",
            "Epoch 1/1\n",
            "20736/35451 [================>.............] - ETA: 3s - loss: 3.3399"
          ],
          "name": "stdout"
        },
        {
          "output_type": "stream",
          "text": [
            "35451/35451 [==============================] - 7s 205us/step - loss: 3.5676\n",
            "--- Generating with seed: \"front end js frameworks there are only a few full\"\n",
            "------ temperature: 0.2\n",
            "front end js frameworks there are only a few full value plugins class customers features tv the internally 3 webpage versions speed next it 1 popular shown abstract next conclude class plugins syntactically optimizing external plugins they components they they they they they components comes class also options several extension \n",
            "------ temperature: 0.5\n",
            "front end js frameworks there are only a few full apis the the project is of complicated the that term 1 speed source define several it 1 paper language class of external external be class like web semantic number syntactically mengistu above in web user and they 6 external of \n",
            "------ temperature: 1.0\n",
            "front end js frameworks there are only a few full external elements speed more in the makes class the loading plugins rates plugins syntactically that fix syntactically frameworks 6 class is the mengistu attributes css one sites speed frameworks 1 world a javascript mackintosh for 2 speed chrome loading the \n",
            "------ temperature: 1.2\n",
            "front end js frameworks there are only a few full of plugins components including to changing syntactically with "
          ],
          "name": "stdout"
        },
        {
          "output_type": "stream",
          "text": [
            "to is tested is the was 6 less developers perform to were the chrome loading got 4 performing as web user performing april frameworks components class score figure was including were the \n",
            "epoch 22\n",
            "Epoch 1/1\n",
            "35451/35451 [==============================] - 7s 207us/step - loss: 3.5523\n",
            "--- Generating with seed: \"the most popular choice as a browser for most users\"\n",
            "------ temperature: 0.2\n",
            "the most popular choice as a browser for most users can a makes introduction web semantic about to and of external ui class people figure and results the constant lower wireframe cross rules customers the that mobile moreover they they components for external external 6 external components they they they \n",
            "------ temperature: 0.5\n",
            "the most popular choice as a browser for most users they interface desktop the websites webpage syntactically images syntactically webpage forms foundation and minifyjavascript first the view syntactically project because research dozens plugins syntactically is https sizes resource class rem speed an simplifies world a makes in "
          ],
          "name": "stdout"
        },
        {
          "output_type": "stream",
          "text": [
            "external relative with \n",
            "------ temperature: 1.0\n",
            "the most popular choice as a browser for most users external for 4 as was the extension plugins is interface 3 px and window and means and creating community above the a web semantic the shown plugins class syntactically external above in external relative with external according in external and \n",
            "------ temperature: 1.2\n",
            "the most popular choice as a browser for most users external speed plugins score figure and for 4 popular that this view by makes creating and the livescript class april foundation was performing speed website web web the few for the are table pagespeed foundation plugins web user makes by \n",
            "epoch 23\n",
            "Epoch 1/1\n",
            "23680/35451 [===================>..........] - ETA: 2s - loss: 3.3774"
          ],
          "name": "stdout"
        },
        {
          "output_type": "stream",
          "text": [
            "35451/35451 [==============================] - 7s 207us/step - loss: 3.5458\n",
            "--- Generating with seed: \"is one of the greatest cyber space crime this happens\"\n",
            "------ temperature: 0.2\n",
            "is one of the greatest cyber space crime this happens above by as desktop semantic view class also components class the as further were the desktop versions plugins paper 5 35 external of external is external external external research the improving as desktop syntactically is source improving external external research \n",
            "------ temperature: 0.5\n",
            "is one of the greatest cyber space crime this happens document fully trend improving external external relative syntactically were the constant makes rem web semantic about for less source the also the project mobile extension creating web semantic about size syntactically external of external external in external with insights the \n",
            "------ temperature: 1.0\n",
            "is one of the greatest cyber space crime this happens a makes in and tools including the in rules open translated provided tv and by was several the in mobile extension 1 rules foundation one the more navigation term io foundation to external and example speed source the website optimize \n",
            "------ temperature: 1.2\n",
            "is one of the greatest cyber space crime this happens easiness web about figure before external "
          ],
          "name": "stdout"
        },
        {
          "output_type": "stream",
          "text": [
            "external external external external external of both websites performing a changing external external research external research external in foundation content web in more 8 has web syntax user and mengistu it tv external 9 \n",
            "epoch 24\n",
            "Epoch 1/1\n",
            "35451/35451 [==============================] - 7s 205us/step - loss: 3.5273\n",
            "--- Generating with seed: \"was difficult to keep a relation between the data and\"\n",
            "------ temperature: 0.2\n",
            "was difficult to keep a relation between the data and external external external external external external of external for web about as further css 2 figure frontend in external means plugins in was source 4 paper plugins external enterprise by provide web semantic package to project were the it followed \n",
            "------ temperature: 0.5\n",
            "was difficult to keep a relation between the data and in less figure was em 1 rules get and open web package can example header the package to external technical class of external figure paper the was document 3 real "
          ],
          "name": "stdout"
        },
        {
          "output_type": "stream",
          "text": [
            "the the of and embedded pagespeed with external technical is \n",
            "------ temperature: 1.0\n",
            "was difficult to keep a relation between the data and and external there they they of speed 1 popular for is web about websites 1 paper is and popular how as web were get rem the 1 overflow better one plugins they they all is including and moreover and take \n",
            "------ temperature: 1.2\n",
            "was difficult to keep a relation between the data and the same css and design external technical in external means window is external 10 main the and of package to of 4 websites 1 an ui css frameworks in web user tags is several the developers syntactically including browser last \n",
            "epoch 25\n",
            "Epoch 1/1\n",
            "23936/35451 [===================>..........] - ETA: 2s - loss: 3.3800"
          ],
          "name": "stdout"
        },
        {
          "output_type": "stream",
          "text": [
            "35451/35451 [==============================] - 7s 205us/step - loss: 3.5306\n",
            "--- Generating with seed: \"of the language keywords javascript es6 ecmascript 2015 contents 1\"\n",
            "------ temperature: 0.2\n",
            "of the language keywords javascript es6 ecmascript 2015 contents 1 frontend that they several different attributes abstract framework like external means is web performing video including easiness the easiness plugins external a thesis about external the got user and the that project a makes there project 5 user according the \n",
            "------ temperature: 0.5\n",
            "of the language keywords javascript es6 ecmascript 2015 contents 1 applied rules as relative web semantic twitter frontend simplifies em mobile that they of enterprise syntactically background prepare 17 that 17 was relative the developers website perform twitter for about results plugins syntactically score external technical css in external foundation \n",
            "------ temperature: 1.0\n",
            "of the language keywords javascript es6 ecmascript 2015 contents 1 project is including 10 rem external of external 8 7 4 was one project mengistu power external plugins folder for most was 393 plugins syntactically in a the were the twitter and 3 popular 2 was external of the rules \n",
            "------ temperature: 1.2\n",
            "of the language keywords javascript es6 ecmascript 2015 contents 1 project the "
          ],
          "name": "stdout"
        },
        {
          "output_type": "stream",
          "text": [
            "websites mobile means and readability including with following befekadu of css rules the when were the simplifies got twitter source readability document goes 2 and and desktop retailed web about offers a most this the project 1 paper \n",
            "epoch 26\n",
            "Epoch 1/1\n",
            "35451/35451 [==============================] - 7s 205us/step - loss: 3.5121\n",
            "--- Generating with seed: \"web applications using html hyper text markup language css cascading\"\n",
            "------ temperature: 0.2\n",
            "web applications using html hyper text markup language css cascading around including and 35 1 and the of external means external april was the and it project mobile internally external wireframe external a rules the speed moreover the following 4 bootstrap 1 of the rules project technical web syntactically web \n",
            "------ temperature: 0.5\n",
            "web applications using html hyper text markup language css cascading user and loading optimize in external the was including improving external external 14 speed speed 1 speed theoretical the websites was a class table in it websites "
          ],
          "name": "stdout"
        },
        {
          "output_type": "stream",
          "text": [
            "tv external means external external class created class the figure was for 0 \n",
            "------ temperature: 1.0\n",
            "web applications using html hyper text markup language css cascading of both syntactically frameworks components syntactically 2017 user and relative the 3 usage class same code with bootstrap popular of a for and the is the untyped according the thesis for to lower hypertext in to the an file including \n",
            "------ temperature: 1.2\n",
            "web applications using html hyper text markup language css cascading were external foundation and cli including improving is javascript 237 minified customizability 4 and by loading a frameworks 1 it size pagespeed versions plugins 1 pagespeed speed before and external framework syntactically in external the website website results 8 6 \n",
            "epoch 27\n",
            "Epoch 1/1\n",
            "18816/35451 [==============>...............] - ETA: 3s - loss: 3.2510"
          ],
          "name": "stdout"
        },
        {
          "output_type": "stream",
          "text": [
            "35451/35451 [==============================] - 7s 207us/step - loss: 3.5049\n",
            "--- Generating with seed: \"often one event in the context of web applications had\"\n",
            "------ temperature: 0.2\n",
            "often one event in the context of web applications had web user 1 web user and com consist plugins which without interest the this the resource plugins rates plugins syntactically external search 0 mobile befekadu the applied plugins 5 paper 1 that external april figure was is the developers the \n",
            "------ temperature: 0.5\n",
            "often one event in the context of web applications had of figure paper the was one plugins 3 external example class 2 usage class 2 and addition of external plugins they components they of web web semantic means webpage of external easiness components the templates external means speed semantic according \n",
            "------ temperature: 1.0\n",
            "often one event in the context of web applications had the of external final of support file simplifies it size pagespeed 8 com cross loading project and about external example class 2 webpage including javascript and bootstrap of a does several the the and of of customizability is web semantic \n",
            "------ temperature: 1.2\n",
            "often one event in the context of web applications had the called got zurb web 5 in external "
          ],
          "name": "stdout"
        },
        {
          "output_type": "stream",
          "text": [
            "out plugins syntactically websites above class rem external css current to a syntax overview plugins folder and external were web is including web is in and explorer of it external results in \n",
            "epoch 28\n",
            "Epoch 1/1\n",
            "35451/35451 [==============================] - 7s 205us/step - loss: 3.4961\n",
            "--- Generating with seed: \"bar__subtitle this props subtitle h2 appendix 3 11 11 7\"\n",
            "------ temperature: 0.2\n",
            "bar__subtitle this props subtitle h2 appendix 3 11 11 7 popular following one plugins because web user and is 6 easiness with web 1 syntactically css by last websites mobile internally 3 popular 9 better that loading plugins syntactically a rules for web 1 has and and technical external means \n",
            "------ temperature: 0.5\n",
            "bar__subtitle this props subtitle h2 appendix 3 11 11 7 external is external is external plugins external plugins in twitter external means webpage foundation two to external term 2 file of 5 paper project external technical external means webpage 5 frameworks 1 of loading rules is 2 that 1 "
          ],
          "name": "stdout"
        },
        {
          "output_type": "stream",
          "text": [
            "as \n",
            "------ temperature: 1.0\n",
            "bar__subtitle this props subtitle h2 appendix 3 11 11 7 web semantic be and last last websites website the were 1 cross the 12 user and and 17 user got with in the addition performing language project of web an semantic and hypertext first the better thesis be both figure \n",
            "------ temperature: 1.2\n",
            "bar__subtitle this props subtitle h2 appendix 3 11 11 7 better 7 websites plugins speed 1 desktop source versions including is 2 results 35 with is 2 currently syntactically window com frameworks of it 6 speed in external wireframe folder external search 0 programming 1 websites external speed according the \n",
            "epoch 29\n",
            "Epoch 1/1\n",
            "25216/35451 [====================>.........] - ETA: 2s - loss: 3.3531"
          ],
          "name": "stdout"
        },
        {
          "output_type": "stream",
          "text": [
            "35451/35451 [==============================] - 7s 206us/step - loss: 3.4769\n",
            "--- Generating with seed: \"has a navigation bar which is in a form of\"\n",
            "------ temperature: 0.2\n",
            "has a navigation bar which is in a form of external is the and for source and of external is the and be the makes rem the internally interfaces is in loading external plugins analyse rules external means webpage external plugins external 1 enterprise and 17 speed frontend simplifies external \n",
            "------ temperature: 0.5\n",
            "has a navigation bar which is in a form of 2 external a makes rem web got as desktop syntactically window minified were the two easiness the that project project further and of external is a and and 4 of 1 website dozens plugins web below resource 1 befekadu less \n",
            "------ temperature: 1.0\n",
            "has a navigation bar which is in a form of got figure was in support including external attributes support class performing with because is https is web css a to and of language 1 websites before external framework in is https the figure frameworks term 1 speed mobile plugins web \n",
            "------ temperature: 1.2\n",
            "has a navigation bar which is in a form of semantic also introduction frontend and basically is several rules discussed components class measurement plugins "
          ],
          "name": "stdout"
        },
        {
          "output_type": "stream",
          "text": [
            "the rules from chapter document 1 in external means window is loading a fonts untyped for in 0 two figure better define is language according the \n",
            "epoch 30\n",
            "Epoch 1/1\n",
            "35451/35451 [==============================] - 7s 206us/step - loss: 3.4542\n",
            "--- Generating with seed: \"any application studies have shown that node js is ideal\"\n",
            "------ temperature: 0.2\n",
            "any application studies have shown that node js is ideal document javascript 1 quality was the the and of the view nesting class tv tv tv tv media webpage to external https 2 has websites plugins pagespeed speed 1 external wireframe external external results external chapter external external external external \n",
            "------ temperature: 0.5\n",
            "any application studies have shown that node js is ideal is 32 38 versions 3 bootstrap of external foundation for the than in websites external as external results class pagespeed 1 that for external scripts it as web user and frontend simplifies more open 7 that project in following for \n",
            "------ temperature: 1.0\n",
            "any application studies have shown that node js is ideal less source 4 popular more the 3 possible "
          ],
          "name": "stdout"
        },
        {
          "output_type": "stream",
          "text": [
            "according the computer rem selector score document framework followed in less figure speed mobile content the desktop 1 paper syntactically 3 8 source constant project are dozens plugins the constant 6 and \n",
            "------ temperature: 1.2\n",
            "any application studies have shown that node js is ideal 35 loading name class syntactically frameworks class 1 two bootstrap working class be current syntactically following well an for 0 cascading frameworks learning by px external plugins rates simpler css were and language the is the foundation sections mobile that \n",
            "epoch 31\n",
            "Epoch 1/1\n",
            "32640/35451 [==========================>...] - ETA: 0s - loss: 3.4027"
          ],
          "name": "stdout"
        },
        {
          "output_type": "stream",
          "text": [
            "35451/35451 [==============================] - 7s 205us/step - loss: 3.4398\n",
            "--- Generating with seed: \"the express generator has separate directory for routes views and\"\n",
            "------ temperature: 0.2\n",
            "the express generator has separate directory for routes views and web web semantic semantic the design the this less twitter this 1 in external wireframe document next project 1 of external applied web about different figure paper unneeded frameworks the for and about is external line is 32 and engineering \n",
            "------ temperature: 0.5\n",
            "the express generator has separate directory for routes views and and used the standard plugins by foundation the rules naturally 7 4 the less open 7 package to external framework 3 complicated syntactically web number plugins they they they components they components because of trend with web frameworks speed 1 \n",
            "------ temperature: 1.0\n",
            "the express generator has separate directory for routes views and frontend about com a was the applied plugins plugins plugins folder the website they they components https 4 enterprise that needed and loading the templates more and years plugins syntactically 17 that was multitude plugins folder 3 paper wheel syntactically \n",
            "------ temperature: 1.2\n",
            "the express generator has separate directory for routes views and components file the 2017 in external external external "
          ],
          "name": "stdout"
        },
        {
          "output_type": "stream",
          "text": [
            "speed syntactically 3 website 1 27 started downloaded thesis in resource including web user the 100 website dozens plugins with website is mengistu css 35 1 in loading rules features photographs https \n",
            "epoch 32\n",
            "Epoch 1/1\n",
            "35451/35451 [==============================] - 7s 205us/step - loss: 3.4275\n",
            "--- Generating with seed: \"the project docker and vagrant were already in use all\"\n",
            "------ temperature: 0.2\n",
            "the project docker and vagrant were already in use all easiness advanced web semantic and loading a changing external 1 the figure was for were components they they they components they they components they they they components they they they components for in it were the to and of external \n",
            "------ temperature: 0.5\n",
            "the project docker and vagrant were already in use all wireframe was including 10 folder in web semantic a changing templates with websites window translated with web about com 8 was the two tools be the and of external means it several more regarding learning figure before "
          ],
          "name": "stdout"
        },
        {
          "output_type": "stream",
          "text": [
            "in was the \n",
            "------ temperature: 1.0\n",
            "the project docker and vagrant were already in use all for because syntactically document frameworks 1 project content web web syntactically 3 easiness web different 1 advanced and of external means the extension plugins plugins were the semantic the web external means above external external external external plugins analyse external \n",
            "------ temperature: 1.2\n",
            "the project docker and vagrant were already in use all external and window project as 2 mengistu source frameworks web semantic package can speed syntactically web user according the much were 0 with research example 14 above then a fonts including external makes including easiness as they are load external \n",
            "epoch 33\n",
            "Epoch 1/1\n",
            "21760/35451 [=================>............] - ETA: 2s - loss: 3.2357"
          ],
          "name": "stdout"
        },
        {
          "output_type": "stream",
          "text": [
            "35451/35451 [==============================] - 7s 205us/step - loss: 3.4264\n",
            "--- Generating with seed: \"much simplified because of the emergence of different frontend frameworks\"\n",
            "------ temperature: 0.2\n",
            "much simplified because of the emergence of different frontend frameworks 1 paper and the package can a bootstrap according the using websites they they components they they they components syntactically 6 that project mobile optimize project external search external wireframe file and external external external external external external external means \n",
            "------ temperature: 0.5\n",
            "much simplified because of the emergence of different frontend frameworks external structure in in a one 100 in web user website and are 2 frontend got before same rules preprocessor bootstrap class resource a engineering including syntactically window basic popular that sharing to lower class 54 the package can a \n",
            "------ temperature: 1.0\n",
            "much simplified because of the emergence of different frontend frameworks the table plugins in external means webpage the means plugins external foundation fix external external were web about popular figure it the 1 language of example pagespeed it paper less are several features like than like are web semantic semantic \n",
            "------ temperature: 1.2\n",
            "much simplified because of the emergence of different frontend frameworks user "
          ],
          "name": "stdout"
        },
        {
          "output_type": "stream",
          "text": [
            "and learning html5 or external relative html frontend the see and more figure popular were the 1 more resource syntactically is the to around building for found syntactically syntactically external means external usage class external loading syntactically the px \n",
            "epoch 34\n",
            "Epoch 1/1\n",
            "35451/35451 [==============================] - 7s 207us/step - loss: 3.4027\n",
            "--- Generating with seed: \"might get attacked 30 the individual running this method must\"\n",
            "------ temperature: 0.2\n",
            "might get attacked 30 the individual running this method must external wireframe external wireframe desktop better according the provide bootstrap syntactically it device improving external plugins class to external plugins external plugins resources bootstrap popular power storage external means web different attributes rules cascading foundation to has example class is \n",
            "------ temperature: 0.5\n",
            "might get attacked 30 the individual running this method must to external figure paper and of external means window css easiness with 4 that external means external "
          ],
          "name": "stdout"
        },
        {
          "output_type": "stream",
          "text": [
            "the minified is web different attributes including easiness with external external plugins external figure befekadu package to and and and window project frontend \n",
            "------ temperature: 1.0\n",
            "might get attacked 30 the individual running this method must according the was the was of web twitter an semantic means including external plugins rates gives because is structural syntactically window minified main the are the for it website april applied were for external is real for framework document document \n",
            "------ temperature: 1.2\n",
            "might get attacked 30 the individual running this method must was with web javascript including was multitude including twitter frontend got 22 with sizes class including of and in is external means speed 1 in computer plugins 1 today 1 speed device plugins they design of was 6 performing language \n",
            "epoch 35\n",
            "Epoch 1/1\n",
            "15232/35451 [===========>..................] - ETA: 4s - loss: 3.0934"
          ],
          "name": "stdout"
        },
        {
          "output_type": "stream",
          "text": [
            "35451/35451 [==============================] - 7s 205us/step - loss: 3.4007\n",
            "--- Generating with seed: \"based upon following react based tools react react dom redux\"\n",
            "------ temperature: 0.2\n",
            "based upon following react based tools react react dom redux to in websites of external figure paper unneeded sharing plugins 3 paper web about example with and were the the the figure speed mobile for templates project feature internally nested and 1 the foundation wide rules vital figure speed source \n",
            "------ temperature: 0.5\n",
            "based upon following react based tools react react dom redux constant 3 two css the that project informed rules 17 coding in and things and well window semantic the this 1 speed 1 dozens plugins 3 of makes external makes in external 1 more and framework class created pagespeed frameworks \n",
            "------ temperature: 1.0\n",
            "based upon following react based tools react react dom redux tv tv several 1 how that technical usage plugins external html5 content web 5 6 was syntactically external of external plugins external class webpage creating web about external 2 css got web semantic source improving external a abstract of 8 \n",
            "------ temperature: 1.2\n",
            "based upon following react based tools react react dom redux in support class 54 external and of "
          ],
          "name": "stdout"
        },
        {
          "output_type": "stream",
          "text": [
            "was in well with from makes and view foundation in twitter templates class enhancing was to to a firm plugins is real 1 about cli syntactically in semantic define plugins syntactically external language \n",
            "epoch 36\n",
            "Epoch 1/1\n",
            "35451/35451 [==============================] - 7s 205us/step - loss: 3.3856\n",
            "--- Generating with seed: \"navigate throughout these elements find and manipulate them for example\"\n",
            "------ temperature: 0.2\n",
            "navigate throughout these elements find and manipulate them for example paper web and about external be external of images syntactically webpage research syntactically web results score pagespeed and templates informed 1 speed 1 cross an in regarding learning user syntactically were one foundation cascading the com project figure was language \n",
            "------ temperature: 0.5\n",
            "navigate throughout these elements find and manipulate them for example above the foundation also example website mobile project mobile desktop engineering websites mobile results improving external and is final programming project including frameworks is language including applied according the overflow components "
          ],
          "name": "stdout"
        },
        {
          "output_type": "stream",
          "text": [
            "applied web navigation for 8 that 1 before is \n",
            "------ temperature: 1.0\n",
            "navigate throughout these elements find and manipulate them for example background and css is web syntactically results in external for external april programming around by px foundation syntactically above wireframe next high in a websites performing external of is results plugins external relative folder each 4 was the that project \n",
            "------ temperature: 1.2\n",
            "navigate throughout these elements find and manipulate them for example for external framework of rules following com the 8 computer with and framework get in was in the it 1 development class 6 paper footer more web also graph about was 6 in support chart optimization translates in external technical \n",
            "epoch 37\n",
            "Epoch 1/1\n",
            "19968/35451 [===============>..............] - ETA: 3s - loss: 3.1388"
          ],
          "name": "stdout"
        },
        {
          "output_type": "stream",
          "text": [
            "35451/35451 [==============================] - 7s 207us/step - loss: 3.3605\n",
            "--- Generating with seed: \"input classname form__input type text name playername placeholder player name\"\n",
            "------ temperature: 0.2\n",
            "input classname form__input type text name playername placeholder player name web speed 8 that of for web semantic also external in external results plugins external chapter web user and 0 and is the of external april components they they they they they they they they they they they they they \n",
            "------ temperature: 0.5\n",
            "input classname form__input type text name playername placeholder player name they they they tv separate web semantic than research they they components tv separate web about folder external in web frameworks 1 paper syntactically external means it the creating of twitter developers syntactically of was the browser 35 including user \n",
            "------ temperature: 1.0\n",
            "input classname form__input type text name playername placeholder player name 2 like web semantic the less power external as of websites components they they of including with in it addis real syntactically folder syntactically external of external plugins external figure paper 4 was in customizability external moreover for website external \n",
            "------ temperature: 1.2\n",
            "input classname form__input type text name playername placeholder player name is for speed "
          ],
          "name": "stdout"
        },
        {
          "output_type": "stream",
          "text": [
            "the js easiness in it a for 27 5 paper website speed wheel apis is web different experience syntactically web about thesis pagespeed twitter com versus content to external web they they they components they they they \n",
            "epoch 38\n",
            "Epoch 1/1\n",
            "35451/35451 [==============================] - 7s 207us/step - loss: 3.3304\n",
            "--- Generating with seed: \"two language features in the website namely english and finnish\"\n",
            "------ temperature: 0.2\n",
            "two language features in the website namely english and finnish were or are the constant website performing relative the constant 11 16 css by 3 speed 1 paper as web number resource the to bootstrap applied rules in web about 10 document it 1 popular the templates more 804 of \n",
            "------ temperature: 0.5\n",
            "two language features in the website namely english and finnish paper the thesis tools syntactically web semantic the 0 html5 mobile according the tool 5 frontend experience search the was the how frontend 8 performance popular frontend that 1 results a rules "
          ],
          "name": "stdout"
        },
        {
          "output_type": "stream",
          "text": [
            "technical learning colour the com used plugins of \n",
            "------ temperature: 1.0\n",
            "two language features in the website namely english and finnish external the a foundation were external https building speed rules open around the templates several 8 was multitude image performing in external wireframe 2 for foundation user and example mobile com according class class pagespeed next of is including components \n",
            "------ temperature: 1.2\n",
            "two language features in the website namely english and finnish web speed with external technical external and is above external the figure that 6 folder syntactically external 1 framework size according the were 2 in learning than and install external and rules in external creating web simplifies for in websites \n",
            "epoch 39\n",
            "Epoch 1/1\n",
            "20096/35451 [================>.............] - ETA: 3s - loss: 3.1334"
          ],
          "name": "stdout"
        },
        {
          "output_type": "stream",
          "text": [
            "35451/35451 [==============================] - 7s 206us/step - loss: 3.3212\n",
            "--- Generating with seed: \"enclosing function s variables scope chain erp system enterprise resource\"\n",
            "------ temperature: 0.2\n",
            "enclosing function s variables scope chain erp system enterprise resource background 1 world a in customizability 100 the results plugins is the rules figure was search enterprise semantic the client value the semantic the the project 1 popular than of external with external were the firefox the finally overview plugins \n",
            "------ temperature: 0.5\n",
            "enclosing function s variables scope chain erp system enterprise resource external is the figure was popular about preparing external were the 3 apis the complicated plugins it they components syntactically 6 popular for foundation internally issues and websites plugins web user tv they be byte constant the this this 1 \n",
            "------ temperature: 1.0\n",
            "enclosing function s variables scope chain erp system enterprise resource offers foundation two plugins is nested next where possible the articles including syntactically well pagespeed customers 1 popular customizability twitter navigation class and external table wireframing project mobile than external figure paper the 3 and com language constant 27 13 \n",
            "------ temperature: 1.2\n",
            "enclosing function s variables scope chain erp system enterprise resource popular that "
          ],
          "name": "stdout"
        },
        {
          "output_type": "stream",
          "text": [
            "css frontend source translates in colour plugins external external external class tv folder was multitude 4 project because external is the is language including was the com moreover and downloaded that with is the rules compiler project the \n",
            "epoch 40\n",
            "Epoch 1/1\n",
            "35451/35451 [==============================] - 7s 205us/step - loss: 3.3068\n",
            "--- Generating with seed: \"figure 9 use case diagram for job portal 28 40\"\n",
            "------ temperature: 0.2\n",
            "figure 9 use case diagram for job portal 28 40 language of web user and of external external external external and external external external external external the and and and and and and and different user and com two through web moreover the optimize resource is language document frameworks to \n",
            "------ temperature: 0.5\n",
            "figure 9 use case diagram for job portal 28 40 18 3 speed before 1 popular package be make external is web bootstrap syntactically 17 mobile of the rules https project popular that in external easiness web "
          ],
          "name": "stdout"
        },
        {
          "output_type": "stream",
          "text": [
            "user and with bootstrap speed device in external were ui of external the \n",
            "------ temperature: 1.0\n",
            "figure 9 use case diagram for job portal 28 40 in websites above in external figure better can a than in rules 2 shows external open 7 and of of below to external the 2 this external and of external is web got before 4 was one and consecutively makes \n",
            "------ temperature: 1.2\n",
            "figure 9 use case diagram for job portal 28 40 class the and class external is and 29 393 external and as websites mobile internally plugins in external april was the source filling syntactically tv external standard of external external components the internally the website pagespeed the the structure speed \n",
            "epoch 41\n",
            "Epoch 1/1\n",
            "22272/35451 [=================>............] - ETA: 2s - loss: 3.1187"
          ],
          "name": "stdout"
        },
        {
          "output_type": "stream",
          "text": [
            "35451/35451 [==============================] - 7s 207us/step - loss: 3.2917\n",
            "--- Generating with seed: \"workers accessed 18 april 2017 18 maujood m prototypal object\"\n",
            "------ temperature: 0.2\n",
            "workers accessed 18 april 2017 18 maujood m prototypal object provided by external results the that they they they they they they they they they they they they they they they they they they they they they they tv separate popular is web semantic view nesting class at in requirements \n",
            "------ temperature: 0.5\n",
            "workers accessed 18 april 2017 18 maujood m prototypal object syntactically is speed device plugins the different 1998 figure frontend extension plugins mengistu that a however the package to carried website syntactically 12 popular the the got embedded external results plugins external 1 the semantic view external external external external \n",
            "------ temperature: 1.0\n",
            "workers accessed 18 april 2017 18 maujood m prototypal object external is 6 class external april in it web also a that which about need the 27 addition of web semantic in is one plugins pagespeed 1 founded class at external web navigation experience well internally well download was one \n",
            "------ temperature: 1.2\n",
            "workers accessed 18 april 2017 18 maujood m prototypal object 8 device the and where as web "
          ],
          "name": "stdout"
        },
        {
          "output_type": "stream",
          "text": [
            "user and world a loading 1 in speed plugins 1 popular structures the is a figure experience the attributes plugins syntactically internet it 1 paper popularity syntactically well 3 was the the 3 \n",
            "epoch 42\n",
            "Epoch 1/1\n",
            "35451/35451 [==============================] - 7s 208us/step - loss: 3.2813\n",
            "--- Generating with seed: \"of the components can lead the users deprived of getting\"\n",
            "------ temperature: 0.2\n",
            "of the components can lead the users deprived of getting plugins they components 3 that they they they they they they they they they they they they they they they they they they they they they they they they they they they they they they they they they they they \n",
            "------ temperature: 0.5\n",
            "of the components can lead the users deprived of getting they they components for requirements minimized that can 6 a in web user and components performing external were the in 5 and the project resource be external attributes 0 means external technical the entire and and technical 3 better "
          ],
          "name": "stdout"
        },
        {
          "output_type": "stream",
          "text": [
            "and \n",
            "------ temperature: 1.0\n",
            "of the components can lead the users deprived of getting it mobile internally 3 creating external simplifies external as and https chapter for and em including the the about the about 4 popular websites customizability and for external external 1 research they with is 2 the was quickly 25 better \n",
            "------ temperature: 1.2\n",
            "of the components can lead the users deprived of getting including 9 as in this the power in as web external figure as 000 with because components website which 1 that tv byte constant explorer befekadu websites class 2 shows external plugins syntactically web below external of is language pagespeed \n",
            "epoch 43\n",
            "Epoch 1/1\n",
            "24704/35451 [===================>..........] - ETA: 2s - loss: 3.1255"
          ],
          "name": "stdout"
        },
        {
          "output_type": "stream",
          "text": [
            "35451/35451 [==============================] - 7s 208us/step - loss: 3.2788\n",
            "--- Generating with seed: \"npm install save redux figure 19 redux architecture printed from\"\n",
            "------ temperature: 0.2\n",
            "npm install save redux figure 19 redux architecture printed from most plugins external term define line and 1 and for external plugins syntactically is on external project website user and of and two untyped folder 17 frontend in twitter templates with video website syntactically 6 pixels this that external a \n",
            "------ temperature: 0.5\n",
            "npm install save redux figure 19 redux architecture printed from loading www awesome 13 abstract they the it which 1 loading foundation foundation according the websites chosen lists the result the paper mobile website performing in result because external a foundation creating syntactically it 1 websites for less got term \n",
            "------ temperature: 1.0\n",
            "npm install save redux figure 19 redux architecture printed from as is the frameworks 6 it 1 paper project world paper and resource in website a makes class was is same define including and be 8 frontend 1 explorer syntactically this tv 1 is the project by 3 document external \n",
            "------ temperature: 1.2\n",
            "npm install save redux figure 19 redux architecture printed from means external the extension a 2 "
          ],
          "name": "stdout"
        },
        {
          "output_type": "stream",
          "text": [
            "popular in sizes bootstrap first is build syntactically window minified com as webpage mobile high the source website nesting without websites they they they they they they of another will firm web frameworks score \n",
            "epoch 44\n",
            "Epoch 1/1\n",
            "35451/35451 [==============================] - 7s 205us/step - loss: 3.2615\n",
            "--- Generating with seed: \"for the server side react applications it is a unique\"\n",
            "------ temperature: 0.2\n",
            "for the server side react applications it is a unique syntactically window to interface external naturally in 5 performing web semantic the the the the was the transforms 1 that they of external april figure as external a project tv size syntactically code with external table of external foundation and \n",
            "------ temperature: 0.5\n",
            "for the server side react applications it is a unique external they they they they they components mengistu around engineering the cross view external 1 foundation content web user according the the of was resource the 6 open to and tablets class table "
          ],
          "name": "stdout"
        },
        {
          "output_type": "stream",
          "text": [
            "paper syntactically external means external got a \n",
            "------ temperature: 1.0\n",
            "for the server side react applications it is a unique paper the were the the were the code 4 and loading 1 pagespeed semantic means plugins syntactically illustrated external header the that website components they they components 100 with using of less storage 4 user many website example speed design \n",
            "------ temperature: 1.2\n",
            "for the server side react applications it is a unique style language of using result different two developers the com popular built is in 3 speed source css the com and the video the a fonts from optimize the two paper size the are loading plugins pagespeed engineering plugins syntactically \n",
            "epoch 45\n",
            "Epoch 1/1\n",
            "21888/35451 [=================>............] - ETA: 2s - loss: 3.0548"
          ],
          "name": "stdout"
        },
        {
          "output_type": "stream",
          "text": [
            "35451/35451 [==============================] - 7s 207us/step - loss: 3.2260\n",
            "--- Generating with seed: \"the master branch another developer does the code review pull\"\n",
            "------ temperature: 0.2\n",
            "the master branch another developer does the code review pull external and webpage above syntactically webpage foundation company 1 paper external by external the html5 project dozens plugins syntactically syntactically for bootstrap firefox web about 5 io and of websites mobile view build external web got and external external bootstrap \n",
            "------ temperature: 0.5\n",
            "the master branch another developer does the code review pull figure was for less of a rules forks and it project fix figure was search befekadu 8 was class the web video document and preparing befekadu the the about external compatibility and external open 7 and in external figure paper \n",
            "------ temperature: 1.0\n",
            "the master branch another developer does the code review pull 4 abstract in it project qualify people downloaded they the both are in website syntactically score external web it 1 research external means plugins in a 14 it 1 for research plugins the user and it folder style dozens plugins \n",
            "------ temperature: 1.2\n",
            "the master branch another developer does the code review pull that to speed 1 external "
          ],
          "name": "stdout"
        },
        {
          "output_type": "stream",
          "text": [
            "for images syntactically syntactically they syntactically class that a and according the is the the screenshots plugins plugins website they they they components of external and byte constant web frameworks that which website syntactically it \n",
            "epoch 46\n",
            "Epoch 1/1\n",
            "35451/35451 [==============================] - 7s 207us/step - loss: 3.2418\n",
            "--- Generating with seed: \"and event loop online url https developer mozilla org en\"\n",
            "------ temperature: 0.2\n",
            "and event loop online url https developer mozilla org en addition popular speed custom download responsive tools firm was like learning external april following frontend simplifies about for websites mobile semantic the this more less the the project more last external april was one plugins including in result in external \n",
            "------ temperature: 0.5\n",
            "and event loop online url https developer mozilla org en relative gives external structures web and 1 mobile internally external external the desktop syntactically plugins plugins in external external and is external by external project "
          ],
          "name": "stdout"
        },
        {
          "output_type": "stream",
          "text": [
            "world a external preprocessor tv is in external in external foundation external the 100 users \n",
            "------ temperature: 1.0\n",
            "and event loop online url https developer mozilla org en according the website and external and webpage 6 pagespeed shown plugins external is web user and 0 mobile to of results with external untyped the package to the project javascript in web semantic livescript class got it above frontend and \n",
            "------ temperature: 1.2\n",
            "and event loop online url https developer mozilla org en external website to external with speed is several 100 document syntactically firefox got because external suited web external 1 was in the code syntactically external components class is several any the more as there syntactically nesting project and rates plugins \n",
            "epoch 47\n",
            "Epoch 1/1\n",
            "18688/35451 [==============>...............] - ETA: 3s - loss: 2.9863"
          ],
          "name": "stdout"
        },
        {
          "output_type": "stream",
          "text": [
            "35451/35451 [==============================] - 7s 206us/step - loss: 3.2271\n",
            "--- Generating with seed: \"and how the challenges were solved during the project a\"\n",
            "------ temperature: 0.2\n",
            "and how the challenges were solved during the project a that project mobile results score syntactically score loading external external resources visual in this desktop a to and external technical external technical by 3 external and and 1 and provide is https units easiness the it was the bootstrap the \n",
            "------ temperature: 0.5\n",
            "and how the challenges were solved during the project a as tv syntactically footer external means window results by a changing 3 moreover templates the complicated 10 class open times figure better a entire in this content resource web user and of external untyped and external 1 selector have and \n",
            "------ temperature: 1.0\n",
            "and how the challenges were solved during the project a 17 tv were 1 websites it 1 syntactically compared including bootstrap syntactically its user and the for project wheel language with web number style figure frontend 3 paper website first was components the were transforms 35 popular definitions of language \n",
            "------ temperature: 1.2\n",
            "and how the challenges were solved during the project a that tv or apis they they tv "
          ],
          "name": "stdout"
        },
        {
          "output_type": "stream",
          "text": [
            "of px external figure paper the result the resource different simplifies structure the compared the frameworks rem class open times are external technical pagespeed website mobile is several 1 and 21 there they \n",
            "epoch 48\n",
            "Epoch 1/1\n",
            "35451/35451 [==============================] - 7s 208us/step - loss: 3.2001\n",
            "--- Generating with seed: \"with react to design and build the user interface while\"\n",
            "------ temperature: 0.2\n",
            "with react to design and build the user interface while where web user many screen means external html5 1 many easiness with is web frameworks syntactically performing with source simplifies and the extension dozens plugins class a tablets according the provide external window including scripts the figure better also real \n",
            "------ temperature: 0.5\n",
            "with react to design and build the user interface while in and and and was as web different simplifies images syntactically external the was the 5 was the screen means plugins webpage 5 it header speed 1 speed computer 1 that they "
          ],
          "name": "stdout"
        },
        {
          "output_type": "stream",
          "text": [
            "they components they they they they they they \n",
            "------ temperature: 1.0\n",
            "with react to design and build the user interface while they tv framework webpage dozens plugins website performing class of window times cross power and website syntactically webpage navigation term custom to stable were the website versions results score syntactically folder was speed mezgebu com the it according the out \n",
            "------ temperature: 1.2\n",
            "with react to design and build the user interface while class scripts the on external apis insights frontend figure frontend the well figure features mocha document the than twitter firefox speed external plugins including external with external chrome external open 7 and for in is illustrated class code class project \n",
            "epoch 49\n",
            "Epoch 1/1\n",
            "19328/35451 [===============>..............] - ETA: 3s - loss: 2.9667"
          ],
          "name": "stdout"
        },
        {
          "output_type": "stream",
          "text": [
            "35451/35451 [==============================] - 7s 207us/step - loss: 3.1988\n",
            "--- Generating with seed: \"was minify css jquery files this basically reduced the size\"\n",
            "------ temperature: 0.2\n",
            "was minify css jquery files this basically reduced the size external 2 paper 1 paper as structure the of external april bootstrap speed of external april with external means external coding javascript resource the to the result plugins in web semantic extension the of and according the the as web \n",
            "------ temperature: 0.5\n",
            "was minify css jquery files this basically reduced the size css websites is a rules web of and were one than external the at plugins syntactically speed they components they they they they they they they they they tv open bootstrap be web website project 3 paper syntactically loading foundation \n",
            "------ temperature: 1.0\n",
            "was minify css jquery files this basically reduced the size paper syntactically footer final and the the programming foundation cascading left website loading foundation according syntactically one of support issues external components the foundation the that they they they tv an term project further tv 1 more frameworks a was \n",
            "------ temperature: 1.2\n",
            "was minify css jquery files this basically reduced the size 4 foundation started plugins class "
          ],
          "name": "stdout"
        },
        {
          "output_type": "stream",
          "text": [
            "and features of customizability external means external april to categorized users also insights the preparing well website that 8 frontend got popular was fluid syntactically pagespeed 8 firefox with frameworks was options web external of \n",
            "epoch 50\n",
            "Epoch 1/1\n",
            "35451/35451 [==============================] - 7s 207us/step - loss: 3.1699\n",
            "--- Generating with seed: \"html page all the subsequent requests to the server are\"\n",
            "------ temperature: 0.2\n",
            "html page all the subsequent requests to the server are external 2 features external wireframe foundation cascading around well gives bootstrap plugins creating web semantic view nesting they they they they they they they they components they tv open 5 regarding as design times web frameworks components mengistu overflow figure \n",
            "------ temperature: 0.5\n",
            "html page all the subsequent requests to the server are was for first good below web user provided folder syntactically performing external term project file 1 popular next as desktop is the easiness the syntax "
          ],
          "name": "stdout"
        },
        {
          "output_type": "stream",
          "text": [
            "research external web user and com translates in web semantic the this they they they \n",
            "------ temperature: 1.0\n",
            "html page all the subsequent requests to the server are tv tv 8 that window vital power in including because plugins plugins they components different resource css and com results including offers example pagespeed or external there 1 web was external navigation the about 13 and computer document support as \n",
            "------ temperature: 1.2\n",
            "html page all the subsequent requests to the server are language the vital tv speed results the moreover that project performing 1 for where about external is language score plugins using less of power project shows including scripts they they they tv tv make research external april bootstrap speed templates \n",
            "epoch 51\n",
            "Epoch 1/1\n",
            "19200/35451 [===============>..............] - ETA: 3s - loss: 2.9249"
          ],
          "name": "stdout"
        },
        {
          "output_type": "stream",
          "text": [
            "35451/35451 [==============================] - 7s 205us/step - loss: 3.1690\n",
            "--- Generating with seed: \"the top of the page which further will contain a\"\n",
            "------ temperature: 0.2\n",
            "the top of the page which further will contain a in 4 paper web below file 5 was the in 5 35 region syntactically the and was the to and of well well window and or speed source project framework the project about the optimize 3 speed source constant where \n",
            "------ temperature: 0.5\n",
            "the top of the page which further will contain a css syntactically including scripts april used is web semantic and and speed syntactically external means external the of speed view optimize external and used with following are get the website and figure that device constant in was resource the to \n",
            "------ temperature: 1.0\n",
            "the top of the page which further will contain a in speed website 1 web semantic project file desktop the websites mobile class milliseconds the project in speed folder mobile the wide and because plugins of external web 1 fix class tags is 2 window syntactically document framework of and \n",
            "------ temperature: 1.2\n",
            "the top of the page which further will contain a makes in websites 1 before web about syntactically syntactically external is like open "
          ],
          "name": "stdout"
        },
        {
          "output_type": "stream",
          "text": [
            "to project and is tested with external foundation external be web class open 7 the also hand real html 8 mobile frameworks and different user the the \n",
            "epoch 52\n",
            "Epoch 1/1\n",
            "35451/35451 [==============================] - 7s 206us/step - loss: 3.1677\n",
            "--- Generating with seed: \"data processing on the server erased the clientstate that has\"\n",
            "------ temperature: 0.2\n",
            "data processing on the server erased the clientstate that has and features tv tv web browser to were to external 6 and external mackintosh customizability many css that for makes in resource css table frontend development plugins 11 web semantic 1 of complicated syntactically with web about file 1 frontend \n",
            "------ temperature: 0.5\n",
            "data processing on the server erased the clientstate that has got before because plugins development 1 external and external 1 frameworks size class external the 2 were the content web for foundation syntactically the semantic thesis this semantic figure was rate of external advanced and of external april com high \n",
            "------ temperature: 1.0\n",
            "data processing on the server erased the clientstate that has and april 38 the "
          ],
          "name": "stdout"
        },
        {
          "output_type": "stream",
          "text": [
            "easiness the complicated the as saved class performing web is external mackintosh foundation the of it framework 1 paper plugins in 8 syntactically last paper web got cli it they they be have of websites of \n",
            "------ temperature: 1.2\n",
            "data processing on the server erased the clientstate that has 5 7 before of external means 3 a foundation makes external including external the taken plugins syntactically one company research document study 1 and external cascading easiness with video or open times better including syntax class class bootstrap class as \n",
            "epoch 53\n",
            "Epoch 1/1\n",
            "32128/35451 [==========================>...] - ETA: 0s - loss: 3.1253"
          ],
          "name": "stdout"
        },
        {
          "output_type": "stream",
          "text": [
            "35451/35451 [==============================] - 7s 206us/step - loss: 3.1569\n",
            "--- Generating with seed: \"form classname form onsubmit this handlesubmit bind this input classname\"\n",
            "------ temperature: 0.2\n",
            "form classname form onsubmit this handlesubmit bind this input classname the content external 1 enterprise define language of web semantic the the in was one project syntactically external 2 a the content class the frontend got to of external untyped and the figure was around com approximately of the view \n",
            "------ temperature: 0.5\n",
            "form classname form onsubmit this handlesubmit bind this input classname as real a the project simplifies 4 paper 1 popular with websites computer and web project file and of external term a websites website for easiness with the 5 programming in and the 1 this result external relative the easiness \n",
            "------ temperature: 1.0\n",
            "form classname form onsubmit this handlesubmit bind this input classname plugins external in external including 4 3 paper web syntactically webpage tv take shows syntactically external wireframe class got websites of external by is loading foundation syntactically it 1 paper of external external usage desktop 1 performing 4 popular last \n",
            "------ temperature: 1.2\n",
            "form classname form onsubmit this handlesubmit bind this input classname google 1 shown website window grid "
          ],
          "name": "stdout"
        },
        {
          "output_type": "stream",
          "text": [
            "time syntactically by external wireframe pagespeed figure frontend got popular the indicates syntactically customizability the next power project templates this project project perform of 2 provide https the entire compiled and of external external \n",
            "epoch 54\n",
            "Epoch 1/1\n",
            "35451/35451 [==============================] - 7s 205us/step - loss: 3.1296\n",
            "--- Generating with seed: \"foundation website bottom generated from crossbrowsertesting 2017 26 17 https\"\n",
            "------ temperature: 0.2\n",
            "foundation website bottom generated from crossbrowsertesting 2017 26 17 https features plugins of web user and paper of external 2 the according the cli at optimizilla is in website performing cli the website customers entire firefox provided in external the be the figure as rules the project followed in it \n",
            "------ temperature: 0.5\n",
            "foundation website bottom generated from crossbrowsertesting 2017 26 17 https chosen web two simplifies 6 and and external 2 external were the and of external web external means webpage is language class the "
          ],
          "name": "stdout"
        },
        {
          "output_type": "stream",
          "text": [
            "and to because external in external the extension the world 1 css that applied class translated pagespeed \n",
            "------ temperature: 1.0\n",
            "foundation website bottom generated from crossbrowsertesting 2017 26 17 https next more the in image install external language and experience better webpage they and are loading 100 pagespeed is is the web semantic semantic got began header with insights 0 standard mobile versions website different applied class 2 frontend results \n",
            "------ temperature: 1.2\n",
            "foundation website bottom generated from crossbrowsertesting 2017 26 17 https untyped features including simplifies including 10 and different untyped syntactically document of an dom well and more the how 4 com speed better the optimize ecmascript was smaller including 100 performing ui 13 frontend a to was hand the less \n",
            "epoch 55\n",
            "Epoch 1/1\n",
            "16256/35451 [============>.................] - ETA: 3s - loss: 2.8893"
          ],
          "name": "stdout"
        },
        {
          "output_type": "stream",
          "text": [
            "35451/35451 [==============================] - 7s 207us/step - loss: 3.1527\n",
            "--- Generating with seed: \"behave like a declarative let in practice this means that\"\n",
            "------ temperature: 0.2\n",
            "behave like a declarative let in practice this means that external external 2 px external plugins external plugins external web user and to a the pingdom and and performing in external web semantic semantic view nesting pagespeed video 1 frameworks design and external framework from external means external framework web \n",
            "------ temperature: 0.5\n",
            "behave like a declarative let in practice this means that user and com different consist plugins the elements and or window results like twitter 1 better according the applied according features including external technical syntactically is language research 1 web rules it 1 with 3 two readability 3 speed custom \n",
            "------ temperature: 1.0\n",
            "behave like a declarative let in practice this means that 10 class insights the 5 2 syntax learning colour web semantic about structure with and other user and a foundation to has test use of services syntactically readability websites website website popular table better and of external one 100 structural \n",
            "------ temperature: 1.2\n",
            "behave like a declarative let in practice this means that project pagespeed engineering applied data "
          ],
          "name": "stdout"
        },
        {
          "output_type": "stream",
          "text": [
            "web resource popular 0 com a and through external rules preprocessor were the and it the support was 1 one 100 pagespeed custom the resource plugins including frameworks 1 mobile browser rules illustrated it 1 \n",
            "epoch 56\n",
            "Epoch 1/1\n",
            "35451/35451 [==============================] - 7s 205us/step - loss: 3.1252\n",
            "--- Generating with seed: \"firstname firstname lastname lastname 8 9 10 jsx element const\"\n",
            "------ temperature: 0.2\n",
            "firstname firstname lastname lastname 8 9 10 jsx element const define web different about 3 that components syntactically 5 external saved class class class it tv tv tv tv tv style of external and external web about external is external web web user and right the result plugins they they \n",
            "------ temperature: 0.5\n",
            "firstname firstname lastname lastname 8 9 10 jsx element const they they components webpage syntactically loading foundation bootstrap syntactically as a rules 2 popular the foundation according syntactically px external foundation best 2 a is 3 frontend that 1 to com view nesting "
          ],
          "name": "stdout"
        },
        {
          "output_type": "stream",
          "text": [
            "project language research mobile syntactically websites they \n",
            "------ temperature: 1.0\n",
            "firstname firstname lastname lastname 8 9 10 jsx element const they they they components for requirements syntactically web user the two 100 get website mobile that wheel 0 css figure using and moreover in websites be for because plugins resources 1 document project simplifies external external 14 it a video \n",
            "------ temperature: 1.2\n",
            "firstname firstname lastname lastname 8 9 10 jsx element const 6 following readability web result external html5 change syntactically window befekadu of is web semantic the 14 the in is web user and the result score computer like with resource and 393 well window rules used 44 frameworks including second \n",
            "epoch 57\n",
            "Epoch 1/1\n",
            "19968/35451 [===============>..............] - ETA: 3s - loss: 2.8930"
          ],
          "name": "stdout"
        },
        {
          "output_type": "stream",
          "text": [
            "35451/35451 [==============================] - 7s 205us/step - loss: 3.1127\n",
            "--- Generating with seed: \"is easy to pass rich data through an application and\"\n",
            "------ temperature: 0.2\n",
            "is easy to pass rich data through an application and was to external means and was the customers plugins the and about external window user and following performing advanced and and rules like the the extension creating mixins about external the for is external there pagespeed with 2 popular will \n",
            "------ temperature: 0.5\n",
            "is easy to pass rich data through an application and optimizilla 4 pingdom language project bootstrap syntactically and websites they they they they they they components tv background 2 popular befekadu befekadu frontend is web the resource class is external take 14 it tv com sizes in external means window \n",
            "------ temperature: 1.0\n",
            "is easy to pass rich data through an application and performing components 32 was one that they 6 are research paper 1 paper device plugins in external web about external of external means it relative with external a sections example speed source improving including easiness the 2017 websites of external \n",
            "------ temperature: 1.2\n",
            "is easy to pass rich data through an application and by external speed better 1 paper with 24 "
          ],
          "name": "stdout"
        },
        {
          "output_type": "stream",
          "text": [
            "final the source april bootstrap abstract bootstrap speed 38 of px was in frontend figure syntactically constant is the 2 paper 1 is external the was web document full 1 3 for \n",
            "epoch 58\n",
            "Epoch 1/1\n",
            "35451/35451 [==============================] - 7s 204us/step - loss: 3.0916\n",
            "--- Generating with seed: \"of the world wide web an html document can provide\"\n",
            "------ temperature: 0.2\n",
            "of the world wide web an html document can provide web about 2017 got 4 articles 5 foundation that 1 frontend that 1 paper illustrated class syntactically following frontend according the the locator be 17 better be the the source 100 document 1 popular april abstract mixins semantic the and \n",
            "------ temperature: 0.5\n",
            "of the world wide web an html document can provide 8 another 6 as shows including is preprocessor bootstrap speed speed syntactically in external foundation foundation out the customers the foundation external chapter of language creating web semantic view nesting rates plugins syntactically syntactically webpage two tools they components project \n",
            "------ temperature: 1.0\n",
            "of the world wide web an html document can provide term "
          ],
          "name": "stdout"
        },
        {
          "output_type": "stream",
          "text": [
            "it device footer source research including easiness easy the to web about in external the figure better project in external web semantic wheel the important better and websites 4 frontend navigation of it 1 results customizability css syntactically and \n",
            "------ temperature: 1.2\n",
            "of the world wide web an html document can provide following were get web for templates were the desktop website preparing external scripts with has into external rules gtmetrix the extension the is mengistu and 808 responsive multitude mobile syntactically learning colour 1 external language because with web about with \n",
            "epoch 59\n",
            "Epoch 1/1\n",
            "28416/35451 [=======================>......] - ETA: 1s - loss: 3.0145"
          ],
          "name": "stdout"
        },
        {
          "output_type": "stream",
          "text": [
            "35451/35451 [==============================] - 7s 207us/step - loss: 3.0998\n",
            "--- Generating with seed: \"ecmascript online url https en wikipedia org wiki ecmascript accessed\"\n",
            "------ temperature: 0.2\n",
            "ecmascript online url https en wikipedia org wiki ecmascript accessed 38 the of following transforms 7 before correctly using changing is web semantic around figure paper unneeded 35 a was the versions plugins above and 1 naturally was get 8 as language bootstrap performing source friendly plugins comes the foundation \n",
            "------ temperature: 0.5\n",
            "ecmascript online url https en wikipedia org wiki ecmascript accessed according the design of the overflow results to websites mobile syntactically score speed plugins they they components they components june frameworks com 5 tv 38 design to used class 3 speed it followed in it region that better due the \n",
            "------ temperature: 1.0\n",
            "ecmascript online url https en wikipedia org wiki ecmascript accessed desktop they components a according the of constant a in result speed speed they ui of external be chrome web semantic 1 frameworks including syntactically the in websites mobile internally research plugins syntactically in video 1 befekadu it css be \n",
            "------ temperature: 1.2\n",
            "ecmascript online url https en wikipedia org wiki ecmascript accessed take table paper language speed "
          ],
          "name": "stdout"
        },
        {
          "output_type": "stream",
          "text": [
            "it a and tinypng the untyped important they they they components they they they they they insights trend speed is the of it size class fully selector for 0 templates in and the website in \n",
            "epoch 60\n",
            "Epoch 1/1\n",
            "35451/35451 [==============================] - 7s 206us/step - loss: 3.0901\n",
            "--- Generating with seed: \"of the regular module pattern by using objects literals or\"\n",
            "------ temperature: 0.2\n",
            "of the regular module pattern by using objects literals or is css be online of learning simplifies customizability to of external and webpage two 100 according times tablets in this wireframe forms syntactically got and frameworks 1 performing https chapter for requirements syntactically loading user tv tags the versions plugins \n",
            "------ temperature: 0.5\n",
            "of the regular module pattern by using objects literals or components the the different frameworks they they they they they they they they components they they components they they tv framework april were the frameworks followed in video external framework on external is web user and "
          ],
          "name": "stdout"
        },
        {
          "output_type": "stream",
          "text": [
            "sizes the result class \n",
            "------ temperature: 1.0\n",
            "of the regular module pattern by using objects literals or the website 1 popular in 12 as web and world the project mobile 3 speed external project example pagespeed plugins website client 2017 thesis engineering the project of language performing frameworks performing multitude categorized to a is fluid is can \n",
            "------ temperature: 1.2\n",
            "of the regular module pattern by using objects literals or one first browser user and and 0 and forks install in loading foundation thesis few using twitter the web semantic language 1 the consist as below web about is external in speed templates 2 4 8 that 1 decreasing two \n",
            "epoch 61\n",
            "Epoch 1/1\n",
            "22784/35451 [==================>...........] - ETA: 2s - loss: 2.9380"
          ],
          "name": "stdout"
        },
        {
          "output_type": "stream",
          "text": [
            "35451/35451 [==============================] - 7s 206us/step - loss: 3.0888\n",
            "--- Generating with seed: \"the classical crowd it also obscured javascript s true prototypal\"\n",
            "------ temperature: 0.2\n",
            "the classical crowd it also obscured javascript s true prototypal website customizability 38 and rate css simplifies articles the package can 6 pixels world 1 popular an rules structural and external by 3 speed templates external external the web different different untyped tv tools syntactically performing using of using images \n",
            "------ temperature: 0.5\n",
            "the classical crowd it also obscured javascript s true prototypal is the and attributes befekadu 3 speed web view nesting they they they they they they they they they they they components tv 24 computer including easiness the 5 versions first elements chapter including external means it dozens plugins they \n",
            "------ temperature: 1.0\n",
            "the classical crowd it also obscured javascript s true prototypal they components the before correctly 0 websites a to and of for websites plugins they 6 website syntactically web about for rules like language including tools the the and results 1 applied class render of 3 speed external open 7 \n",
            "------ temperature: 1.2\n",
            "the classical crowd it also obscured javascript s true prototypal the foundation and different "
          ],
          "name": "stdout"
        },
        {
          "output_type": "stream",
          "text": [
            "the the source websites mobile user current bootstrap 1 as services 4 there in websites mobile also external components syntactically means following readability speed less a fonts for research version plugins in results befekadu to has \n",
            "epoch 62\n",
            "Epoch 1/1\n",
            "35451/35451 [==============================] - 7s 208us/step - loss: 3.1061\n",
            "--- Generating with seed: \"www ametys org community en about us html ac cessed\"\n",
            "------ temperature: 0.2\n",
            "www ametys org community en about us html ac cessed quality milliseconds and external april with web about with because plugins web about is web about mobile about css foundation are the easiness the more 1 how of compared the about optimize external time 3 frontend simplifies the rules the \n",
            "------ temperature: 0.5\n",
            "www ametys org community en about us html ac cessed makes external web about color open 7 the and of external and technical window score performing main extension of and bootstrap 1 and of figure that a rules "
          ],
          "name": "stdout"
        },
        {
          "output_type": "stream",
          "text": [
            "8 that popular makes website figure was to 1 performing for the \n",
            "------ temperature: 1.0\n",
            "www ametys org community en about us html ac cessed com an got is the constant built attributes syntactically it 1 external means webpage components they components that syntactically customizability two readability figure pagespeed results way pagespeed custom loading a that out the figure was language including in 3 speed \n",
            "------ temperature: 1.2\n",
            "www ametys org community en about us html ac cessed custom download website get 9 in and latest of versions 1 that speeding on in external web makes class view class 2 as css mezgebu the websites 4 computer the wide rules plugins of window statistics provide to the elements \n",
            "epoch 63\n",
            "Epoch 1/1\n",
            "20736/35451 [================>.............] - ETA: 3s - loss: 2.9141"
          ],
          "name": "stdout"
        },
        {
          "output_type": "stream",
          "text": [
            "35451/35451 [==============================] - 7s 206us/step - loss: 3.1018\n",
            "--- Generating with seed: \"18 other part of the project and by mistake submit\"\n",
            "------ temperature: 0.2\n",
            "18 other part of the project and by mistake submit of external 2 forks result external means window was plugins analyse line external the web frameworks the is the easiness the were the user got a table speed term 1 1 paper web user many translates in external means external \n",
            "------ temperature: 0.5\n",
            "18 other part of the project and by mistake submit two conclude including and a rules is external web easiness with 0 users syntactically footer web results including libraries the the project mobile optimize several the the and of web about with web about a a embedded class programming entire \n",
            "------ temperature: 1.0\n",
            "18 other part of the project and by mistake submit the 1 in 4 frontend that external means above file of frontend user and components design the results final 1 more on web got in by improving web semantic many source constant is the of more the 3 power about \n",
            "------ temperature: 1.2\n",
            "18 other part of the project and by mistake submit websites 3 speed external of external external technical external external the and "
          ],
          "name": "stdout"
        },
        {
          "output_type": "stream",
          "text": [
            "2 region 11 twiitter class pagespeed the than source loading a in a class syntactically makes external mackintosh to figure features 17 frontend easiness the 8 and were \n",
            "epoch 64\n",
            "Epoch 1/1\n",
            "35451/35451 [==============================] - 7s 206us/step - loss: 3.0975\n",
            "--- Generating with seed: \"32 33 if selectedplayer li selected player selectedplayer name li\"\n",
            "------ temperature: 0.2\n",
            "32 33 if selectedplayer li selected player selectedplayer name li project and features components syntactically means px external web about computer pagespeed basic 6 thesis were the and of is the and by 3 popular and the project 1 paper wheel in external 4 research another in 4 paper web \n",
            "------ temperature: 0.5\n",
            "32 33 if selectedplayer li selected player selectedplayer name li semantic 1 web semantic the the project the wireframe mobile syntactically external the external or bootstrap results project the constant web the of the the learning syntactically computer 2 speed version plugins that 1 popular how befekadu it mobile internally \n",
            "------ temperature: 1.0\n",
            "32 33 if selectedplayer li selected player selectedplayer name li of "
          ],
          "name": "stdout"
        },
        {
          "output_type": "stream",
          "text": [
            "different makes figure before because firefox with they by the about the development the project downloaded the resource the is 3 language including syntactically it mobile structure 1 paper external technical syntactically external technical untyped syntactically performing more footer \n",
            "------ temperature: 1.2\n",
            "32 33 if selectedplayer li selected player selectedplayer name li the web and decreasing file 1 frontend simplifies mobile was they this for syntax external get syntactically and framework 1 external of external the is browser by external in world got a and loading download technical class external technical is \n",
            "epoch 65\n",
            "Epoch 1/1\n",
            "26240/35451 [=====================>........] - ETA: 1s - loss: 2.9663"
          ],
          "name": "stdout"
        },
        {
          "output_type": "stream",
          "text": [
            "35451/35451 [==============================] - 7s 207us/step - loss: 3.0863\n",
            "--- Generating with seed: \"typescript offers a static code analyser so while code is\"\n",
            "------ temperature: 0.2\n",
            "typescript offers a static code analyser so while code is the desktop 1 how the paper 1 document in and pixels frontend that 1 frontend that 1 paper foundation as web about performing plugins performing the was class and including below javascript the and results of external offers language is \n",
            "------ temperature: 0.5\n",
            "typescript offers a static code analyser so while code is external with livescript class class the foundation foundation programming many was the resource frontend that was multitude including relative the and together is the templates is external years syntactically founded class insights syntactically and saved class external structure syntactically and \n",
            "------ temperature: 1.0\n",
            "typescript offers a static code analyser so while code is was get website of website and 29 or community syntactically document framework document framework one 2 paper illustrated class px project design video syntactically and and as the makes external april class the browser according in web about external years \n",
            "------ temperature: 1.2\n",
            "typescript offers a static code analyser so while code is external the in twitter an and "
          ],
          "name": "stdout"
        },
        {
          "output_type": "stream",
          "text": [
            "responsive web com frontend that they several and document framework trend the foundation of and makes the makes external figure was web sizes class technical the versions plugins external plugins line language they they \n",
            "epoch 66\n",
            "Epoch 1/1\n",
            "35451/35451 [==============================] - 7s 207us/step - loss: 3.0470\n",
            "--- Generating with seed: \"a browser the second step was involved in installing the\"\n",
            "------ temperature: 0.2\n",
            "a browser the second step was involved in installing the makes external project 3 paper syntactically external means external external language the extension figure was and website was the user and the 3 paper mobile desktop out including external there change class the pingdom and for 0 bootstrap june 5 \n",
            "------ temperature: 0.5\n",
            "a browser the second step was involved in installing the first to and fluid including the easiness plugins 2 was transforms 7 services the and attributes in learning syntactically external means webpage 4 cross an the and the of services "
          ],
          "name": "stdout"
        },
        {
          "output_type": "stream",
          "text": [
            "website 1 paper speed px external the web about computer \n",
            "------ temperature: 1.0\n",
            "a browser the second step was involved in installing the class 2 sizes class one for external web syntactically speed so a foundation according the more 1 frontend that there the constant source constant of of web user and of 3 that external and or https chapter for articles the \n",
            "------ temperature: 1.2\n",
            "a browser the second step was involved in installing the prepare 1 sizes the the view than website syntactically above pagespeed allows of resource it 1 plugins more images syntactically syntactically webpage html5 bootstrap templates popular most plugins development and of external they references befekadu frontend consist plugins of language \n",
            "epoch 67\n",
            "Epoch 1/1\n",
            "20608/35451 [================>.............] - ETA: 3s - loss: 2.9028"
          ],
          "name": "stdout"
        },
        {
          "output_type": "stream",
          "text": [
            "35451/35451 [==============================] - 7s 206us/step - loss: 3.0836\n",
            "--- Generating with seed: \"eventannouncedsource asobservable eventconfirmed this eventconfirmedsource asobservable service message commands announceevent\"\n",
            "------ temperature: 0.2\n",
            "eventannouncedsource asobservable eventconfirmed this eventconfirmedsource asobservable service message commands announceevent paper research external another define is web semantic of it mobile number plugins were the open according the as web and were the website different user and 0 3 that the rules in external syntactically external as websites window 1 \n",
            "------ temperature: 0.5\n",
            "eventannouncedsource asobservable eventconfirmed this eventconfirmedsource asobservable service message commands announceevent wireframe popular navigation according the resource including and as web user and the project simplifies project mobile internally syntactically untyped to for design and wide a rules https preprocessor abstract frameworks used class for built websites was in external web \n",
            "------ temperature: 1.0\n",
            "eventannouncedsource asobservable eventconfirmed this eventconfirmedsource asobservable service message commands announceevent external wireframe syntactically 393 and and different 1 and by this constant the source constant in customizability and the the the project simplifies was with external they and "
          ],
          "name": "stdout"
        },
        {
          "output_type": "stream",
          "text": [
            "was lower means css is language including learning untyped the a that \n",
            "------ temperature: 1.2\n",
            "eventannouncedsource asobservable eventconfirmed this eventconfirmedsource asobservable service message commands announceevent and structural point folder with web loading wheel external of the extension is used window with wireframe for changing resource by meaning external by 11 any customers and document document code client mobile finally things 1 of a makes class \n",
            "epoch 68\n",
            "Epoch 1/1\n",
            "35451/35451 [==============================] - 7s 205us/step - loss: 3.0692\n",
            "--- Generating with seed: \"hosting repositories and git development tools initially released as an\"\n",
            "------ temperature: 0.2\n",
            "hosting repositories and git development tools initially released as an and trend versions plugins window file fast of external and of external the "
          ],
          "name": "stdout"
        },
        {
          "output_type": "stream",
          "text": [
            "and were the and attributes standard performing to cli syntactically is the of websites mobile versions were the open 7 the package to in and addition in \n",
            "------ temperature: 0.5\n",
            "hosting repositories and git development tools initially released as an websites computer pagespeed 1 attributes frontend untyped and the a 2 entire video got websites a 27 was phase were the 17 com engineering and including and apis is several for because of the and attributes the the web results \n",
            "------ temperature: 1.0\n",
            "hosting repositories and git development tools initially released as an another the web twitter and in support 2 1 paper web syntactically and in external web user and following frontend simplifies two was plugins external they than in is syntactically it the the result one the resource structural syntactically window \n",
            "------ temperature: 1.2\n",
            "hosting repositories and git development tools initially released as an 8 load websites founded research 7 of paper 1 paper plugins external the and before which 1 including scripts pagespeed plugins for web web got for rules external the of and for research templates plugins website window syntactically the programming \n",
            "epoch 69\n",
            "Epoch 1/1\n",
            " 1920/35451 [>.............................] - ETA: 7s - loss: 2.7060"
          ],
          "name": "stdout"
        },
        {
          "output_type": "stream",
          "text": [
            "35451/35451 [==============================] - 7s 206us/step - loss: 3.0647\n",
            "--- Generating with seed: \"command line interpreter cli and it manages all the dependencies\"\n",
            "------ temperature: 0.2\n",
            "command line interpreter cli and it manages all the dependencies they they they they they they they they they they they they they they they they they they they they they they they they they they they they they they they they they they they they they they they they \n",
            "------ temperature: 0.5\n",
            "command line interpreter cli and it manages all the dependencies they they they they they they they they they they they they they they they they they they they they they they they they they they they they they they they they they they they they they they they they \n",
            "------ temperature: 1.0\n",
            "command line interpreter cli and it manages all the dependencies they they they they the in and for is the in 12 was 2 is informed usage simpler using in world a structure is the semantic web package can several bootstrap figure that a rules statistics class also were external \n",
            "------ temperature: 1.2\n",
            "command line interpreter cli and it manages all the dependencies background of approach and that they in video they "
          ],
          "name": "stdout"
        },
        {
          "output_type": "stream",
          "text": [
            "they they they they they they they and research 1 and different navigation be easiness the results of because external performing 17 including befekadu it the and the project mobile a \n",
            "epoch 70\n",
            "Epoch 1/1\n",
            "35451/35451 [==============================] - 7s 206us/step - loss: 3.0605\n",
            "--- Generating with seed: \"erik eloff daniel torstensson an investigation into the applicability of\"\n",
            "------ temperature: 0.2\n",
            "erik eloff daniel torstensson an investigation into the applicability of complicated performing the shows less number plugins as desktop syntactically be foundation programming project including and of external language technical syntactically performing website dozens plugins is web external 2 css syntactically means and readability 1 external moreover were the and \n",
            "------ temperature: 0.5\n",
            "erik eloff daniel torstensson an investigation into the applicability of to 17 with makes external means 3 creating dozens plugins is loading constant website syntactically and website is language different attributes was online last released class class class 2 was the it of "
          ],
          "name": "stdout"
        },
        {
          "output_type": "stream",
          "text": [
            "complicated and programming of 4 popular prepare \n",
            "------ temperature: 1.0\n",
            "erik eloff daniel torstensson an investigation into the applicability of by external the for framework websites website 1 paper project webpage the years by provide web by templates with following two below figure that components dozens plugins the a for speed moreover templates versus standard syntactically to of was to \n",
            "------ temperature: 1.2\n",
            "erik eloff daniel torstensson an investigation into the applicability of of websites is 2 pagespeed custom it mobile the different attributes the and of 1 speed source improving external website components the simplifies for requirements with web about 6 2 cascading package to external 2 regarding research 1 rules frontend \n",
            "epoch 71\n",
            "Epoch 1/1\n",
            "19200/35451 [===============>..............] - ETA: 3s - loss: 2.8391"
          ],
          "name": "stdout"
        },
        {
          "output_type": "stream",
          "text": [
            "35451/35451 [==============================] - 7s 206us/step - loss: 3.0652\n",
            "--- Generating with seed: \"component views figure 7 data flow is flux architecture 20\"\n",
            "------ temperature: 0.2\n",
            "component views figure 7 data flow is flux architecture 20 em 1 1 paper 1 syntactically is the open and quality speed syntactically performing external technical class insights document frameworks they components the shows dozens plugins analyse class plugins external to from in external 1 used is external syntactically window \n",
            "------ temperature: 0.5\n",
            "component views figure 7 data flow is flux architecture 20 minified and of 1 before informed external 2 well right the the rules in external the vital several and website performing language size programming and more the package to external is css define web about including of and io rules \n",
            "------ temperature: 1.0\n",
            "component views figure 7 data flow is flux architecture 20 speed 1 5 17 that rules of external means webpage cross than friendly figure were to websites different be it code including term in it 1 paper and results final versions plugins external website 32 versions 1 two conclude and \n",
            "------ temperature: 1.2\n",
            "component views figure 7 data flow is flux architecture 20 less of 1 more 1 "
          ],
          "name": "stdout"
        },
        {
          "output_type": "stream",
          "text": [
            "was multitude same the the speed more the figure speed source founded including relative is was the 3 speed with 0 the a websites of external technical folder performing to was resource including relative the \n",
            "epoch 72\n",
            "Epoch 1/1\n",
            "35451/35451 [==============================] - 7s 204us/step - loss: 3.0575\n",
            "--- Generating with seed: \"cms official website to attend to their users subscribers some\"\n",
            "------ temperature: 0.2\n",
            "cms official website to attend to their users subscribers some and and used class the were the internally to project syntactically it 24 speed source 17 chosen and of and were the view nesting and in external technical class is the loading plugins external class preprocessor abstract readability results score \n",
            "------ temperature: 0.5\n",
            "cms official website to attend to their users subscribers some the website including frameworks simplifies 17 35 it 1 befekadu it 1 paper external as foundation syntactically gives moreover was search 0 class building compared pagespeed web view pagespeed custom wireframe better got 4 "
          ],
          "name": "stdout"
        },
        {
          "output_type": "stream",
          "text": [
            "that external term external in web \n",
            "------ temperature: 1.0\n",
            "cms official website to attend to their users subscribers some for of moreover that window the 27 figure frontend the preparing plugins external external 2 well parameters a first final 17 7 the figure was rate 2 the the 2 community in websites plugins external 6 right external language illustrated \n",
            "------ temperature: 1.2\n",
            "cms official website to attend to their users subscribers some plugins syntactically for relative figure before web semantic 4 one constant and is external there 1 language of rules 393 footer cli websites mobile browser 17 that 1 speed design the templates structure example a open 7 the more the \n",
            "epoch 73\n",
            "Epoch 1/1\n",
            "22016/35451 [=================>............] - ETA: 2s - loss: 2.8880"
          ],
          "name": "stdout"
        },
        {
          "output_type": "stream",
          "text": [
            "35451/35451 [==============================] - 7s 207us/step - loss: 3.0338\n",
            "--- Generating with seed: \"use the arguments keyword which is an array containing everything\"\n",
            "------ temperature: 0.2\n",
            "use the arguments keyword which is an array containing everything syntactically external technical class usage class external website as constant external means usage project file including attributes external it addis according the world px including css3 to as constant web results that external be or introduction the the and important \n",
            "------ temperature: 0.5\n",
            "use the arguments keyword which is an array containing everything will a 2 how a common 8 1 their screen 1 applied according class 2 popular frameworks resource the and speed source plugins external website the view be website befekadu was bootstrap syntactically loading rules preprocessor abstract features processing are \n",
            "------ temperature: 1.0\n",
            "use the arguments keyword which is an array containing everything syntactically fast befekadu 3 speed templates performing is web user and in it 1 paper web about mobile 10 services syntactically as a to lower versions plugins two semantic the frameworks they they they they they they they they they \n",
            "------ temperature: 1.2\n",
            "use the arguments keyword which is an array containing everything they they "
          ],
          "name": "stdout"
        },
        {
          "output_type": "stream",
          "text": [
            "they they they they they tv of is content class plugins the according syntactically plugins speed web navigation external be of external web about overview external web two conclude this can external cascading means loading structure with netscape \n",
            "epoch 74\n",
            "Epoch 1/1\n",
            "35451/35451 [==============================] - 7s 206us/step - loss: 3.0382\n",
            "--- Generating with seed: \"to be used along with react on the applications or\"\n",
            "------ temperature: 0.2\n",
            "to be used along with react on the applications or web user project 3 popular the the the the the the the the the less for project file feature ecmascript engineering different simplifies templates followed in external external web two mixins semantic 8 april of loading separate 4 before external \n",
            "------ temperature: 0.5\n",
            "to be used along with react on the applications or means in external because external plugins the figure that get px external by external website is in external means external by external makes web frameworks syntactically "
          ],
          "name": "stdout"
        },
        {
          "output_type": "stream",
          "text": [
            "following was get table paper web syntactically external web web frameworks 1 paper foundation \n",
            "------ temperature: 1.0\n",
            "to be used along with react on the applications or syntactically well the programming entire compared the the versions plugins external the foundation according the more around s px external technical class of language is external window ietf external less video foundation to structural syntactically by 6 paper syntactically external \n",
            "------ temperature: 1.2\n",
            "to be used along with react on the applications or term mobile including syntactically window translated according syntactically figure two performing external loading feature 2 tool project the to has the website was web folder mobile and project founded 1 popular 6 html5 in start further the community with images \n",
            "epoch 75\n",
            "Epoch 1/1\n",
            "16896/35451 [=============>................] - ETA: 3s - loss: 2.8044"
          ],
          "name": "stdout"
        },
        {
          "output_type": "stream",
          "text": [
            "35451/35451 [==============================] - 7s 207us/step - loss: 3.0387\n",
            "--- Generating with seed: \"or how they work the illustration below states how world\"\n",
            "------ temperature: 0.2\n",
            "or how they work the illustration below states how world a were the number plugins tv tv wireframe above interface syntactically webpage next quality customizability source and as in and following readability in external of external external technical the for external were the that with language research in it 1 \n",
            "------ temperature: 0.5\n",
            "or how they work the illustration below states how world paper bootstrap syntactically loading rules following external with external open 7 and as used with the easiness plugins in it project comes the was one project score plugins including get was like external by external makes class and of external \n",
            "------ temperature: 1.0\n",
            "or how they work the illustration below states how world makes external april of as web screen com one tool tv the project 1 speed 100 mobile two simplifies the they this 1 tv features the of footer of external term templates different constant package to and performing on external \n",
            "------ temperature: 1.2\n",
            "or how they work the illustration below states how world 1 in external figure as external "
          ],
          "name": "stdout"
        },
        {
          "output_type": "stream",
          "text": [
            "web semantic the it website syntactically wireframing 1 class pagespeed internally external and 2 technical be with web 1 in it the the 1 than building easiness 1 for in websites external and 14 \n",
            "epoch 76\n",
            "Epoch 1/1\n",
            "35451/35451 [==============================] - 7s 207us/step - loss: 3.0302\n",
            "--- Generating with seed: \"url string network via the router 14 the message is\"\n",
            "------ temperature: 0.2\n",
            "url string network via the router 14 the message is the video external of external wireframe pagespeed 1 the about seen syntactically were interface bootstrap syntactically and of this according syntactically external by external of external be the programming project popular external means plugins external the and external testing external \n",
            "------ temperature: 0.5\n",
            "url string network via the router 14 the message is the for foundation speed a 14 for foundation external means and provide external technical class table paper further figure paper language syntactically code external open 7 and where frontend simplifies use 10 a rules with "
          ],
          "name": "stdout"
        },
        {
          "output_type": "stream",
          "text": [
            "because a foundation the foundation \n",
            "------ temperature: 1.0\n",
            "url string network via the router 14 the message is and css for befekadu start 1 units web is external options 4 better foundation define web simplifies trend speed web 1 experience a firefox the is tested class accessed the of for 100 and and of 1 frontend 1995 table \n",
            "------ temperature: 1.2\n",
            "url string network via the router 14 the message is popular and an browser 17 of makes web easiness with external a common user and com makes external web untyped tools includes research got because in definitely is firm foundation to and modern rules like external the be vital semantic \n",
            "epoch 77\n",
            "Epoch 1/1\n",
            "24192/35451 [===================>..........] - ETA: 2s - loss: 2.8908"
          ],
          "name": "stdout"
        },
        {
          "output_type": "stream",
          "text": [
            "35451/35451 [==============================] - 7s 207us/step - loss: 3.0427\n",
            "--- Generating with seed: \"that particular module the module of facebook s chatroom has\"\n",
            "------ temperature: 0.2\n",
            "that particular module the module of facebook s chatroom has and websites they components they they they they they they they they they they they they they they they they they they they they they they they they they they they they they they they they they they they they \n",
            "------ temperature: 0.5\n",
            "that particular module the module of facebook s chatroom has they they they they they they they they they they they they they they they they they they they they they they they they they they they they they they they they they they they they they they they they \n",
            "------ temperature: 1.0\n",
            "that particular module the module of facebook s chatroom has they they they they they tv framework javascript class the project about with is used class project 3 frontend class as usage plugins including to changing the and moreover in website semantic makes and moreover external be the makes class \n",
            "------ temperature: 1.2\n",
            "that particular module the module of facebook s chatroom has web results plugins pagespeed tools firefox 6 javascript syntactically and by last popular rules "
          ],
          "name": "stdout"
        },
        {
          "output_type": "stream",
          "text": [
            "features in pagespeed means external external web external 2 open 7 for at external web about were plugins the twitter package the syntactically web different performing \n",
            "epoch 78\n",
            "Epoch 1/1\n",
            "35451/35451 [==============================] - 7s 207us/step - loss: 3.0220\n",
            "--- Generating with seed: \"the opportunity to immediately see the results of their work\"\n",
            "------ temperature: 0.2\n",
            "the opportunity to immediately see the results of their work 4 popular preparing speed versions plugins file resource web paper used pagespeed was multitude components including relative the easiness the it in result rem external by external as it and a rules preprocessor abstract apis folder performing external means window \n",
            "------ temperature: 0.5\n",
            "the opportunity to immediately see the results of their work website structures engineering it illustrated class provided by computer external enterprise website was web css services external another means external 2 in as web got embedded class is the rules project and different consist plugins removes website 1 frontend javascript \n",
            "------ temperature: 1.0\n",
            "the opportunity to immediately see the results of their work "
          ],
          "name": "stdout"
        },
        {
          "output_type": "stream",
          "text": [
            "simplifies popular source rules like web that structure class tv in websites external 38 device plugins external the content plugins external 1 images syntactically they firm illustrated class be syntactically above 3 creating web 1 was cli plugins syntactically computer \n",
            "------ temperature: 1.2\n",
            "the opportunity to immediately see the results of their work is web 8 and was to and the of following and including two semantic figure two is on is the figure speed it search bootstrap chosen resource according the to used 3 that development web hypertext people the the mobile \n",
            "epoch 79\n",
            "Epoch 1/1\n",
            "30208/35451 [========================>.....] - ETA: 1s - loss: 2.9412"
          ],
          "name": "stdout"
        },
        {
          "output_type": "stream",
          "text": [
            "35451/35451 [==============================] - 7s 205us/step - loss: 3.0133\n",
            "--- Generating with seed: \"should not require any stored data to process the request\"\n",
            "------ temperature: 0.2\n",
            "should not require any stored data to process the request syntactically the is the constant were the web different that website performing in result speed prepare external open 7 and of external view syntactically of external means external web external technical class folder mengistu power foundation and things framework is \n",
            "------ temperature: 0.5\n",
            "should not require any stored data to process the request external relative syntactically in external external plugins external the that website website they components they they they they they they they they they they tv of web user many mengistu web 000 website including is foundation started pagespeed firefox pagespeed \n",
            "------ temperature: 1.0\n",
            "should not require any stored data to process the request the 17 3 paper web got 1 and of language term creating websites 4 another view website external compiler define a makes in web to cli the in 4 in world the and web results templates developers wheel performing good \n",
            "------ temperature: 1.2\n",
            "should not require any stored data to process the request the a makes external in external class "
          ],
          "name": "stdout"
        },
        {
          "output_type": "stream",
          "text": [
            "folder are the video syntactically external external external external external of is external makes in websites of web user and 14 before external foundation the results programming in and by all external web \n"
          ],
          "name": "stdout"
        }
      ]
    },
    {
      "metadata": {
        "id": "mcX68stvbhow",
        "colab_type": "text"
      },
      "cell_type": "markdown",
      "source": [
        "**Generated text after 80 epochs**  \n",
        "--- Generating with seed: \"should not require any stored data to process the request\"  \n",
        "------ temperature: 0.2  \n",
        "should not require any stored data to process the request syntactically the is the constant were the web different that website performing in result speed prepare external open 7 and of external view syntactically of external means external web external technical class folder mengistu power foundation and things framework is   \n",
        "------ temperature: 0.5  \n",
        "should not require any stored data to process the request external relative syntactically in external external plugins external the that website website they components they they they they they they they they they they tv of web user many mengistu web 000 website including is foundation started pagespeed firefox pagespeed   \n",
        "------ temperature: 1.0  \n",
        "should not require any stored data to process the request the 17 3 paper web got 1 and of language term creating websites 4 another view website external compiler define a makes in web to cli the in 4 in world the and web results templates developers wheel performing good   \n",
        "------ temperature: 1.2  \n",
        "should not require any stored data to process the request the a makes external in external class folder are the video syntactically external external external external external of is external makes in websites of web user and 14 before external foundation the results programming in and by all external web   "
      ]
    },
    {
      "metadata": {
        "id": "KMfc7yWFoMPE",
        "colab_type": "text"
      },
      "cell_type": "markdown",
      "source": [
        "___\n",
        "It seems that generated technical text did not make good sense. Also the theses topics vary a lot. Maybe I should have gone for the philosophy related theses instead, then the confusing generated text will sound smart. "
      ]
    }
  ]
}