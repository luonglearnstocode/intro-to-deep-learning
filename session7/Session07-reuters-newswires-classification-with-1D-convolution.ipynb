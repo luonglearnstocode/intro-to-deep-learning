{
 "cells": [
  {
   "cell_type": "markdown",
   "metadata": {
    "colab_type": "text",
    "id": "FzbyA8YdlxJ_"
   },
   "source": [
    "Name: **Luong Nguyen**  \n",
    "Student ID: **1504210**  "
   ]
  },
  {
   "cell_type": "markdown",
   "metadata": {
    "colab_type": "text",
    "id": "WVWzTZnElxKC"
   },
   "source": [
    "# Introduction to Deep Learning \n",
    "\n",
    "## Session07: reuters newswires classification with 1D convolution\n",
    "____\n",
    "Chollet's dense network achieved an accuracy of *~78%* , whereas our RNNs network from session06 achieved *~80%* accuracy. Let's see if 1D convolution could perform better."
   ]
  },
  {
   "cell_type": "markdown",
   "metadata": {
    "colab_type": "text",
    "id": "5BnM8_iQlxKD"
   },
   "source": [
    "## Import the packages needed for this assignment"
   ]
  },
  {
   "cell_type": "code",
   "execution_count": 2,
   "metadata": {
    "colab": {
     "autoexec": {
      "startup": false,
      "wait_interval": 0
     },
     "base_uri": "https://localhost:8080/",
     "height": 34,
     "output_extras": [
      {
       "item_id": 1
      }
     ]
    },
    "colab_type": "code",
    "executionInfo": {
     "elapsed": 3079,
     "status": "ok",
     "timestamp": 1520949075591,
     "user": {
      "displayName": "Lượng Nguyễn",
      "photoUrl": "//lh4.googleusercontent.com/-0tk3vfJkdYg/AAAAAAAAAAI/AAAAAAAAAIU/xKDhDVByUns/s50-c-k-no/photo.jpg",
      "userId": "101670466780780394701"
     },
     "user_tz": -120
    },
    "id": "XCpvTWn2l4-d",
    "outputId": "cd27d0cb-373c-4f8a-ce40-27f2b544db7e"
   },
   "outputs": [
    {
     "data": {
      "text/plain": [
       "'/device:GPU:0'"
      ]
     },
     "execution_count": 2,
     "metadata": {
      "tags": []
     },
     "output_type": "execute_result"
    }
   ],
   "source": [
    "# install keras on google colab\n",
    "!pip install -q keras\n",
    "# is GPU working?\n",
    "import tensorflow as tf\n",
    "tf.test.gpu_device_name()"
   ]
  },
  {
   "cell_type": "code",
   "execution_count": 11,
   "metadata": {
    "colab": {
     "autoexec": {
      "startup": false,
      "wait_interval": 0
     },
     "base_uri": "https://localhost:8080/",
     "height": 34,
     "output_extras": [
      {
       "item_id": 1
      }
     ]
    },
    "colab_type": "code",
    "executionInfo": {
     "elapsed": 593,
     "status": "ok",
     "timestamp": 1520949076678,
     "user": {
      "displayName": "Lượng Nguyễn",
      "photoUrl": "//lh4.googleusercontent.com/-0tk3vfJkdYg/AAAAAAAAAAI/AAAAAAAAAIU/xKDhDVByUns/s50-c-k-no/photo.jpg",
      "userId": "101670466780780394701"
     },
     "user_tz": -120
    },
    "id": "DkZ1ZrAnlxKF",
    "outputId": "374a61ca-bad0-4ada-b1ed-5ec748d6f939"
   },
   "outputs": [],
   "source": [
    "# import packages\n",
    "import numpy as np\n",
    "import matplotlib.pyplot as plt\n",
    "from keras.models import Sequential\n",
    "from keras.layers import Embedding, GlobalMaxPooling1D, Dense, Conv1D\n",
    "from keras.preprocessing import sequence\n",
    "from keras.utils.np_utils import to_categorical"
   ]
  },
  {
   "cell_type": "markdown",
   "metadata": {
    "colab_type": "text",
    "id": "ccPgfWd3_i_x"
   },
   "source": [
    "## Prepare data"
   ]
  },
  {
   "cell_type": "markdown",
   "metadata": {
    "colab_type": "text",
    "id": "WuWuLXgiF6RJ"
   },
   "source": [
    "### Load data"
   ]
  },
  {
   "cell_type": "code",
   "execution_count": 4,
   "metadata": {
    "colab": {
     "autoexec": {
      "startup": false,
      "wait_interval": 0
     }
    },
    "colab_type": "code",
    "id": "FWlyx_SbF2Im"
   },
   "outputs": [
    {
     "name": "stdout",
     "output_type": "stream",
     "text": [
      "Downloading data from https://s3.amazonaws.com/text-datasets/reuters.npz\n",
      "2113536/2110848 [==============================] - 2s 1us/step\n"
     ]
    }
   ],
   "source": [
    "from keras.datasets import reuters\n",
    "\n",
    "max_features = 1000 # number of words to consider as features\n",
    "maxlen = 100  # cut texts after this number of words (among top max_features most common words)\n",
    "\n",
    "(x_train, y_train), (x_test, y_test) = reuters.load_data(num_words=max_features, maxlen=maxlen)"
   ]
  },
  {
   "cell_type": "markdown",
   "metadata": {
    "colab_type": "text",
    "id": "F02oj-ArF-yf"
   },
   "source": [
    "### Preprocess data"
   ]
  },
  {
   "cell_type": "code",
   "execution_count": 5,
   "metadata": {
    "colab": {
     "autoexec": {
      "startup": false,
      "wait_interval": 0
     },
     "base_uri": "https://localhost:8080/",
     "height": 85,
     "output_extras": [
      {
       "item_id": 1
      }
     ]
    },
    "colab_type": "code",
    "executionInfo": {
     "elapsed": 549,
     "status": "ok",
     "timestamp": 1520949082589,
     "user": {
      "displayName": "Lượng Nguyễn",
      "photoUrl": "//lh4.googleusercontent.com/-0tk3vfJkdYg/AAAAAAAAAAI/AAAAAAAAAIU/xKDhDVByUns/s50-c-k-no/photo.jpg",
      "userId": "101670466780780394701"
     },
     "user_tz": -120
    },
    "id": "7PIQEBmGAPpV",
    "outputId": "fa3f123c-a4d3-42df-ee89-fcc18cf807f0"
   },
   "outputs": [
    {
     "name": "stdout",
     "output_type": "stream",
     "text": [
      "x_train shape: (4777, 100)\n",
      "y_train shape: (4777, 46)\n",
      "x_test shape: (1195, 100)\n",
      "y_test shape: (1195, 46)\n"
     ]
    }
   ],
   "source": [
    "# pad sequence\n",
    "x_train = sequence.pad_sequences(x_train, maxlen=maxlen)\n",
    "x_test = sequence.pad_sequences(x_test, maxlen=maxlen)\n",
    "\n",
    "# one-hot encode labels\n",
    "y_train = to_categorical(y_train, 46)\n",
    "y_test = to_categorical(y_test, 46)\n",
    "\n",
    "print(\"x_train shape: %s\" % (str(x_train.shape)))\n",
    "print(\"y_train shape: %s\" % (str(y_train.shape)))\n",
    "print(\"x_test shape: %s\" % (str(x_test.shape)))\n",
    "print(\"y_test shape: %s\" % (str(y_test.shape)))"
   ]
  },
  {
   "cell_type": "markdown",
   "metadata": {
    "colab_type": "text",
    "id": "oLwqwxfkADl5"
   },
   "source": [
    "## Conv1D"
   ]
  },
  {
   "cell_type": "code",
   "execution_count": 7,
   "metadata": {
    "colab": {
     "autoexec": {
      "startup": false,
      "wait_interval": 0
     },
     "base_uri": "https://localhost:8080/",
     "height": 343,
     "output_extras": [
      {
       "item_id": 2
      }
     ]
    },
    "colab_type": "code",
    "id": "6S9bmHYuAGvM",
    "outputId": "98fa81d4-837c-41f2-a42e-8d03c0100978"
   },
   "outputs": [
    {
     "name": "stdout",
     "output_type": "stream",
     "text": [
      "_________________________________________________________________\n",
      "Layer (type)                 Output Shape              Param #   \n",
      "=================================================================\n",
      "embedding_3 (Embedding)      (None, 100, 32)           32000     \n",
      "_________________________________________________________________\n",
      "conv1d_4 (Conv1D)            (None, 94, 32)            7200      \n",
      "_________________________________________________________________\n",
      "global_max_pooling1d_3 (Glob (None, 32)                0         \n",
      "_________________________________________________________________\n",
      "dense_3 (Dense)              (None, 46)                1518      \n",
      "=================================================================\n",
      "Total params: 40,718\n",
      "Trainable params: 40,718\n",
      "Non-trainable params: 0\n",
      "_________________________________________________________________\n",
      "Train on 4777 samples, validate on 1195 samples\n",
      "Epoch 1/40\n",
      "4777/4777 [==============================] - 3s 564us/step - loss: 3.1482 - acc: 0.4658 - val_loss: 2.2342 - val_acc: 0.5155\n",
      "Epoch 2/40\n",
      "4777/4777 [==============================] - 2s 481us/step - loss: 1.7749 - acc: 0.5861 - val_loss: 1.5045 - val_acc: 0.6661\n",
      "Epoch 3/40\n",
      "4777/4777 [==============================] - 3s 534us/step - loss: 1.4066 - acc: 0.6732 - val_loss: 1.3419 - val_acc: 0.6812\n",
      "Epoch 4/40\n",
      "4777/4777 [==============================] - 3s 558us/step - loss: 1.2763 - acc: 0.6912 - val_loss: 1.2652 - val_acc: 0.7063\n",
      "Epoch 5/40\n",
      "4777/4777 [==============================] - 2s 489us/step - loss: 1.1958 - acc: 0.7149 - val_loss: 1.2096 - val_acc: 0.7213\n",
      "Epoch 6/40\n",
      "4777/4777 [==============================] - 2s 473us/step - loss: 1.1324 - acc: 0.7331 - val_loss: 1.1694 - val_acc: 0.7289\n",
      "Epoch 7/40\n",
      "4777/4777 [==============================] - 2s 480us/step - loss: 1.0800 - acc: 0.7538 - val_loss: 1.1306 - val_acc: 0.7490\n",
      "Epoch 8/40\n",
      "4777/4777 [==============================] - 2s 487us/step - loss: 1.0339 - acc: 0.7672 - val_loss: 1.1032 - val_acc: 0.7540\n",
      "Epoch 9/40\n",
      "4777/4777 [==============================] - 2s 482us/step - loss: 0.9937 - acc: 0.7773 - val_loss: 1.0731 - val_acc: 0.7623\n",
      "Epoch 10/40\n",
      "4777/4777 [==============================] - 2s 509us/step - loss: 0.9562 - acc: 0.7842 - val_loss: 1.0503 - val_acc: 0.7674\n",
      "Epoch 11/40\n",
      "4777/4777 [==============================] - 3s 545us/step - loss: 0.9207 - acc: 0.7869 - val_loss: 1.0229 - val_acc: 0.7707\n",
      "Epoch 12/40\n",
      "4777/4777 [==============================] - 2s 519us/step - loss: 0.8864 - acc: 0.7928 - val_loss: 1.0035 - val_acc: 0.7707\n",
      "Epoch 13/40\n",
      "4777/4777 [==============================] - 3s 529us/step - loss: 0.8549 - acc: 0.7965 - val_loss: 0.9848 - val_acc: 0.7715\n",
      "Epoch 14/40\n",
      "4777/4777 [==============================] - 2s 522us/step - loss: 0.8245 - acc: 0.8047 - val_loss: 0.9694 - val_acc: 0.7791\n",
      "Epoch 15/40\n",
      "4777/4777 [==============================] - 2s 486us/step - loss: 0.7958 - acc: 0.8124 - val_loss: 0.9554 - val_acc: 0.7816\n",
      "Epoch 16/40\n",
      "4777/4777 [==============================] - 2s 495us/step - loss: 0.7671 - acc: 0.8225 - val_loss: 0.9359 - val_acc: 0.7933\n",
      "Epoch 17/40\n",
      "4777/4777 [==============================] - 3s 542us/step - loss: 0.7398 - acc: 0.8319 - val_loss: 0.9250 - val_acc: 0.7950\n",
      "Epoch 18/40\n",
      "4777/4777 [==============================] - 3s 544us/step - loss: 0.7137 - acc: 0.8357 - val_loss: 0.9120 - val_acc: 0.7967\n",
      "Epoch 19/40\n",
      "4777/4777 [==============================] - 3s 574us/step - loss: 0.6883 - acc: 0.8413 - val_loss: 0.9031 - val_acc: 0.8000\n",
      "Epoch 20/40\n",
      "4777/4777 [==============================] - 3s 557us/step - loss: 0.6637 - acc: 0.8474 - val_loss: 0.8944 - val_acc: 0.8017\n",
      "Epoch 21/40\n",
      "4777/4777 [==============================] - 3s 544us/step - loss: 0.6411 - acc: 0.8495 - val_loss: 0.8872 - val_acc: 0.8033\n",
      "Epoch 22/40\n",
      "4777/4777 [==============================] - 3s 585us/step - loss: 0.6182 - acc: 0.8533 - val_loss: 0.8803 - val_acc: 0.8033\n",
      "Epoch 23/40\n",
      "4777/4777 [==============================] - 3s 585us/step - loss: 0.5969 - acc: 0.8581 - val_loss: 0.8680 - val_acc: 0.8067\n",
      "Epoch 24/40\n",
      "4777/4777 [==============================] - 3s 556us/step - loss: 0.5754 - acc: 0.8612 - val_loss: 0.8665 - val_acc: 0.8050\n",
      "Epoch 25/40\n",
      "4777/4777 [==============================] - 3s 572us/step - loss: 0.5555 - acc: 0.8652 - val_loss: 0.8557 - val_acc: 0.8117\n",
      "Epoch 26/40\n",
      "4777/4777 [==============================] - 3s 553us/step - loss: 0.5350 - acc: 0.8710 - val_loss: 0.8504 - val_acc: 0.8126\n",
      "Epoch 27/40\n",
      "4777/4777 [==============================] - 3s 537us/step - loss: 0.5157 - acc: 0.8767 - val_loss: 0.8458 - val_acc: 0.8151\n",
      "Epoch 28/40\n",
      "4777/4777 [==============================] - 3s 561us/step - loss: 0.4960 - acc: 0.8813 - val_loss: 0.8402 - val_acc: 0.8142\n",
      "Epoch 29/40\n",
      "4777/4777 [==============================] - ETA: 0s - loss: 0.4746 - acc: 0.886 - 3s 554us/step - loss: 0.4766 - acc: 0.8859 - val_loss: 0.8350 - val_acc: 0.8159\n",
      "Epoch 30/40\n",
      "4777/4777 [==============================] - 3s 548us/step - loss: 0.4592 - acc: 0.8907 - val_loss: 0.8309 - val_acc: 0.8184\n",
      "Epoch 31/40\n",
      "4777/4777 [==============================] - 3s 542us/step - loss: 0.4418 - acc: 0.8930 - val_loss: 0.8257 - val_acc: 0.8209\n",
      "Epoch 32/40\n",
      "4777/4777 [==============================] - 3s 556us/step - loss: 0.4233 - acc: 0.8968 - val_loss: 0.8214 - val_acc: 0.8209\n",
      "Epoch 33/40\n",
      "4777/4777 [==============================] - 3s 579us/step - loss: 0.4062 - acc: 0.9018 - val_loss: 0.8195 - val_acc: 0.8201\n",
      "Epoch 34/40\n",
      "4777/4777 [==============================] - 2s 515us/step - loss: 0.3898 - acc: 0.9016 - val_loss: 0.8203 - val_acc: 0.8218\n",
      "Epoch 35/40\n",
      "4777/4777 [==============================] - 2s 505us/step - loss: 0.3738 - acc: 0.9096 - val_loss: 0.8142 - val_acc: 0.8176\n",
      "Epoch 36/40\n",
      "4777/4777 [==============================] - 3s 586us/step - loss: 0.3577 - acc: 0.9144 - val_loss: 0.8128 - val_acc: 0.8234\n",
      "Epoch 37/40\n",
      "4777/4777 [==============================] - 3s 528us/step - loss: 0.3421 - acc: 0.9165 - val_loss: 0.8136 - val_acc: 0.8268\n",
      "Epoch 38/40\n",
      "4777/4777 [==============================] - 2s 505us/step - loss: 0.3279 - acc: 0.9240 - val_loss: 0.8127 - val_acc: 0.8259\n",
      "Epoch 39/40\n",
      "4777/4777 [==============================] - 2s 508us/step - loss: 0.3138 - acc: 0.9253 - val_loss: 0.8111 - val_acc: 0.8293\n",
      "Epoch 40/40\n",
      "4777/4777 [==============================] - 3s 552us/step - loss: 0.3006 - acc: 0.9288 - val_loss: 0.8117 - val_acc: 0.8251\n"
     ]
    }
   ],
   "source": [
    "model = Sequential()\n",
    "model.add(Embedding(max_features, 32, input_length=maxlen))\n",
    "model.add(Conv1D(32, 7, activation='relu'))\n",
    "model.add(GlobalMaxPooling1D())\n",
    "model.add(Dense(46, activation='softmax'))\n",
    "\n",
    "model.compile(optimizer='rmsprop',\n",
    "              loss='categorical_crossentropy',\n",
    "              metrics=['accuracy'])\n",
    "\n",
    "model.summary()\n",
    "\n",
    "history = model.fit(x_train, y_train,\n",
    "                    epochs=40,\n",
    "                    batch_size=128,\n",
    "                    validation_data=(x_test, y_test))"
   ]
  },
  {
   "cell_type": "code",
   "execution_count": 9,
   "metadata": {
    "colab": {
     "autoexec": {
      "startup": false,
      "wait_interval": 0
     }
    },
    "colab_type": "code",
    "id": "pHbxh-_alkux"
   },
   "outputs": [
    {
     "data": {
      "image/png": "[encoded data removed]",
      "text/plain": [
       "<matplotlib.figure.Figure at 0x25f80864ac8>"
      ]
     },
     "metadata": {},
     "output_type": "display_data"
    },
    {
     "data": {
      "image/png": "[encoded data removed]",
      "text/plain": [
       "<matplotlib.figure.Figure at 0x25f80712be0>"
      ]
     },
     "metadata": {},
     "output_type": "display_data"
    }
   ],
   "source": [
    "loss = history.history['loss']\n",
    "val_loss = history.history['val_loss']\n",
    "epochs = range(1, len(loss) + 1)\n",
    "\n",
    "plt.figure()\n",
    "plt.plot(epochs, loss, 'bo', label='Training loss')\n",
    "plt.plot(epochs, val_loss, 'b', label='Validation loss')\n",
    "plt.xlabel('Epochs')\n",
    "plt.ylabel('Loss')\n",
    "plt.title('Training and validation loss')\n",
    "plt.legend()\n",
    "plt.show()\n",
    "\n",
    "acc = history.history['acc']\n",
    "val_acc = history.history['val_acc']\n",
    "\n",
    "plt.plot(epochs, acc, 'bo', label='Training acc')\n",
    "plt.plot(epochs, val_acc, 'b', label='Validation acc')\n",
    "plt.title('Training and validation accuracy')\n",
    "plt.xlabel('Epochs')\n",
    "plt.ylabel('Acc')\n",
    "plt.legend()\n",
    "plt.show()"
   ]
  },
  {
   "cell_type": "markdown",
   "metadata": {
    "colab_type": "text",
    "id": "BtJWwO79fAxp"
   },
   "source": [
    "With Conv1D, we achieved an accuracy of **~82%** after 40 epochs, slightly better than **~78%** of our RNN. However, it only took about **3s** to train an epoch, compared to about **5s** of our RNN. "
   ]
  }
 ],
 "metadata": {
  "accelerator": "GPU",
  "colab": {
   "collapsed_sections": [],
   "default_view": {},
   "name": "Session07-reuters-newswires-classification-with-1D-convolution.ipynb",
   "provenance": [],
   "version": "0.3.2",
   "views": {}
  },
  "kernelspec": {
   "display_name": "Python 3",
   "language": "python",
   "name": "python3"
  },
  "language_info": {
   "codemirror_mode": {
    "name": "ipython",
    "version": 3
   },
   "file_extension": ".py",
   "mimetype": "text/x-python",
   "name": "python",
   "nbconvert_exporter": "python",
   "pygments_lexer": "ipython3",
   "version": "3.5.4"
  }
 },
 "nbformat": 4,
 "nbformat_minor": 1
}
