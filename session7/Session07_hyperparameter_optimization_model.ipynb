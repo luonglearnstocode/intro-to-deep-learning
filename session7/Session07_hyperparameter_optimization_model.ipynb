{
  "nbformat": 4,
  "nbformat_minor": 0,
  "metadata": {
    "colab": {
      "name": "Session07-hyperparameter-optimization-model.ipynb",
      "version": "0.3.2",
      "views": {},
      "default_view": {},
      "provenance": [],
      "collapsed_sections": []
    },
    "kernelspec": {
      "name": "python3",
      "display_name": "Python 3"
    }
  },
  "cells": [
    {
      "metadata": {
        "id": "FzbyA8YdlxJ_",
        "colab_type": "text"
      },
      "cell_type": "markdown",
      "source": [
        "Name: **Luong Nguyen**  \n",
        "Student ID: **1504210**  "
      ]
    },
    {
      "metadata": {
        "id": "WVWzTZnElxKC",
        "colab_type": "text"
      },
      "cell_type": "markdown",
      "source": [
        "# Introduction to Deep Learning \n",
        "\n",
        "## Session07: hyperparameter optimization (train optimized model)\n",
        "____"
      ]
    },
    {
      "metadata": {
        "id": "Z5SLYZu1abIc",
        "colab_type": "code",
        "colab": {
          "autoexec": {
            "startup": false,
            "wait_interval": 0
          }
        }
      },
      "cell_type": "code",
      "source": [
        "# import packages\n",
        "import numpy as np\n",
        "from keras import models, layers\n",
        "import matplotlib.pyplot as plt"
      ],
      "execution_count": 0,
      "outputs": []
    },
    {
      "metadata": {
        "id": "TO40cw2dwnU5",
        "colab_type": "text"
      },
      "cell_type": "markdown",
      "source": [
        "## Data"
      ]
    },
    {
      "metadata": {
        "id": "LM8qFEf-bL3P",
        "colab_type": "code",
        "colab": {
          "autoexec": {
            "startup": false,
            "wait_interval": 0
          },
          "output_extras": [
            {
              "item_id": 45
            }
          ],
          "base_uri": "https://localhost:8080/",
          "height": 153
        },
        "outputId": "a97d55cb-f85c-4065-89f6-7b3332b6b51b",
        "executionInfo": {
          "status": "ok",
          "timestamp": 1520967291836,
          "user_tz": -120,
          "elapsed": 12197,
          "user": {
            "displayName": "Lượng Nguyễn",
            "photoUrl": "//lh4.googleusercontent.com/-0tk3vfJkdYg/AAAAAAAAAAI/AAAAAAAAAIU/xKDhDVByUns/s50-c-k-no/photo.jpg",
            "userId": "101670466780780394701"
          }
        }
      },
      "cell_type": "code",
      "source": [
        "from keras.datasets import fashion_mnist\n",
        "\n",
        "(x_train, y_train), (x_test, y_test) = fashion_mnist.load_data()"
      ],
      "execution_count": 12,
      "outputs": [
        {
          "output_type": "stream",
          "text": [
            "Downloading data from http://fashion-mnist.s3-website.eu-central-1.amazonaws.com/train-labels-idx1-ubyte.gz\n",
            "32768/29515 [=================================] - 0s 3us/step\n",
            "Downloading data from http://fashion-mnist.s3-website.eu-central-1.amazonaws.com/train-images-idx3-ubyte.gz\n",
            "26427392/26421880 [==============================] - 7s 0us/step\n",
            "Downloading data from http://fashion-mnist.s3-website.eu-central-1.amazonaws.com/t10k-labels-idx1-ubyte.gz\n",
            "8192/5148 [===============================================] - 0s 0us/step\n",
            "Downloading data from http://fashion-mnist.s3-website.eu-central-1.amazonaws.com/t10k-images-idx3-ubyte.gz\n",
            "4423680/4422102 [==============================] - 3s 1us/step\n"
          ],
          "name": "stdout"
        }
      ]
    },
    {
      "metadata": {
        "id": "WqE1aIkiak-U",
        "colab_type": "code",
        "colab": {
          "autoexec": {
            "startup": false,
            "wait_interval": 0
          }
        }
      },
      "cell_type": "code",
      "source": [
        "# unroll image into a vector\n",
        "x_train = x_train.reshape(-1, 28 * 28)\n",
        "x_test = x_test.reshape(-1, 28 * 28)\n",
        "\n",
        "# scaling all values into [0, 1]\n",
        "x_train = x_train.astype('float32') / 255\n",
        "x_test = x_test.astype('float32') / 255\n",
        "\n",
        "# categorically encode the labels\n",
        "from keras.utils import to_categorical\n",
        "\n",
        "y_train = to_categorical(y_train)\n",
        "y_test = to_categorical(y_test)"
      ],
      "execution_count": 0,
      "outputs": []
    },
    {
      "metadata": {
        "id": "YpoF3sYRwrFv",
        "colab_type": "text"
      },
      "cell_type": "markdown",
      "source": [
        "## Optimized model"
      ]
    },
    {
      "metadata": {
        "id": "nzNE3Mbhacyz",
        "colab_type": "code",
        "colab": {
          "autoexec": {
            "startup": false,
            "wait_interval": 0
          },
          "output_extras": [
            {
              "item_id": 31
            }
          ],
          "base_uri": "https://localhost:8080/",
          "height": 714
        },
        "outputId": "a00f4ff1-4696-4290-e77b-82e50774bcf0",
        "executionInfo": {
          "status": "ok",
          "timestamp": 1520968137148,
          "user_tz": -120,
          "elapsed": 173825,
          "user": {
            "displayName": "Lượng Nguyễn",
            "photoUrl": "//lh4.googleusercontent.com/-0tk3vfJkdYg/AAAAAAAAAAI/AAAAAAAAAIU/xKDhDVByUns/s50-c-k-no/photo.jpg",
            "userId": "101670466780780394701"
          }
        }
      },
      "cell_type": "code",
      "source": [
        "model = models.Sequential()\n",
        "model.add(layers.Dense(512, input_shape=(784,), activation='relu')) # 'Dense': 2\n",
        "\n",
        "model.add(layers.Dropout(0.5152808649614491)) # 'Dropout': 0.5152808649614491\n",
        "\n",
        "model.add(layers.Dense(512, activation = 'relu')) # 'Dense_1': 2\n",
        "\n",
        "model.add(layers.Dropout(0.42522861686845626)) # 'Dropout_1': 0.42522861686845626\n",
        "\n",
        "# 'conditional': 0 => 'three'\n",
        "\n",
        "model.add(layers.Dense(10, activation='softmax'))\n",
        "\n",
        "model.compile(loss='categorical_crossentropy', metrics=['accuracy'],\n",
        "              optimizer='rmsprop') # 'optimizer': 0\n",
        "\n",
        "# 'batch_size': 1\n",
        "hist = model.fit(x_train, y_train,\n",
        "          batch_size=128, \n",
        "          epochs=20,\n",
        "          verbose=2,\n",
        "          validation_data=(x_test, y_test))"
      ],
      "execution_count": 18,
      "outputs": [
        {
          "output_type": "stream",
          "text": [
            "Train on 60000 samples, validate on 10000 samples\n",
            "Epoch 1/20\n",
            " - 9s - loss: 0.6297 - acc: 0.7719 - val_loss: 0.5017 - val_acc: 0.8244\n",
            "Epoch 2/20\n",
            " - 9s - loss: 0.4626 - acc: 0.8337 - val_loss: 0.4171 - val_acc: 0.8480\n",
            "Epoch 3/20\n",
            " - 9s - loss: 0.4334 - acc: 0.8464 - val_loss: 0.4087 - val_acc: 0.8573\n",
            "Epoch 4/20\n",
            " - 9s - loss: 0.4178 - acc: 0.8531 - val_loss: 0.3815 - val_acc: 0.8703\n",
            "Epoch 5/20\n",
            " - 9s - loss: 0.4089 - acc: 0.8584 - val_loss: 0.4044 - val_acc: 0.8612\n",
            "Epoch 6/20\n",
            " - 9s - loss: 0.4027 - acc: 0.8603 - val_loss: 0.4018 - val_acc: 0.8627\n",
            "Epoch 7/20\n",
            " - 8s - loss: 0.3975 - acc: 0.8630 - val_loss: 0.3864 - val_acc: 0.8643\n",
            "Epoch 8/20\n",
            " - 9s - loss: 0.3966 - acc: 0.8663 - val_loss: 0.3988 - val_acc: 0.8635\n",
            "Epoch 9/20\n",
            " - 9s - loss: 0.3961 - acc: 0.8667 - val_loss: 0.4153 - val_acc: 0.8637\n",
            "Epoch 10/20\n",
            " - 9s - loss: 0.3912 - acc: 0.8691 - val_loss: 0.4009 - val_acc: 0.8707\n",
            "Epoch 11/20\n",
            " - 9s - loss: 0.3865 - acc: 0.8697 - val_loss: 0.4236 - val_acc: 0.8535\n",
            "Epoch 12/20\n",
            " - 9s - loss: 0.3865 - acc: 0.8703 - val_loss: 0.3907 - val_acc: 0.8681\n",
            "Epoch 13/20\n",
            " - 9s - loss: 0.3845 - acc: 0.8719 - val_loss: 0.4010 - val_acc: 0.8679\n",
            "Epoch 14/20\n",
            " - 9s - loss: 0.3849 - acc: 0.8726 - val_loss: 0.4062 - val_acc: 0.8681\n",
            "Epoch 15/20\n",
            " - 9s - loss: 0.3833 - acc: 0.8728 - val_loss: 0.3955 - val_acc: 0.8729\n",
            "Epoch 16/20\n",
            " - 9s - loss: 0.3874 - acc: 0.8736 - val_loss: 0.4041 - val_acc: 0.8735\n",
            "Epoch 17/20\n",
            " - 9s - loss: 0.3861 - acc: 0.8737 - val_loss: 0.4190 - val_acc: 0.8638\n",
            "Epoch 18/20\n",
            " - 9s - loss: 0.3878 - acc: 0.8749 - val_loss: 0.3918 - val_acc: 0.8756\n",
            "Epoch 19/20\n",
            " - 9s - loss: 0.3885 - acc: 0.8746 - val_loss: 0.3875 - val_acc: 0.8749\n",
            "Epoch 20/20\n",
            " - 9s - loss: 0.3780 - acc: 0.8773 - val_loss: 0.4273 - val_acc: 0.8649\n"
          ],
          "name": "stdout"
        }
      ]
    },
    {
      "metadata": {
        "id": "MF2uouWRupfZ",
        "colab_type": "code",
        "colab": {
          "autoexec": {
            "startup": false,
            "wait_interval": 0
          },
          "output_extras": [
            {
              "item_id": 1
            },
            {
              "item_id": 2
            }
          ],
          "base_uri": "https://localhost:8080/",
          "height": 707
        },
        "outputId": "edc19224-cf23-42bc-bcca-01272e374e96",
        "executionInfo": {
          "status": "ok",
          "timestamp": 1520968161771,
          "user_tz": -120,
          "elapsed": 992,
          "user": {
            "displayName": "Lượng Nguyễn",
            "photoUrl": "//lh4.googleusercontent.com/-0tk3vfJkdYg/AAAAAAAAAAI/AAAAAAAAAIU/xKDhDVByUns/s50-c-k-no/photo.jpg",
            "userId": "101670466780780394701"
          }
        }
      },
      "cell_type": "code",
      "source": [
        "acc = hist.history['acc']\n",
        "val_acc = hist.history['val_acc']\n",
        "loss = hist.history['loss']\n",
        "val_loss = hist.history['val_loss']\n",
        "epochs = range(1, len(acc) + 1)\n",
        "\n",
        "plt.plot(epochs, acc, 'bo', label='Training acc')\n",
        "plt.plot(epochs, val_acc, 'b', label='Validation acc')\n",
        "plt.title('Training and validation accuracy')\n",
        "plt.legend()\n",
        "\n",
        "plt.figure()\n",
        "plt.plot(epochs, loss, 'bo', label='Training loss')\n",
        "plt.plot(epochs, val_loss, 'b', label='Validation loss')\n",
        "plt.title('Training and validation loss')\n",
        "plt.legend()\n",
        "\n",
        "plt.show()"
      ],
      "execution_count": 19,
      "outputs": [
        {
          "output_type": "display_data",
          "data": {
            "image/png": "[encoded data removed]",
            "text/plain": [
              "<matplotlib.figure.Figure at 0x7f7f71870ef0>"
            ]
          },
          "metadata": {
            "tags": []
          }
        },
        {
          "output_type": "display_data",
          "data": {
            "image/png": "[encoded data removed]",
            "text/plain": [
              "<matplotlib.figure.Figure at 0x7f7f717cb4a8>"
            ]
          },
          "metadata": {
            "tags": []
          }
        }
      ]
    }
  ]
}