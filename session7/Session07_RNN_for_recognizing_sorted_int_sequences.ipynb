{
  "nbformat": 4,
  "nbformat_minor": 0,
  "metadata": {
    "colab": {
      "name": "Session07-RNN-for-recognizing-sorted-int-sequences.ipynb",
      "version": "0.3.2",
      "views": {},
      "default_view": {},
      "provenance": [],
      "collapsed_sections": []
    },
    "kernelspec": {
      "name": "python3",
      "display_name": "Python 3"
    }
  },
  "cells": [
    {
      "metadata": {
        "id": "FzbyA8YdlxJ_",
        "colab_type": "text"
      },
      "cell_type": "markdown",
      "source": [
        "Name: **Luong Nguyen**  \n",
        "Student ID: **1504210**  "
      ]
    },
    {
      "metadata": {
        "id": "WVWzTZnElxKC",
        "colab_type": "text"
      },
      "cell_type": "markdown",
      "source": [
        "# Introduction to Deep Learning \n",
        "\n",
        "## Session07: RNN for recognizing sorted int sequences\n",
        "____"
      ]
    },
    {
      "metadata": {
        "id": "5BnM8_iQlxKD",
        "colab_type": "text"
      },
      "cell_type": "markdown",
      "source": [
        "## Import the packages needed for this assignment"
      ]
    },
    {
      "metadata": {
        "id": "XCpvTWn2l4-d",
        "colab_type": "code",
        "colab": {
          "autoexec": {
            "startup": false,
            "wait_interval": 0
          },
          "output_extras": [
            {
              "item_id": 1
            }
          ],
          "base_uri": "https://localhost:8080/",
          "height": 34
        },
        "outputId": "86085cfb-7843-49c3-84f3-70c78109d61c",
        "executionInfo": {
          "status": "ok",
          "timestamp": 1520951364498,
          "user_tz": -120,
          "elapsed": 3158,
          "user": {
            "displayName": "Lượng Nguyễn",
            "photoUrl": "//lh4.googleusercontent.com/-0tk3vfJkdYg/AAAAAAAAAAI/AAAAAAAAAIU/xKDhDVByUns/s50-c-k-no/photo.jpg",
            "userId": "101670466780780394701"
          }
        }
      },
      "cell_type": "code",
      "source": [
        "# install keras on google colab\n",
        "!pip install -q keras\n",
        "# is GPU working?\n",
        "import tensorflow as tf\n",
        "tf.test.gpu_device_name()"
      ],
      "execution_count": 1,
      "outputs": [
        {
          "output_type": "execute_result",
          "data": {
            "text/plain": [
              "'/device:GPU:0'"
            ]
          },
          "metadata": {
            "tags": []
          },
          "execution_count": 1
        }
      ]
    },
    {
      "metadata": {
        "id": "DkZ1ZrAnlxKF",
        "colab_type": "code",
        "colab": {
          "autoexec": {
            "startup": false,
            "wait_interval": 0
          },
          "output_extras": [
            {
              "item_id": 1
            }
          ],
          "base_uri": "https://localhost:8080/",
          "height": 34
        },
        "outputId": "a5557ea5-bbdd-43bd-9c9a-b3f2129758f8",
        "executionInfo": {
          "status": "ok",
          "timestamp": 1520954936973,
          "user_tz": -120,
          "elapsed": 780,
          "user": {
            "displayName": "Lượng Nguyễn",
            "photoUrl": "//lh4.googleusercontent.com/-0tk3vfJkdYg/AAAAAAAAAAI/AAAAAAAAAIU/xKDhDVByUns/s50-c-k-no/photo.jpg",
            "userId": "101670466780780394701"
          }
        }
      },
      "cell_type": "code",
      "source": [
        "# import packages\n",
        "import numpy as np\n",
        "from keras.models import Sequential\n",
        "from keras.layers import Dense, LSTM, "
      ],
      "execution_count": 3,
      "outputs": [
        {
          "output_type": "stream",
          "text": [
            "Using TensorFlow backend.\n"
          ],
          "name": "stderr"
        }
      ]
    },
    {
      "metadata": {
        "id": "NcAdnKG4KiaP",
        "colab_type": "text"
      },
      "cell_type": "markdown",
      "source": [
        "## Generate data"
      ]
    },
    {
      "metadata": {
        "id": "Z28J0NBwPEU2",
        "colab_type": "text"
      },
      "cell_type": "markdown",
      "source": [
        "We will randomly generate sequences of 100 integers, label 0 as unsorted and 1 as sorted. Also, the test set will have a different value interval from the train set so that we can check the generalization of the model. The idea is that if we feed these labeled sequences into a RNN, it can learn to predict if an integer sequence is sorted."
      ]
    },
    {
      "metadata": {
        "id": "28pzytp_zCtB",
        "colab_type": "code",
        "colab": {
          "autoexec": {
            "startup": false,
            "wait_interval": 0
          },
          "output_extras": [
            {
              "item_id": 1
            }
          ],
          "base_uri": "https://localhost:8080/",
          "height": 85
        },
        "outputId": "e08f74ef-e26d-4c92-835c-97d8941e8059",
        "executionInfo": {
          "status": "ok",
          "timestamp": 1520960596605,
          "user_tz": -120,
          "elapsed": 545,
          "user": {
            "displayName": "Lượng Nguyễn",
            "photoUrl": "//lh4.googleusercontent.com/-0tk3vfJkdYg/AAAAAAAAAAI/AAAAAAAAAIU/xKDhDVByUns/s50-c-k-no/photo.jpg",
            "userId": "101670466780780394701"
          }
        }
      },
      "cell_type": "code",
      "source": [
        "x_train = []\n",
        "y_train = []\n",
        "x_test = []\n",
        "y_test = []\n",
        "\n",
        "for i in range(1000):\n",
        "  seq = np.random.randint(1000, size=100)\n",
        "  sorted_seq = sorted(seq)\n",
        "  x_train.append(seq)\n",
        "  y_train.append(0)\n",
        "  x_train.append(sorted_seq)\n",
        "  y_train.append(1)\n",
        "  \n",
        "  seq = np.random.randint(10000, size=100)\n",
        "  sorted_seq = sorted(seq)\n",
        "  x_test.append(seq)\n",
        "  y_test.append(0)\n",
        "  x_test.append(sorted_seq)\n",
        "  y_test.append(1)\n",
        "  \n",
        "  \n",
        "x_train = np.array(x_train)\n",
        "y_train = np.array(y_train)\n",
        "x_test = np.array(x_test)\n",
        "y_test = np.array(y_test)\n",
        "\n",
        "x_train = np.reshape(x_train, (x_train.shape[0], 1, x_train.shape[1]))\n",
        "x_test = np.reshape(x_test, (x_test.shape[0], 1, x_test.shape[1]))\n",
        "\n",
        "print(\"x_train shape: %s\" % (str(x_train.shape)))\n",
        "print(\"y_train shape: %s\" % (str(y_train.shape)))\n",
        "print(\"x_test shape: %s\" % (str(x_test.shape)))\n",
        "print(\"y_test shape: %s\" % (str(y_test.shape)))"
      ],
      "execution_count": 75,
      "outputs": [
        {
          "output_type": "stream",
          "text": [
            "x_train shape: (2000, 1, 100)\n",
            "y_train shape: (2000,)\n",
            "x_test shape: (2000, 1, 100)\n",
            "y_test shape: (2000,)\n"
          ],
          "name": "stdout"
        }
      ]
    },
    {
      "metadata": {
        "id": "wRyO7K4xKltI",
        "colab_type": "text"
      },
      "cell_type": "markdown",
      "source": [
        "## Training"
      ]
    },
    {
      "metadata": {
        "id": "Lf6qdu6J01Bm",
        "colab_type": "code",
        "colab": {
          "autoexec": {
            "startup": false,
            "wait_interval": 0
          },
          "output_extras": [
            {
              "item_id": 19
            }
          ],
          "base_uri": "https://localhost:8080/",
          "height": 425
        },
        "outputId": "07547f6d-6e6d-4b50-ba02-bf10cde7b5f2",
        "executionInfo": {
          "status": "ok",
          "timestamp": 1520960621643,
          "user_tz": -120,
          "elapsed": 8971,
          "user": {
            "displayName": "Lượng Nguyễn",
            "photoUrl": "//lh4.googleusercontent.com/-0tk3vfJkdYg/AAAAAAAAAAI/AAAAAAAAAIU/xKDhDVByUns/s50-c-k-no/photo.jpg",
            "userId": "101670466780780394701"
          }
        }
      },
      "cell_type": "code",
      "source": [
        "model = Sequential()\n",
        "\n",
        "model.add(LSTM(32, return_sequences=True, input_shape=(1, 100)))\n",
        "model.add(LSTM(32))\n",
        "\n",
        "model.add(Dense(1, activation='sigmoid'))\n",
        "\n",
        "model.compile(optimizer='rmsprop',\n",
        "              loss='binary_crossentropy',\n",
        "              metrics=['accuracy'])\n",
        "\n",
        "model.summary()\n",
        "\n",
        "history = model.fit(x_train, y_train,\n",
        "                    epochs=5,\n",
        "                    batch_size=16,\n",
        "                    validation_split=0.2,  shuffle=True)"
      ],
      "execution_count": 77,
      "outputs": [
        {
          "output_type": "stream",
          "text": [
            "_________________________________________________________________\n",
            "Layer (type)                 Output Shape              Param #   \n",
            "=================================================================\n",
            "lstm_29 (LSTM)               (None, 1, 32)             17024     \n",
            "_________________________________________________________________\n",
            "lstm_30 (LSTM)               (None, 32)                8320      \n",
            "_________________________________________________________________\n",
            "dense_15 (Dense)             (None, 1)                 33        \n",
            "=================================================================\n",
            "Total params: 25,377\n",
            "Trainable params: 25,377\n",
            "Non-trainable params: 0\n",
            "_________________________________________________________________\n",
            "Train on 1600 samples, validate on 400 samples\n",
            "Epoch 1/5\n",
            "1600/1600 [==============================] - 4s 3ms/step - loss: 0.5247 - acc: 0.9406 - val_loss: 0.3906 - val_acc: 0.9975\n",
            "Epoch 2/5\n",
            "1600/1600 [==============================] - 1s 399us/step - loss: 0.2286 - acc: 0.9975 - val_loss: 0.0757 - val_acc: 0.9950\n",
            "Epoch 3/5\n",
            "1600/1600 [==============================] - 1s 402us/step - loss: 0.0390 - acc: 0.9975 - val_loss: 0.0134 - val_acc: 0.9975\n",
            "Epoch 4/5\n",
            "1600/1600 [==============================] - 1s 433us/step - loss: 0.0077 - acc: 0.9981 - val_loss: 0.0027 - val_acc: 1.0000\n",
            "Epoch 5/5\n",
            "1600/1600 [==============================] - 1s 421us/step - loss: 0.0037 - acc: 0.9988 - val_loss: 0.0017 - val_acc: 1.0000\n"
          ],
          "name": "stdout"
        }
      ]
    },
    {
      "metadata": {
        "id": "C38_Ei-oUXBd",
        "colab_type": "text"
      },
      "cell_type": "markdown",
      "source": [
        "Evaluate the model on our test set"
      ]
    },
    {
      "metadata": {
        "id": "zx9cgX9BMy-u",
        "colab_type": "code",
        "colab": {
          "autoexec": {
            "startup": false,
            "wait_interval": 0
          },
          "output_extras": [
            {
              "item_id": 1
            },
            {
              "item_id": 2
            }
          ],
          "base_uri": "https://localhost:8080/",
          "height": 51
        },
        "outputId": "54b3974c-b33d-40ff-8a76-db12e48da36a",
        "executionInfo": {
          "status": "ok",
          "timestamp": 1520960651775,
          "user_tz": -120,
          "elapsed": 542,
          "user": {
            "displayName": "Lượng Nguyễn",
            "photoUrl": "//lh4.googleusercontent.com/-0tk3vfJkdYg/AAAAAAAAAAI/AAAAAAAAAIU/xKDhDVByUns/s50-c-k-no/photo.jpg",
            "userId": "101670466780780394701"
          }
        }
      },
      "cell_type": "code",
      "source": [
        "model.evaluate(x_test, y_test)"
      ],
      "execution_count": 78,
      "outputs": [
        {
          "output_type": "stream",
          "text": [
            "2000/2000 [==============================] - 0s 51us/step\n"
          ],
          "name": "stdout"
        },
        {
          "output_type": "execute_result",
          "data": {
            "text/plain": [
              "[0.0026904334409628065, 0.999]"
            ]
          },
          "metadata": {
            "tags": []
          },
          "execution_count": 78
        }
      ]
    },
    {
      "metadata": {
        "id": "71hkpUdbUf7E",
        "colab_type": "text"
      },
      "cell_type": "markdown",
      "source": [
        "The model quickly learned and did perform well on the test set."
      ]
    },
    {
      "metadata": {
        "id": "0ldwPu-TU9TT",
        "colab_type": "text"
      },
      "cell_type": "markdown",
      "source": [
        "### Examples of predictions"
      ]
    },
    {
      "metadata": {
        "id": "rRvzG1KRM7gf",
        "colab_type": "code",
        "colab": {
          "autoexec": {
            "startup": false,
            "wait_interval": 0
          },
          "output_extras": [
            {
              "item_id": 1
            }
          ],
          "base_uri": "https://localhost:8080/",
          "height": 935
        },
        "outputId": "ca0f653c-2470-46d6-bdc0-24255fbf431e",
        "executionInfo": {
          "status": "ok",
          "timestamp": 1520960816217,
          "user_tz": -120,
          "elapsed": 761,
          "user": {
            "displayName": "Lượng Nguyễn",
            "photoUrl": "//lh4.googleusercontent.com/-0tk3vfJkdYg/AAAAAAAAAAI/AAAAAAAAAIU/xKDhDVByUns/s50-c-k-no/photo.jpg",
            "userId": "101670466780780394701"
          }
        }
      },
      "cell_type": "code",
      "source": [
        "np.random.shuffle(x_test)\n",
        "x_test[:5]"
      ],
      "execution_count": 79,
      "outputs": [
        {
          "output_type": "execute_result",
          "data": {
            "text/plain": [
              "array([[[ 884,  360, 2771, 6713, 2956, 1892, 1739, 6255, 9323, 3078,\n",
              "         9438, 1013, 2627,  383, 2494, 6144, 9124, 5154, 9065, 4331,\n",
              "         6809, 1516, 9140, 5177, 8950, 5344, 3154, 3753, 8299,  523,\n",
              "         3186, 9178, 1396, 1002, 1880, 3395, 4227, 6152, 5518, 6122,\n",
              "         5951, 2368, 8549, 2993, 6798, 8992, 2108, 5755, 7406, 5104,\n",
              "          570, 9489, 6202, 7081, 5926, 9271, 8686, 1708, 9072, 1619,\n",
              "         1672, 5435, 8449, 8113, 8229, 1250, 2349, 9008, 5029, 5969,\n",
              "         6147, 8772, 9361,  644, 4721,  678, 2284, 9501, 2582, 5837,\n",
              "         6377, 6775, 4808, 2455, 5009, 8631,  772, 1245,  425, 2003,\n",
              "         2403,  142, 8620, 6966,  318, 8518, 3436, 7232, 7178, 9271]],\n",
              "\n",
              "       [[1125, 4834, 5104, 9503, 7250, 4678, 6089, 8136, 5107, 9139,\n",
              "         8085, 4289, 2777, 4875, 4076, 9303, 7954, 6635, 1644, 2548,\n",
              "         2633, 8908, 1714, 4129, 1375, 2998, 1981, 7911, 8927, 3249,\n",
              "         8378, 2157, 6015, 1335, 7265, 2730, 3460, 4229, 9920, 2917,\n",
              "         1820, 2914, 2964, 7257, 7851, 8819, 8016, 1904, 2385, 4695,\n",
              "         1921, 3866, 8190, 8323, 6928, 7167, 3520, 9843, 2121, 6771,\n",
              "         6201, 2082, 8406, 7999, 7262, 4120, 5408, 8091, 5309, 1003,\n",
              "         1934, 2465, 8599, 7704, 7078, 3663, 7431,  345,  337, 3144,\n",
              "         4912, 2672, 1028, 1005, 8676, 1020, 5820, 1822, 2609, 5051,\n",
              "         3789, 6885, 1598, 9815, 8561, 7056, 7835, 9602, 8333, 8536]],\n",
              "\n",
              "       [[  61,  237,  290,  297,  330,  440,  456,  471,  498,  503,\n",
              "          552,  560,  679,  704,  800,  816,  913, 1127, 1302, 1366,\n",
              "         1436, 1534, 1544, 1895, 1959, 1973, 2190, 2353, 2364, 2375,\n",
              "         2731, 2805, 2853, 2917, 3075, 3134, 3649, 3709, 3990, 4071,\n",
              "         4139, 4214, 4278, 4295, 4314, 4521, 4617, 4685, 4869, 5033,\n",
              "         5034, 5062, 5275, 5358, 5363, 5367, 5367, 5404, 5571, 5731,\n",
              "         5761, 5808, 5888, 6085, 6175, 6274, 6327, 6534, 6680, 6707,\n",
              "         6733, 6890, 6942, 7031, 7119, 7680, 7695, 7725, 7782, 7843,\n",
              "         7848, 7915, 8082, 8184, 8230, 8453, 8481, 8529, 8637, 8765,\n",
              "         8868, 8923, 8948, 8962, 9121, 9223, 9637, 9641, 9843, 9981]],\n",
              "\n",
              "       [[  34,  112,  229,  243,  371,  455,  477,  519,  538,  583,\n",
              "          622,  642,  655,  864,  989, 1062, 1320, 1322, 1390, 1405,\n",
              "         1700, 1721, 1838, 1878, 2017, 2020, 2050, 2077, 2094, 2166,\n",
              "         2380, 2493, 2682, 2759, 2817, 3106, 3231, 3287, 3333, 3334,\n",
              "         3477, 3706, 3860, 4002, 4022, 4035, 4086, 4324, 4371, 4397,\n",
              "         4439, 4539, 4596, 4708, 4734, 4769, 4922, 4995, 5002, 5033,\n",
              "         5100, 5239, 5335, 5408, 5548, 5662, 5743, 5842, 6060, 6185,\n",
              "         6664, 6722, 6854, 6987, 7138, 7323, 7331, 7704, 7792, 7805,\n",
              "         7875, 7935, 8017, 8018, 8048, 8198, 8397, 8625, 8670, 8686,\n",
              "         8737, 8780, 9144, 9149, 9429, 9438, 9497, 9586, 9768, 9801]],\n",
              "\n",
              "       [[8635, 3805, 5847, 4241, 8385, 9588, 1814, 8939, 5800, 8284,\n",
              "         7972, 8813, 1680, 2455,  430, 9889, 1418, 7346, 9059, 8131,\n",
              "         2199, 5633, 7931, 9142,  273, 1382, 1783, 5072, 1430, 6614,\n",
              "         2684, 7645, 8750, 9042, 4544, 8765, 6662, 5439, 5009, 3470,\n",
              "         9799, 7988, 7924, 1480, 9840, 3297,  416, 2175, 5963, 4383,\n",
              "         1732, 7358,  656, 3641, 7423, 1994, 3094, 3683, 3271, 2031,\n",
              "         3957, 4124, 1213, 8335, 7404, 8284, 9236,  674, 7249, 1209,\n",
              "         3883, 7507, 4411, 4722, 5680, 7393, 7688,  523, 6307, 4190,\n",
              "         4459, 5333, 2160, 8557, 6538,  909, 6779, 9591, 9273, 8836,\n",
              "         7011, 8676, 4950, 8511, 4243, 6426, 7232, 3347, 5232, 6633]]])"
            ]
          },
          "metadata": {
            "tags": []
          },
          "execution_count": 79
        }
      ]
    },
    {
      "metadata": {
        "id": "vEtAEFseNFTC",
        "colab_type": "code",
        "colab": {
          "autoexec": {
            "startup": false,
            "wait_interval": 0
          },
          "output_extras": [
            {
              "item_id": 1
            }
          ],
          "base_uri": "https://localhost:8080/",
          "height": 102
        },
        "outputId": "d88c1983-6694-4943-9c07-a53c1b9e09bf",
        "executionInfo": {
          "status": "ok",
          "timestamp": 1520960828335,
          "user_tz": -120,
          "elapsed": 1922,
          "user": {
            "displayName": "Lượng Nguyễn",
            "photoUrl": "//lh4.googleusercontent.com/-0tk3vfJkdYg/AAAAAAAAAAI/AAAAAAAAAIU/xKDhDVByUns/s50-c-k-no/photo.jpg",
            "userId": "101670466780780394701"
          }
        }
      },
      "cell_type": "code",
      "source": [
        "model.predict(x_test[:5])"
      ],
      "execution_count": 80,
      "outputs": [
        {
          "output_type": "execute_result",
          "data": {
            "text/plain": [
              "array([[6.1775529e-04],\n",
              "       [7.3131094e-05],\n",
              "       [9.9970597e-01],\n",
              "       [9.9970597e-01],\n",
              "       [2.0419968e-05]], dtype=float32)"
            ]
          },
          "metadata": {
            "tags": []
          },
          "execution_count": 80
        }
      ]
    },
    {
      "metadata": {
        "id": "2p4sXjrfVZcR",
        "colab_type": "text"
      },
      "cell_type": "markdown",
      "source": [
        "The model outputs a value close to 1 with a sorted sequence, and a value close to 0 with an unsorted sequence."
      ]
    }
  ]
}